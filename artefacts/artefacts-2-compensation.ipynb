{
 "cells": [
  {
   "cell_type": "markdown",
   "id": "cf0eda98",
   "metadata": {},
   "source": [
    "# Modelling patch-clamp experiments: electronic compensation\n",
    "\n",
    "In the [last notebook](./artefacts-1-modelling-patch-clamp.ipynb), we introduced an electrical schematic that can serve as a model of the patch-clamp set up, with distortions by leak, offsets, and unwanted capacitances.\n",
    "To compensate for these unwanted effects, patch-clamp amplifiers contain special circuitry.\n",
    "In this notebook we extend our model to include the effects of these compensations, as modelled in [Lei et al., 2020](https://doi.org/10.1098/rsta.2019.0348).\n",
    "\n",
    "We will deal mostly with _transient_ distortions of the recorded output signal, which we call _artefacts_, and with transient differences between the true and intended membrane potential, which are an example of _imperfect control_.\n",
    "These terms, and general strategies for dealing with their effects, are discussed in [Appendix H](./appendix-H-strategies.ipynb).\n",
    "Stochastic and periodic noise are not discussed here, but a brief discussion is given in [Appendix I](./appendix-I-inspecting-noise.ipynb)."
   ]
  },
  {
   "cell_type": "markdown",
   "id": "f2b59884",
   "metadata": {},
   "source": [
    "## Zeroing and the liquid junction potential ($E_\\text{off}$)\n",
    "\n",
    "In the last notebook we introduced $E_\\text{off}$, which represents the sum of various voltage offsets that are incurred in the experimental setup.\n",
    "This offset is usually corrected by a dial or a digital control that allows the experimenter to subtract an equal offset $-E_\\text{off}^*$.\n",
    "To allow for the idea that this correction is imperfect, either because it was set imperfectly or because $E_\\text{off}$ drifted over time, we now introduce a symbol for the error in the offset correction $E_\\text{off}^\\dagger$ as\n",
    "\\begin{equation}\n",
    "E_\\text{off}^\\dagger = E_\\text{off} - E_\\text{off}^*\n",
    "\\end{equation}"
   ]
  },
  {
   "cell_type": "markdown",
   "id": "29f58378",
   "metadata": {},
   "source": [
    "<img src=\"resources/patch-comp-1-Eoff.png\" style=\"margin:auto\" />\n",
    "\n",
    "_**Figure 1**: The voltage offset has been corrected until only a small error $E_\\text{off}^\\dagger$ remains._"
   ]
  },
  {
   "cell_type": "markdown",
   "id": "5dcfaa36",
   "metadata": {},
   "source": [
    "### The liquid junction potential\n",
    "\n",
    "A liquid junction potential (LJP) arises wherever two liquids containing different concentrations of ions are in contact.\n",
    "In manual patch clamp this is the case just before the experiment, when the pipette is in the bath but not yet attached to the cell.\n",
    "The correction $E_\\text{off}*$ is usually determined just before the final approach to the cell, and so includes this LJP.\n",
    "Once a connection to the cell is made, the pipette fluid is in contact with the cytosol and because both fluids are similar an LJP no longer exists.\n",
    "In other words, the LJP is removed from $E_\\text{off}$, but not from $E_\\text{off}^*$.\n",
    "\n",
    "The correction for this overcorrection is called LJP correction, and proceeds as follows:\n",
    "\n",
    "1. The LJP is calculated by entering the bath and pipette solutions into an LJP calculating program.\n",
    "2. We can then adjust all $V_\\text{cmd}$ values to obtain the desired $V_m$ (*a priori* correction) or simply accept that $V_m$ is shifted from the desired value and account for this in our analysis (*a posteriori* correction). \n",
    "\n",
    "Some systems allow the LJP to be entered into the recording software, so that *a priori* correction can be performed without further user input.\n",
    "\n",
    "A detailed description of the correction procedure is provided in [Appendix J](./appendix-J-liquid-junction-potential.ipynb).\n",
    "In short, if you have to do manual *a posteriori* correction then you **subtract** the LJP from the applied or measured voltage to get the true value."
   ]
  },
  {
   "cell_type": "markdown",
   "id": "431eb7a8",
   "metadata": {},
   "source": [
    "### We won't explicitly treat the LJP\n",
    "\n",
    "In the remainder of this notebook we will assume LJP correction has been performed by adjusting $V_\\text{cmd}$.\n",
    "We will treat $E_\\text{off}^\\dagger$ as a small number that does not include the LJP."
   ]
  },
  {
   "cell_type": "markdown",
   "id": "e35c1d2b",
   "metadata": {},
   "source": [
    "## Fast capacitance correction ($C_p$)\n",
    "\n",
    "The next compensation circuitry we include attempts to charge the capacitor $C_p$ without affecting the current through the cell.\n",
    "To do this, a prediction of the current flowing into $C_p$ is made, and \"injected\" into the circuitry."
   ]
  },
  {
   "cell_type": "markdown",
   "id": "4d3f0a50",
   "metadata": {},
   "source": [
    "<img src=\"resources/patch-comp-2-Cp.png\" style=\"margin:auto\" />\n",
    "\n",
    "_**Figure 2**: Fast capacitance correction aims to charge $C_p$ without affecting the current through the cell._"
   ]
  },
  {
   "cell_type": "markdown",
   "id": "2df49283",
   "metadata": {},
   "source": [
    "In the diagram above, we have drawn an active component that somehow generates the current $I_\\text{inj}$, but does not draw any current from the node at $V_c$.\n",
    "As an equation for $I_\\text{inj}$ we'll use\n",
    "\n",
    "\\begin{equation}\n",
    "I_\\text{inj} = C_p^* \\dot{V}_c\n",
    "\\end{equation}\n",
    "\n",
    "where $C_p^*$ is the _estimated_ parasitic capacitance.\n",
    "(In a real implementation a fixed $C$ is used, but an amplifier with a variable gain $A$ is attached, so that $A \\cdot C_\\text{fixed}$ can be made to match $C_p$.)\n",
    "\n",
    "Note that the above equation is problematic for voltage step protocols, in which $\\dot{V}_c$ is either $0$ or $\\pm\\infty$.\n",
    "This is less of a problem in practice, as stray capacitances and other factors will conspire to \"round\" $V_\\text{cmd}$ a little and make $\\dot{V}_\\text{cmd}$ finite.\n",
    "However, it does still make matching $C_p$ and $C_p^*$ very difficult in practice, and [Sigworth 1995a](https://doi.org/10.1007/978-1-4419-1229-9_4) proposes a schematic in which\n",
    "\n",
    "1. $V_\\text{cmd}$ is passed through a 10 $\\mu$s low-pass filter.\n",
    "2. A split is made, and the branch connected to the op amp is filtered with a further 0.5 $\\mu$s.\n",
    "3. The branch used to create $I_\\text{inj}$ is filtered with a variable time constant between 0 and 1 $\\mu$s, which is manually calibrated to obtain a good step response.\n",
    "\n",
    "This means that, even with _perfect_ capacitance correction, we should still expect a rounding off of any voltage step protocols!"
   ]
  },
  {
   "cell_type": "markdown",
   "id": "bb019558",
   "metadata": {},
   "source": [
    "In this notebook we will assume the rounding is well modelled by other capacitances in the system, and proceed with the equation given above."
   ]
  },
  {
   "cell_type": "markdown",
   "id": "f2685571",
   "metadata": {},
   "source": [
    "## Slow capacitance correction ($C_m$)\n",
    "\n",
    "Next, we add a similar correction term for the much larger capacitance $C_m$.\n",
    "As with $C_p$ correction, there are practical considerations that complicate real-world implementations ([Sigworth 1995a](https://doi.org/10.1007/978-1-4419-1229-9_4)) but for our model we can simply add another term based on the estimated membrane capacitance $C_m^*$:\n",
    "\n",
    "\\begin{equation}\n",
    "I_\\text{inj} = C_p^* \\dot{V}_c + C_m^* \\dot{V}_c\n",
    "\\end{equation}"
   ]
  },
  {
   "cell_type": "markdown",
   "id": "960ecfe7",
   "metadata": {},
   "source": [
    "## What if we don't correct?\n",
    "\n",
    "Since we're going to be modelling both physical effects (e.g. fast and slow capacitative transients) and their (imperfect) corrections, it makes sense to ask why we're correcting at all.\n",
    "Surely it would be simpler to switch off the corrections and model only the physical effects?\n",
    "\n",
    "Unfortunately there are two practical difficulties with this approach (see also [Sigworth 1995a](https://doi.org/10.1007/978-1-4419-1229-9_4)).\n",
    "Firstly, the large charging currents can exceed the limits of the A/D converter used to digitise the output voltage.\n",
    "For the samples during which this _clipping_ occurs, we record only the maximum (or minimum) value, so information about the current is lost (making fitting harder).\n",
    "Amplifiers in the A/D converter may also go into _saturation_, which prolongs the clipping until the amplifiers have recovered.\n",
    "\n",
    "Secondly, large transient currents can cause the op amp in the feedback circuit to saturate, leading to a loss of control over the membrane voltage until the amplifier has recovered.\n"
   ]
  },
  {
   "cell_type": "markdown",
   "id": "3a492bbb",
   "metadata": {},
   "source": [
    "## Series resistance compensation ($R_s$)\n",
    "\n",
    "The _series resistance_ causes two issues for controlling the membrane potential:\n",
    "\n",
    "1. It causes a voltage drop, so that $V_m$ is not quite equal to the intended voltage $V_p$.\n",
    "2. It causes the membrane voltage to lag behind the desired voltage, with a time constant $R_sC_m$.\n",
    "\n",
    "To compensate for these effects, we will increase the voltage clamp potential a little bit above the desired command potential $V_c$.\n",
    "Two separate mechanisms are used.\n",
    "A feed-forward _correction_ mechanism based on the observed current corrects for the voltage drop,\n",
    "while a _prediction_ (or \"supercharging\") mechanism based on the estimated membrane potential speeds up the charging process."
   ]
  },
  {
   "cell_type": "markdown",
   "id": "5787e7cf",
   "metadata": {},
   "source": [
    "### \"Correction\" reduces the voltage drop\n",
    "\n",
    "\n",
    "A common method to compensate for the voltage drop, is to _feed a fraction of $V_\\text{out}$ forward into $V_c$_ ([Hodgkin et al. 1952](https://physoc.onlinelibrary.wiley.com/doi/10.1113/jphysiol.1952.sp004716)). In the schematic, we'll show this with two new components: an active component labelled _R_ that generates the voltage to be added, and a _summing amplifier_, labelled $\\Sigma$:"
   ]
  },
  {
   "cell_type": "markdown",
   "id": "d8e68433",
   "metadata": {},
   "source": [
    "<img src=\"resources/patch-comp-3-Rs.png\" style=\"margin:auto\" />\n",
    "\n",
    "_**Figure 3**: Series resistance correction feeds a fraction of $V_\\text{out}$ into $V_\\text{ref}$ via a summing amplifier._"
   ]
  },
  {
   "cell_type": "markdown",
   "id": "204a0287",
   "metadata": {},
   "source": [
    "In this new set-up\n",
    "\n",
    "\\begin{align}\n",
    "V_\\text{out} = V_o - V_\\text{ref}\n",
    "\\end{align}\n",
    "\n",
    "And so the extra voltage added by the series resistance compensation will be zero when $V_o = V_\\text{ref}$.\n",
    "\n",
    "To analyse the effect of feed-forward on the voltage drop over $R_s$, we use the simplified schematic shown below."
   ]
  },
  {
   "cell_type": "markdown",
   "id": "05b12cd2",
   "metadata": {},
   "source": [
    "<img src=\"resources/patch-comp-4-Rs.png\" style=\"margin:auto\" />\n",
    "\n",
    "_**Figure 4**: A simplified schematic for feed-forward series resistance compensation._"
   ]
  },
  {
   "cell_type": "markdown",
   "id": "d96513ab",
   "metadata": {},
   "source": [
    "Using $x$ for the fraction of $V_\\text{out}$ fed into $V_\\text{ref}$ we find\n",
    "\n",
    "\\begin{align}\n",
    "V_\\text{ref} = V_c + x V_\\text{out} = V_c + x R_f I_\\text{obs}\n",
    "\\end{align}\n",
    "for\n",
    "\\begin{align}\n",
    "V_m &= V_p - R_s I \\\\\n",
    "    &\\approx V_\\text{ref} - R_s I \\\\\n",
    "    &= V_c + x R_f I_\\text{obs} - R_s I \\\\\n",
    "    &\\approx V_c + (x R_f - R_s) I\n",
    "\\end{align}\n",
    "\n",
    "where we assume first a perfect op amp ($V_p = V_\\text{ref}$) and then a perfect measurement ($I = I_\\text{obs}$).\n",
    "The error in the voltage is given by\n",
    "$V_m - V_c \\approx (x R_f - R_s) I$\n",
    "so if we can choose $x R_f = R_s$ we can compensate for the voltage drop over $R_s$ entirely.\n",
    "\n",
    "In our model, we will assume that the feed-forward rate is set based on an estimate of the series resistance $R_s^*$:\n",
    "\n",
    "\\begin{align}\n",
    "V_\\text{ref} = V_c + R_s^* I_\\text{obs}\n",
    "\\end{align}\n",
    "\n",
    "In practice, the various delays and imperfections in the system can easily create a situation where the feed-forward causes oscillations  or \"ringing\" in the system.\n",
    "To alleviate this, we only compensate a fraction $\\alpha$ of the estimated resistance:\n",
    "\n",
    "\\begin{align}\n",
    "V_\\text{ref} = V_c + \\alpha R_s^* I_\\text{obs}\n",
    "\\end{align}\n",
    "\n",
    "where $\\alpha$ is usually limited to about 70 or 80% ([Sigworth 1995a](https://doi.org/10.1007/978-1-4419-1229-9_4))."
   ]
  },
  {
   "cell_type": "markdown",
   "id": "2a8cd7d8",
   "metadata": {},
   "source": [
    "### \"Prediction\" speeds up the charging process\n",
    "\n",
    "Above, we used $C_m$ correction to subtract the charging current $C_m\\dot{V}_m$ from $I_\\text{obs}$.\n",
    "As an unintended consequence, the charging current is not accounted for in the correction term $\\alpha R_s^* I_\\text{obs}$.\n",
    "Instead, we will address membrane charging seperately, by\n",
    "\n",
    "1. Making a _prediction_ of $V_m$, as affected by $R_sC_m$\n",
    "2. Speed up the charging process by temporarily applying an exaggerated voltage.\n",
    "\n",
    "For the estimated membrane potential, we will write\n",
    "\\begin{align}\n",
    "\\dot{V}_\\text{est} &= \\frac{V_c - V_\\text{est}}{(1 - \\beta)R_s^*C_m^*}   \n",
    "\\end{align}\n",
    "\n",
    "where $\\beta$ is the fraction of $R_s$ we will compensate, leading to a remaining series resistance $(1 - \\beta)R_s$ for an estimated time constant of $(1 - \\beta)R_s^*C_m^*$.\n",
    "Next, we update the reference voltage by adding a term $\\beta R_s^*C_m^* \\dot{V}_\\text{est}$:\n",
    "\n",
    "\\begin{align}\n",
    "V_\\text{ref} = V_c + \\alpha R_s^* I_\\text{obs} + \\beta R_s^* C_m^* \\dot{V}_\\text{est}\n",
    "\\end{align}\n",
    "\n",
    "Sometimes only a single control is provided for both mechanisms ($\\beta = \\alpha$), so that this simplifies to\n",
    "\n",
    "\\begin{align}\n",
    "V_\\text{ref} = V_c + \\alpha R_s^* \\left( I_\\text{obs} + C_m^* \\dot{V}_\\text{est} \\right)\n",
    "\\end{align}"
   ]
  },
  {
   "cell_type": "markdown",
   "id": "9d336650",
   "metadata": {},
   "source": [
    "The addition of the predicted charging current causes a significant \"overshoot\" in $V_\\text{ref}$, which has been likened to the _supercharging_ method of [Armstrong & Chow (1987)](https://doi.org/10.1016/S0006-3495(87)83198-3)."
   ]
  },
  {
   "cell_type": "markdown",
   "id": "d888d313",
   "metadata": {},
   "source": [
    "Note that the prediction compensation doesn't appear in the [Lei et al., 2020](https://doi.org/10.1098/rsta.2019.0348) paper, but is included in Chon's thesis: [Lei (2020)](https://ora.ox.ac.uk/objects/uuid:528c2771-ae4f-4f3c-b649-44904acdf259).\n",
    "A derivation of the prediction equations is given in [appendix K](./appendix-K-sigworth-rs.ipynb)."
   ]
  },
  {
   "cell_type": "markdown",
   "id": "f0e20b1a",
   "metadata": {},
   "source": [
    "### What about $C_p$?\n",
    "\n",
    "In our schematic, we have placed $R_s$ after $C_p$, to reflect the fact that the fast capacitative current pathway \"has negligible series resistance\" ([Sigworth 1995a](https://doi.org/10.1007/978-1-4419-1229-9_4), section 5.2).\n",
    "As a result, we don't need to take $C_p$ into account for the series resistance compensation.\n",
    "\n",
    "However, if the large peaks caused by $C_p\\dot{V}_p$ are not filtered from $I_\\text{obs}$, they will appear in the feed-forward series resistance correction term and destabilise the system.\n",
    "As a result, good $C_p$ correction is essential for series resistance compensation."
   ]
  },
  {
   "cell_type": "markdown",
   "id": "fc428a62",
   "metadata": {},
   "source": [
    "### The finite speed of the summing amplifier\n",
    "\n",
    "Finally, we follow [Lei et al., 2020](https://doi.org/10.1098/rsta.2019.0348) in incorporating the finite speed of the summing amplifier as\n",
    "\n",
    "\\begin{align}\n",
    "\\dot{V}_\\text{ref} = \\frac{V_c + \\alpha R_s^* I_\\text{obs} + \\beta R_s^* C_m^* \\dot{V}_\\text{est} - V_\\text{ref}}{\\tau_\\text{sum}}\n",
    "\\end{align}\n",
    "\n",
    "where $\\tau_\\text{sum} \\approx 0.04$ ms."
   ]
  },
  {
   "cell_type": "markdown",
   "id": "095a0512",
   "metadata": {},
   "source": [
    "## The final model"
   ]
  },
  {
   "cell_type": "markdown",
   "id": "7ae20d53",
   "metadata": {},
   "source": [
    "The final model schematic is shown in Figure 5."
   ]
  },
  {
   "cell_type": "markdown",
   "id": "f43319ae",
   "metadata": {},
   "source": [
    "<img src=\"resources/patch-comp-5-full.png\" style=\"margin:auto\" />\n",
    "\n",
    "_**Figure 5**: The full model with compensation._"
   ]
  },
  {
   "cell_type": "markdown",
   "id": "26ad6d1b",
   "metadata": {},
   "source": [
    "\\begin{align}\n",
    "C1. && C_m\\dot{V}_m = \\frac{V_p + E_\\text{off}^\\dagger - V_m}{R_s} - \\frac{V_m - E_\\text{leak}}{R_\\text{leak}} - I\n",
    "\\end{align}\n",
    "\n",
    "\\begin{align}\n",
    "C2. && (C_p+C_f)\\dot{V}_p = \\frac{V_o - V_p}{R_f} - \\frac{V_p + E_\\text{off}^\\dagger - V_m}{R_s} + C_f\\dot{V}_o + (C_p^* + C_m^*) \\dot{V}_\\text{ref}\n",
    "\\end{align}\n",
    "\n",
    "\\begin{align}\n",
    "C3. && \\tau_a \\dot{V}_o = V_\\text{ref} - V_p\n",
    "\\end{align}\n",
    "\n",
    "\\begin{align}\n",
    "C4. && \\dot{V}_\\text{est} &= \\frac{V_c - V_\\text{est}}{(1 - \\beta)R_s^*C_m^*}   \n",
    "\\end{align}\n",
    "\n",
    "\\begin{align}\n",
    "C5. && \\tau_\\text{sum}\\dot{V}_\\text{ref} = V_c + \\alpha R_s^* I_\\text{obs} + \\beta R_s^* C_m^* \\dot{V}_\\text{est} - V_\\text{ref}\n",
    "\\end{align}\n",
    "\n",
    "\\begin{align}\n",
    "C6. && R_f I_\\text{obs} = V_o - V_\\text{ref}\n",
    "\\end{align}"
   ]
  },
  {
   "cell_type": "markdown",
   "id": "4c9cce05",
   "metadata": {},
   "source": [
    "## Filtering the output\n",
    "\n",
    "Patch-clamp amplifiers have several options to filter the data as they record it.\n",
    "In the HEKA EPC-9 and EPC-10, which are based on the Sigworth design discussed here, there are two built-in analog filters, one of which is always on [Sigworth 1995b](https://doi.org/10.1016/0165-0270(94)00129-5).\n",
    "\n",
    "Instead of working out the transfer function etc., we'll simulate the application of the analog filter using a digital filter from SciPy.\n",
    "I'm not 100% sure this is the best way to do it.\n",
    "Some discussion can be found [here](https://dsp.stackexchange.com/questions/8319/simulating-analog-filter-using-convolution-or-converting-with-fft)."
   ]
  },
  {
   "cell_type": "markdown",
   "id": "4a694c01",
   "metadata": {},
   "source": [
    "From the manuals, we can see that the EPC-9 uses a 3d order Bessel filter set to 10kHz in most situations, while the EPC-10 uses a 6th order one.\n",
    "\n",
    "Let's see how this might affect a sodium current, i.e. a Beeler-Reuter sodium current when stepping from -80 to -20mV."
   ]
  },
  {
   "cell_type": "code",
   "execution_count": 9,
   "id": "7743c602",
   "metadata": {},
   "outputs": [],
   "source": [
    "import myokit\n",
    "import numpy as np\n",
    "import matplotlib.pyplot as plt"
   ]
  },
  {
   "cell_type": "code",
   "execution_count": 10,
   "id": "775d4495",
   "metadata": {},
   "outputs": [],
   "source": [
    "m = myokit.parse_model('''\n",
    "[[model]]\n",
    "ina.m = 0.01\n",
    "ina.h = 0.99\n",
    "ina.j = 0.98\n",
    "\n",
    "[engine]\n",
    "time = 0 [ms]\n",
    "    in [ms]\n",
    "    bind time\n",
    "    \n",
    "[membrane]\n",
    "V = 0 [mV]\n",
    "    in [mV]\n",
    "    bind pace\n",
    "\n",
    "[ina]\n",
    "use membrane.V as V\n",
    "gNaBar = 4 [mS/cm^2]\n",
    "    in [mS/cm^2]\n",
    "gNaC = 0.003 [mS/cm^2]\n",
    "    in [mS/cm^2]\n",
    "ENa = 50 [mV]\n",
    "    in [mV]\n",
    "INa = (gNaBar * m^3 * h * j + gNaC) * (V - ENa)\n",
    "    in [uA/cm^2]\n",
    "    desc: The excitatory inward sodium current\n",
    "dot(m) =  alpha * (1 - m) - beta * m\n",
    "    alpha = 1 [1/mV/ms] * (V + 47 [mV]) / (1 - exp(-0.1 [1/mV] * (V + 47 [mV])))\n",
    "        in [1/ms]\n",
    "    beta  = 40 [1/ms] * exp(-0.056 [1/mV] * (V + 72 [mV]))\n",
    "        in [1/ms]\n",
    "dot(h) =  alpha * (1 - h) - beta * h\n",
    "    alpha = 0.126 [1/ms] * exp(-0.25 [1/mV] * (V + 77 [mV]))\n",
    "        in [1/ms]\n",
    "    beta  = 1.7 [1/ms] / (1 + exp(-0.082 [1/mV] * (V + 22.5 [mV])))\n",
    "        in [1/ms]\n",
    "dot(j) =  alpha * (1 - j) - beta * j\n",
    "    alpha = 0.055 [1/ms] * exp(-0.25 [1/mV] * (V + 78 [mV])) / (1 + exp(-0.2 [1/mV] * (V + 78 [mV])))\n",
    "        in [1/ms]\n",
    "    beta  = 0.3 [1/ms] / (1 + exp(-0.1 [1/mV] * (V + 32 [mV])))\n",
    "        in [1/ms]\n",
    "''')\n",
    "m.check_units(myokit.UNIT_STRICT)"
   ]
  },
  {
   "cell_type": "code",
   "execution_count": 11,
   "id": "177a0f1f",
   "metadata": {},
   "outputs": [],
   "source": [
    "p = myokit.Protocol()\n",
    "p.schedule(start=0, level=-80, duration=100)\n",
    "p.schedule(start=100, level=-20, duration=20)"
   ]
  },
  {
   "cell_type": "code",
   "execution_count": 12,
   "id": "dbea8388",
   "metadata": {},
   "outputs": [],
   "source": [
    "s = myokit.Simulation(m, p)\n",
    "s.run(99)\n",
    "d = s.run(6, log_interval=1e-4)\n",
    "d = d.npview()"
   ]
  },
  {
   "cell_type": "code",
   "execution_count": 13,
   "id": "2a831ee3",
   "metadata": {
    "scrolled": true
   },
   "outputs": [
    {
     "data": {
      "image/png": "[encoded data removed]",
      "text/plain": [
       "<Figure size 432x288 with 1 Axes>"
      ]
     },
     "metadata": {
      "needs_background": "light"
     },
     "output_type": "display_data"
    }
   ],
   "source": [
    "fig = plt.figure()\n",
    "ax = fig.add_subplot()\n",
    "ax.plot(d.time(), d['ina.INa'])\n",
    "plt.show()"
   ]
  },
  {
   "cell_type": "code",
   "execution_count": 14,
   "id": "5d429877",
   "metadata": {
    "scrolled": true
   },
   "outputs": [
    {
     "data": {
      "image/png": "[encoded data removed]",
      "text/plain": [
       "<Figure size 1080x288 with 1 Axes>"
      ]
     },
     "metadata": {
      "needs_background": "light"
     },
     "output_type": "display_data"
    }
   ],
   "source": [
    "import scipy.signal\n",
    "\n",
    "t = d.time()\n",
    "dt = np.mean(t[1:] - t[:-1])   # In ms\n",
    "f = 1 / dt     # Sampling frequency, in kHz\n",
    "w = 10         # Cut-off frequency, in kHz\n",
    "\n",
    "def low_pass(data, w, f, n=3):\n",
    "    \"\"\" Apply a Bessel low-pass filter with cut-off w (in Hz). \"\"\"\n",
    "    w = w / (f / 2)\n",
    "    b, a = scipy.signal.bessel(n, w, btype='lowpass')\n",
    "    return scipy.signal.filtfilt(b, a, data)\n",
    "\n",
    "fig = plt.figure(figsize=(15, 4))\n",
    "ax = fig.add_subplot()\n",
    "ax.plot(t, d['ina.INa'], label='Original')\n",
    "ax.plot(t, low_pass(d['ina.INa'], 10, f, 3), label='3d order 10kHz Bessel')\n",
    "ax.plot(t, low_pass(d['ina.INa'], 10, f, 6), label='6th order 10kHz Bessel')\n",
    "ax.legend()\n",
    "plt.show()"
   ]
  },
  {
   "cell_type": "markdown",
   "id": "5034894c",
   "metadata": {},
   "source": [
    "For this fast current, the filtering does seem to have a notable effect.\n",
    "It's also worth noting that, in the published EPC-9 design, the $R_s$ compensation uses a signal that has been passed through this filter.\n",
    "\n",
    "For now, we will not include the filter in our model."
   ]
  },
  {
   "cell_type": "markdown",
   "id": "3e18bb3d",
   "metadata": {},
   "source": [
    "## Simulations\n",
    "\n",
    "As before, we can code this up in Myokit and simulate a voltage step:"
   ]
  },
  {
   "cell_type": "code",
   "execution_count": 27,
   "id": "5b668a14",
   "metadata": {},
   "outputs": [],
   "source": [
    "m = myokit.parse_model('''\n",
    "[[model]]\n",
    "amp.Vm = -80\n",
    "amp.Vp = -80\n",
    "amp.Vo = -80\n",
    "amp.Vr = -80\n",
    "\n",
    "[engine]\n",
    "time = 0 [ms]\n",
    "    in [ms]\n",
    "    bind time\n",
    "\n",
    "[amp]\n",
    "alpha = 0 #0.7\n",
    "    desc: The applied fraction of Rs compensation.\n",
    "Vc = -20 [mV]\n",
    "    in [mV]\n",
    "    desc: The command potential, i.e. the intended voltage clamp potential.\n",
    "I = 0 [pA]\n",
    "    in [pA]\n",
    "    desc: The native transmembrane current\n",
    "E_leak = 0 [mV]\n",
    "    in [mV]\n",
    "    desc: The reversal potential of the leak current.\n",
    "R_leak = 1 [GOhm]\n",
    "    desc: The seal resistance in GOhm.\n",
    "    in [GOhm]    \n",
    "E_off = 0 [mV]\n",
    "    in [mV]\n",
    "    desc: The error in the voltage offset zeroing.\n",
    "Cm = 20 [pF]\n",
    "    in [pF]\n",
    "    desc: The cell capacitance\n",
    "Cm_est = 15 [pF]\n",
    "    in [pF]\n",
    "    desc: The estimated cell capacitance, used in C-slow compensation.\n",
    "Cp = 4.5 [pF]\n",
    "    in [pF]\n",
    "    desc: The true pipette capacitance.\n",
    "Cp_est = 4.5 [pF]\n",
    "    in [pF]\n",
    "    desc: The estimated pipette capacitance, used in C-fast compensation.\n",
    "Cf = 0.3 [pF]\n",
    "    in [pF]\n",
    "    desc: The stray or feedback capacitance. Depends on the amplifier and its gain settings.\n",
    "Rs = 10 [MOhm] * 1e-3 [GOhm/MOhm]\n",
    "    in [GOhm]\n",
    "    desc: The series (or access) resistance. Note that this is in GOhm.\n",
    "Rs_est = 9 [MOhm] * 1e-3 [GOhm/MOhm]\n",
    "    in [GOhm]\n",
    "    desc: The estimated Rs, used in Rs compensation.\n",
    "Rf = 0.025 [GOhm]\n",
    "    in [GOhm]\n",
    "    desc: The used feedback resistance. Depends on the amplifier and its gain settings.\n",
    "tau_amp = 50e-6 [ms]\n",
    "    in [ms]\n",
    "    desc: The time-constant of the measuring op-amp.\n",
    "tau_sum = 40e-3 [ms]\n",
    "    in [ms]\n",
    "    desc: The time-constant of the summing op-amp used in Rs compensation.\n",
    "\n",
    "# Equation C1\n",
    "dot(Vm) = ((Vp + E_off - Vm) / Rs - (Vm - E_leak) / R_leak - I) / Cm\n",
    "    in [mV]\n",
    "    desc: The membrane potential.\n",
    "\n",
    "# Equation C2\n",
    "dot(Vp) = ((Vo - Vp) / Rf - (Vp + E_off - Vm) / Rs + Cf * dot(Vo) + (Cp_est + Cm_est) * dot(Vr)) / (Cf + Cp)\n",
    "    in [mV]\n",
    "    desc: Pipette voltage (before the voltage drop over the series resistance).\n",
    "\n",
    "# Equation C3\n",
    "dot(Vo) = (Vr - Vp) / tau_amp\n",
    "    in [mV]\n",
    "    desc: The voltage at the measuring op-amp output\n",
    "\n",
    "# Equation C4\n",
    "dot(Vr) = (Vc + alpha * Rs_est * I_obs - Vr) / tau_sum\n",
    "    in [mV]\n",
    "    desc: The reference potential, i.e. the command potential with series resistance compensation added.\n",
    "\n",
    "# Equation C5\n",
    "I_obs = (Vo - Vr) / Rf\n",
    "    in [pA]\n",
    "    desc: The reported current.\n",
    "''')\n",
    "m.check_units(myokit.UNIT_STRICT)"
   ]
  },
  {
   "cell_type": "code",
   "execution_count": 30,
   "id": "aa002393",
   "metadata": {},
   "outputs": [],
   "source": [
    "s = myokit.Simulation(m)\n",
    "s.set_constant('amp.alpha', 0)\n",
    "d0 = s.run(10)\n",
    "\n",
    "s.reset()\n",
    "s.set_constant('amp.alpha', 0.4)\n",
    "d1 = s.run(10)\n",
    "\n",
    "s.reset()\n",
    "s.set_constant('amp.alpha', 0.8)\n",
    "d2 = s.run(10)"
   ]
  },
  {
   "cell_type": "code",
   "execution_count": 31,
   "id": "88e8b7ff",
   "metadata": {},
   "outputs": [
    {
     "data": {
      "image/png": "[encoded data removed]",
      "text/plain": [
       "<Figure size 1080x720 with 4 Axes>"
      ]
     },
     "metadata": {
      "needs_background": "light"
     },
     "output_type": "display_data"
    }
   ],
   "source": [
    "fig = plt.figure(figsize=(15, 10))\n",
    "\n",
    "ax = fig.add_subplot(2, 2, 1)\n",
    "ax.set_ylabel('Vm (mV)')\n",
    "kw = dict(color='#aaa', ls='--')\n",
    "ax.axhline(m.get('amp.Vm').initial_value().eval(), label='Vm(t=0)', **kw)\n",
    "ax.axhline(m.get('amp.Vc').eval(), label='Vc', **kw)\n",
    "ax.plot(d0.time(), d0['amp.Vm'])\n",
    "ax.plot(d1.time(), d1['amp.Vm'])\n",
    "ax.plot(d2.time(), d2['amp.Vm'])\n",
    "\n",
    "ax = fig.add_subplot(2, 2, 2)\n",
    "ax.set_ylabel('Vo (mV)')\n",
    "ax.plot(d.time(), d['amp.Vo'])\n",
    "ins = ax.inset_axes((0.3, 0.15, 0.65, 0.55))\n",
    "ins.set_xlabel('Time (ms)')\n",
    "ins.set_ylabel('Vo (mV)')\n",
    "ins.plot(d.time(), d['amp.Vo'])\n",
    "ins.set_xlim(-0.001, 0.02)\n",
    "ins.set_ylim(-400, -50)\n",
    "\n",
    "ax = fig.add_subplot(2, 2, 3)\n",
    "ax.set_xlabel('Time (ms)')\n",
    "ax.set_ylabel('Vp (mV)')\n",
    "ax.plot(d.time(), d['amp.Vp'])\n",
    "ins = ax.inset_axes((0.3, 0.15, 0.65, 0.55))\n",
    "ins.set_xlabel('Time (ms)')\n",
    "ins.set_ylabel('Vp (mV)')\n",
    "ins.plot(d.time(), d['amp.Vp'])\n",
    "ins.set_xlim(-0.001, 0.02)\n",
    "ins.set_ylim(-85, -65)\n",
    "\n",
    "ax = fig.add_subplot(2, 2, 4)\n",
    "ax.set_xlabel('Time (ms)')\n",
    "ax.set_ylabel('Recorded I (pA)')\n",
    "ax.plot(d.time(), d['amp.I_obs'])\n",
    "ins = ax.inset_axes((0.3, 0.15, 0.65, 0.55))\n",
    "ins.set_xlabel('Time (ms)')\n",
    "ins.set_ylabel('Recorded I (pA)')\n",
    "ins.plot(d.time(), d['amp.I_obs'])\n",
    "ins.set_xlim(-0.001, 0.02)\n",
    "\n",
    "plt.show()"
   ]
  },
  {
   "cell_type": "markdown",
   "id": "8867cc65",
   "metadata": {},
   "source": [
    "This shows some pretty interesting behaviour: "
   ]
  },
  {
   "cell_type": "markdown",
   "id": "a752deab",
   "metadata": {},
   "source": []
  },
  {
   "cell_type": "markdown",
   "id": "0b16aa44",
   "metadata": {},
   "source": []
  },
  {
   "cell_type": "markdown",
   "id": "0d6e9166",
   "metadata": {},
   "source": []
  },
  {
   "cell_type": "markdown",
   "id": "2f154e82",
   "metadata": {},
   "source": [
    "## Simulations"
   ]
  },
  {
   "cell_type": "markdown",
   "id": "0fd3030b",
   "metadata": {},
   "source": []
  },
  {
   "cell_type": "code",
   "execution_count": null,
   "id": "f2bfdf0e",
   "metadata": {},
   "outputs": [],
   "source": []
  },
  {
   "cell_type": "code",
   "execution_count": null,
   "id": "3a26762d",
   "metadata": {},
   "outputs": [],
   "source": []
  },
  {
   "cell_type": "markdown",
   "id": "4e957331",
   "metadata": {},
   "source": [
    "## Conclusion"
   ]
  }
 ],
 "metadata": {
  "kernelspec": {
   "display_name": "Python 3 (ipykernel)",
   "language": "python",
   "name": "python3"
  },
  "language_info": {
   "codemirror_mode": {
    "name": "ipython",
    "version": 3
   },
   "file_extension": ".py",
   "mimetype": "text/x-python",
   "name": "python",
   "nbconvert_exporter": "python",
   "pygments_lexer": "ipython3",
   "version": "3.11.6"
  }
 },
 "nbformat": 4,
 "nbformat_minor": 5
}
