{
 "cells": [
  {
   "cell_type": "markdown",
   "id": "cf0eda98",
   "metadata": {},
   "source": [
    "# Modelling patch-clamp experiments: compensation\n",
    "\n",
    "In the last notebook, we introduced an electrical schematic that can serve as a model of the patch-clamp set up, with distortions by leak, offsets, an unwanted capacitances.\n",
    "To compensate for these unwanted effects, patch-clamp amplifiers contain special circuitry.\n",
    "In this notebook we extend our model to include the effects of these compensations."
   ]
  },
  {
   "cell_type": "markdown",
   "id": "e35c1d2b",
   "metadata": {},
   "source": [
    "## Fast capacitance correction ($C_p$)"
   ]
  },
  {
   "cell_type": "markdown",
   "id": "f2685571",
   "metadata": {},
   "source": [
    "## Slow capacitance correction ($C_m$)"
   ]
  },
  {
   "cell_type": "markdown",
   "id": "3a492bbb",
   "metadata": {},
   "source": [
    "## Series resistance compensation (R_s)"
   ]
  },
  {
   "cell_type": "markdown",
   "id": "f2b59884",
   "metadata": {},
   "source": [
    "## Zeroing and the liquid junction potential\n",
    "\n",
    "In the last notebook we introduced $E_\\text{off}$, which represents the sum of various voltage offsets _and their correction_.\n",
    "This means we skipped ahead a bit, and no further adaptations are needed here.\n",
    "However, we will briefly discuss the liquid junction potential (LJP) its correction.\n",
    "\n",
    "In manual patch clamp, just before the pipette is placed against the membrane, the voltage offset errors are \"zeroed\" by adjusting a variable offset on the amplifier until the voltage is found at which no current flows.\n",
    "Unfortunately, at this point the pipette solution is in contact with the bath solution, and so an LJP exists.\n",
    "\n",
    "Once the connection to the cell is made, this LJP no longer exists, but the offset used in zeroing still includes it!\n",
    "Correcting for this (so a correction for an unwanted correction) is known as LJP correction.\n",
    "\n",
    "The procedure is as follows:\n",
    "1. Use software to calculate the LJP, from the known bath and pipette solutions\n",
    "2. Correct for the LJP either by adjusting the protocols before you apply them (so that the cell sees what you want it to see), or in the analysis (so accept that the cell saw different voltages than you intended, and account for this).\n",
    "\n",
    "A detailed description is provided in [Appendix F](./appendix-F-liquid-junction-potential.ipynb)."
   ]
  },
  {
   "cell_type": "markdown",
   "id": "4e957331",
   "metadata": {},
   "source": [
    "## Conclusion"
   ]
  }
 ],
 "metadata": {
  "kernelspec": {
   "display_name": "Python 3 (ipykernel)",
   "language": "python",
   "name": "python3"
  },
  "language_info": {
   "codemirror_mode": {
    "name": "ipython",
    "version": 3
   },
   "file_extension": ".py",
   "mimetype": "text/x-python",
   "name": "python",
   "nbconvert_exporter": "python",
   "pygments_lexer": "ipython3",
   "version": "3.11.4"
  }
 },
 "nbformat": 4,
 "nbformat_minor": 5
}
