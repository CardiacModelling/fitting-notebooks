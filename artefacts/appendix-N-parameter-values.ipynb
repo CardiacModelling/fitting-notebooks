{
 "cells": [
  {
   "cell_type": "markdown",
   "id": "fc24dbb4",
   "metadata": {},
   "source": [
    "# Appendix N: Parameter values"
   ]
  },
  {
   "cell_type": "markdown",
   "id": "e184af6f",
   "metadata": {},
   "source": [
    "Here we present and motivate the \"default\" values for the patch clamp model parameters used in these notebooks.\n",
    "Other choices are possible."
   ]
  },
  {
   "cell_type": "markdown",
   "id": "3e6bd67d",
   "metadata": {},
   "source": [
    "## Basic model\n",
    "\n",
    "| Parameter         | Value         | Motivation                                                            |\n",
    "|:------------------|:--------------|:----------------------------------------------------------------------|\n",
    "| $R_s$             | 15 M$\\Omega$  | A 5$\\Omega$ pipette with an additional 10$\\Omega$ at the seal         |\n",
    "| $C_m$             | 25 pF         | A small cell such as a HEK or CHO cell                                |\n",
    "| $C_p$             | 5 pF          | Based on own experience                                               |\n",
    "| $R_f$    | 0.5 G$\\Omega$ | Similar to HEKA, Axon, and Sutter ([appendix B](./appendix-B-Rf-and-Cf.ipynb)) |\n",
    "| $C_f$             | 0.15 pF       | Similar to HEKA ([appendix B](./appendix-B-Rf-and-Cf.ipynb))          |\n",
    "| $\\tau_\\text{amp}$ | 20e-6 ms      | Based on Sigworth 1995 ([appendix C](appendix-C-tau-amp.ipynb))       |\n",
    "\n",
    "Some values are rounded, to reflect the uncertainty in the true values."
   ]
  },
  {
   "cell_type": "markdown",
   "id": "482bff5f",
   "metadata": {},
   "source": [
    "## Compensation"
   ]
  },
  {
   "cell_type": "markdown",
   "id": "92f0e461",
   "metadata": {},
   "source": [
    "\n",
    "| Parameter         | Value     | Motivation                                                     |\n",
    "|:------------------|:----------|:---------------------------------------------------------------|\n",
    "| $\\alpha$          | 0.7       | Typical setting                                                |\n",
    "| $\\beta$           | 0.7       | Typical setting                                                |\n",
    "| $\\tau_\\text{sum}$ | 10 $\\mu$s | Default for HEKA and Axon ([appendix L](./appendix-L-tau-sum)) |\n",
    "\n"
   ]
  }
 ],
 "metadata": {
  "kernelspec": {
   "display_name": "Python 3 (ipykernel)",
   "language": "python",
   "name": "python3"
  },
  "language_info": {
   "codemirror_mode": {
    "name": "ipython",
    "version": 3
   },
   "file_extension": ".py",
   "mimetype": "text/x-python",
   "name": "python",
   "nbconvert_exporter": "python",
   "pygments_lexer": "ipython3",
   "version": "3.11.6"
  }
 },
 "nbformat": 4,
 "nbformat_minor": 5
}
