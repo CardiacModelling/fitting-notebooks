{
 "cells": [
  {
   "cell_type": "markdown",
   "id": "7fb2df6f",
   "metadata": {},
   "source": [
    "# Appendix E2: Estimating Rs and Cm; an iterative approach\n",
    "**Appendix E describes Rs and Cm estimation methods**"
   ]
  },
  {
   "cell_type": "markdown",
   "id": "e2ffeda4",
   "metadata": {},
   "source": [
    "Having reviewed the \"one-shot\" approach used in Axon's pCLAMP, we now turn to the iterative method employed in HEKA devices such as the EPC-10.\n",
    "\n",
    "As reference we shall use the EPC-10 hardware manual version 3.1, as available from [HEKA](http://www.heka.com/downloads/downloads_main.html#down_pca), starting on page 57, but more importantly - [Sigworth 1995c](https://doi.org/10.1016/0165-0270(94)00129-5), section 3."
   ]
  }
 ],
 "metadata": {
  "kernelspec": {
   "display_name": "Python 3 (ipykernel)",
   "language": "python",
   "name": "python3"
  },
  "language_info": {
   "codemirror_mode": {
    "name": "ipython",
    "version": 3
   },
   "file_extension": ".py",
   "mimetype": "text/x-python",
   "name": "python",
   "nbconvert_exporter": "python",
   "pygments_lexer": "ipython3",
   "version": "3.11.6"
  }
 },
 "nbformat": 4,
 "nbformat_minor": 5
}
