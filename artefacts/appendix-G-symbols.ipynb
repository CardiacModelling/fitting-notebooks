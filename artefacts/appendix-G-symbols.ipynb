{
 "cells": [
  {
   "cell_type": "markdown",
   "id": "d0146af1",
   "metadata": {},
   "source": [
    "# Appendix G: Names & symbols"
   ]
  },
  {
   "cell_type": "markdown",
   "id": "17f1b74c",
   "metadata": {},
   "source": [
    "The following table may help when comparing publications."
   ]
  },
  {
   "cell_type": "markdown",
   "id": "2eb50569",
   "metadata": {},
   "source": [
    "| Symbol          | Description          | Sigworth 1995a | Weerakoon et al 2009 | Lei et al 2020      | HEKA            | Axon            | Other names       |\n",
    "|:---------------:|:---------------------|:--------------:|:--------------------:|:--------------------|:----------------|:----------------|:------------------|\n",
    "| $R_\\text{leak}$ | Leak or Seal R       |                |                      | $R_\\text{seal}$     | $R_\\text{memb}$ | $R_\\text{seal}$ | $1/g_\\text{leak}$ |\n",
    "| $R_s$           | Series R             | ✓              | $R_S$                | ✓                   | $R_s$, R-series | $R_a$, $R_s$    | Access R          |\n",
    "| $R_f$           | Feedback R           | ✓              | ✓                    | ✓                   | Feedback R      |                 |                   |\n",
    "| $C_f$           | Feedback C           | ✓              | ✓                    | ✓                   |                 |                 | Stray C, Shunt C  |\n",
    "| $C_p$           | Parasitic C          | $C_\\text{in}$  | $C_\\text{prs}$       | ✓                   |                 |                 | Pipette C         |\n",
    "| $C_p+C_f$       | Total input C        | $C_t$          | $C_t$                |                     |                 |                 |                   |\n",
    "| $C_m$           | Membrane C           | ✓              | ✓                    | ✓                   | C-slow          |                 |                   |\n",
    "| $\\tau_f$        | Feedback tau         | ✓              | $\\tau_z$             | $\\tau_Z$            |                 |                 | Transductor tau   |\n",
    "| $\\tau_a$        | Op amp tau           | $\\tau_A$       | $\\tau_\\text{Amp}$    |                     |                 |                 |                   |\n",
    "| $\\tau_c$        |                      | $\\tau_2$       | $\\tau_\\text{clamp}$  | $\\tau_\\text{clamp}$ |                 |                 |                   |\n",
    "| $R_sC_m$        | Membrane access tau  | $\\tau_a$       | $\\tau_a$             | $\\tau_a$            |                 |                 |                   |\n",
    "| $V_o$           | Op amp output V      | $V_B$          | $V_T$                |                     |                 |                 |                   |\n",
    "| $V_c$           | Command V            | $V_\\text{ref}$ | $V_\\text{com}$       | $V_\\text{cmd}$      |                 |                 | Reference V       |\n",
    "| $E_\\text{off}$  | Offset potential     |                |                      | $V_\\text{off}$      |                 |                 |                   |\n",
    "| $I$             | Current of interest  |                | $I_m$                | $I_\\text{ion}$      |                 |                 | Membrane I        |\n",
    "| $I_\\text{obs}$  | Observed current     |                | $I_\\text{in}$        | $I_\\text{out}$      | I-mon           |                 | Recorded I        |"
   ]
  },
  {
   "cell_type": "markdown",
   "id": "595f4595",
   "metadata": {},
   "source": [
    "| Symbol           | Description              | Sigworth 1995a |  Lei et al 2020  |\n",
    "|:----------------:|:-------------------------|:--------------:|:-----------------|\n",
    "| $R_s^*$          | Estimated $R_s$          |                | ✓                |\n",
    "| $C_p^*$          | Estimated $C_p$          | $(A_1 - 1)C_i$ | $C_\\text{inj}$   |\n",
    "| $C_m^*$          | Estimated $C_m$          |                | ✓                |\n",
    "| $V_\\text{ref}$   | Corrected command V      | $V_\\text{ref}$ | $V_\\text{clamp}$ |\n",
    "| $E_\\text{off}^*$ | Estimated $E_\\text{off}$ |                | $V_\\text{off}^*$ |\n"
   ]
  },
  {
   "cell_type": "markdown",
   "id": "e291c44b",
   "metadata": {},
   "source": [
    "_✓ indicates the same signal is used as in these notebooks._\n",
    "\n",
    "_R, C, V, I, and tau indicate resistance, capacitance, voltage, current, and time-constants._"
   ]
  },
  {
   "cell_type": "markdown",
   "id": "ed2ae781",
   "metadata": {},
   "source": [
    "#### Software can mix names for measurements & corrections\n",
    "\n",
    "In the PatchMaster manual, sometimes $R_s$ is used to mean the R-series estimate used in correction, while R-series is the true value.\n",
    "Conversly, C-slow can be the correction, not the actual $C_m$."
   ]
  },
  {
   "cell_type": "markdown",
   "id": "37e5f4f8",
   "metadata": {},
   "source": [
    "#### Leak current is still tricky\n",
    "\n",
    "The pClamp manual 10.4.1 defines $R_a$ as\n",
    "> Access resistance (Ra) is the sum of the electrode resistance and resistance due to current-impeding factors near the electrode tip, e.g. cellular debris, etc.\n",
    "and defines a separate $R_e$\n",
    "> Electrode resistance (Re), also called pipette resistance (Rp), is the resistance due to the electrode.\n",
    "> It does not include resistance due to environmental current-impeding factors near the electrode tip, e.g. cellular debris, air bubbles, poorly conducting solution etc.\n",
    "Later on, they write $R_a = R_e + R_\\text{debris}$.\n",
    "\n",
    "However, in figure 4-1 they do draw the leak current as being connected directly to $V_m$ (and the ground), just after $R_a$."
   ]
  },
  {
   "cell_type": "markdown",
   "id": "fcf0dfc7",
   "metadata": {},
   "source": [
    "#### Shunt?\n",
    "\n",
    "$C_f$ is sometimes called a [\"_shunt_\"](https://en.wikipedia.org/wiki/Shunt_(electrical)) capacitance, where \"to shunt\" means to move, bypass, or divert."
   ]
  }
 ],
 "metadata": {
  "kernelspec": {
   "display_name": "Python 3 (ipykernel)",
   "language": "python",
   "name": "python3"
  },
  "language_info": {
   "codemirror_mode": {
    "name": "ipython",
    "version": 3
   },
   "file_extension": ".py",
   "mimetype": "text/x-python",
   "name": "python",
   "nbconvert_exporter": "python",
   "pygments_lexer": "ipython3",
   "version": "3.11.5"
  }
 },
 "nbformat": 4,
 "nbformat_minor": 5
}
