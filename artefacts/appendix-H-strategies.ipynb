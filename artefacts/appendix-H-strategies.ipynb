{
 "cells": [
  {
   "cell_type": "markdown",
   "metadata": {},
   "source": [
    "# Appendix H: Strategies for dealing with experimental error"
   ]
  },
  {
   "cell_type": "markdown",
   "metadata": {},
   "source": [
    "In this appendix we provide a high-level overview of noise, artefacts, and imperfect control, and discuss general strategies for dealing with them.\n",
    "\n",
    "\n"
   ]
  },
  {
   "cell_type": "markdown",
   "metadata": {},
   "source": [
    "## Noise and artefacts\n",
    "\n",
    "The term \"noise\" can mean many things, but in patch-clamp experiments is typically used to mean unwanted _stochastic_ or _periodic_ signals that are present in the applied input, the measured output, or both.\n",
    "The term \"artefacts\" (or \"artifacts\") is sometimes used to describe _transient_ signals that appear in the output but are due to the experimental setup rather than the biology."
   ]
  },
  {
   "cell_type": "markdown",
   "metadata": {},
   "source": [
    "## Imperfect control\n",
    "\n",
    "Many artefacts in patch clamp data arise not as a distortion of the recorded signal, but through _imperfect control_ of the membrane potential.\n",
    "A major part of the \"artefact model\" described here deals with such issues of imperfect membrane potential control.\n",
    "\n",
    "More generally, we have imperfect control over experimental parameters such as as temperature (often quoted as being in a 1-2 degree bracket) or external solutions (especially with e.g. fast wash-out or wash-in).\n",
    "This type of imperfect control can often be modelled by replacing scalar values with probability distributions and using [forward propagation](https://en.wikipedia.org/wiki/Uncertainty_quantification#Forward_propagation) to estimate the effects on the measured signal."
   ]
  },
  {
   "cell_type": "markdown",
   "metadata": {},
   "source": [
    "## Strategies for dealing with error\n",
    "\n",
    "Four strategies for dealing with noise, artefacts, and imperfect control are:\n",
    "\n",
    "- Avoiding it\n",
    "- On-line correction, i.e. correcting during the experiment using hardware or software\n",
    "- Off-line correction, i.e. post-processing the data to remove errors\n",
    "- Creating a noise model\n",
    "\n",
    "**Avoiding noise** is a major part of experimental setup and hardware design, and can include [shielding](https://en.wikipedia.org/wiki/Faraday_cage), removing sources of electronic inference (e.g. monitors, lights), using special power supplies (or batteries), checking for [ground loops](https://en.wikipedia.org/wiki/Ground_loop_%28electricity%29), and even cooling part of the measurement equipment to reduce [thermal noise](https://en.wikipedia.org/wiki/Johnson%E2%80%93Nyquist_noise).\n",
    "\n",
    "**On-line correction** using hardware filters is common in patch-clamp experiments, and includes correction of capacitance artefacts, series resistance compensation, \"zeroing\" the current, and low-pass filtering.\n",
    "A major downside of on-line correction is that it can only be performed once.\n",
    "In addition, some patch-clamp hardware does not provide digital readouts of the controls used to perform on-line correction, so that information about how exactly the signal was modulated is lost.\n",
    "\n",
    "**Off-line correction** includes leak correction and removal of any remaining capacitance artefacts, but may also include removing endogenous currents by subtracting a second measurement made in the presence of a current-blocking drug.\n",
    "A downside of both on-line and off-line correction is that it invariably \"complicates\" the recording.\n",
    "For example, to fully model a typical patch-clamp measurement it would be necessary to understand the ionic current, the way the cell and patch-clamp setup contaminate this recording, and the precise way in which hardware and offline software has attempted to remedy these effects.\n",
    "\n",
    "A different approach then, is to simply leave the noise and artefacts in, and **add them to the model used in the fitting procedure**.\n",
    "The most common example of \"modelling\" the noise, is using a root-mean-squared error when fitting the data: statistically this equates to assuming a Gaussian model for the noise (so that the recorded current at any time point equals the ionic current plus a normally distributed random variable).\n",
    "More complex modelling approaches are also possible, see for example [Lei et al., 2020](https://royalsocietypublishing.org/doi/10.1098/rsta.2019.0348) and the models introduced in these notebooks."
   ]
  },
  {
   "cell_type": "markdown",
   "metadata": {},
   "source": [
    "## Modelling experimental error\n",
    "\n",
    "A central idea in these notebook is to differentiate between the measured current, $I_\\text{measured}$, and the current of interest, which we shall call $I_\\text{ion}$.\n",
    "The relationship between $I_\\text{measured}$ and $I_\\text{ion}$ can be captured mathematically in a _noise model_:\n",
    "\n",
    "\\begin{equation}\n",
    "I_\\text{measured} = f(I_\\text{ion})\n",
    "\\end{equation}\n",
    "\n",
    "The simplest such noise models are _additive_, and take the form\n",
    "\n",
    "\\begin{equation}\n",
    "I_\\text{measured} = I_\\text{ion} + I_\\text{unwanted}\n",
    "\\end{equation}\n",
    "\n",
    "But we have also seen more complicated forms.\n",
    "\n",
    "Similarly, we can model imperfect control by distinguishing between the true membrane potential, $V_m$, and the intended membrane potential $V_\\text{command}$:\n",
    "\\begin{equation}\n",
    "V_\\text{m} = g \\left( V_\\text{command} \\right)\n",
    "\\end{equation}\n",
    "but we also have to recognise that the error in the control depends on the ion current:\n",
    "\\begin{equation}\n",
    "V_\\text{m} = g \\left( V_\\text{command}, I_\\text{ion} \\right)\n",
    "\\end{equation}\n",
    "If we allow for clever circuitry that uses measurements of $I_\\text{ion}$ or $V_\\text{m}$ to perform corrections, we may even want to write\n",
    "\\begin{equation}\n",
    "V_\\text{m} = g \\left( V_\\text{command}, I_\\text{ion}, I_\\text{measured}, V_\\text{measured} \\right)\n",
    "\\end{equation}\n",
    "\n",
    "so that our full equation becomes something like\n",
    "\n",
    "\\begin{equation}\n",
    "I_\\text{measured} = f \\left( I_\\text{ion}(g(V_\\text{command}, I_\\text{ion}, I_\\text{measured}, V_\\text{measured})) \\right)\n",
    "\\end{equation}\n",
    "\n",
    "Clearly we will need some kind of simulation to deal with this."
   ]
  }
 ],
 "metadata": {
  "kernelspec": {
   "display_name": "Python 3 (ipykernel)",
   "language": "python",
   "name": "python3"
  },
  "language_info": {
   "codemirror_mode": {
    "name": "ipython",
    "version": 3
   },
   "file_extension": ".py",
   "mimetype": "text/x-python",
   "name": "python",
   "nbconvert_exporter": "python",
   "pygments_lexer": "ipython3",
   "version": "3.11.5"
  }
 },
 "nbformat": 4,
 "nbformat_minor": 2
}
