{
 "cells": [
  {
   "cell_type": "markdown",
   "id": "e7fdae0f",
   "metadata": {},
   "source": [
    "# Appendix D4: Leak\n",
    "**Appendix D discusses remaining noise and errors**"
   ]
  },
  {
   "cell_type": "markdown",
   "id": "22f7aaad",
   "metadata": {},
   "source": [
    "I don't know!"
   ]
  },
  {
   "cell_type": "markdown",
   "id": "866c6899",
   "metadata": {},
   "source": [
    "See also:\n",
    "- Endogeneous currents\n",
    "- Gating currents? (~100x smaller than ionic currents)\n",
    "- Protocols to remove or quantify \"leak\"\n",
    "  - Subtraction protocol\n",
    "  - Leak ramp\n",
    "\n",
    "\n"
   ]
  }
 ],
 "metadata": {
  "kernelspec": {
   "display_name": "Python 3 (ipykernel)",
   "language": "python",
   "name": "python3"
  },
  "language_info": {
   "codemirror_mode": {
    "name": "ipython",
    "version": 3
   },
   "file_extension": ".py",
   "mimetype": "text/x-python",
   "name": "python",
   "nbconvert_exporter": "python",
   "pygments_lexer": "ipython3",
   "version": "3.11.6"
  }
 },
 "nbformat": 4,
 "nbformat_minor": 5
}
