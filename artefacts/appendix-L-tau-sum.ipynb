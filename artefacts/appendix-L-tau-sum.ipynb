{
 "cells": [
  {
   "cell_type": "markdown",
   "id": "e7fdae0f",
   "metadata": {},
   "source": [
    "# Appendix L: Series resistance compensation speed"
   ]
  },
  {
   "cell_type": "markdown",
   "id": "22f7aaad",
   "metadata": {},
   "source": [
    "Here we give values for the time constant of series resistance compensation."
   ]
  },
  {
   "cell_type": "markdown",
   "id": "0626bd26",
   "metadata": {},
   "source": [
    "| Source                    | page    | $\\tau (\\mu s)$                         |\n",
    "|:--------------------------|:--------|:---------------------------------------|\n",
    "| HEKA Patchmaster manual   | 86, 87  | 2, 5, 10, 100                          |\n",
    "| HEKA EPC 10 manual        | 32      | 2, 10, 100                             |\n",
    "| Axopatch 200D front panel |         | 1, 2, 3, 5, 7, 10, 20, 35, 60, 80, 100 |"
   ]
  },
  {
   "cell_type": "markdown",
   "id": "effeac2d",
   "metadata": {},
   "source": [
    "The HEKA manuals describe $10 \\mu s$ as medium, while on the Axopatch it is the value at 12 o'clock of the potentiometer. It seems safe to assume this is a good default value."
   ]
  }
 ],
 "metadata": {
  "kernelspec": {
   "display_name": "Python 3 (ipykernel)",
   "language": "python",
   "name": "python3"
  },
  "language_info": {
   "codemirror_mode": {
    "name": "ipython",
    "version": 3
   },
   "file_extension": ".py",
   "mimetype": "text/x-python",
   "name": "python",
   "nbconvert_exporter": "python",
   "pygments_lexer": "ipython3",
   "version": "3.11.6"
  }
 },
 "nbformat": 4,
 "nbformat_minor": 5
}
