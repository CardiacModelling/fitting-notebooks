{
 "cells": [
  {
   "cell_type": "markdown",
   "metadata": {},
   "source": [
    "# Appendix F: Liquid junction potential"
   ]
  },
  {
   "cell_type": "markdown",
   "metadata": {},
   "source": [
    "A [liquid junction potential](https://en.wikipedia.org/wiki/Liquid_junction_potential) (LJP) arises when two solutions with different ionic concentrations are in contact.\n",
    "Because different types of ion have different [mobilities](https://en.wikipedia.org/wiki/Electrical_mobility), they will diffuse at different speeds, and so we can get a situation where e.g. positive charges move faster than negative charges, resulting in a non-zero net current.\n",
    "\n",
    "In manual patch-clamp experiments (in the whole-cell configuration), a liquid junction potential arises _before the connection to the cell is made_, when the pipette fluid is in contact with the bath fluid at the pipette's tip.\n",
    "This LJP is on the order of 10mV ([Neher (1992)](https://doi.org/10.1016/0076-6879(92)07008-C)).\n",
    "\n",
    "Because the pipette fluid is designed to be similar to the cytosolic fluid, once the connection to the cell is made the LJP quickly disappears."
   ]
  },
  {
   "cell_type": "markdown",
   "metadata": {},
   "source": [
    "_Note 1: It's usually safe to assume that the pipette is so much larger than the cell, and that the pipette and intracellular fluids are so similar, that the final solution inside the cell is pretty much equal to the pipette solution._\n",
    "\n",
    "_Note 2: [Neher (1992)](https://doi.org/10.1016/0076-6879(92)07008-C) points out that diffusion is only fast for small cells, for larger cells the situation after patching may be considerably more complicated._"
   ]
  },
  {
   "cell_type": "markdown",
   "metadata": {},
   "source": [
    "## LJP correction in patch-clamp in the whole-cell configuration\n",
    "\n",
    "So if the LJP isn't present during time of recording, why do we care about it?\n",
    "\n",
    "The reason is that there are a whole host of resistances and small differences in potential that arise between the bath and pipette electrodes, for example the [electrode potentials](https://en.wikipedia.org/wiki/Electrode_potential).\n",
    "At the start of the experiment, before making contact with the cell, these are \"zeroed out\", i.e. we find a voltage-clamp potential for which no current flows, and call this voltage our zero.\n",
    "This is done manually on some amplifiers, or automatically on others.\n",
    "\n",
    "For example, the following steps may be followed:\n",
    "\n",
    "1. The pipette is lowered into the bath solution.\n",
    "2. A cell is selected.\n",
    "3. The pipette is brought closer to the cell: this usually involves lowering it further, which changes the fraction of the pipette that is submerged in the bath, which changes the zero potential!\n",
    "4. Zeroing is performed, in the presence of an LJP.\n",
    "5. The pipette is placed against the cell, a seal is made, the patch of membrane is ruptured, and the LJP disappears.\n",
    "6. Because the cell has a membrane potential, we can no longer zero without losing important information.\n",
    "7. Recordings are made.\n",
    "\n",
    "As a result, all our recordings are made in the absence of an LJP, but using a \"zero\" that was set in the presence of an LJP. Accounting for this difference is known as liquid junction potential correction."
   ]
  },
  {
   "cell_type": "markdown",
   "metadata": {},
   "source": [
    "## How do we calculate the LJP?\n",
    "\n",
    "In short, almost everyone uses [a piece of software developed by Peter Barry](https://doi.org/10.1016/0165-0270(94)90031-0), although an open source alternative is available, which purports to use a better model: https://swharden.com/LJPcalc/"
   ]
  },
  {
   "cell_type": "markdown",
   "metadata": {},
   "source": [
    "## How do we account for the LJP?\n",
    "\n",
    "There are two common strategies:\n",
    "\n",
    "1. Apply your protocols, knowing that the cell will actually see different voltages, and then account for this in analysis.\n",
    "2. Work out the LJP in advance, and adjust your protocols before applying them.\n",
    "\n",
    "To make option 2 easier, some amplifier software (e.g. HEKA's PatchMaster) lets you enter an LJP and will then correct all your protocols automatically.\n",
    "\n",
    "Because it sounds nice and sciency, we'll call these options _a posteriori_ and _a priori_ correction, respectively."
   ]
  },
  {
   "cell_type": "markdown",
   "metadata": {},
   "source": [
    "## Which direction do we \"correct\" in?"
   ]
  },
  {
   "cell_type": "markdown",
   "metadata": {},
   "source": [
    "This confuses everyone:\n",
    "\n",
    "> Even when the importance of junction potential corrections are appreciated, research workers can still have difficulty both determining the magnitude of the corrections and the direction in which they should be applied\n",
    "\n",
    "> the direction of the junction potential correction can be somewhat confusing and requires very carefully applied logic and the calculation of the magnitude is fairly tedious and open to error.\n",
    "\n",
    "([Barry, 1994](https://doi.org/10.1016/0165-0270(94)90031-0), as justification for the software).\n",
    "\n",
    "Even with \"carefully applied logic\", because the LJP is a _potential difference_ that we almost always express as a _potential_, we need to pay close attention to _sign conventions_."
   ]
  },
  {
   "cell_type": "markdown",
   "metadata": {},
   "source": [
    "To start, we'll define both _electrode potentials_ and the _LJP_ as _voltage increases_:\n",
    "\n",
    "<img src=\"resources/ljp-1-increase.png\" width=\"535px\" />\n",
    "\n",
    "Inside the pipette, where the [AgCl coated wire](https://en.wikipedia.org/wiki/Silver_chloride_electrode) meets the pipette fluid, we have\n",
    "\n",
    "<img src=\"resources/ljp-2-electrode.png\" width=\"535px\" />\n",
    "\n",
    "At the pipette tip, where the pipette fluid meets the bath fluid, we have\n",
    "\n",
    "<img src=\"resources/ljp-3-ljp.png\" width=\"535px\" />\n",
    "\n",
    "(Note that this is the direction most commonly used, e.g. by Barry et al. and by Neher).\n",
    "\n",
    "And finally, at the cell membrane, we have\n",
    "\n",
    "<img src=\"resources/ljp-4-vm.png\" width=\"535px\" />\n",
    "\n",
    "Now we can compare the situation before touching the cell (left) with the situation after rupturing the membrane (right), by writing both as a series of voltage increases:\n",
    "\n",
    "<img src=\"resources/ljp-5-correction.png\" width=\"598\" />"
   ]
  },
  {
   "cell_type": "markdown",
   "metadata": {},
   "source": [
    "On the left we have \n",
    "\n",
    "- The interface between the pipette electrode and pipette fluid, where we get an electrode potential $V_{e1}$.\n",
    "- The interface between pipette fluid and bath fluid, where we get an LJP $V_{LJ}$.\n",
    "- Another electrode, facing the other way (note the mirrored symbol), with electrode potential $V_{e2}$.\n",
    "\n",
    "On the right:\n",
    "\n",
    "- The interface between the wire and the pipette/intracellular fluid, where we get an electrode potential $V_{e1}$ but no LJP.\n",
    "- A cell membrane separating the pipette/cytosolic fluid from the bath; following the sign conventions above we write this as a $V_m$ facing the opposite direction as $V_{e1}$.\n",
    "- Another electrode, facing the other way, with electrode potential $V_{e2}$"
   ]
  },
  {
   "cell_type": "markdown",
   "metadata": {},
   "source": [
    "Taking the ground as zero, and going right-to-left through the first diagram, we can write:\n",
    "\\begin{align}\n",
    "V_L = V_{e2} - V_{LJ} - V_{e1}\n",
    "\\end{align}\n",
    "\n",
    "We can then \"zero\" this measurement by subtracting a $V_0$:\n",
    "\\begin{align}\n",
    "V_L = V_{e2} - V_{LJ} - V_{e1} - V_0 = 0\n",
    "\\end{align}\n",
    "\n",
    "so that\n",
    "\\begin{align}\n",
    "V_0 = V_{e2} - V_{LJ} - V_{e1}\n",
    "\\end{align}\n",
    "\n",
    "Following the same procedure, the right-hand diagram works out as:\n",
    "\\begin{align}\n",
    "V_R = V_{e2} + V_m - V_{e1}\n",
    "\\end{align}\n",
    "\n",
    "Zeroing with the value we found before connecting to the cell, we find:\n",
    "\\begin{align}\n",
    "V_R &= V_{e2} + V_m - V_{e1} - V_0 \\\\\n",
    "    &= V_m + V_{LJ} \\\\\n",
    "\\end{align}\n",
    "\n",
    "So, whenever we think we are measuring or manipulating $V_m$, we are actually dealing with $V_m + V_{LJ}$."
   ]
  },
  {
   "cell_type": "markdown",
   "metadata": {},
   "source": [
    "### Current clamp, whole-cell, a posteriori correction\n",
    "\n",
    "As a result, if the apparatus reports a $V_m$ measured in current-clamp, we are actually getting a $V_m + V_{LJ}$ and so we need to _subtract_ the LJP.\n",
    "\n",
    "### Voltage clamp, whole-cell, a posteriori correction\n",
    "\n",
    "Similarly, if the apparatus reports an applied voltage $V_{cmd}$, we were actually holding $V_m + V_{LJ}$ at that potential, so to get the truly applied voltage we again need to _subtract_ the LJP."
   ]
  },
  {
   "cell_type": "markdown",
   "metadata": {},
   "source": [
    "## Other patch-clamp configurations\n",
    "\n",
    "For other modes and more information, see [Figl et al. (2004)](https://medicalsciences.med.unsw.edu.au/sites/default/files/soms/page/ElectroPhysSW/Figl%20App%20Note2004.pdf)."
   ]
  }
 ],
 "metadata": {
  "kernelspec": {
   "display_name": "Python 3 (ipykernel)",
   "language": "python",
   "name": "python3"
  },
  "language_info": {
   "codemirror_mode": {
    "name": "ipython",
    "version": 3
   },
   "file_extension": ".py",
   "mimetype": "text/x-python",
   "name": "python",
   "nbconvert_exporter": "python",
   "pygments_lexer": "ipython3",
   "version": "3.11.4"
  }
 },
 "nbformat": 4,
 "nbformat_minor": 2
}
