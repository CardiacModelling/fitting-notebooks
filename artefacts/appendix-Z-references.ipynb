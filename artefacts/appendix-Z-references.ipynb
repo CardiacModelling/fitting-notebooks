{
 "cells": [
  {
   "cell_type": "markdown",
   "id": "fc24dbb4",
   "metadata": {},
   "source": [
    "# Appendix Z: References"
   ]
  },
  {
   "cell_type": "markdown",
   "id": "aff7c8af",
   "metadata": {},
   "source": [
    "- Auerbach, Sachs (1984) Patch Clamp Studies of Single Ionic Channels\n",
    "\n"
   ]
  },
  {
   "cell_type": "markdown",
   "id": "13d37e5d",
   "metadata": {},
   "source": [
    "\n"
   ]
  },
  {
   "cell_type": "markdown",
   "id": "fcdf2bc5",
   "metadata": {},
   "source": [
    "## Amplifier design\n",
    "\n",
    "- [Finkel (1985) Useful Circuits for Voltage Clamping With Microelectrodes](https://doi.org/10.1007/978-1-4614-7601-6_2)\n",
    "- [Finkel (1991) Progress in instrumentation technology for recording from single channels and small cells](https://www.amazon.co.uk/Molecular-Neurobiology-Practical-Approach/dp/0199631093) \n",
    "- [Levis & Rae (1998) Low-noise patch-clamp techniques](https://doi.org/10.1016/S0076-6879(98)93017-8)\n",
    "- [Sigworth (1995a) Electronic Design of the Patch Clamp](https://doi.org/10.1007/978-1-4419-1229-9_4)\n",
    "- [Weerakoon, Culurciello, Klemic, Sigworth (2009) An Integrated Patch-Clamp Potentiostat With Electrode Compensation](https://doi.org/10.1109/TBCAS.2008.2005419)"
   ]
  },
  {
   "cell_type": "markdown",
   "id": "b391edd0",
   "metadata": {},
   "source": [
    "## Amplifiers\n",
    "\n",
    "- Axon manuals are available from [moleculardevices.com](https://support.moleculardevices.com)\n",
    "- HEKA manuals and tutorials are available from [heka.com](https://www.heka.com)\n",
    "- [Sigworth (1995b) Design of the EPC-9, a computer-controlled patch-clamp amplifier, 1 Hardware](https://doi.org/10.1016/0165-0270(94)00129-5)"
   ]
  },
  {
   "cell_type": "markdown",
   "id": "84a95a78",
   "metadata": {},
   "source": [
    "## Leak\n",
    "\n",
    "- [Lei, Fabbri et al. De Boer (2021) A nonlinear and time-dependent leak current in the presence of calcium fluoride patch-clamp seal enhancer](https://doi.org/10.12688/wellcomeopenres.15968.2)"
   ]
  },
  {
   "cell_type": "markdown",
   "id": "25d73b94",
   "metadata": {},
   "source": [
    "## Liquid junction potential\n",
    "\n",
    "- [Barry (1994) JPCalc, a software package for calculating liquid junction potential corrections in patch-clamp, intracellular, epithelial and bilayer measurements and for correcting junction potential measurements](https://doi.org/10.1016/0165-0270(94)90031-0)\n",
    "- [Dickinson, Freitag, Compton (2010) Dynamic Theory of Liquid Junction Potentials](https://doi.org/10.1021/jp908024s)\n",
    "- [Figl, Lewis, Barry (2004) Axon Instruments; Liquid Junction Potential Corrections](https://medicalsciences.med.unsw.edu.au/sites/default/files/soms/page/ElectroPhysSW/Figl%20App%20Note2004.pdf)\n",
    "- [Harden, Brogioli (2020) LJPcalc Liquid Junction Potential Calculator](https://swharden.com/LJPcalc/)\n",
    "- [Marino, Misuri, Brogioli (2014) A new open source software for the calculation of the liquid junction potential between two solutions according to the stationary Nernst-Planck equation](https://arxiv.org/abs/1403.3640).\n",
    "- [Neher (1992) Correction for liquid junction potentials in patch clamp experiments](https://doi.org/10.1016/0076-6879(92)07008-C)\n"
   ]
  },
  {
   "cell_type": "markdown",
   "id": "df427405",
   "metadata": {},
   "source": [
    "## Membrane capacitance\n",
    "\n",
    "- [Thompson, Lindau, Webb (2001) Robust, High-Resolution, Whole Cell Patch-Clamp Capacitance Measurements Using Square Wave Stimulation](https://doi.org/10.1016/S0006-3495(01)75752-9)"
   ]
  },
  {
   "cell_type": "markdown",
   "id": "4a52dfab",
   "metadata": {},
   "source": [
    "## Modelling patch-clamp\n",
    "\n",
    "- [Abrasheva, Kovalenko et al., Syunyaev (2023) Human sodium current voltage-dependence at physiological temperature measured by coupling patch-clamp experiment to a mathematical model](https://doi.org/10.1101/2023.06.06.543894)\n",
    "- [Clerx, Collins, Volders (2015) Applying novel identification protocols to Markov models of INa](http://michaelclerx.com/publications/files/clerx-collins-volders-2015-applied-estimation-pre-print.pdf)\n",
    "- [Lei, Clerx et al. Mirams (2020) Accounting for variability in ion current recordings using a mathematical model of artefacts in voltage-clamp experiments](https://doi.org/10.1098/rsta.2019.0348)\n",
    "- [Lei (2020) DPhil Thesis; Model-Driven Design and Uncertainty Quantification for Cardiac Electrophysiology Experiments](https://ora.ox.ac.uk/objects/uuid:528c2771-ae4f-4f3c-b649-44904acdf259)\n",
    "- [Montnach, Lorenzini et al., Loussouarn (2021) Computer modeling of whole-cell voltage-clamp analyses to delineate guidelines for good practice of manual and automated patch-clamp](https://doi.org/10.1038/s41598-021-82077-8)"
   ]
  },
  {
   "cell_type": "markdown",
   "id": "9400cb91",
   "metadata": {},
   "source": [
    "## Noise\n",
    "\n",
    "- [Benndorf (1995) Low-Noise Recording](https://doi.org/10.1007/978-1-4419-1229-9_5)\n",
    "- [Sigworth (1995a) Electronic Design of the Patch Clamp](https://doi.org/10.1007/978-1-4419-1229-9_4)\n",
    "- [The Axon Guide](https://www.moleculardevices.com/en/assets/ebook/dd/cns/axon-guide-to-electrophysiology-and-biophysics-laboratory-techniques)"
   ]
  },
  {
   "cell_type": "markdown",
   "id": "068467b5",
   "metadata": {},
   "source": [
    "## Op-amps\n",
    "\n",
    "- Wikipedia: [Difference amplifier](https://en.wikipedia.org/wiki/Differential_amplifier)\n",
    "- Wikipedia: [Negative-feedback amplifier](https://en.wikipedia.org/wiki/Negative-feedback_amplifier)\n",
    "- Wikipedia: [Operational amplifier](https://en.wikipedia.org/wiki/Operational_amplifier)"
   ]
  },
  {
   "cell_type": "markdown",
   "id": "4a892ebb",
   "metadata": {},
   "source": [
    "## Patch-clamp in practice\n",
    "\n",
    "- [Hamill, Marty et al., Sigworth (1981) Improved patch-clamp techniques for high-resolution current recording from cells and cell-free membrane patches](https://doi.org/10.1007/BF00656997)\n",
    "- [Molleman (2002) Patch Clamping](https://doi.org/10.1002/0470856521)\n",
    "- [Penner (1995) A Practical Guide to Patch Clamping](https://doi.org/10.1007/978-1-4419-1229-9_1)"
   ]
  },
  {
   "cell_type": "markdown",
   "id": "f4271f52",
   "metadata": {},
   "source": [
    "## Series-resistance compensation\n",
    "\n",
    "- [Hodgkin, Huxley, Katz (1952) Measurement of current-voltage relations in the membrane of the giant axon of Loligo](https://physoc.onlinelibrary.wiley.com/doi/10.1113/jphysiol.1952.sp004716)\n",
    "- [Armstrong, Chow (1987) Supercharging; a method for improving patch-clamp performance](https://doi.org/10.1016/S0006-3495(87)83198-3)\n",
    "- [Sherman, Shrier, Cooper (1999) Series Resistance Compensation for Whole-Cell Patch-Clamp Studies Using a Membrane State Estimator](https://doi.org/10.1016/S0006-3495(99)77093-1),\n",
    "- [Strickholm (1995a) A single electrode voltage, current- and patch-clamp amplifier with complete stable series resistance compensation](https://doi.org/10.1016/0165-0270(95)00021-L)\n",
    "- [Strickholm (1995b) A supercharger for single electrode voltage and current clamping](https://doi.org/10.1016/0165-0270(95)00022-M)"
   ]
  },
  {
   "cell_type": "code",
   "execution_count": null,
   "id": "9ca8d636",
   "metadata": {},
   "outputs": [],
   "source": []
  },
  {
   "cell_type": "code",
   "execution_count": null,
   "id": "7e5d3406",
   "metadata": {},
   "outputs": [],
   "source": []
  },
  {
   "cell_type": "code",
   "execution_count": null,
   "id": "c02a963d",
   "metadata": {},
   "outputs": [],
   "source": []
  },
  {
   "cell_type": "markdown",
   "id": "92f0e461",
   "metadata": {},
   "source": []
  }
 ],
 "metadata": {
  "kernelspec": {
   "display_name": "Python 3 (ipykernel)",
   "language": "python",
   "name": "python3"
  },
  "language_info": {
   "codemirror_mode": {
    "name": "ipython",
    "version": 3
   },
   "file_extension": ".py",
   "mimetype": "text/x-python",
   "name": "python",
   "nbconvert_exporter": "python",
   "pygments_lexer": "ipython3",
   "version": "3.11.6"
  }
 },
 "nbformat": 4,
 "nbformat_minor": 5
}
