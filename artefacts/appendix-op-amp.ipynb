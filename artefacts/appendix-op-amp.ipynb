{
 "cells": [
  {
   "cell_type": "markdown",
   "metadata": {},
   "source": [
    "# Appendix: Op amps with negative feedback"
   ]
  },
  {
   "cell_type": "markdown",
   "metadata": {},
   "source": [
    "Since they're so central in the patch-clamp amplifier, we might as well have a quick look at op amps.\n",
    "In particular, op amps connected in a negative feedback loop like below:"
   ]
  },
  {
   "cell_type": "markdown",
   "metadata": {},
   "source": [
    "<img src=\"resources/op-amp-1.png\" />"
   ]
  },
  {
   "cell_type": "markdown",
   "metadata": {},
   "source": [
    "Note that the proper way to draw an op amp also includes two terminals to which a power source is connected, see for example [wikipedia](https://en.wikipedia.org/wiki/Operational_amplifier).\n",
    "These are omitted here for clarity."
   ]
  },
  {
   "cell_type": "markdown",
   "metadata": {},
   "source": [
    "The general (idealised!) equation for an op amp is:\n",
    "\n",
    "$$ V_o = A (V_+ - V_-)$$\n",
    "\n",
    "where $A$ is the \"_open loop gain_\" and is $\\mathcal{O}(10^5)$.\n",
    "\n",
    "For the schematic on the left we find:\n",
    "\n",
    "\\begin{align}\n",
    "V_o &= A (V_+ - V_o) \\\\\n",
    "(1 + A) V_o &= A V_+ \\\\\n",
    "V_o &= \\frac{A}{1 + A} V_+ \\approx V_+\n",
    "\\end{align}"
   ]
  },
  {
   "cell_type": "markdown",
   "metadata": {},
   "source": [
    "where the final approximation works if $A \\gg 1$."
   ]
  },
  {
   "cell_type": "markdown",
   "metadata": {},
   "source": [
    "The schematic on the right is more similar to the patch-clamp set-up.\n",
    "The resistor $R_1$ is equivalent to $R$ in Figure 2 of the main text, and is often called $R_f$, for _feedback_.\n",
    "The second resistor $R_2$ represents the \"load\", which in this case is our pipette/cell/bath combination. As before, we analyse by\n",
    "\n",
    "1. Writing equations for the voltage drop over both resistors, assuming currents going from right to left.\n",
    "2. Assuming no current flows into the op amp, so that the current through $R_1$ equals that through $R_2$.\n",
    "3. Using $V_0=A(V_+ - V_-)$ and then letting $A \\gg 1$.\n",
    "\n",
    "We find:\n",
    "\n",
    "\\begin{align}\n",
    "I_{R_1} &= I_{R_2} \\\\\n",
    "(V_o - V_-) / R_1 &= (V_- - 0) / R_2 \\\\\n",
    "R_2 (V_o - V_-) &= R_1 V_- \\\\\n",
    "R_2 V_o &= (R_1 + R_2) V_-\n",
    "\\end{align}\n",
    "then\n",
    "\\begin{align}\n",
    "V_- = V_+ - V_0/A\n",
    "\\end{align}\n",
    "so that\n",
    "\\begin{align}\n",
    "R_2 V_o &= (R_1 + R_2) (V_+ - V_0/A) \\\\\n",
    "\\left(R_2 + \\frac{R_1 + R_2}{A} \\right) V_o &= (R_1 + R_2) V_+ \\\\\n",
    "\\frac{A R_2 + R_1 + R_2}{A} V_o &= (R_1 + R_2) V_+ \\\\\n",
    "V_o &= \\frac{A R_1 + A R_2}{A R_2 + R_1 + R_2} V_+ \\\\\n",
    "V_o &= \\frac{R_1 + R_2}{R_2 + R_1 / A + R_2 / A} V_+ \\\\\n",
    "\\end{align}\n",
    "\n",
    "Finally, assuming that $A \\gg 1$, the terms $R_1/A$ and $R_2/A$ will become small and\n",
    "\n",
    "\\begin{align}\n",
    "V_o \\approx \\frac{R_1 + R_2}{R_2} V_+ = \\left(1 + \\frac{R_1}{R_2} \\right) V_+\n",
    "\\end{align}\n",
    "\n",
    "The term $\\left(1 + \\frac{R_1}{R_2} \\right)$ is sometimes called $A_\\text{CL}$, the \"_closed loop gain_\".\n",
    "\n",
    "Note that we get the same result by using $V_- = V_+$, as we did in the original analysis of Figure 2.\n",
    "This lets us jump straight from\n",
    "\n",
    "$$R_2 V_0 = (R_1 + R_2) V_-$$\n",
    "to\n",
    "$$V_0 = \\left(1 + \\frac{R_1}{R_2}\\right) V_+$$"
   ]
  },
  {
   "cell_type": "markdown",
   "metadata": {},
   "source": [
    "### A difference amplifier"
   ]
  },
  {
   "cell_type": "markdown",
   "metadata": {},
   "source": [
    "The second active component we introduced was a differential or [_difference amplifier_](https://en.wikipedia.org/wiki/Differential_amplifier), as shown in the left panel below:"
   ]
  },
  {
   "cell_type": "markdown",
   "metadata": {},
   "source": [
    "<img src=\"resources/op-amp-2-diff-amp.png\" />"
   ]
  },
  {
   "cell_type": "markdown",
   "metadata": {},
   "source": [
    "An op amp based design is shown on the right.\n",
    "Once again assuming currents flow from right to left, and that no currents flow into the op amp terminals, we can see that the current through both resistors at the top must be equal:\n",
    "\n",
    "\\begin{align}\n",
    "(V_a - V_1) / R_1 &= (0 - V_a) / R_2 \\\\\n",
    "R_2 (V_a - V_1) &= - R_1 V_a \\\\\n",
    "V_a = V_1 \\frac{R_2}{R_1 + R_2}\n",
    "\\end{align}\n",
    "\n",
    "And the same holds for the two resistors at the bottom:\n",
    "\n",
    "\\begin{align}\n",
    "R_2 (V_b - V_2) &= R_1 (V_\\text{out} - V_b) \\\\\n",
    "R_1 V_\\text{out} &= (R_1 + R_2) V_b - R_2 V_2\n",
    "\\end{align}\n",
    "\n",
    "setting $V_a = V_b$\n",
    "\n",
    "\\begin{align}\n",
    "R_1 V_\\text{out} &= \\frac{R_2 (R_1 + R_2)}{R_1 + R_2} V_1 - R_2 V_2 \\\\\n",
    "    V_\\text{out} &= \\frac{R_2}{R_1} V_1 - \\frac{R_2}{R_1} V_2 = K (V_1 - V_2)\n",
    "\\end{align}\n",
    "\n",
    "We can set the amplification factor $K = R_2 / R_1$ by choosing the right resistors.\n",
    "For our application, we pick $R_1 = R_2$ so that $K = 1$."
   ]
  },
  {
   "cell_type": "markdown",
   "metadata": {},
   "source": [
    "For the mathematical analysis of this schematic the diff amp doesn't seem to do anything: instead of measuring a voltage difference between a point at $V_o$ and a point at $V_c$ we now measure between a point at $V_\\text{out} = V_o - V_c$ and a point at $V=0$.\n",
    "However, the difference amplifier acts as a _buffer_: any device you attach to its $V_{out}$ and the ground will draw power from the amplifier, not from the preparation."
   ]
  }
 ],
 "metadata": {
  "kernelspec": {
   "display_name": "Python 3 (ipykernel)",
   "language": "python",
   "name": "python3"
  },
  "language_info": {
   "codemirror_mode": {
    "name": "ipython",
    "version": 3
   },
   "file_extension": ".py",
   "mimetype": "text/x-python",
   "name": "python",
   "nbconvert_exporter": "python",
   "pygments_lexer": "ipython3",
   "version": "3.11.4"
  }
 },
 "nbformat": 4,
 "nbformat_minor": 4
}
