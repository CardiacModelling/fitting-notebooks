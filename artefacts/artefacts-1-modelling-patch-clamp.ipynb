{
 "cells": [
  {
   "cell_type": "markdown",
   "id": "33970f55",
   "metadata": {},
   "source": [
    "# Modelling patch-clamp experiments\n",
    "\n",
    "In this set of notebooks, we look in detail at processing data obtained from patch-clamp experiments.\n",
    "\n",
    "In particular, we focus on **manual** and **planar patch clamp** experiments in the **whole cell configuration**.\n",
    "These can be used to either\n",
    "\n",
    "1. pass current through the membrane and measure the resulting voltage (_current clamp_); or \n",
    "2. control the membrane voltage and measure the resulting current (_voltage clamp_).\n",
    "\n",
    "We will focus exclusively on **voltage clamp**.\n",
    "\n",
    "In the first notebook, we introducing an electrical model of a patch-clamp set up and its imperfections.\n",
    "In the second, we review a model of the common compensation circuitry used to counter these flaws."
   ]
  },
  {
   "cell_type": "markdown",
   "id": "866f0da6",
   "metadata": {},
   "source": [
    "## The basic set-up\n",
    "\n",
    "Detailed descriptions of the patch clamp technique can be found in the chapter [Penner (1995) A Practical Guide to Patch Clamping](https://doi.org/10.1007/978-1-4419-1229-9_1), the (short) book [Molleman (2002) Patch Clamping](https://doi.org/10.1002/0470856521), or the (slightly older) article [Hamill, Marty et al., Sigworth (1981) Improved patch-clamp techniques for high-resolution current recording from cells and cell-free membrane patches](https://doi.org/10.1007/BF00656997).\n",
    "\n",
    "In brief, a cell is placed in a bath containing an electrode (the _bath electrode_) and an ion-rich solution that can conduct electricity.\n",
    "A patch clamp _pipette_ is constructed by pulling on a heated glass tube to form a sharp tip, then filling it with another ion-rich solution, and inserting an electrode into the open end.\n",
    "The sharp end of the pipette is then placed against the cell membrane and suction, electric pulses, or chemicals are used to break the membrane inside the pipette opening, establishing an electrical connection to the inside of the cell.\n",
    "A _patch clamp amplifier_ is attached to both electrodes, and can now be used to measure and manipulate the voltage between the bath and pipette electrodes.\n"
   ]
  },
  {
   "cell_type": "markdown",
   "id": "b8e573b6",
   "metadata": {},
   "source": [
    "## An electrical model of the patch-clamp set up\n",
    "\n",
    "Now that we have access to the inside & outside of the cell, how can we control its voltage and measure the current?\n",
    "\n",
    "An outline of the answer is given below.\n",
    "It follows the exposition in [Sigworth 1995a](https://doi.org/10.1007/978-1-4419-1229-9_4), but also uses [Weerakoon et al., 2009](https://doi.org/10.1109/TBCAS.2008.2005419) and [Lei et al., 2020](https://doi.org/10.1098/rsta.2019.0348).\n",
    "Note that the schematics given here are all simplifications, illustrating the principles of a patch-clamp amplifier but omitting real-life complications.\n",
    "We will assume some familiarity with passive electronics, but link to appendices for the more complicated parts."
   ]
  },
  {
   "cell_type": "markdown",
   "id": "b98ff54b",
   "metadata": {},
   "source": [
    "Figure 1 shows a very simple schematic to measure small currents.\n",
    "A battery $V_c$ is attached to a pipette, and a resistor with a known resistance $R$ is introduced.\n",
    "To obtain the current flowing into the patch clamp assembly, $I$, we measure the voltage drop $V_\\text{out} = I R$ across the resistor and use\n",
    "\n",
    "$$ I = V_\\text{out} / R $$"
   ]
  },
  {
   "cell_type": "markdown",
   "id": "630cf0d5",
   "metadata": {},
   "source": [
    "<img src=\"resources/patch-amp-1-too-simple.png\" style=\"margin:auto\" />\n",
    "\n",
    "_**Figure 1**: A very simple current measuring device (adapted from Sigworth 1995a)._"
   ]
  },
  {
   "cell_type": "markdown",
   "id": "80896b76",
   "metadata": {},
   "source": [
    "By choosing a large enough $R$ we get a measurable $V_\\text{out}$ for even very small $I$.\n",
    "However, a large $R$ also creates a big difference between the voltage we control, $V_c$, and the voltage over the patch clamp assembly.\n",
    "\n",
    "A clever trick with an [op amp](https://en.wikipedia.org/wiki/Operational_amplifier) can get us around this:"
   ]
  },
  {
   "cell_type": "markdown",
   "id": "0fcac2ba",
   "metadata": {},
   "source": [
    "<img src=\"resources/patch-amp-2-with-op-amp.png\" />\n",
    "\n",
    "_**Figure 2**: Using an op amp to measure small currents._"
   ]
  },
  {
   "cell_type": "markdown",
   "id": "524bef2a",
   "metadata": {},
   "source": [
    "We analyse this circuit using two properties of **an idealised** op-amp:\n",
    "\n",
    "1. Connected in a negative feedback loop like above, the op amp instantaneously adjusts its output $V_o$ until the voltages $V_+$ and $V_-$ at its input terminals are the same.\n",
    "2. No current flows into or out of the input terminals.\n",
    "\n",
    "From the first property we get $V_- = V_c$.\n",
    "The second gives us $I = I_R$.\n",
    "The voltage-drop across the resistor is then\n",
    "\n",
    "$$ V_o - V_- = V_o - V_c = I_R R = I_ R $$\n",
    "\n",
    "And so if we can measure $V_\\text{out} \\equiv V_o - V_c$ we can use the known value of $R$ to calculate\n",
    "\n",
    "$$I = V_\\text{out} / R$$"
   ]
  },
  {
   "cell_type": "markdown",
   "id": "450f600a",
   "metadata": {},
   "source": [
    "Finally, we add a [difference amplifier](https://en.wikipedia.org/wiki/Differential_amplifier) to $V_o$ and $V_c$.\n",
    "A difference amplifier takes the voltage between its two inputs and multiplies it by a fixed factor, using an external power source.\n",
    "Here we use an amplification factor of 1 so that it acts as a simple _buffer_.\n",
    "This means that the power drawn from $V_{out}$ by any connected measurement equipment will be provided by the amplifier's power source and not by the circuit we are trying to measure.\n",
    "\n",
    "Like with the op amp, we will assume that no (or negligible) current flows into the difference amplifier."
   ]
  },
  {
   "cell_type": "markdown",
   "id": "3849ce4f",
   "metadata": {},
   "source": [
    "<img src=\"resources/patch-amp-3-diff-amp.png\" style=\"margin:auto\" />\n",
    "\n",
    "_**Figure 3**: A difference amplifier buffers $V_{out}$._"
   ]
  },
  {
   "cell_type": "markdown",
   "id": "5597d996",
   "metadata": {},
   "source": [
    "For more about op amps and difference amplifiers, see [Appendix A](./appendix-A-op-amp.ipynb)."
   ]
  },
  {
   "cell_type": "markdown",
   "id": "8bcc3682",
   "metadata": {},
   "source": [
    "### \"Stray\" capacitance\n",
    "\n",
    "We now make the schematic a bit more realistic, by adding a capacitor in parallel with the resistance.\n",
    "In some schematics, this capacitor is drawn with dotted lines, to indicate that it represents the \"stray\" or \"parasitic\" capacitance of the resistor.\n",
    "However, in newer designs resistors with a very low stray capacitance are used [(Weerakoon et al., 2009)](https://doi.org/10.1109/TBCAS.2008.2005419) but an extra capacitor is stil added to the circuit to \"make the trans-impedance amplifier stable and to increase the bandwidth of the voltage clamp\".\n",
    "The stability argument is discussed in detail in [Sigworth 1995a](https://doi.org/10.1007/978-1-4419-1229-9_4)."
   ]
  },
  {
   "cell_type": "markdown",
   "id": "0d7e6238",
   "metadata": {},
   "source": [
    "<img src=\"resources/patch-amp-4-Cf.png\" />\n",
    "\n",
    "_**Figure 4**: A stray capacitance exists in parallel with the feedback resistor._"
   ]
  },
  {
   "cell_type": "markdown",
   "id": "3e4d7069",
   "metadata": {},
   "source": [
    "Because the resistance and capacitance are both in the feedback path of the op amp, we will label the resistance and its capacitance with a small f, for \"feedback\". We can redo the analysis with $C_f$ in place, to see how it affects $V_{out}$. \n",
    "\n",
    "Because there are now two pathways for the current to flow through we start from:\n",
    "\n",
    "\\begin{align}\n",
    "I &= I_R + I_C \\\\\n",
    "  &= (V_o - V_-) / R_f + C_f \\frac{d}{dt}\\left(V_o - V_-\\right) \\\\\n",
    "  &= V_\\text{out} / R_f + C_f \\dot{V}_\\text{out} \\\\\n",
    "R_f I &= V_\\text{out} + R_f C_f \\dot{V}_\\text{out} \\\\\n",
    "\\end{align}\n",
    "\n",
    "To allow for the idea that the current we calculate is no longer equal to $I$, we introduce a new symbol\n",
    "\n",
    "\\begin{align}\n",
    "I_\\text{obs} \\equiv V_\\text{out} / R_f\n",
    "\\end{align}\n",
    "\n",
    "substituting this in we find\n",
    "\n",
    "\\begin{align}\n",
    "I = I_\\text{obs} + R_f C_f \\dot{I}_\\text{obs}\n",
    "\\end{align}\n",
    "or\n",
    "\\begin{align}\n",
    "\\dot{I}_\\text{obs} = \\frac{I - I_\\text{obs}}{\\tau_f}\n",
    "\\end{align}\n",
    "\n",
    "This means that $I_\\text{obs}$ will follow $I$ with a time constant $\\tau_f = R_f C_f$.\n",
    "Typical values for $R_f$ and $C_f$ are given in [Appendix B](./appendix-B-Rf-and-Cf.ipynb).\n",
    "For whole-cell experiments with standard gain settings, you might expect a $\\tau_f$ on the order of $80\\,{\\mu}s$ (HEKA) to $500\\,{\\mu}s$ (Axon)."
   ]
  },
  {
   "cell_type": "markdown",
   "id": "d03887fd",
   "metadata": {},
   "source": [
    "### Pipette/Parasitic capacitance\n",
    "\n",
    "We now extend our diagram with another capacitor, $C_p$, to represent the \"pipette capacitance\".\n",
    "\n",
    "In manual patch clamp, the submerged part of the pipette will act as a capacitor (for a detailed description, see [Levis & Rae 1998](https://doi.org/10.1016/S0076-6879(98)93017-8)).\n",
    "The value of $C_p$ depends on the tip shape and wall thickness of the (home made) pipette, and on how much of it is immersed.\n",
    "As a result, $C_p$ will vary between experiments.\n",
    "During an experiment, changes in the water level due to evaporation and/or perfusion as well as adhesion effects (water slowly creeping up the side of the pipette) can cause further variation (see e.g. [Thompson et al. 2001](https://doi.org/10.1016/S0006-3495(01)75752-9)).\n",
    "\n",
    "However, there are other capacitative effects in the set-up, and a considerable $C_p$ exists in pipette-free patch clamp methods such as planar patch.\n",
    "So it is better to think of $C_p$ as a lumped, _parasitic_ capacitance."
   ]
  },
  {
   "cell_type": "markdown",
   "id": "68779d4f",
   "metadata": {},
   "source": [
    "<img src=\"resources/patch-amp-5-Cp.png\" />\n",
    "\n",
    "_**Figure 5**: The pipette, or lumped parasitic capacitance.\n",
    "We have renamed $V_-$ to $V_p$, as we will use $V_p$ and $C_p$ together in the equations._"
   ]
  },
  {
   "cell_type": "markdown",
   "id": "b253b88a",
   "metadata": {},
   "source": [
    "With this our equation for the observed current becomes\n",
    "\\begin{align}\n",
    "\\dot{I}_\\text{obs} = \\frac{I + C_p \\dot{V}_p - I_\\text{obs}}{\\tau_f}\n",
    "\\end{align}\n"
   ]
  },
  {
   "cell_type": "markdown",
   "id": "eaf914be",
   "metadata": {},
   "source": [
    "### A finite op amp speed\n",
    "\n",
    "Using the ideal op-amp assumptions, we have $V_p = V_c$ and $\\dot{V}_p = \\dot{V}_c$, so the new term is entirely dependent on our input signal for $V_c$.\n",
    "For a step protocol, a common choice in voltage clamping, this would imply that $\\dot{V}_p$ is either 0 during the steps or infinity at the discontinuities.\n",
    "To get a more realistic result, we have to assume the op amp makes $C_p$ follow $C_v$ with a finite speed.\n",
    "\n",
    "Two equations for this are found in the literature.\n",
    "[Sigworth 1995a](https://doi.org/10.1007/978-1-4419-1229-9_4) uses\n",
    "\n",
    "$$ \\dot{V}_o = \\frac{V_c - V_p}{\\tau_a} $$\n",
    "\n",
    "where $\\tau_a$ is tens of nanoseconds.\n",
    "The later work by [Weerakoon et al., 2009](https://doi.org/10.1109/TBCAS.2008.2005419) and then [Lei et al., 2020](https://doi.org/10.1098/rsta.2019.0348) uses\n",
    "\n",
    "\\begin{align}\n",
    "\\dot{V}_p = \\frac{V_c - V_p}{\\tau_c}, \\quad\n",
    "\\tau_c = \\frac{C_f + C_p}{C_f} \\tau_a\n",
    "\\end{align}\n",
    "\n",
    "Typical values for $V_c$ are in the order of 1e7 to 6e7, as given in [Appendix C](./appendix-C-tau-amp.ipynb).\n",
    "\n",
    "A detailed analysis of the amplifier's \"bandwidth\", used as a measure for how fast the amplifier can respond to changes in $V_c$, is given in Sigworth 1995a.\n",
    "It involves transfer function representations, which are discussed in [Appendix D](./appendix-D-laplace-and-filters.ipynb), while parts of the analysis are recapitulated in [Appendix E](./appendix-E-non-ideal-op-amp.ipynb).\n",
    "In summary, the equations used by Weerakoon and Lei et al. are a simplification based on Sigworth's analysis.\n",
    "They give rise to slightly different behaviour, as can be seen in [Appendix F](./appendix-F-uncompensated-models.ipynb), but for the analysis of many patch-clamp experiments their influence is overshadowed by the effects of the _series resistance_ and _membrane capacitance_, which are discussed below."
   ]
  },
  {
   "cell_type": "markdown",
   "id": "3864ae6c",
   "metadata": {},
   "source": [
    "### Series resistance and membrane capacitance\n",
    "\n",
    "Finally, we add the cell itself to our model circuit."
   ]
  },
  {
   "cell_type": "markdown",
   "id": "975181dc",
   "metadata": {},
   "source": [
    "<img src=\"resources/patch-amp-6-cell.png\" />\n",
    "\n",
    "_**Figure 6**: Series resistance, membrane capacitance, and a mysterious cell._"
   ]
  },
  {
   "cell_type": "markdown",
   "id": "5d7e4fd2",
   "metadata": {},
   "source": [
    "Our connection to the cell's cytosol is characterised by a _series resistance_ $R_s$.\n",
    "And just like $C_p$, which is best thought of as a lumping together of several capacitances, $R_s$ represents the sum effect of all resistances between the amplifier and the cytosol.\n",
    "\n",
    "To represent the potential between the inside of the cell and the ground, we'll use the symbol $V_m$.\n",
    "By assuming that the bath liquid is well grounded we can equate this to the membrane potential, defined as $V_m = V_\\text{in} - V_\\text{out}$.\n",
    "\n",
    "Finally, we separate the current of interest, $I$, from the current needed to charge the membrane which we represent as a capacitor $C_m$.\n",
    "Because we don't want to make any assumptions about the mechanisms giving rise to $I$, we've drawn it as a mysterious little cloud.\n",
    "\n",
    "As before, we can write equations corresponding to these electrical components.\n",
    "For example, the current passing through $R_s$ is proportional to voltage drop $V_p - V_m$, and equals the sum of currents passing through the cell:\n",
    "\n",
    "$$ \\frac{V_p - V_m}{R_s} = C_m \\dot{V}_m + I $$"
   ]
  },
  {
   "cell_type": "markdown",
   "id": "85c6b88b",
   "metadata": {},
   "source": [
    "### Voltage offsets\n",
    "\n",
    "Voltage offsets arise at various locations in the set-up, including inside the amplifier (\\~30mV), at the interface between electrodes and liquids (up to 100mV), and at liquid interfaces (\\~15mV, all estimates are from [Neher, 1995](https://doi.org/10.1007/978-1-4419-1229-9_6)).\n",
    "These offsets are typically \"zeroed out\" before an experiment is started (as will be discussed in the next notebook) but for now we will include them by adding a battery representing an offset $E_\\text{off}$."
   ]
  },
  {
   "cell_type": "markdown",
   "id": "2da6886d",
   "metadata": {},
   "source": [
    "<img src=\"resources/patch-amp-7-Eoff.png\" />\n",
    "\n",
    "_**Figure 7**: A battery is added, representing the sum of the various voltage offsets and corrections._"
   ]
  },
  {
   "cell_type": "markdown",
   "id": "50562b08",
   "metadata": {},
   "source": [
    "Because we assume that all of the components are _linear_ (so that their behaviour depends on voltage differences instead of absolute values), we have some freedom in where we place the battery in the schematic.*\n",
    "In particular, when we discuss errors in the $E_\\text{off}$ correction in the next notebook, we will assume it is corrected at the same location.\n",
    "\n",
    "(*I think! Haven't checked this)"
   ]
  },
  {
   "cell_type": "markdown",
   "id": "9a36d864",
   "metadata": {},
   "source": [
    "### Leak current\n",
    "\n",
    "To complete the circuit we add a leak current, indicated as a resistance $R_\\text{leak}$ (usually expressed as $g_\\text{leak} = 1 / R_\\text{leak}$) and an offset $E_\\text{leak}$."
   ]
  },
  {
   "cell_type": "markdown",
   "id": "e10f3b06",
   "metadata": {},
   "source": [
    "<img src=\"resources/patch-amp-8-Ileak.png\" />\n",
    "\n",
    "_**Figure 8**: A leak current is added, including a voltage offset._"
   ]
  },
  {
   "cell_type": "markdown",
   "id": "87263721",
   "metadata": {},
   "source": [
    "Here we have followed [Lei et al., 2020](https://doi.org/10.1098/rsta.2019.0348) in placing the leak current after the series resistance, and in direct connection with the potential inside the membrane $V_m$.\n",
    "This placement assumes assumes that the bulk of the series resistance $R_s$ is encountered before the pipette tip, so that threre is negligible resistance between the point from which current escapes (\"leaks\") and the cell internals.\n",
    "\n",
    "By modelling the leak current as a simple resistor, we are also assuming linear leak.\n",
    "This assumption can be invalidated if calcium fluoride patch enhancer is used ([Lei et al. (2021)](https://doi.org/10.12688/wellcomeopenres.15968.2)).\n",
    "\n",
    "Finally, we have added a battery representing an offset $E_\\text{leak}$, which assumes that the leak current has a non-zero reversal potential.\n",
    "This is not expected from first principles, as a non-selective leak current should have a reversal potential $E_\\text{leak} = 0$.\n",
    "Indeed, a simple experiment can be performed by running a patch clamp protocol before attaching to a cell, and this does show reversal at 0mV.\n",
    "Yet, in our experience a non-zero $E$ does seem to crop up when analysing patch-clamp data, so we will leave $E_\\text{leak}$ in for the time being.\n",
    "\n",
    "Accepting these three assumptions, the equation for the leak current becomes:\n",
    "\n",
    "$$I_\\text{leak} = \\frac{V_m - E_\\text{leak}}{R_\\text{leak}} = g_\\text{leak}\\left(V_m - E_\\text{leak}\\right)$$"
   ]
  },
  {
   "cell_type": "markdown",
   "id": "efbd5d5f",
   "metadata": {},
   "source": [
    "These considerations show that, despite its (presumed) simple nature, leak (or apparent leak) is not fully understood.\n",
    "Indeed, separating leak from endogeneous or otherwise unexpected currents present in the cell of interest is non-trivial, and we offer no solution in this notebook."
   ]
  },
  {
   "cell_type": "markdown",
   "id": "968d5bf2",
   "metadata": {},
   "source": [
    "## An ODE model of uncompensated patch-clamp"
   ]
  },
  {
   "cell_type": "markdown",
   "id": "65c7e3a7",
   "metadata": {},
   "source": [
    "We are now in a position to formulate an ODE model of the _uncompensated_ patch-clamp set-up.\n",
    "In the next notebook we will extend this model with compensation (or \"cancellation\" or \"correction\") terms for the effects of $E_\\text{off}$, $C_p$, $C_m$, and $R_s$."
   ]
  },
  {
   "cell_type": "markdown",
   "id": "81eed969",
   "metadata": {},
   "source": [
    "<img src=\"resources/patch-amp-8-Ileak.png\" />\n",
    "\n",
    "_**Figure 8**: It's figure 8 again!._"
   ]
  },
  {
   "cell_type": "markdown",
   "id": "843ddc45",
   "metadata": {},
   "source": [
    "We can use the sum of currents at the node at $V_m$ to write a differential equation for $V_m$:\n",
    "\n",
    "\\begin{align}\n",
    "1. && C_m\\dot{V}_m = \\frac{V_p + E_\\text{off} - V_m}{R_s} - \\frac{V_m - E_\\text{leak}}{R_\\text{leak}} - I\n",
    "\\end{align}\n",
    "\n",
    "If we solve this as an [initial value problem](https://en.wikipedia.org/wiki/Initial_value_problem) (i.e. a simulation), then the only unknown is $V_p$.\n",
    "To find an ODE for it, we look at the sum of currents at the node at $V_p$:\n",
    "\n",
    "\\begin{align}\n",
    "C_p\\dot{V}_p = \\frac{V_o - V_p}{R_f} + C_f(\\dot{V}_o - \\dot{V}_p) - \\frac{V_p + E_\\text{off} - V_m}{R_s}\n",
    "\\end{align}\n",
    "so that\n",
    "\\begin{align}\n",
    "2. && (C_p+C_f)\\dot{V}_p = \\frac{V_o - V_p}{R_f} + C_f\\dot{V}_o  - \\frac{V_p + E_\\text{off} - V_m}{R_s}\n",
    "\\end{align}\n",
    "\n",
    "Now we need to know $V_o$ and $\\dot{V}_o$, for which we use the equation given by Sigworth:\n",
    "\n",
    "\\begin{align}\n",
    "3. && \\dot{V}_o = \\frac{V_c - V_p}{\\tau_a}\n",
    "\\end{align}\n",
    "\n",
    "And finally we write an equation for the observed current:\n",
    "\n",
    "\\begin{align}\n",
    "4. && I_\\text{obs} = \\frac{V_o - V_c}{R_f}\n",
    "\\end{align}\n",
    "\n",
    "This gives us a 3 state variable ODE model of the patch-clamp set-up, without compensation.\n",
    "\n",
    "The model above differs subtly from the uncompensated model used in [Lei et al., 2020](https://doi.org/10.1098/rsta.2019.0348).\n",
    "A comparison is provided in [Appendix F](./appendix-F-uncompensated-models.ipynb)."
   ]
  },
  {
   "cell_type": "markdown",
   "id": "2e508d25",
   "metadata": {},
   "source": [
    "## Names & symbols\n",
    "\n",
    "A list of alternative names and symbols for the components above is given in [Appendix G](./appendix-G-symbols.ipynb).\n",
    "\n",
    "Notably $R_\\text{leak}$ is often called _seal resistance_, while $R_s$ is also referred to as _access resistance_."
   ]
  },
  {
   "cell_type": "markdown",
   "id": "1cd6501b",
   "metadata": {},
   "source": [
    "## Simulations\n",
    "\n",
    "We can use Myokit to run simulations with the uncompensated patch-clamp model.\n",
    "\n",
    "We will set the current of interest, $I$, to 0, so that everything you see in the simulations is expirimental \"artefact\".\n",
    "Instead of applying a voltage protocol, we will implement a single voltage step through the initial conditions:\n",
    "\n",
    "1. The command voltage is set to a fixed value Vc = -20\n",
    "2. The initial membrane potential is set to Vm = -80\n",
    "3. We set E_off = 0, I = 0, and I_leak = 0. This leaves only the capacitative currents. As a result, when the system is in steady state we have Vp = Vo = Vm."
   ]
  },
  {
   "cell_type": "code",
   "execution_count": 1,
   "id": "96a46ec1",
   "metadata": {},
   "outputs": [],
   "source": [
    "import myokit\n",
    "import matplotlib.pyplot as plt"
   ]
  },
  {
   "cell_type": "code",
   "execution_count": 2,
   "id": "b5280790",
   "metadata": {},
   "outputs": [],
   "source": [
    "m = myokit.parse_model('''\n",
    "[[model]]\n",
    "cell.Vm = -80\n",
    "amp.Vp = -80\n",
    "amp.Vo = -80\n",
    "\n",
    "[engine]\n",
    "time = 0 [ms]\n",
    "    in [ms]\n",
    "    bind time\n",
    "\n",
    "[cell]\n",
    "use amp.Rs, amp.Vp\n",
    "Cm = 100 [pF]\n",
    "    in [pF]\n",
    "I = 0 [pA]\n",
    "    in [pA]\n",
    "\n",
    "# Equation 1\n",
    "dot(Vm) = (Vp - Vm) / (Rs * Cm) - I / Cm\n",
    "    in [mV]\n",
    "\n",
    "[amp]\n",
    "use cell.Vm\n",
    "Vc = -20 [mV]\n",
    "    in [mV]\n",
    "Rs = 0.01 [GOhm]\n",
    "    in [GOhm]\n",
    "Rf = 0.025 [GOhm]\n",
    "    in [GOhm]\n",
    "Cf = 0.3 [pF]\n",
    "    in [pF]\n",
    "Cp = 4.5 [pF]  # Value chosen to get tau_c = 0.8 as in Weerakoon\n",
    "    in [pF]\n",
    "Ct = Cf + Cp\n",
    "    in [pF]\n",
    "tau_amp = 0.05e-3 [ms]\n",
    "    in [ms]\n",
    "\n",
    "# Equation 2a\n",
    "dot(Vp) = (Vo - Vp) / (Rf * Ct) + Cf / Ct * dot(Vo) - (Vp - Vm) / (Rs * Ct)\n",
    "    in [mV]\n",
    "\n",
    "# Equation 3a\n",
    "dot(Vo) = (Vc - Vp) / tau_amp\n",
    "    in [mV]\n",
    "\n",
    "# Equation 4\n",
    "I_out = (Vo - Vc) / Rf\n",
    "    in [pA]\n",
    "\n",
    "''')\n",
    "m.check_units(myokit.UNIT_STRICT)"
   ]
  },
  {
   "cell_type": "code",
   "execution_count": 3,
   "id": "e35469f6",
   "metadata": {},
   "outputs": [],
   "source": [
    "s = myokit.Simulation(m)\n",
    "d = s.run(10)"
   ]
  },
  {
   "cell_type": "code",
   "execution_count": 4,
   "id": "5633933b",
   "metadata": {},
   "outputs": [
    {
     "data": {
      "image/png": "[encoded data removed]",
      "text/plain": [
       "<Figure size 1080x720 with 4 Axes>"
      ]
     },
     "metadata": {
      "needs_background": "light"
     },
     "output_type": "display_data"
    }
   ],
   "source": [
    "fig = plt.figure(figsize=(15, 10))\n",
    "\n",
    "ax = fig.add_subplot(2, 2, 1)\n",
    "ax.set_ylabel('Vm (mV)')\n",
    "kw = dict(color='#aaa', ls='--')\n",
    "ax.axhline(m.get('cell.Vm').initial_value().eval(), label='Vm(t=0)', **kw)\n",
    "ax.axhline(m.get('amp.Vc').eval(), label='Vc', **kw)\n",
    "ax.plot(d.time(), d['cell.Vm'])\n",
    "\n",
    "ax = fig.add_subplot(2, 2, 2)\n",
    "ax.set_xlabel('Time (ms)')\n",
    "ax.set_ylabel('Vo (mV)')\n",
    "ax.plot(d.time(), d['amp.Vo'])\n",
    "ins = ax.inset_axes((0.25, 0.35, 0.7, 0.6))\n",
    "ins.set_xlabel('Time (ms)')\n",
    "ins.set_ylabel('Vo (mV)')\n",
    "ins.plot(d.time(), d['amp.Vo'])\n",
    "ins.set_xlim(-0.005, 0.05)\n",
    "\n",
    "ax = fig.add_subplot(2, 2, 3)\n",
    "ax.set_xlabel('Time (ms)')\n",
    "ax.set_ylabel('Vp (mV)')\n",
    "ax.plot(d.time(), d['amp.Vp'])\n",
    "ins = ax.inset_axes((0.25, 0.15, 0.7, 0.6))\n",
    "ins.set_xlabel('Time (ms)')\n",
    "ins.set_ylabel('Vp (mV)')\n",
    "ins.plot(d.time(), d['amp.Vp'])\n",
    "ins.set_xlim(-0.005, 0.05)\n",
    "\n",
    "ax = fig.add_subplot(2, 2, 4)\n",
    "ax.set_ylabel('Recorded I (pA)')\n",
    "ax.plot(d.time(), d['amp.I_out'])\n",
    "\n",
    "plt.show()"
   ]
  },
  {
   "cell_type": "markdown",
   "id": "f73c0749",
   "metadata": {},
   "source": [
    "Top-left, we can see $V_m$ approach the desired voltage quite slowly, due to the large time constant $R_sC_m$.\n",
    "The voltage $V_p$ approaches the desired value much faster, although it shows a slight overshoot, seen bottom left.\n",
    "Similarly, top-right we can see a very fast transient in the output voltage $V_o$, followed by a much slower exponential decay.\n",
    "Both are easier interpreted when translated to output current $I$, shown bottom right.\n",
    "Here we recognise a fast capacitance artefact, followed by a slow membrane charging current."
   ]
  },
  {
   "cell_type": "markdown",
   "id": "8a8fa01d",
   "metadata": {},
   "source": [
    "Next, we'll look at the membrane potential in the presence of a constant ionic current."
   ]
  },
  {
   "cell_type": "code",
   "execution_count": 5,
   "id": "c7b64a93",
   "metadata": {},
   "outputs": [],
   "source": [
    "s.reset()\n",
    "s.set_constant('cell.I', 100)\n",
    "d = s.run(10)"
   ]
  },
  {
   "cell_type": "code",
   "execution_count": 6,
   "id": "99d5da47",
   "metadata": {},
   "outputs": [
    {
     "data": {
      "image/png": "[encoded data removed]",
      "text/plain": [
       "<Figure size 576x288 with 1 Axes>"
      ]
     },
     "metadata": {
      "needs_background": "light"
     },
     "output_type": "display_data"
    }
   ],
   "source": [
    "fig = plt.figure(figsize=(8, 4))\n",
    "\n",
    "ax = fig.add_subplot()\n",
    "ax.set_ylabel('Vm (mV)')\n",
    "kw = dict(color='#aaa', ls='--')\n",
    "ax.axhline(m.get('cell.Vm').initial_value().eval(), label='Vm(t=0)', **kw)\n",
    "ax.axhline(m.get('amp.Vc').eval(), label='Vc', **kw)\n",
    "ax.plot(d.time(), d['cell.Vm'])\n",
    "\n",
    "plt.show()"
   ]
  },
  {
   "cell_type": "markdown",
   "id": "eece8048",
   "metadata": {},
   "source": [
    "Here we can see that $V_m$ doesn't quite reach $V_c$, due to the voltage drop over the series resistance $R_s$."
   ]
  },
  {
   "cell_type": "markdown",
   "id": "e3528d0b",
   "metadata": {},
   "source": [
    "## Conclusion\n",
    "\n",
    "We have presented a step-by-step derivation of an electrical schematic that can be used as a model of the distortions incurred during whole-cell planar or manual patch-clamp experiments.\n",
    "The schematic contains mostly passive components (resistors, capacitors, batteries) as well as two active components (an op-amp and a difference amplifier) and a mystery component (the non-capacitative currents through the cell membrane).\n",
    "A simple 3-ODE model can be derived from the schematic which is similar, but subtly different, to that presented in [Lei et al., 2020](https://doi.org/10.1098/rsta.2019.0348).\n",
    "\n",
    "In the [next notebook](./artefacts-2-compensation.ipynb) we will add in equations representing the various types of _compensation_ machinery typically found on patch-clamp amplifiers, including fast and slow capacitative transient cancellation and series resistance compensation."
   ]
  }
 ],
 "metadata": {
  "kernelspec": {
   "display_name": "Python 3 (ipykernel)",
   "language": "python",
   "name": "python3"
  },
  "language_info": {
   "codemirror_mode": {
    "name": "ipython",
    "version": 3
   },
   "file_extension": ".py",
   "mimetype": "text/x-python",
   "name": "python",
   "nbconvert_exporter": "python",
   "pygments_lexer": "ipython3",
   "version": "3.11.5"
  }
 },
 "nbformat": 4,
 "nbformat_minor": 5
}
