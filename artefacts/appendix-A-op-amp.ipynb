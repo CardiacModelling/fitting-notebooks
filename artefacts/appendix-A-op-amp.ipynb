{
 "cells": [
  {
   "cell_type": "markdown",
   "metadata": {},
   "source": [
    "# Appendix A: Ideal op amps"
   ]
  },
  {
   "cell_type": "markdown",
   "metadata": {},
   "source": [
    "In this notebook we take a quick look at op amps, connected in a negative feedback loop like below:"
   ]
  },
  {
   "cell_type": "markdown",
   "metadata": {},
   "source": [
    "<img src=\"resources/op-amp-1.png\" style=\"margin:auto\" />\n",
    "\n",
    "_Note that the proper way to draw an op amp also includes two terminals to which a power source is connected, see for example [wikipedia](https://en.wikipedia.org/wiki/Operational_amplifier).\n",
    "These are omitted here for clarity._"
   ]
  },
  {
   "cell_type": "markdown",
   "metadata": {},
   "source": [
    "The general (idealised) equation for an op amp is:\n",
    "\n",
    "$$ V_o = A (V_+ - V_-)$$\n",
    "\n",
    "where $A$ is the \"_open loop gain_\" and is $\\mathcal{O}(10^5)$.\n",
    "\n",
    "For the schematic on the left we can substitute $V_o$ for $V_-$ to find:\n",
    "\n",
    "\\begin{align}\n",
    "V_o &= A (V_+ - V_o) \\\\\n",
    "V_o &= \\frac{A}{1 + A} V_+ \\approx V_+\n",
    "\\end{align}\n",
    "\n",
    "where the final approximation works if $A \\gg 1$."
   ]
  },
  {
   "cell_type": "markdown",
   "metadata": {},
   "source": [
    "The schematic on the right is more similar to the patch-clamp set-up.\n",
    "The resistor $R_1$ is equivalent to $R$ in Figure 2 of the main text, and is often called $R_f$, for _feedback_.\n",
    "The second resistor $R_2$ represents the \"load\", which in this case is our pipette/cell/bath combination. As before, we analyse by\n",
    "\n",
    "1. Writing equations for the voltage drop over both resistors, assuming currents going from right to left.\n",
    "2. Assuming no current flows into the op amp, so that the current through $R_1$ equals that through $R_2$.\n",
    "3. Using $V_0=A(V_+ - V_-)$ and then letting $A \\gg 1$.\n",
    "\n",
    "We find:\n",
    "\n",
    "\\begin{align}\n",
    "I_{R_1} &= I_{R_2} \\\\\n",
    "(V_o - V_-) / R_1 &= (V_- - 0) / R_2 \\\\\n",
    "R_2 (V_o - V_-) &= R_1 V_- \\\\\n",
    "R_2 V_o &= (R_1 + R_2) V_-\n",
    "\\end{align}\n",
    "then use\n",
    "\\begin{align}\n",
    "V_- = V_+ - V_0/A\n",
    "\\end{align}\n",
    "to get\n",
    "\\begin{align}\n",
    "R_2 V_o &= (R_1 + R_2) (V_+ - V_0/A) \\\\\n",
    "\\left(R_2 + \\frac{R_1 + R_2}{A} \\right) V_o &= (R_1 + R_2) V_+ \\\\\n",
    "V_o &= \\frac{A (R_1 + R_2)}{A R_2 + (R_1 + R_2)} V_+ \\\\\n",
    "    &= \\frac{A}{1 + \\left(\\frac{R_2}{R_1 + R_2}\\right) A} V_+ \\\\\n",
    "\\end{align}\n",
    "\n",
    "Finally, assuming that $A \\gg 1$, we get\n",
    "\\begin{align}\n",
    "V_o = \\frac{1}{1/A + \\frac{R_2}{R_1 + R_2}} V_+\n",
    "    \\approx \\frac{R_1 + R_2}{R_2} V_+ \n",
    "    = \\left(1 + \\frac{R_1}{R_2} \\right) V_+\n",
    "\\end{align}\n",
    "\n",
    "The term $\\left(1 + \\frac{R_1}{R_2} \\right)$ is sometimes called $A_\\text{CL}$, the \"_closed loop gain_\".\n",
    "\n",
    "Note that we get the same result by using $V_- = V_+$, as we did in the original analysis of Figure 2.\n",
    "This lets us jump straight from\n",
    "\n",
    "$$R_2 V_0 = (R_1 + R_2) V_-$$\n",
    "to\n",
    "$$V_0 = \\frac{R_1 + R_2}{R_2} V_+$$"
   ]
  },
  {
   "cell_type": "markdown",
   "metadata": {},
   "source": [
    "### Without load"
   ]
  },
  {
   "cell_type": "markdown",
   "metadata": {},
   "source": [
    "<img src=\"resources/op-amp-2-no-load.png\" style=\"margin:auto\" />"
   ]
  },
  {
   "cell_type": "markdown",
   "metadata": {},
   "source": [
    "If we draw a partial circuit, we can still find an equation for $V_o$:\n",
    "\n",
    "\\begin{align}\n",
    "V_o = V_- + IR\n",
    "\\end{align}"
   ]
  },
  {
   "cell_type": "markdown",
   "metadata": {},
   "source": [
    "### Inverting amplifier"
   ]
  },
  {
   "cell_type": "markdown",
   "metadata": {},
   "source": [
    "<img src=\"resources/op-amp-5-inverting.png\" style=\"margin:auto\" />"
   ]
  },
  {
   "cell_type": "markdown",
   "metadata": {},
   "source": [
    "An \"inverting op-amp\" has a voltage applied to its \"inverting input\", as shown above.\n",
    "We can analyse this using the same procedure.\n",
    "\n",
    "Starting with the current through either resistor:\n",
    "\n",
    "\\begin{align}\n",
    "\\frac{V_1 - V^-}{R_1} &= \\frac{V^- - V_2}{R_2} \\\\\n",
    "R_2 V_1 &= (R_1 + R_2)V^-- R_1V_2 \\\\\n",
    "\\end{align}\n",
    "\n",
    "and then using $V_2 = A(V^+ - V^-) = -AV^-$:\n",
    "\n",
    "\\begin{align}\n",
    "R_2 V_1 = -\\frac{R_1 + R_2}{A}V_2 - R_1V_2 \\approx -R_1V_2\n",
    "\\end{align}\n",
    "\n",
    "to get\n",
    "\n",
    "\\begin{align}\n",
    "V_2 \\approx -\\frac{R_2}{R_1} V_1\n",
    "\\end{align}"
   ]
  },
  {
   "cell_type": "markdown",
   "metadata": {},
   "source": [
    "## A difference amplifier\n",
    "\n",
    "The second active component we introduced was a differential or [_difference amplifier_](https://en.wikipedia.org/wiki/Differential_amplifier), as shown in the left panel below:"
   ]
  },
  {
   "cell_type": "markdown",
   "metadata": {},
   "source": [
    "<img src=\"resources/op-amp-3-diff-amp.png\" style=\"margin:auto\" />"
   ]
  },
  {
   "cell_type": "markdown",
   "metadata": {},
   "source": [
    "A design using an op amp is shown on the right.\n",
    "Once again assuming currents flow from right to left, and that no currents flow into the op amp terminals, we can see that the current through both resistors at the top must be equal:\n",
    "\n",
    "\\begin{align}\n",
    "(V_a - V_1) / R_1 &= (0 - V_a) / R_2 \\\\\n",
    "R_2 (V_a - V_1) &= - R_1 V_a \\\\\n",
    "V_a = V_1 \\frac{R_2}{R_1 + R_2}\n",
    "\\end{align}\n",
    "\n",
    "And the same holds for the two resistors at the bottom:\n",
    "\n",
    "\\begin{align}\n",
    "R_2 (V_b - V_2) &= R_1 (V_\\text{out} - V_b) \\\\\n",
    "R_1 V_\\text{out} &= (R_1 + R_2) V_b - R_2 V_2\n",
    "\\end{align}\n",
    "\n",
    "setting $V_a = V_b$\n",
    "\n",
    "\\begin{align}\n",
    "R_1 V_\\text{out} &= \\frac{R_2 (R_1 + R_2)}{R_1 + R_2} V_1 - R_2 V_2 \\\\\n",
    "    V_\\text{out} &= \\frac{R_2}{R_1} V_1 - \\frac{R_2}{R_1} V_2 = K (V_1 - V_2)\n",
    "\\end{align}\n",
    "\n",
    "We can set the amplification factor $K = R_2 / R_1$ by choosing the right resistors.\n",
    "For our application, we pick $R_1 = R_2$ so that $K = 1$."
   ]
  },
  {
   "cell_type": "markdown",
   "metadata": {},
   "source": [
    "For the mathematical analysis of this schematic the diff amp doesn't seem to do anything: instead of measuring a voltage difference between a point at $V_o$ and a point at $V_c$ we now measure between a point at $V_\\text{out} = V_o - V_c$ and a point at $V=0$.\n",
    "However, the difference amplifier acts as a _buffer_: any device you attach to its $V_{out}$ and the ground will draw power from the amplifier, not from the preparation."
   ]
  }
 ],
 "metadata": {
  "kernelspec": {
   "display_name": "Python 3 (ipykernel)",
   "language": "python",
   "name": "python3"
  },
  "language_info": {
   "codemirror_mode": {
    "name": "ipython",
    "version": 3
   },
   "file_extension": ".py",
   "mimetype": "text/x-python",
   "name": "python",
   "nbconvert_exporter": "python",
   "pygments_lexer": "ipython3",
   "version": "3.11.6"
  }
 },
 "nbformat": 4,
 "nbformat_minor": 4
}
