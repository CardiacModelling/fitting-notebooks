{
 "cells": [
  {
   "cell_type": "markdown",
   "id": "730357a8",
   "metadata": {},
   "source": [
    "# Appendix E: Non-ideal op amps"
   ]
  },
  {
   "cell_type": "markdown",
   "id": "11447cae",
   "metadata": {},
   "source": [
    "In this notebook we go a little bit further than [Appendix A](./appendix-A-op-amp.ipynb) and consider the _speed_ of an op amp, using some of the concepts from [Appendix D](./appendix-D-laplace-and-filters.ipynb).\n",
    "\n",
    "Analysis of non-ideal op amps is usually divided into two parts:\n",
    "- In the _small signal_ range the amplifier acts \"linearly\": its gain within this range does not depend on the absolute values of $V_+$ and $V_-$, and there are no history effects.\n",
    "- In the _large signal_ range, everything gets more complicated: the amp moves towards its intended amplification with a finite \"slew rate\", it can saturate and then needs to recover, oscillations occur etc.\n",
    "\n",
    "For our purposes, it should be easy to choose an op amp that we can use within its small signal range, so **we fill focus on small signal only**.\n",
    "The large signal case is much more interesting, so be aware when searching the literature that unless stated otherwise they are probably going for the large signal case.\n",
    "Similarly, almost everything you find about op-amps is in terms of their _frequency response_, while for patch-clamp we are almost exclusively interested in their _transient_ response."
   ]
  },
  {
   "cell_type": "markdown",
   "id": "0e051b1d",
   "metadata": {},
   "source": [
    "## Feedback amplifier: general equation\n",
    "\n",
    "Given any amplifier with an _open-loop gain_ $A_{OL}$ such that $V_\\text{out} = A_\\text{OL} V_\\text{in}$, we can write an expression for the [gain reduction](https://en.wikipedia.org/wiki/Negative-feedback_amplifier) when some portion $\\beta$ of the output is fed back into the input.\n",
    "If this is negative feedback, we can write it as $-\\beta V_\\text{out}$ to get\n",
    "\n",
    "\\begin{align}\n",
    "V_\\text{out} = A_\\text{OL}\\left( V_\\text{in} - \\beta V_\\text{out} \\right)\n",
    "\\end{align}\n",
    "to find\n",
    "\\begin{align}\n",
    "A_\\text{FB} = \\frac{V_\\text{out}}{V_\\text{in,CL}} = \\frac{A_\\text{OL}}{1 + \\beta A_\\text{OL}}\n",
    "\\end{align}\n",
    "\n",
    "where $A_\\text{FB}$ is the _closed-loop gain_.\n",
    "For a large open-loop gain, we obtain $A_\\text{FB} = \\frac{1}{1/A_\\text{OL} + \\beta} \\approx 1 / \\beta$."
   ]
  },
  {
   "cell_type": "markdown",
   "id": "d51efc3d",
   "metadata": {},
   "source": [
    "### $V_\\text{in}$ for open and closed-loop is not always the same\n",
    "\n",
    "The above notation works well for block diagrams, as shown on the left in the figure below:\n",
    "\n",
    "<img src=\"resources/op-amp-3-generic.png\" />"
   ]
  },
  {
   "cell_type": "markdown",
   "id": "4f61c6e5",
   "metadata": {},
   "source": [
    "But when we use $V_\\text{in}$ for op amps, we need to be a bit careful about how we define it.\n",
    "\n",
    "For the open-loop case, we can use either $V_\\text{in} = V_+ - V_-$, or $V_\\text{in} = V_+,\\, V_- = 0$, where the first version is more general and seems to be preferred.\n",
    "\n",
    "For the closed-loop configuration we have to use $V_\\text{in} = V_+$."
   ]
  },
  {
   "cell_type": "markdown",
   "id": "ebbb9b3e",
   "metadata": {},
   "source": [
    "Using the above definition, we get\n",
    "\n",
    "\\begin{align}\n",
    "V_\\text{out} = \\frac{A}{1 + \\left(\\frac{R_2}{R_1 + R_2}\\right) A} V_\\text{in}\n",
    "\\end{align}\n",
    "or\n",
    "\\begin{align}\n",
    "\\beta = \\frac{R_2}{R_1 + R_2}\n",
    "\\end{align}\n",
    "\n",
    "for the non-inverting negative feedback op amp with finite gain."
   ]
  },
  {
   "cell_type": "markdown",
   "id": "3e0bdd01",
   "metadata": {},
   "source": [
    "## Dominant pole approximation\n",
    "\n",
    "Op-amps are complex devices that have a very non-trivial transfer function.\n",
    "However, to simplify their analysis and use, they are commonly designed to have a _dominant pole_, so that we can approximate their transfer function with a _dominant pole approximation_.\n",
    "\n",
    "For op-amps, a commonly used approximate transfer function is that of a low-pass filter (see [Appendix C](./appendix-C-laplace-and-filters.ipynb)), with an additional amplification factor $A_0$:\n",
    "\n",
    "\\begin{align}\n",
    "H(s) = \\frac{V_\\text{out}}{V_\\text{in}} = A_\\text{OL}(s) = \\frac{A_0}{1 + s/\\omega_c}\n",
    "\\end{align}\n",
    "\n",
    "where $\\omega_c$ is the [corner frequency](https://en.wikipedia.org/wiki/Cutoff_frequency) (the frequency at which the response begins to change dramatically).\n",
    "For op-amps and low-pass filters, the corner frequency is also the [bandwidth](https://en.wikipedia.org/wiki/Bandwidth_(signal_processing)) (the range of frequencies that are let through without more than a factor $1/\\sqrt{2}$ loss of gain)."
   ]
  },
  {
   "cell_type": "markdown",
   "id": "b22793e8",
   "metadata": {},
   "source": [
    "### Closed-loop response\n",
    "\n",
    "Combining the above equations (just like on [wikipedia](https://en.wikipedia.org/wiki/Negative-feedback_amplifier)) we find:\n",
    "\n",
    "\\begin{align}\n",
    "A_\\text{FB}(s) \n",
    "    &= \\frac{A_\\text{OL}(s)}{1 + \\beta A_\\text{OL}} \\\\\n",
    "    &= \\frac{A_0 / (1 + i s/\\omega_c)}{1 + \\beta A_0 / (1 + i s/\\omega_c)} \\\\\n",
    "    &= \\frac{A_0}{(1 + i s/\\omega_c) + \\beta A_0 }\n",
    "    = \\frac{A_0}{i s/\\omega_c + (1 + \\beta A_0) } \\\\\n",
    "    &= \\left( \\frac{A_0}{1 + \\beta A_0}\\right) \\frac{1}{1 + i s/((1 + \\beta A_0) \\omega_c) } \\\\\n",
    "\\end{align}\n",
    "\n",
    "which shows that the response is still a single pole one.\n",
    "However, the gain has been reduced by a factor $1 + \\beta A_0$ while the cutoff frequency (or bandwidth) is increased by a factor $1 + \\beta A_0$.\n",
    "This is known as the gain-bandwidth trade-off."
   ]
  },
  {
   "cell_type": "markdown",
   "id": "e38695d2",
   "metadata": {},
   "source": [
    "### Bode plot / frequency response\n",
    "\n",
    "In Appendix C, we saw that systems with a transfer function\n",
    "$$H(s) = \\frac{\\omega_c}{s + \\omega_c}$$\n",
    "have a frequency response with gain\n",
    "\\begin{align}\n",
    "|H(i\\omega)|\n",
    "    = \\frac{\\omega_c}{\\sqrt{\\omega_c^2 + \\omega^2}}\n",
    "    = \\frac{1}{\\sqrt{1 + (\\omega/\\omega_c)^2}}\n",
    "\\end{align}\n",
    "\n",
    "This lets us draw the top-half of a Bode plot for the open-loop configuration:"
   ]
  },
  {
   "cell_type": "code",
   "execution_count": 1,
   "id": "76b6eaee",
   "metadata": {},
   "outputs": [
    {
     "data": {
      "image/png": "[encoded data removed]",
      "text/plain": [
       "<Figure size 432x288 with 1 Axes>"
      ]
     },
     "metadata": {
      "needs_background": "light"
     },
     "output_type": "display_data"
    }
   ],
   "source": [
    "import numpy as np\n",
    "import matplotlib.pyplot as plt\n",
    "\n",
    "fig = plt.figure()\n",
    "ax = fig.add_subplot()\n",
    "ax.set_xscale('log')\n",
    "ax.set_yscale('log')\n",
    "ax.set_xlabel('Normalised angular frequency $\\omega/\\omega_c$')\n",
    "ax.set_ylabel('Gain (frequency response)')\n",
    "ax.grid()\n",
    "\n",
    "lo, hi = np.log10(1e-5), np.log10(1e5)\n",
    "w = np.logspace(lo, hi, 1001, base=np.e)\n",
    "g = 1 / np.sqrt(1 + w**2)\n",
    "ax.plot(w, g)\n",
    "\n",
    "plt.show()"
   ]
  },
  {
   "cell_type": "markdown",
   "id": "dfcb0c83",
   "metadata": {},
   "source": [
    "Now we can apply our equation using $A_0 = 1$ and $\\beta = 9$ to find the closed-loop equivalent:"
   ]
  },
  {
   "cell_type": "code",
   "execution_count": 2,
   "id": "36273c38",
   "metadata": {},
   "outputs": [
    {
     "data": {
      "image/png": "[encoded data removed]",
      "text/plain": [
       "<Figure size 432x288 with 1 Axes>"
      ]
     },
     "metadata": {
      "needs_background": "light"
     },
     "output_type": "display_data"
    }
   ],
   "source": [
    "a = 1\n",
    "beta = 0.9\n",
    "\n",
    "fig = plt.figure()\n",
    "ax = fig.add_subplot()\n",
    "ax.set_xscale('log')\n",
    "ax.set_yscale('log')\n",
    "ax.set_xlabel('Normalised angular frequency $\\omega/\\omega_c$')\n",
    "ax.set_ylabel('Gain (frequency response)')\n",
    "ax.grid()\n",
    "\n",
    "lo, hi = np.log10(1e-5), np.log10(1e3)\n",
    "w = np.logspace(lo, hi, 1001, base=np.e)\n",
    "g0 = 1 / np.sqrt(1 + (w / 1)**2)\n",
    "g1 = (a / (1 + beta * a)) / np.sqrt(1 + (w / (1 + beta * a))**2)\n",
    "ax.plot(w, g0, label='Open loop')\n",
    "ax.plot(w, g1, label='Closed loop')\n",
    "ax.legend()\n",
    "\n",
    "plt.show()"
   ]
  },
  {
   "cell_type": "markdown",
   "id": "f49fc583",
   "metadata": {},
   "source": [
    "From all this, we conclude that we can handle the open loop and the non-inverting closed-loop configurations with the same equations."
   ]
  },
  {
   "cell_type": "markdown",
   "id": "2b1ead94",
   "metadata": {},
   "source": [
    "## Op amp step response\n",
    "\n",
    "Assuming a dominant pole, we can write the step response as\n",
    "\n",
    "\\begin{align}\n",
    "Y(s) = H(s) U(s) \n",
    "    &= A_0 \\frac{\\omega_c}{s + \\omega_c} \\frac{V_\\text{in}}{s} \\\\\n",
    "    &= A_0 V_\\text{in} \\frac{\\omega_c}{s(s + \\omega_c)}\n",
    "\\end{align}\n",
    "\n",
    "where we have assumed $U(s)$ is a step function ($1/s$) scaled by the constant _input voltage_ $V_\\text{in} = V_+ - V_-$.\n",
    "We also assume that $y(0) = 0$.\n",
    "We can translate this back using [a table](https://en.wikipedia.org/wiki/List_of_Laplace_transforms) to find\n",
    "\n",
    "\\begin{align}\n",
    "y(t) = A_0 V_\\text{in} (1 - e^{-\\omega_c t})\n",
    "\\end{align}\n",
    "\n",
    "This means that, if $\\omega_c$ is a large enough number, $y(t) = V_\\text{out}$ rapidly settles at\n",
    "\n",
    "\\begin{align}\n",
    "V_\\text{out} = A_0 (V_+ - V_-)\n",
    "\\end{align}"
   ]
  },
  {
   "cell_type": "markdown",
   "id": "05ac08f9",
   "metadata": {},
   "source": [
    "## Equation used in Sigworth papers"
   ]
  },
  {
   "cell_type": "markdown",
   "id": "c37d770c",
   "metadata": {},
   "source": [
    "To model an op amp with a finite speed, [Sigworth 1995a](https://doi.org/10.1007/978-1-4419-1229-9_4) uses the equation\n",
    "\n",
    "\\begin{align}\n",
    "\\frac{d}{dt} V_\\text{out} = \\omega_A (V_+ - V_-) = \\frac{V_+ - V_-}{\\tau_a}\n",
    "\\end{align}\n",
    "\n",
    "where $\\omega_A = 1/\\tau_a$ is the gain-bandwidth product (GBP) in radians, so $\\omega_A = 2 \\pi f_A$ for the more common representation in Hz.\n",
    "\n",
    "**I'm not sure where this equation is from**, and can't find it in popular op-amp books (which are more about frequency response, large signal deviations, or things you can build with op amps).\n",
    "\n",
    "It makes some intuitive sense: $V_\\text{out}$ will increase as long as $V_- < V_+$, and decrease when $V_- > V_+$, so connecting $V_\\text{out}$ to $V_-$ should indeed give us a feedback amplifier that tries to make $V_-$ equal $V_+$ with some delay determined by $\\tau_a$.\n",
    "However, in an open-loop configuration with $V_+ \\neq V_-$ the equation predicts an infinitely increasing gain.\n",
    "\n",
    "A deduction might be be something like this:\n",
    "Starting from\n",
    "\n",
    "\\begin{align}\n",
    "V_\\text{out} = A_0 V_\\text{in} (1 - e^{-\\omega_c t})\n",
    "\\end{align}\n",
    "\n",
    "We can assume a constant $V_\\text{in}$ and take the derivative to find\n",
    "\n",
    "\\begin{align}\n",
    "\\frac{d}{dt} V_\\text{out} = A_0 \\omega_c V_\\text{in} e^{-\\omega_c t} = \\omega_A (V_+ - V_-) e^{-\\omega_c t}\n",
    "\\end{align}\n",
    "\n",
    "Then, for very small $t$ you could assume that $\\dot{V}_\\text{out} \\approx A_0 \\omega_c V_\\text{in} = \\omega_A (V_+ - V_-)$.\n",
    "Alternatively, you could introduce the \"no saturation\" condition as a simplification that removes the $e^{-\\omega_c t}$ term.\n",
    "\n",
    "Example figures in Sigworth 1995a use $\\tau_a = 16 \\text{ns} = 0.016 \\mu\\text{s}$."
   ]
  },
  {
   "cell_type": "code",
   "execution_count": 3,
   "id": "e456380b",
   "metadata": {},
   "outputs": [
    {
     "data": {
      "image/png": "[encoded data removed]",
      "text/plain": [
       "<Figure size 432x288 with 1 Axes>"
      ]
     },
     "metadata": {
      "needs_background": "light"
     },
     "output_type": "display_data"
    }
   ],
   "source": [
    "fig = plt.figure()\n",
    "ax = fig.add_subplot()\n",
    "ax.set_xlabel('t')\n",
    "ax.set_ylabel('$V_{out}$')\n",
    "\n",
    "a = 4\n",
    "v_in = 3\n",
    "w = 0.5\n",
    "\n",
    "t = np.linspace(0, 10, 101)\n",
    "v = a * v_in * (1 - np.exp(-w*t))\n",
    "d = a * w * v_in\n",
    "\n",
    "ax.plot(t, v)\n",
    "ax.plot(t, t * d)\n",
    "ax.axhline(12, color='#999', ls='--')\n",
    "ax.set_xlim(0, 10)\n",
    "ax.set_ylim(0, 14)\n",
    "\n",
    "plt.show()"
   ]
  },
  {
   "cell_type": "markdown",
   "id": "f54509e9",
   "metadata": {},
   "source": [
    "The above example, with some arbitrary values for the constants, shows that this is a reasonable approximation for maybe the first 5% of the response _in an open-loop configuration_.\n",
    "Not sure how or if to extend this to a closed-loop sanity check."
   ]
  },
  {
   "cell_type": "markdown",
   "id": "7c9fca45",
   "metadata": {},
   "source": [
    "### Analysis using Sigworth's equation\n",
    "\n",
    "Given the equation above, we now repeat the analysis of the patch clamp amplifier's \"bandwidth\" shown in [Sigworth 1995a](https://doi.org/10.1007/978-1-4419-1229-9_4), but using the symbols shown below:\n",
    "\n",
    "<img src=\"resources/patch-amp-5-Cp.png\" />"
   ]
  },
  {
   "cell_type": "markdown",
   "id": "f5c4b00e",
   "metadata": {},
   "source": [
    "First, let\n",
    "\n",
    "\\begin{align}\n",
    "I     &= I_{Cf} + I_{Rf} - I_{Cp} \\\\\n",
    "      &= C_f (\\dot{V}_o - \\dot{V}_p) + \\frac{V_o - V_p}{R_f} - C_p \\dot{V}_p \\\\\n",
    "R_f I &= R_fC_f (\\dot{V}_o - \\dot{V}_p) + V_o - V_p - R_fC_p \\dot{V}_p\n",
    "\\end{align}\n",
    "\n",
    "Next, by treating $V_c$ as a constant we get\n",
    "\n",
    "\\begin{align}\n",
    "V_\\text{out} \\equiv V_o - V_c \\quad \\longrightarrow \\quad \\dot{V}_o = \\dot{V}_\\text{out}\n",
    "\\end{align}\n",
    "\n",
    "and using the equation for op-amps introduced above\n",
    "\n",
    "\\begin{align}\n",
    "\\tau_a \\dot{V}_\\text{out} = V_c - V_p \\quad \\longrightarrow \\quad \n",
    "    & V_p = -\\tau_a \\dot{V}_\\text{out} \\\\\n",
    "    & \\dot{V}_p = -\\tau_a \\ddot{V}_\\text{out}\n",
    "\\end{align}\n",
    "for\n",
    "\n",
    "\\begin{align}\n",
    "R_f I &= R_fC_f (\\dot{V}_\\text{out} + \\tau_a \\ddot{V}_\\text{out}) + V_\\text{out} + \\tau_a \\dot{V}_\\text{out} + R_fC_p \\tau_a \\ddot{V}_\\text{out} \\\\\n",
    "&= \\tau_a R_f(C_f + C_p) \\ddot{V}_\\text{out} + (R_fC_f+ \\tau_a) \\dot{V}_\\text{out} + V_\\text{out} \\\\\n",
    "&= \\tau_a R_f C_t \\ddot{V}_\\text{out} + (\\tau_a + \\tau_f) \\dot{V}_\\text{out} + V_\\text{out}\n",
    "\\end{align}\n",
    "\n",
    "where the last step defines $\\tau_f = R_fC_f$ and $C_t = C_f + C_p$.\n",
    "\n",
    "This leads to a transfer function\n",
    "\n",
    "\\begin{align}\n",
    "H(s) = \\frac{V_\\text{out}}{I(s)} \n",
    "     &= \\frac{R_f}{\\tau_aR_fC_ts^2 + (\\tau_a + \\tau_f)s + 1} \\\\\n",
    "\\end{align}"
   ]
  },
  {
   "cell_type": "markdown",
   "id": "32ce3172",
   "metadata": {},
   "source": [
    "#### The patch-clamp amp as a damped harmonic oscillator\n",
    "\n",
    "We described $C_f$ as a \"stray capacitance\", but mentioned that [Weerakoon et al., 2009](https://doi.org/10.1109/TBCAS.2008.2005419) introduced an extra $C_f$ as a stability measure.\n",
    "To see why, we can equate the transfer function above to the damped harmonic oscillator equation (see [Appendix C](./appendix-C-laplace-and-filters.ipynb)):\n",
    "\n",
    "$$ H(s) = R_f \\frac{1}{\\tau_0^2s^2 + 2\\zeta\\tau_0s + 1} $$\n",
    "with\n",
    "$$ \\tau_0 = \\sqrt{\\tau_aR_fC_t} $$\n",
    "and\n",
    "$$ \\zeta = \\frac{1}{2}\\frac{\\tau_a + \\tau_f}{\\tau_0} $$"
   ]
  },
  {
   "cell_type": "markdown",
   "id": "b395121f",
   "metadata": {},
   "source": [
    "Now if we use $\\tau_a \\ll 1$ we get \n",
    "$$\n",
    "\\zeta \\approx \\frac{1}{2}\\frac{\\tau_f}{\\omega_0} = \\frac{1}{2}\\sqrt{\\frac{R_f}{\\tau_a}} \\frac{C_f}{\\sqrt{C_f + C_p}}\n",
    "$$\n",
    "\n",
    "From this we can see that making $C_f$ smaller and smaller will eventually lead to $\\zeta < 1$, which creates overshoot and oscillations in the amplifier's step response.\n",
    "An example, using the step response equations straight from [wikipedia](https://en.wikipedia.org/wiki/Harmonic_oscillator#Step_input):"
   ]
  },
  {
   "cell_type": "code",
   "execution_count": 4,
   "id": "cf1792b4",
   "metadata": {},
   "outputs": [
    {
     "data": {
      "image/png": "[encoded data removed]",
      "text/plain": [
       "<Figure size 432x288 with 1 Axes>"
      ]
     },
     "metadata": {
      "needs_background": "light"
     },
     "output_type": "display_data"
    }
   ],
   "source": [
    "tau0_in_s = np.sqrt(1.6e-10)  # Roughly based on Sigworth figure 2\n",
    "tau0 = tau0_in_s * 1e3        # Convert to ms\n",
    "w0 = 1 / (2 * np.pi * tau0)   # Angular frequency\n",
    "\n",
    "def v(z):\n",
    "    phi = np.arccos(z)\n",
    "    return 1 - np.exp(-z * w0 * t) / np.sin(phi) * np.sin(np.sqrt(1 - z**2) * w0 * t + phi)\n",
    "\n",
    "t = np.linspace(0, 2, 1001)\n",
    "v1 = v(0.99)\n",
    "v2 = v(0.2)\n",
    "\n",
    "fig = plt.figure()\n",
    "ax = fig.add_subplot()\n",
    "ax.plot([0, 0, t[-1]], [0, 1, 1], 'k--', label='Command')\n",
    "ax.plot(t, v1, label='$\\zeta = 0.99$')\n",
    "ax.plot(t, v2, label='$\\zeta = 0.2$')\n",
    "ax.legend()\n",
    "plt.show()"
   ]
  },
  {
   "cell_type": "markdown",
   "id": "95f86c3a",
   "metadata": {},
   "source": [
    "This damped oscillating response to a step function is known as [ringing](https://en.wikipedia.org/wiki/Ringing_(signal))."
   ]
  },
  {
   "cell_type": "markdown",
   "id": "9801b9f1",
   "metadata": {},
   "source": [
    "#### Now what?\n",
    "\n",
    "Since the patch-clamp amplifier is all about a good transient response, and since we can get ringing with a very low $C_f$, the solution to building good patch clamp amplifiers is not to make $C_f$ as low as possible.\n",
    "In fact, in [Weerakoon et al., 2009](https://doi.org/10.1109/TBCAS.2008.2005419) a resistor $R_f$ is used with a very low stray capacitance, necessitating the introduction of an extra capacitator to achieve a large enough $C_f$.\n",
    "\n",
    "Instead, another \"dominant pole\" trick is used.\n",
    "To see how, we rewrite the original transfer function in terms of two new poles $-1/\\tau_1$ and $-1/\\tau_2$:\n",
    "\n",
    "\\begin{align}\n",
    "H(s) = \\frac{V_\\text{out}}{I(s)} \n",
    "     &= \\frac{R_f}{\\tau_aR_fC_ts^2 + (\\tau_a + \\tau_f)s + 1} \\\\\n",
    "     &= \\frac{R_f}{(\\tau_1s + 1)(\\tau_2s + 1)} \\\\\n",
    "\\end{align}\n",
    "\n",
    "We can find $\\tau_1$ and $\\tau_2$ using the quadratic equation, but it's actually more informative to approximate them.\n",
    "To do this, we equate the denominators\n",
    "\n",
    "$$ \\tau_1\\tau_2s^2 + (\\tau_1 + \\tau_2)s + 1 = \\tau_aR_fC_ts^2 + (\\tau_a + \\tau_f)s + 1 $$\n",
    "\n",
    "Now if $\\tau_a \\ll \\tau_f$ we have $\\tau_a + \\tau_f \\approx \\tau_f$.\n",
    "The goal is to create a dominant pole with $\\tau_1 \\gg \\tau_2$, so we can also assume $\\tau_1 + \\tau_2 \\approx \\tau_1$ and so\n",
    "\n",
    "$$ \\tau_1 \\approx \\tau_f = R_f C_f$$\n",
    "\n",
    "Filling that in into $\\tau_1\\tau_2 = \\tau_aR_fC_t$ we get\n",
    "\n",
    "$$ \\tau_2 \\approx \\tau_a \\frac{C_t}{C_f}$$\n",
    "\n",
    "By making $C_f$ larger, we make $\\tau_1$ larger and $\\tau_2$ smaller.\n",
    "The trick then, used by Sigworth in his design, is (1) to choose $C_f$ such that $\\tau_2$ is much shorter than the phenomena of interest so that we can usually ignore it, and (2) to accept the effects of $\\tau_1$ and deal with them in other ways (i.e. via $C_p$ compensation).\n",
    "Note also that $\\tau_f$ depends only on the patch clamp design, and not on the experiment-specific $C_t$."
   ]
  },
  {
   "cell_type": "markdown",
   "id": "70ff71ca",
   "metadata": {},
   "source": [
    "## Equations used in Weerakoon et al. paper\n",
    "\n",
    "The paper by [Weerakoon et al., 2009](https://doi.org/10.1109/TBCAS.2008.2005419) uses the equations\n",
    "\n",
    "$$ V_\\text{out} = \\frac{I_\\text{in} R_f}{1 + \\tau_f s} $$\n",
    "\n",
    "where $\\tau_f = R_fC_f = 7.5\\,\\mu{s}$, and\n",
    "\n",
    "$$ V_p = \\frac{V_c}{1 + \\tau_c s} $$\n",
    "\n",
    "where $\\tau_c = \\tau_a\\frac{C_t}{C_f} = 0.8\\,\\mu{s}$."
   ]
  },
  {
   "cell_type": "markdown",
   "id": "719ad0e6",
   "metadata": {},
   "source": [
    "The first equation can be detransformed to\n",
    "\n",
    "\\begin{align}\n",
    "R_fI_\\text{in} = V_\\text{out} + \\tau_f \\dot{V}_\\text{out}\n",
    "\\end{align}\n",
    "\n",
    "we can rewrite and divide by $R_f$ to find\n",
    "\n",
    "\\begin{align}\n",
    "\\dot{V}_\\text{out} = \\frac{R_fI_\\text{in} - V_\\text{out}}{\\tau_f}\n",
    "&&\\longrightarrow&&\n",
    "\\dot{I}_\\text{out} = \\frac{I_\\text{in} - I_\\text{out}}{\\tau_f}\n",
    "\\end{align}\n",
    "\n",
    "which matches the statement that\n",
    "\n",
    "> the resulting output [...] is low-pass filtered by the transconductor time constant [$\\tau_f]$\n",
    "\n",
    "(where we write $\\tau_f$ instead of the paper's notation $\\tau_z$)."
   ]
  },
  {
   "cell_type": "markdown",
   "id": "72d100b0",
   "metadata": {},
   "source": [
    "The second equation can be translated to\n",
    "\n",
    "\\begin{align}\n",
    "V_p + \\tau_c \\dot{V}_p = V_c\n",
    "&& \\longrightarrow &&\n",
    "\\dot{V}_p = \\frac{V_c - V_p}{\\tau_c}\n",
    "\\end{align}\n",
    "\n",
    "in other words, it assumes that the voltage $V_p$ follows the input voltage $V_c$ with a delay set by the time constant $\\tau_c$."
   ]
  },
  {
   "cell_type": "markdown",
   "id": "89cff5e9",
   "metadata": {},
   "source": [
    "These equations appear to represent each pole of the original Sigworth equations, but now decoupled and no longer presented as an approximation."
   ]
  },
  {
   "cell_type": "markdown",
   "id": "a3ac8d0e",
   "metadata": {},
   "source": [
    "## Equations used in Lei et al. papers\n",
    "\n",
    "In [Lei et al., 2020](https://doi.org/10.1098/rsta.2019.0348) and subsequent work, we used the same equations as in Weerakoon:\n",
    "\n",
    "\\begin{align}\n",
    "\\dot{I}_\\text{out} = \\frac{I_\\text{in} - I_\\text{out}}{\\tau_f}\n",
    "\\end{align}\n",
    "\n",
    "and\n",
    "\n",
    "\\begin{equation}\n",
    "\\dot{V}_p = \\frac{V_c - V_p}{\\tau_c}\n",
    "\\end{equation}\n",
    "\n",
    "Instead of an experiment-specific value which takes $C_p$ into account, we used a constant $\\tau_c =0.8\\,\\mu s$."
   ]
  }
 ],
 "metadata": {
  "kernelspec": {
   "display_name": "Python 3 (ipykernel)",
   "language": "python",
   "name": "python3"
  },
  "language_info": {
   "codemirror_mode": {
    "name": "ipython",
    "version": 3
   },
   "file_extension": ".py",
   "mimetype": "text/x-python",
   "name": "python",
   "nbconvert_exporter": "python",
   "pygments_lexer": "ipython3",
   "version": "3.11.5"
  }
 },
 "nbformat": 4,
 "nbformat_minor": 5
}
