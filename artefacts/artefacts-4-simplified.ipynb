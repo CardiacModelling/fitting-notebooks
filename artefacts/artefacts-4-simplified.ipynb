{
 "cells": [
  {
   "cell_type": "markdown",
   "id": "cf0eda98",
   "metadata": {},
   "source": [
    "# Modelling patch-clamp experiments: simplified models\n",
    "\n",
    "In the previous notebooks we presented a model of patch-clamp experiments.\n",
    "Here, we explore how it can be simplified for parameter estimation purposes.\n",
    "\n",
    "We start from the main schematic and equations."
   ]
  },
  {
   "cell_type": "markdown",
   "id": "18a35d71",
   "metadata": {},
   "source": [
    "<img src=\"resources/patch-comp-6-full.png\" style=\"margin:auto\" />\n",
    "\n",
    "_**Figure 1**: The full patch-clamp schematic_"
   ]
  },
  {
   "cell_type": "markdown",
   "id": "15d7b73b",
   "metadata": {},
   "source": [
    "\\begin{align}\n",
    "2.1. && C_m\\dot{V}_m = \\frac{V_p + E_\\text{off}^\\dagger - V_m}{R_s} - \\frac{V_m - E_\\text{leak}}{R_\\text{leak}} - I\n",
    "\\end{align}\n",
    "\n",
    "\\begin{align}\n",
    "2.2. && (C_p+C_f)\\dot{V}_p = \\frac{V_o - V_p}{R_f} - \\frac{V_p + E_\\text{off}^\\dagger - V_m}{R_s} + C_f\\dot{V}_o + C_m^* \\dot{V}_\\text{est} + C_p^* \\dot{V}_\\text{ref}\n",
    "\\end{align}\n",
    "\n",
    "\\begin{align}\n",
    "2.3. && \\tau_a \\dot{V}_o = V_\\text{ref} - V_p\n",
    "\\end{align}\n",
    "\n",
    "\\begin{align}\n",
    "2.4. && \\dot{V}_\\text{est} &= \\frac{V_c - V_\\text{est}}{(1 - \\beta)R_s^*C_m^*}   \n",
    "\\end{align}\n",
    "\n",
    "\\begin{align}\n",
    "2.5. && \\tau_\\text{sum}\\dot{V}_\\text{ref} = V_c + \\alpha R_s^* I_\\text{obs} + \\beta R_s^* C_m^* \\dot{V}_\\text{est} - V_\\text{ref}\n",
    "\\end{align}\n",
    "\n",
    "\\begin{align}\n",
    "2.6. && R_f I_\\text{obs} = V_o - V_\\text{ref}\n",
    "\\end{align}"
   ]
  },
  {
   "cell_type": "markdown",
   "id": "c80d70be",
   "metadata": {},
   "source": [
    "## Op-amp speed"
   ]
  },
  {
   "cell_type": "code",
   "execution_count": null,
   "id": "a0152b77",
   "metadata": {},
   "outputs": [],
   "source": []
  },
  {
   "cell_type": "code",
   "execution_count": null,
   "id": "61658598",
   "metadata": {},
   "outputs": [],
   "source": []
  },
  {
   "cell_type": "markdown",
   "id": "a710185e",
   "metadata": {},
   "source": [
    "## Fast capacitance"
   ]
  },
  {
   "cell_type": "code",
   "execution_count": null,
   "id": "519d6fb7",
   "metadata": {},
   "outputs": [],
   "source": []
  },
  {
   "cell_type": "code",
   "execution_count": null,
   "id": "bb7dd063",
   "metadata": {},
   "outputs": [],
   "source": []
  },
  {
   "cell_type": "markdown",
   "id": "4e957331",
   "metadata": {},
   "source": [
    "## Conclusion"
   ]
  }
 ],
 "metadata": {
  "kernelspec": {
   "display_name": "Python 3 (ipykernel)",
   "language": "python",
   "name": "python3"
  },
  "language_info": {
   "codemirror_mode": {
    "name": "ipython",
    "version": 3
   },
   "file_extension": ".py",
   "mimetype": "text/x-python",
   "name": "python",
   "nbconvert_exporter": "python",
   "pygments_lexer": "ipython3",
   "version": "3.11.6"
  }
 },
 "nbformat": 4,
 "nbformat_minor": 5
}
