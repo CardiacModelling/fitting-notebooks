{
 "cells": [
  {
   "cell_type": "markdown",
   "id": "cf0eda98",
   "metadata": {},
   "source": [
    "# Modelling patch-clamp experiments: simplified models\n",
    "\n",
    "In the [previous notebook](./artefacts-2-compensation.ipynb) we presented an update model of patch-clamp experiments that included electronic compensation.\n",
    "Here, we show how this model can be simplified by omitting the fastest processes.\n",
    "\n",
    "We start from the main schematic and equations."
   ]
  },
  {
   "cell_type": "markdown",
   "id": "18a35d71",
   "metadata": {},
   "source": [
    "<img src=\"resources/patch-comp-3-Rs.png\" style=\"margin:auto\" />\n",
    "\n",
    "_**Figure 1**: The full patch-clamp schematic_"
   ]
  },
  {
   "cell_type": "markdown",
   "id": "15d7b73b",
   "metadata": {},
   "source": [
    "\\begin{align}\n",
    "C1. && C_m\\dot{V}_m = \\frac{V_p + E_\\text{off}^\\dagger - V_m}{R_s} - \\frac{V_m - E_\\text{leak}}{R_\\text{leak}} - I\n",
    "\\end{align}\n",
    "\n",
    "\\begin{align}\n",
    "C2. && (C_p+C_f)\\dot{V}_p = \\frac{V_o - V_p}{R_f} + C_f\\dot{V}_o  - \\frac{V_p + E_\\text{off}^\\dagger - V_m}{R_s} + (C_p^* + C_m^*) \\dot{V}_\\text{ref}\n",
    "\\end{align}\n",
    "\n",
    "\\begin{align}\n",
    "C3. && \\tau_a \\dot{V}_o = V_\\text{ref} - V_p\n",
    "\\end{align}\n",
    "\n",
    "\\begin{align}\n",
    "C4. && \\tau_\\text{sum} \\dot{V}_\\text{ref} = V_c + \\alpha R_s^*I_\\text{obs} - V_\\text{ref}\n",
    "\\end{align}\n",
    "\n",
    "\\begin{align}\n",
    "C5. && R_f I_\\text{obs} = V_o - V_\\text{ref}\n",
    "\\end{align}"
   ]
  },
  {
   "cell_type": "code",
   "execution_count": null,
   "id": "a4cd0624",
   "metadata": {},
   "outputs": [],
   "source": []
  },
  {
   "cell_type": "code",
   "execution_count": null,
   "id": "a0152b77",
   "metadata": {},
   "outputs": [],
   "source": []
  },
  {
   "cell_type": "code",
   "execution_count": null,
   "id": "61658598",
   "metadata": {},
   "outputs": [],
   "source": []
  },
  {
   "cell_type": "code",
   "execution_count": null,
   "id": "bd9e82b5",
   "metadata": {},
   "outputs": [],
   "source": []
  },
  {
   "cell_type": "code",
   "execution_count": null,
   "id": "519d6fb7",
   "metadata": {},
   "outputs": [],
   "source": []
  },
  {
   "cell_type": "code",
   "execution_count": null,
   "id": "bb7dd063",
   "metadata": {},
   "outputs": [],
   "source": []
  },
  {
   "cell_type": "markdown",
   "id": "4e957331",
   "metadata": {},
   "source": [
    "## Conclusion"
   ]
  }
 ],
 "metadata": {
  "kernelspec": {
   "display_name": "Python 3 (ipykernel)",
   "language": "python",
   "name": "python3"
  },
  "language_info": {
   "codemirror_mode": {
    "name": "ipython",
    "version": 3
   },
   "file_extension": ".py",
   "mimetype": "text/x-python",
   "name": "python",
   "nbconvert_exporter": "python",
   "pygments_lexer": "ipython3",
   "version": "3.11.6"
  }
 },
 "nbformat": 4,
 "nbformat_minor": 5
}
