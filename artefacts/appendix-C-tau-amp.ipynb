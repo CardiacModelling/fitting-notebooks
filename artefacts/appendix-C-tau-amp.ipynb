{
 "cells": [
  {
   "cell_type": "markdown",
   "id": "e7fdae0f",
   "metadata": {},
   "source": [
    "# Appendix C: Amplifier time constants"
   ]
  },
  {
   "cell_type": "markdown",
   "id": "22f7aaad",
   "metadata": {},
   "source": [
    "Here we give values for the op amp time constant, taken from [Sigworth 1995a](https://doi.org/10.1007/978-1-4419-1229-9_4) and [Weerakoon et al., 2009](https://doi.org/10.1109/TBCAS.2008.2005419).\n",
    "\n",
    "Three different notations are used:\n",
    "\n",
    "\\begin{align}\n",
    "\\omega_a = 2 \\pi f_a = 1 / \\tau_a\n",
    "\\end{align}"
   ]
  },
  {
   "cell_type": "markdown",
   "id": "0626bd26",
   "metadata": {},
   "source": [
    "| Source         | page    | $\\omega$     | $f$      | $\\tau$     |\n",
    "|:---------------|:--------|:-------------|:---------|:-----------|\n",
    "| Sigworth 1995a | 96      | 1e7 rad/s    | 1.59 MHz | 100 ns     |\n",
    "|                | 98, 101 | 6.28e7 rad/s | 10 MHz   | 15.9 ns    |\n",
    "| Weerakoon 2009 | 3       | 2e7 rad/s    | 3.18 MHz | 50 ns      |"
   ]
  },
  {
   "cell_type": "markdown",
   "id": "199fd3de",
   "metadata": {},
   "source": [
    "## Units\n",
    "\n",
    "I am confused about the units used.\n",
    "\n",
    "The equation\n",
    "\\begin{align}\n",
    "\\frac{d}{dt}V = \\omega (V_+ - V_-)\n",
    "\\end{align}\n",
    "needs $\\omega$ to be in $\\text{s}^{-1}$ to make the units match, and correspondingly Sigworth always gives values for $\\omega$ in units of $\\text{s}^{-1}$.\n",
    "When converting to $\\tau$ we simply take the reciprocal, again suggesting that $\\omega$ is in $\\text{s}^{-1}$.\n",
    "\n",
    "However, when introducing $\\omega$ he says the units are $\\text{rad}/s$.\n",
    "And when converting to $f$ we divide by $2 \\pi\\,\\text{rad}$, suggesting the \"Hz\" used are really 1/s/rad?"
   ]
  }
 ],
 "metadata": {
  "kernelspec": {
   "display_name": "Python 3 (ipykernel)",
   "language": "python",
   "name": "python3"
  },
  "language_info": {
   "codemirror_mode": {
    "name": "ipython",
    "version": 3
   },
   "file_extension": ".py",
   "mimetype": "text/x-python",
   "name": "python",
   "nbconvert_exporter": "python",
   "pygments_lexer": "ipython3",
   "version": "3.11.6"
  }
 },
 "nbformat": 4,
 "nbformat_minor": 5
}
