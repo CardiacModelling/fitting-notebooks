{
 "cells": [
  {
   "cell_type": "markdown",
   "id": "fc24dbb4",
   "metadata": {},
   "source": [
    "# Appendix C2: Default parameter values\n",
    "**Appendix C discusses variable names and values**"
   ]
  },
  {
   "cell_type": "markdown",
   "id": "e184af6f",
   "metadata": {},
   "source": [
    "Here we present the \"default\" values used in these notebooks.\n",
    "Other choices are possible."
   ]
  },
  {
   "cell_type": "markdown",
   "id": "3e6bd67d",
   "metadata": {},
   "source": [
    "## Basic model\n",
    "\n",
    "| Parameter         | Value         | Motivation                                                            |\n",
    "|:------------------|:--------------|:----------------------------------------------------------------------|\n",
    "| $R_s$             | 15 M$\\Omega$  | A 5$\\Omega$ pipette with an additional 10$\\Omega$ at the seal         |\n",
    "| $C_m$             | 25 pF         | A small cell such as a HEK or CHO cell                                |\n",
    "| $C_p$             | 5 pF          | Based on own experience                                               |\n",
    "| $R_f$    | 0.5 G$\\Omega$ | Similar to HEKA, Axon, and Sutter ([appendix B](./appendix-B-Rf-and-Cf.ipynb)) |\n",
    "| $C_f$             | 0.15 pF       | Similar to HEKA ([appendix B](./appendix-B-Rf-and-Cf.ipynb))          |\n",
    "| $\\tau_\\text{amp}$ | 20e-6 ms      | Based on Sigworth 1995 ([appendix C](appendix-C-tau-amp.ipynb))       |\n",
    "\n",
    "Values are rounded to reflect uncertainty in the true values."
   ]
  },
  {
   "cell_type": "markdown",
   "id": "482bff5f",
   "metadata": {},
   "source": [
    "## Compensation\n",
    "\n",
    "\n",
    "| Parameter         | Value     | Motivation                                                     |\n",
    "|:------------------|:----------|:---------------------------------------------------------------|\n",
    "| $\\alpha$          | 0.7       | Typical setting                                                |\n",
    "| $\\beta$           | 0.7       | Typical setting                                                |\n",
    "| $\\tau_\\text{sum}$ | 10 $\\mu$s | Default for HEKA and Axon ([appendix L](./appendix-L-tau-sum)) |\n",
    "\n"
   ]
  },
  {
   "cell_type": "markdown",
   "id": "92f0e461",
   "metadata": {},
   "source": [
    "## Estimates\n",
    "\n",
    "Estimates for $R_s$, $C_m$, and $C_p$ are set at or near their true values"
   ]
  }
 ],
 "metadata": {
  "kernelspec": {
   "display_name": "Python 3 (ipykernel)",
   "language": "python",
   "name": "python3"
  },
  "language_info": {
   "codemirror_mode": {
    "name": "ipython",
    "version": 3
   },
   "file_extension": ".py",
   "mimetype": "text/x-python",
   "name": "python",
   "nbconvert_exporter": "python",
   "pygments_lexer": "ipython3",
   "version": "3.11.6"
  }
 },
 "nbformat": 4,
 "nbformat_minor": 5
}
