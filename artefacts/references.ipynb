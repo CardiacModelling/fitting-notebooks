{
 "cells": [
  {
   "cell_type": "markdown",
   "id": "fc24dbb4",
   "metadata": {},
   "source": [
    "# References"
   ]
  },
  {
   "cell_type": "markdown",
   "id": "fcdf2bc5",
   "metadata": {},
   "source": [
    "## Amplifier design\n",
    "\n",
    "- [Finkel, Redman (1984) Theory and operation of a single microelectrode voltage clamp](https://doi.org/10.1016/0165-0270(84)90029-3)\n",
    "- [Finkel (1985) Useful Circuits for Voltage Clamping With Microelectrodes](https://doi.org/10.1007/978-1-4614-7601-6_2) in Voltage and Patch Clamping with Microelectrodes\n",
    "- [Finkel (1991) Progress in instrumentation technology for recording from single channels and small cells](https://www.amazon.co.uk/Molecular-Neurobiology-Practical-Approach/dp/0199631093) in Molecular Neurobiology: A Practical Approach\n",
    "- [Lecar & Smith 1985 voltage clamping small cells](https://doi.org/10.1007/978-1-4614-7601-6_11) in Voltage and Patch Clamping with Microelectrodes\n",
    "- [Magistretti, Mantegazza, Guatteo, Wanke (1996) Action potentials recorded with patch-clamp amplifiers; are they genuine](https://doi.org/10.1016/s0166-2236(96)40004-2)\n",
    "- [Sigworth (1983) Electronic Design of the Patch Clamp](https://doi.org/10.1007/978-1-4615-7858-1_1) in Single-channel Recording\n",
    "- [Sigworth (1995a) Electronic Design of the Patch Clamp](https://doi.org/10.1007/978-1-4419-1229-9_4) in Single-channel Recording\n",
    "- [Sigworth (1995b) Design of the EPC-9, a computer-controlled patch-clamp amplifier, 1 Hardware](https://doi.org/10.1016/0165-0270(94)00129-5)\n",
    "- [Strickholm (1995b) A single electrode voltage, current- and patch-clamp amplifier with complete stable series resistance compensation](https://doi.org/10.1016/0165-0270(95)00021-L)\n",
    "- [Weerakoon, Culurciello, Klemic, Sigworth (2009) An Integrated Patch-Clamp Potentiostat With Electrode Compensation](https://doi.org/10.1109/TBCAS.2008.2005419)\n",
    "- [Wilson, Goldner (1975) Voltage clamping with a single microelectrode](https://doi.org/10.1002/neu.480060406)\n"
   ]
  },
  {
   "cell_type": "markdown",
   "id": "b391edd0",
   "metadata": {},
   "source": [
    "## Amplifier manuals\n",
    "\n",
    "- Alembic manual is available from [alembicinstruments.com](http://www.alembicinstruments.com)\n",
    "- A-M systems manuals are available from [a-msystems.com](https://www.a-msystems.com)\n",
    "- Axon manuals are available from [moleculardevices.com](https://support.moleculardevices.com)\n",
    "- HEKA manuals and tutorials are available from [heka.com](https://www.heka.com)"
   ]
  },
  {
   "cell_type": "markdown",
   "id": "84a95a78",
   "metadata": {},
   "source": [
    "## Leak\n",
    "\n",
    "- [Lei, Fabbri et al. De Boer (2021) A nonlinear and time-dependent leak current in the presence of calcium fluoride patch-clamp seal enhancer](https://doi.org/10.12688/wellcomeopenres.15968.2)\n",
    "- [Milton, Caldwell (1990) How do patch clamp seals form? A lipid bleb model](https://doi.org/10.1007/BF00370626)"
   ]
  },
  {
   "cell_type": "markdown",
   "id": "25d73b94",
   "metadata": {},
   "source": [
    "## Liquid junction potential\n",
    "\n",
    "- [Barry, Diamond (1970) Junction potentials, electrode standard potentials, and other problems in interpreting electrical properties in membranes](https://doi.org/10.1007/BF01868010)\n",
    "- [Barry, Lynch (1991) Liquid junction potentials and small cell effects in patch-clamp analysis](https://doi.org/10.1007/bf01870526)\n",
    "- [Barry (1994) JPCalc, a software package for calculating liquid junction potential corrections in patch-clamp, intracellular, epithelial and bilayer measurements and for correcting junction potential measurements](https://doi.org/10.1016/0165-0270(94)90031-0)\n",
    "- [Dickinson, Freitag, Compton (2010) Dynamic Theory of Liquid Junction Potentials](https://doi.org/10.1021/jp908024s)\n",
    "- [Figl, Lewis, Barry (2004) Axon Instruments; Liquid Junction Potential Corrections](https://medicalsciences.med.unsw.edu.au/sites/default/files/soms/page/ElectroPhysSW/Figl%20App%20Note2004.pdf)\n",
    "- [Harden, Brogioli (2020) LJPcalc Liquid Junction Potential Calculator](https://swharden.com/LJPcalc/)\n",
    "- [Marino, Misuri, Brogioli (2014) A new open source software for the calculation of the liquid junction potential between two solutions according to the stationary Nernst-Planck equation](https://arxiv.org/abs/1403.3640).\n",
    "- [Neher (1992) Correction for liquid junction potentials in patch clamp experiments](https://doi.org/10.1016/0076-6879(92)07008-C)\n",
    "- [Neher (1995) Voltage Offsets in Patch-Clamp Experiments](https://doi.org/10.1007/978-1-4419-1229-9_6) in Single-Channel Recording\n",
    "- [Ng, Barry (1995) The measurement of ionic conductivities and mobilities of certain less common organic ions needed for junction potential corrections in electrophysiology](https://doi.org/10.1016/0165-0270(94)00087-W)"
   ]
  },
  {
   "cell_type": "markdown",
   "id": "9b444e87",
   "metadata": {},
   "source": [
    "## Membrane capacitance\n",
    "\n",
    "- Too much too list on this topic: do a search!\n",
    "- [Taylor (2012) What we talk about when we talk about capacitance measured with the voltage-clamp step method](https://doi.org/10.1007/s10827-011-0346-8)"
   ]
  },
  {
   "cell_type": "markdown",
   "id": "4a52dfab",
   "metadata": {},
   "source": [
    "## Modelling patch-clamp\n",
    "\n",
    "- [Abrasheva, Kovalenko et al., Syunyaev (2023) Human sodium current voltage-dependence at physiological temperature measured by coupling patch-clamp experiment to a mathematical model](https://doi.org/10.1101/2023.06.06.543894)\n",
    "- [Clerx, Collins, Volders (2015) Applying novel identification protocols to Markov models of INa](http://michaelclerx.com/publications/files/clerx-collins-volders-2015-applied-estimation-pre-print.pdf)\n",
    "- [Lei, Clerx et al. Mirams (2020) Accounting for variability in ion current recordings using a mathematical model of artefacts in voltage-clamp experiments](https://doi.org/10.1098/rsta.2019.0348)\n",
    "- [Lei (2020) DPhil Thesis; Model-Driven Design and Uncertainty Quantification for Cardiac Electrophysiology Experiments](https://ora.ox.ac.uk/objects/uuid:528c2771-ae4f-4f3c-b649-44904acdf259)\n",
    "- [Montnach, Lorenzini et al., Loussouarn (2021) Computer modeling of whole-cell voltage-clamp analyses to delineate guidelines for good practice of manual and automated patch-clamp](https://doi.org/10.1038/s41598-021-82077-8)\n",
    "- Ypey, DeFelice (2000) The patch-clamp technique explained and exercised with the use of simple electrical equivalent circuits"
   ]
  },
  {
   "cell_type": "markdown",
   "id": "9400cb91",
   "metadata": {},
   "source": [
    "## Noise (see also: pipettes)\n",
    "\n",
    "- [Benndorf (1995) Low-Noise Recording](https://doi.org/10.1007/978-1-4419-1229-9_5) in Single-channel Recording\n",
    "- [Sigworth (1995a) Electronic Design of the Patch Clamp](https://doi.org/10.1007/978-1-4419-1229-9_4)\n",
    "- [The Axon Guide](https://www.moleculardevices.com/en/assets/ebook/dd/cns/axon-guide-to-electrophysiology-and-biophysics-laboratory-techniques)"
   ]
  },
  {
   "cell_type": "markdown",
   "id": "068467b5",
   "metadata": {},
   "source": [
    "## Op-amps\n",
    "\n",
    "- Wikipedia: [Difference amplifier](https://en.wikipedia.org/wiki/Differential_amplifier)\n",
    "- Wikipedia: [Negative-feedback amplifier](https://en.wikipedia.org/wiki/Negative-feedback_amplifier)\n",
    "- Wikipedia: [Operational amplifier](https://en.wikipedia.org/wiki/Operational_amplifier)"
   ]
  },
  {
   "cell_type": "markdown",
   "id": "4a892ebb",
   "metadata": {},
   "source": [
    "## Patch-clamp in practice\n",
    "\n",
    "- [Bebarova (2012) Advances in patch-clamp technique; towards higher quality and quantity](https://doi.org/10.4149/gpb_2012_016)\n",
    "- [Cahalan, Neher (1992) Patch Clamp Techniques; An overview](https://doi.org/10.1016/0076-6879(92)07003-7)\n",
    "- [Hamill, Marty et al., Sigworth (1981) Improved patch-clamp techniques for high-resolution current recording from cells and cell-free membrane patches](https://doi.org/10.1007/BF00656997)\n",
    "- [Levis & Rae (1992) Constructing a patch clamp setup](https://doi.org/10.1016/0076-6879(92)07004-8)\n",
    "- [Marty & Neher (1995) Tight-seal whole-cell recording](https://doi.org/10.1007/978-1-4615-7858-1_7) in Single-Channel Recording\n",
    "- [Molleman (2002) Patch Clamping](https://doi.org/10.1002/0470856521) (book)\n",
    "- [Ogden, Stanfield (1994) Patch clamp techniques for single channel and whole-cell recording](https://doi.org/10.1093/oso/9780199632442.003.0003) in Monitoring Neuronal Activity - A practical approach\n",
    "- [Okada (2012) Patch Clamp Techniques](https://doi.org/10.1007/978-4-431-53993-3) (book)\n",
    "- [Penner (1995) A Practical Guide to Patch Clamping](https://doi.org/10.1007/978-1-4419-1229-9_1) in Single-Channel Recording\n",
    "- [Poler, Weskamp, Linz, Meyer (2005) Voltage-clamp and patch-clamp techniques](https://doi.org/10.1007/3-540-26574-0_16)\n",
    "- [Sakmann, Neher (1984) Patch Clamp Techniques for Studying Ionic Channels in Excitable Membranes](https://doi.org/10.1146/annurev.ph.46.030184.002323)\n",
    "- [Sheets, Ten Eick (1994) Whole-Cell Voltage Clamp of Cardiac Sodium Current](https://doi.org/10.1016/B978-0-12-185287-0.50015-6)\n",
    "- [Smith, Lecar, Redman, Gage (1985) Voltage and patch clamping with microelectrodes](https://doi.org/10.1007/978-1-4614-7601-6) (book)"
   ]
  },
  {
   "cell_type": "markdown",
   "id": "d9c7766e",
   "metadata": {},
   "source": [
    "## Perforated patch\n",
    "\n",
    "- [Rae, Cooper, Gates, Watsky (1991) Low access resistance perforated patch recordings using amphotericin B](https://doi.org/10.1016/0165-0270(91)90017-T)"
   ]
  },
  {
   "cell_type": "markdown",
   "id": "7ba07850",
   "metadata": {},
   "source": [
    "## Pipettes, capacitance, and noise\n",
    "\n",
    "- [Levis & Rae (1993) The Use of Quartz Patch Pipettes for Low Noise Single Channel Recording](https://doi.org/10.1016/s0006-3495(93)81224-4)\n",
    "- [Levis & Rae (1998) Low-noise patch-clamp techniques](https://doi.org/10.1016/S0076-6879(98)93017-8)\n",
    "- [Rae & Levis (1992) Glass technology for patch clamp electrodes](https://doi.org/10.1016/0076-6879(92)07005-9)\n",
    "- [Rae, Levis (1992) A method for exceptionally low noise single channel recordings](https://doi.org/10.1007/BF00374642)\n",
    "- [Sakmann & Neher (1983) Geometric parameters of pipettes and membrane patches](https://doi.org/10.1007/978-1-4419-1229-9_21) in Single-Channel Recording\n",
    "- [Suzuki, Rohlicek, Froemter (1978) A quasi-totally shielded, low-capacitance glass-microelectrode with suitable amplifiers for high-frequency intracellular potential and impedance measurements](https://doi.org/10.1007/BF00584447)\n",
    "- [Tang, Wang, Quandt, Eisenberg (1990) Perfusing pipettes](https://doi.org/10.1007/BF00392072)"
   ]
  },
  {
   "cell_type": "markdown",
   "id": "f4271f52",
   "metadata": {},
   "source": [
    "## Series-resistance compensation\n",
    "\n",
    "- [Armstrong, Chow (1987) Supercharging; a method for improving patch-clamp performance](https://doi.org/10.1016/S0006-3495(87)83198-3) Supercharging\n",
    "- [Armstrong, Gilly (1992) Access resistance and space clamp problems associated with whole-cell patch clamping](https://doi.org/10.1016/0076-6879(92)07007-b)\n",
    "- [Brennecke, Lindemann (1974) Theory of a membrane‐voltage clamp with discontinuous feedback through a pulsed current clamp](https://doi.org/10.1063/1.1686583) Chopping\n",
    "- [Gray, Santin (2023) Series resistance errors in whole cell voltage clamp measured directly with dual patch-clamp recordings; not as bad as you think](https://doi.org/10.1152/jn.00476.2022)\n",
    "- [Hodgkin, Huxley, Katz (1952) Measurement of current-voltage relations in the membrane of the giant axon of Loligo](https://physoc.onlinelibrary.wiley.com/doi/10.1113/jphysiol.1952.sp004716) Feed-forward \n",
    "- [Moore, Hines, Harris (1984) Compensation for resistance in series with excitable membranes](https://doi.org/10.1016/S0006-3495(84)84048-5)\n",
    "- [Sherman, Shrier, Cooper (1999) Series Resistance Compensation for Whole-Cell Patch-Clamp Studies Using a Membrane State Estimator](https://doi.org/10.1016/S0006-3495(99)77093-1),\n",
    "- [Strickholm (1995a) A single electrode voltage, current- and patch-clamp amplifier with complete stable series resistance compensation](https://doi.org/10.1016/0165-0270(95)00021-L)\n",
    "- [Strickholm (1995b) A supercharger for single electrode voltage and current clamping](https://doi.org/10.1016/0165-0270(95)00022-M)\n",
    "- [Traynelis (1998) Software-based correction of single compartment series resistance errors](https://doi.org/10.1016/s0165-0270(98)00140-x)"
   ]
  },
  {
   "cell_type": "markdown",
   "id": "92f0e461",
   "metadata": {},
   "source": [
    "## Other\n",
    "- [Fischmeister, Ayer, DeHaan (1986) Some limitations of patch clamp techniques](https://doi.org/10.1007/BF00582957)"
   ]
  }
 ],
 "metadata": {
  "kernelspec": {
   "display_name": "Python 3 (ipykernel)",
   "language": "python",
   "name": "python3"
  },
  "language_info": {
   "codemirror_mode": {
    "name": "ipython",
    "version": 3
   },
   "file_extension": ".py",
   "mimetype": "text/x-python",
   "name": "python",
   "nbconvert_exporter": "python",
   "pygments_lexer": "ipython3",
   "version": "3.11.6"
  }
 },
 "nbformat": 4,
 "nbformat_minor": 5
}
