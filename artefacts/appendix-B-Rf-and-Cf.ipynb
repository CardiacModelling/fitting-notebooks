{
 "cells": [
  {
   "cell_type": "markdown",
   "id": "44ff9bab",
   "metadata": {},
   "source": [
    "# Appendix B: Values for $R_f$ and $C_f$"
   ]
  },
  {
   "cell_type": "markdown",
   "id": "5c18a21f",
   "metadata": {},
   "source": [
    "Some values for $R_f$ and $C_f$ are given below:\n",
    "\n",
    "| Amplifier / Source                        | $R_f$            | $C_f$   | $R_f C_f$   |\n",
    "|:------------------------------------------|------------------|---------|-------------|\n",
    "| HEKA EPC 10, default gain                 | 500 M$\\Omega$    |         |             |\n",
    "| HEKA EPC 10, low gain                     | 5 M$\\Omega$      |         |             |\n",
    "| HEKA EPC 10, high gain                    | 50 G$\\Omega$     |         |             |\n",
    "| HEKA EPC 9, default gain                  | 495 M$\\Omega$    | 0.16 pF | 79.2 $\\mu$s |\n",
    "| HEKA EPC 9, low gain                      | 5 M$\\Omega$      |         |             |\n",
    "| HEKA EPC 9, high gain                     | 50 G$\\Omega$     | 0.02 pF | 1000 $\\mu$s |\n",
    "| Axon HS-9A, standard                      | 10 M$\\Omega$     |         |             |\n",
    "| Axon HS-9A, \"large currents\"              | 1 M$\\Omega$      |         |             |\n",
    "| Axon HS-9A, \"ion-sensitive\"               | 100 G$\\Omega$    |         |             |\n",
    "| Axon CV 203BU, whole-cell, default        | 500 M$\\Omega$    | 1 pF    | 500 $\\mu$s  |\n",
    "| Axon CV 203BU, whole-cell, large currents | 50 M$\\Omega$     | 1 pF    | 50 $\\mu$s   |\n",
    "| Example in Levis & Rae 1992               | 50 G$\\Omega$     | 0.1 pF  | 5000 $\\mu$s |\n",
    "| \"Typical\" values in Sigworth 1995         | 10-100 G$\\Omega$ | 0.1 pF  | 1000-10000 $\\mu$s |\n",
    "| Weerakoon et al. 2009                     | 25 M$\\Omega$     | 0.3 pF  | 7.5 $\\mu$s  |\n",
    "| Armstrong & Chow 1987                     | 10 M$\\Omega$     | 0.5 pF  | 5 $\\mu$s    |"
   ]
  },
  {
   "cell_type": "markdown",
   "id": "1ee50dbe",
   "metadata": {},
   "source": [
    "Here \n",
    "- EPC10 data is from the HEKA Patchmaster Reference Manual 2x90.2, page 76.\n",
    "- EPC9 data is from [Sigworth 1995b](https://doi.org/10.1016/0165-0270(94)00128-4). Fig 2. in this paper also shows that the 50GOhm resistor is always connected, resulting in the 495MOhm for default gain instead of 500MOhm. This is presumably true for the EPC10 too, but I can't find a reference for that.\n",
    "- Axon HS-9A numbers are from The Axon Guide, 5th edition, page 47.\n",
    "- Axon CV 203BU numbers are from the Axon Axopatch 200B Microelectrode Amplifier Data Sheet (accessed 2023-08-16), pages 4 and 6.\n",
    "- The final reference is [Armstrong & Chow 1987](https://doi.org/10.1016/S0006-3495(87)83198-3).\n",
    "\n",
    "[Finkel 1991](https://www.amazon.co.uk/Molecular-Neurobiology-Practical-Approach/dp/0199631093) notes that \"In practice, $C_f$ consists of many resistor-capacitor components that make the frequency response of $R_f$ very complicated\".\n",
    "\n",
    "[Sigworth 1995b](https://doi.org/10.1016/0165-0270(94)00128-4) states that \"both the resistance of the 50 GOhm resistor and its stray capacitance can vary considerably\" (presumably between components with identical specs), so that compensation circuitry needs to be adjustable.\n",
    "\n",
    "$C_f$ is often called a [\"_shunt_\"](https://en.wikipedia.org/wiki/Shunt_(electrical)) capacitance, where \"to shunt\" means to move, bypass, or divert."
   ]
  },
  {
   "cell_type": "markdown",
   "id": "08b69861",
   "metadata": {},
   "source": [
    "## Capacitor-feedback amplifiers\n",
    "\n",
    "Finally, some amplifiers (e.g. the Axon 200B in \"single channel mode\" - but not in whole-cell mode) use a \"capacitor-feedback\" system, where the resistor $R_f$ is omitted entirely.\n",
    "This requires some special tricks that are not covered in these notebooks.\n",
    "For more on this, see [Sigworth 1995a](https://doi.org/10.1007/978-1-4419-1229-9_4), [Levis & Rae 1992](https://doi.org/10.1016/0076-6879(92)07004-8), or [Finkel 1991](https://www.amazon.co.uk/Molecular-Neurobiology-Practical-Approach/dp/0199631093).\n",
    "All three are book chapters but in my cupboard if you need them."
   ]
  }
 ],
 "metadata": {
  "kernelspec": {
   "display_name": "Python 3 (ipykernel)",
   "language": "python",
   "name": "python3"
  },
  "language_info": {
   "codemirror_mode": {
    "name": "ipython",
    "version": 3
   },
   "file_extension": ".py",
   "mimetype": "text/x-python",
   "name": "python",
   "nbconvert_exporter": "python",
   "pygments_lexer": "ipython3",
   "version": "3.11.4"
  }
 },
 "nbformat": 4,
 "nbformat_minor": 5
}
