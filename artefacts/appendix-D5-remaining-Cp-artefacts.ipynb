{
 "cells": [
  {
   "cell_type": "markdown",
   "id": "7fb2df6f",
   "metadata": {},
   "source": [
    "# Appendix D5: Handling remaining capacitance artefacts\n",
    "**Appendix D discusses remaining noise and errors**"
   ]
  },
  {
   "cell_type": "markdown",
   "id": "e2ffeda4",
   "metadata": {},
   "source": [
    "- Cutting out. Take information loss into account in sensitivity analysis (Clerx 2015).\n",
    "\n",
    "- Just leave in and let the optimiser deal with it?"
   ]
  }
 ],
 "metadata": {
  "kernelspec": {
   "display_name": "Python 3 (ipykernel)",
   "language": "python",
   "name": "python3"
  },
  "language_info": {
   "codemirror_mode": {
    "name": "ipython",
    "version": 3
   },
   "file_extension": ".py",
   "mimetype": "text/x-python",
   "name": "python",
   "nbconvert_exporter": "python",
   "pygments_lexer": "ipython3",
   "version": "3.11.6"
  }
 },
 "nbformat": 4,
 "nbformat_minor": 5
}
