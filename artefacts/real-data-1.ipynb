{
 "cells": [
  {
   "cell_type": "markdown",
   "id": "33970f55",
   "metadata": {},
   "source": [
    "# Understanding patch-clamp data\n",
    "\n",
    "In this notebook, we look in detail at processing data obtained from patch-clamp experiments.\n",
    "\n",
    "In particular, we focus on **manual patch clamp** experiments in the **whole cell configuration**.\n",
    "These can be used to either\n",
    "\n",
    "1. pass current through the membrane and measure the resulting voltage (_current clamp_); or \n",
    "2. control the membrane voltage and measure the resulting current (_voltage clamp_).\n",
    "\n",
    "We will focus exclusively on **voltage clamp**."
   ]
  },
  {
   "cell_type": "markdown",
   "id": "866f0da6",
   "metadata": {},
   "source": [
    "## The very basics\n",
    "\n",
    "A detailed descriptions of the patch clamp technique can be found in the chapter [Penner (1995) A Practical Guide to Patch Clamping](https://doi.org/10.1007/978-1-4419-1229-9_1), the (short) book [Molleman (2002) Patch Clamping](https://doi.org/10.1002/0470856521), or the (slightly older) article [Hamill, Marty et al., Sigworth (1981) Improved patch-clamp techniques for high-resolution current recording from cells and cell-free membrane patches](https://doi.org/10.1007/BF00656997).\n",
    "\n",
    "In brief, a cell is placed in a bath containing an electrode (the _bath electrode_) and an ion-rich solution that can conduct electricity.\n",
    "A patch clamp _pipette_ is constructed by heating and mechanically pulling a small glass tube, then filling it with another ion-rich solution, and inserting an electrode into the open end.\n",
    "The sharp end of the pipette is then placed against the cell membrane and suction, electric pulses, or chemicals are used to break the membrane inside the pipette opening, thereby establishing a connection to the inside of the cell.\n",
    "A _patch clamp amplifier_ is attached to both electrodes, and can now be used to measure and manipulate the voltage between the bath and pipette electrodes.\n"
   ]
  },
  {
   "cell_type": "markdown",
   "id": "5f08b890",
   "metadata": {},
   "source": [
    "## Patch-clamp amplifier basics"
   ]
  },
  {
   "cell_type": "markdown",
   "id": "b8e573b6",
   "metadata": {},
   "source": [
    "Now that we have access to the inside & outside of the cell, how can we control its voltage and measure the current?\n",
    "\n",
    "The answer involves a lot of electronics, but a brief outline is given below.\n",
    "It follows the exposition in [Sigworth (1995) Electronic design of the patch clamp](https://doi.org/10.1007/978-1-4419-1229-9_4), but also uses [Weerakoon et al., 2009](https://doi.org/10.1109/TBCAS.2008.2005419) and [Lei et al., 2020](https://doi.org/10.1098/rsta.2019.0348)."
   ]
  },
  {
   "cell_type": "markdown",
   "id": "2ef02fec",
   "metadata": {},
   "source": [
    "The image below (adapted from Sigworth 1995) shows a very simple schematic to measure small currents.\n",
    "A battery $V_c$ is attached to a pipette, and a resistor with a known resistance $R$ is introduced.\n",
    "To obtain $I$, we measure the voltage drop $V_\\text{out} = IR$ across the resistor, and use\n",
    "\n",
    "$$ I = V_\\text{out} / R $$"
   ]
  },
  {
   "cell_type": "markdown",
   "id": "630cf0d5",
   "metadata": {},
   "source": [
    "<img src=\"resources/patch-amp-1-too-simple.png\" />\n",
    "\n",
    "_**Figure 1**: A very simple current measuring device._"
   ]
  },
  {
   "cell_type": "markdown",
   "id": "80896b76",
   "metadata": {},
   "source": [
    "By choosing a very large $R$ we get a measurable $V_\\text{out}$ for even very small $I$.\n",
    "\n",
    "However, it also creates a big difference between $V_c$, which we control, and the voltage over the patch clamp assembly (pipette, cell, bath etc.).\n",
    "\n",
    "A clever trick with an [op amp](https://en.wikipedia.org/wiki/Operational_amplifier) can get us around this:"
   ]
  },
  {
   "cell_type": "markdown",
   "id": "0fcac2ba",
   "metadata": {},
   "source": [
    "<img src=\"resources/patch-amp-2-with-op-amp.png\" />\n",
    "\n",
    "_**Figure 2**: A better way to measure small currents._"
   ]
  },
  {
   "cell_type": "markdown",
   "id": "524bef2a",
   "metadata": {},
   "source": [
    "To analyse this circuit, we use two properties of **an idealised** op-amp:\n",
    "\n",
    "1. Connected in a negative feedback loop like above, the op amp instantaneously adjusts its output $V_o$ until the voltages at its input terminals ($+$ and $-$) are the same.\n",
    "2. No current flows into (or out of) the input terminals.\n",
    "\n",
    "From the first property we get $V_- = V_c$, and the second property gives us $I = I_R$.\n",
    "The voltage-drop across the resistor is then\n",
    "\n",
    "$$ V_o - V_- = V_o - V_c = I_R R = I R $$\n",
    "\n",
    "And so if we can measure $V_\\text{out} \\equiv V_o - V_c$ we can use the known value of $R$ to calculate\n",
    "\n",
    "$$I = V_\\text{out} / R$$"
   ]
  },
  {
   "cell_type": "markdown",
   "id": "450f600a",
   "metadata": {},
   "source": [
    "Finally, we add a [difference amplifier](https://en.wikipedia.org/wiki/Differential_amplifier) to $V_o$ and $V_c$.\n",
    "A difference amplifier takes the voltage between its two inputs and multiplies it by a fixed factor, using an external power source.\n",
    "Here we use an amplification factor of 1 so that it acts as a simple _buffer_.\n",
    "This means that the power drawn from $V_{out}$ by any connected measurement equipment will be provided by the amplifier's power source instead of the circuit we're trying to measure."
   ]
  },
  {
   "cell_type": "markdown",
   "id": "3849ce4f",
   "metadata": {},
   "source": [
    "<img src=\"resources/patch-amp-3-diff-amp.png\" />\n",
    "\n",
    "_**Figure 2**: A difference amplifier buffers $V_{out}$._"
   ]
  },
  {
   "cell_type": "markdown",
   "id": "4fde49b3",
   "metadata": {},
   "source": [
    "### Diversion 3: Shunt capacitance"
   ]
  },
  {
   "cell_type": "markdown",
   "id": "8bcc3682",
   "metadata": {},
   "source": []
  },
  {
   "cell_type": "markdown",
   "id": "e976e38b",
   "metadata": {},
   "source": [
    "The assumptions we made about the op amp are wrong in lots of interesting ways, and in particular when analysing _changing voltages_ instead of the static equilibrium cases we've been considering so far.\n",
    "An analysis in [Sigworth 1995](https://doi.org/10.1007/978-1-4419-1229-9_4) however, suggests that a more important limitation is the \"shunt capacitance\" of the resistor $R$ in Figure 2.\n",
    "To make our measurements precise enough for tiny current currents, we want an resistor with a very big $R$ (10-100GΩ, Sigworth 1995).\n",
    "But in addition to a resistance, these components introduce a parallel, or [\"_shunt_\"](https://en.wikipedia.org/wiki/Shunt_(electrical)) capacitance (in the range of 0.1 pF, Sigworth 1995).\n",
    "\n",
    "With this, the circuit of Figure 2 becomes:"
   ]
  },
  {
   "cell_type": "markdown",
   "id": "0d7e6238",
   "metadata": {},
   "source": [
    "<img src=\"resources/patch-amp-3c-with-shunt.png\" />"
   ]
  },
  {
   "cell_type": "markdown",
   "id": "3e4d7069",
   "metadata": {},
   "source": [
    "We can redo the analysis with this capacitor in place, to see how it affects $V_out$.\n",
    "\n",
    "Because there are now two pathways for the current $I$ to flow through we write\n",
    "\n",
    "\\begin{align}\n",
    "I &= I_R + I_C \\\\\n",
    "  &= (V_o - V_-) / R + C \\frac{d}{dt}\\left(V_o - V_-\\right) \\\\\n",
    "  &= V_\\text{out} / R + C \\dot{V}_\\text{out} \\\\\n",
    "V_\\text{out} &= I R - R C \\dot{V}_\\text{out}\n",
    "\\end{align}\n",
    "\n",
    "To allow for the idea that the current we calculate is no longer equal to $I$, we introduce a new symbol $I_\\text{obs} \\equiv V_\\text{out} / R$.\n",
    "With a constant $R$, we have $\\dot{V}_\\text{out} = R \\dot{I}_\\text{out}$ and\n",
    "\n",
    "\\begin{align}\n",
    "V_\\text{out} &= I R - R C \\dot{V}_\\text{out} \\\\\n",
    "I_\\text{out} &= I - R C \\dot{I}_\\text{out} \\\\\n",
    "\\dot{I}_\\text{out} &= \\frac{I - I_\\text{out}}{R C} = \\frac{I - I_\\text{out}}{\\tau}\n",
    "\\end{align}\n",
    "\n",
    "In other words, if $I$ is larger than $I_\\text{out}$ then $I_\\text{out}$ will grow, but if $I$ is smaller then $I_\\text{out}$ will shrink, and so $I_\\text{out}$ follows $I$ with a time constant $\\tau = RC$."
   ]
  },
  {
   "cell_type": "markdown",
   "id": "3fc41843",
   "metadata": {},
   "source": [
    "<img src=\"resources/patch-amp-3d-phase-diagram.png\" />"
   ]
  },
  {
   "cell_type": "markdown",
   "id": "f0e14ad4",
   "metadata": {},
   "source": [
    "Section 2.2 in [Sigworth 1995](https://doi.org/10.1007/978-1-4419-1229-9_4) points out that this $\\tau$ is in the order of 1 ms, which seriously hampers the ability to voltage clamp.\n",
    "Luckily, this can be compensated for with clever circuitry, as described in Sigworth's section 2.3.\n",
    "\n",
    "In the remainder of this notebook we will assume the shunt capacitance has been dealt with, and omit it from the schematics.\n",
    "\n",
    "**Add some note here about old vs new: Sigworth says Rf 10-100GOhm, Cf 0.1pF for tau in order of ms. Then Weerakoon 2009 (planar amp) says Rf 25MOhm, _deliberately added_ Cf=0.3pF for tau = 7.5 us.**"
   ]
  },
  {
   "cell_type": "markdown",
   "id": "0c404c5f",
   "metadata": {},
   "source": []
  },
  {
   "cell_type": "markdown",
   "id": "8886cfe7",
   "metadata": {},
   "source": []
  },
  {
   "cell_type": "markdown",
   "id": "b253b88a",
   "metadata": {},
   "source": []
  },
  {
   "cell_type": "markdown",
   "id": "d03887fd",
   "metadata": {},
   "source": [
    "## Adding the pipette"
   ]
  },
  {
   "cell_type": "markdown",
   "id": "eaf914be",
   "metadata": {},
   "source": [
    "$V_p$, $C_p$, $R_s$"
   ]
  },
  {
   "cell_type": "markdown",
   "id": "b764b93c",
   "metadata": {},
   "source": []
  },
  {
   "cell_type": "markdown",
   "id": "98c8cbe6",
   "metadata": {},
   "source": []
  },
  {
   "cell_type": "markdown",
   "id": "6eb76dc2",
   "metadata": {},
   "source": []
  },
  {
   "cell_type": "markdown",
   "id": "87263721",
   "metadata": {},
   "source": []
  },
  {
   "cell_type": "markdown",
   "id": "efbd5d5f",
   "metadata": {},
   "source": []
  },
  {
   "cell_type": "markdown",
   "id": "891a5ff2",
   "metadata": {},
   "source": []
  },
  {
   "cell_type": "markdown",
   "id": "85c6b88b",
   "metadata": {},
   "source": []
  },
  {
   "cell_type": "markdown",
   "id": "189a138d",
   "metadata": {},
   "source": []
  },
  {
   "cell_type": "markdown",
   "id": "968d5bf2",
   "metadata": {},
   "source": []
  },
  {
   "cell_type": "markdown",
   "id": "65c7e3a7",
   "metadata": {},
   "source": []
  },
  {
   "cell_type": "markdown",
   "id": "81eed969",
   "metadata": {},
   "source": []
  },
  {
   "cell_type": "markdown",
   "id": "cff2cd08",
   "metadata": {},
   "source": []
  },
  {
   "cell_type": "markdown",
   "id": "427aa5db",
   "metadata": {},
   "source": []
  },
  {
   "cell_type": "markdown",
   "id": "e3e54db4",
   "metadata": {},
   "source": []
  },
  {
   "cell_type": "markdown",
   "id": "843ddc45",
   "metadata": {},
   "source": []
  },
  {
   "cell_type": "markdown",
   "id": "2e508d25",
   "metadata": {},
   "source": []
  },
  {
   "cell_type": "markdown",
   "id": "e3528d0b",
   "metadata": {},
   "source": []
  }
 ],
 "metadata": {
  "kernelspec": {
   "display_name": "Python 3 (ipykernel)",
   "language": "python",
   "name": "python3"
  },
  "language_info": {
   "codemirror_mode": {
    "name": "ipython",
    "version": 3
   },
   "file_extension": ".py",
   "mimetype": "text/x-python",
   "name": "python",
   "nbconvert_exporter": "python",
   "pygments_lexer": "ipython3",
   "version": "3.11.4"
  }
 },
 "nbformat": 4,
 "nbformat_minor": 5
}
