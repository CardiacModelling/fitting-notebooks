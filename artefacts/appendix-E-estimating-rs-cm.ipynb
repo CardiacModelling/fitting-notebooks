{
 "cells": [
  {
   "cell_type": "markdown",
   "id": "7fb2df6f",
   "metadata": {},
   "source": [
    "# Appendix E: Estimating Rs and Cm\n",
    "**Appendix NOT SURE WHERE TO PUT THIS**"
   ]
  },
  {
   "cell_type": "markdown",
   "id": "e2ffeda4",
   "metadata": {},
   "source": [
    "During a patch clamp experiment, estimates of $R_s$ and $C_m$ must be made to facilitate slow capacitance and series resistance compensation.\n",
    "Here we review two methods: A \"one-shot\" method, that uses current measured during a test pulse without $R_s$ or $C_m$ compensation to make a single prediction, and an \"iterative\" method, that uses currents measured during successive test pulses while $R_s$ and $C_m$ compensations are refined."
   ]
  },
  {
   "cell_type": "markdown",
   "id": "78252eb3",
   "metadata": {},
   "source": [
    "## One-shot approach\n",
    "\n",
    "In this approach, we follow the pCLAMP 9 User Guide Rev D, as available from [Molecular devices](https://support.moleculardevices.com/s/article/pCLAMP-Software-Manual-Download-Page), starting on page 229.\n",
    "(The formatting deteriorates in subsequent editions)."
   ]
  },
  {
   "cell_type": "markdown",
   "id": "179a32c8",
   "metadata": {},
   "source": [
    "A cell is attached to the pipette, the fast artefact has been cancelled out, but no $R_s$ compensation or slow transient cancellation has been applied.\n",
    "\n",
    "A periodic step protocol is applied, consisting of repeating high ($V_1$) and low ($V_2$) steps of equal duration $T$.\n",
    "Both steps are analysed identically, so we will discuss only the step at $V_c = V_1$."
   ]
  },
  {
   "cell_type": "markdown",
   "id": "2a4f2ad6",
   "metadata": {},
   "source": [
    "<img src=\"resources/rscm-2-protocol.png\" style=\"margin:auto\" />"
   ]
  },
  {
   "cell_type": "markdown",
   "id": "312a300e",
   "metadata": {},
   "source": [
    "**TODO: Show slant of upstroke in diagram**"
   ]
  },
  {
   "cell_type": "markdown",
   "id": "3fc82793",
   "metadata": {},
   "source": [
    "The following quantities are measured:\n",
    "\n",
    "1. The mean currents in the last 20% of each step, yielding $I_1$ and $I_2$\n",
    "2. The area under the current curve, yielding $Q$\n",
    "3. A single exponential fit is performed, yielding $\\tau$.\n",
    "\n",
    "The fit is described as a \"fast logarithmic exponential fit ... using a look-up table for the log transforms\", suggesting a fit to $\\log(I)$, probably after transposing and inverting for step 2.\n",
    "It is unclear whether $I_1$ and $I_2$ are used in or derived from this step, or whether no info is shared between the estimates."
   ]
  },
  {
   "cell_type": "code",
   "execution_count": null,
   "id": "15dbd9e0",
   "metadata": {},
   "outputs": [],
   "source": []
  },
  {
   "cell_type": "code",
   "execution_count": null,
   "id": "1e97893b",
   "metadata": {},
   "outputs": [],
   "source": []
  },
  {
   "cell_type": "markdown",
   "id": "96026015",
   "metadata": {},
   "source": [
    "To analyse this, they start with a simplified model of the cell.\n",
    "\n",
    "<img src=\"resources/rscm-1-circuit.png\" style=\"margin:auto\" />"
   ]
  },
  {
   "cell_type": "markdown",
   "id": "609dd8fc",
   "metadata": {},
   "source": [
    "The command potential (no $V_p$ or delays etc) is applied to the series resistance $R_s$, causing a voltage drop to $V_m$.\n",
    "The cell is represented by its capacitance $C_m$ and a membrane resistance $R_m$.\n",
    "No leak or offsets are included.\n",
    "\n",
    "The current through $R_s$ is given by\n",
    "\n",
    "\\begin{align}\n",
    "I = \\frac{V_c - V_m}{R_s} = \\frac{V_m}{R_m} + C_m \\dot{V}_m\n",
    "\\end{align}"
   ]
  },
  {
   "cell_type": "markdown",
   "id": "1d5ad6c9",
   "metadata": {},
   "source": [
    "We can use this relation to write a model for $V_m$:\n",
    "\n",
    "\\begin{align}\n",
    "\\dot{V}_m = \\frac{\\frac{R_m}{R_m + R_s}V_c - V_m}{\\frac{R_mR_s}{R_m+R_s}C_m} = \\frac{V_\\infty - V}{\\tau}\n",
    "\\end{align}\n",
    "\n",
    "where, for the first step \n",
    "\\begin{align}\n",
    "V_\\infty = \\frac{R_m}{R_m+R_s}V_1 & \\quad & V_0 = \\frac{R_m}{R_m+R_s}V_2\n",
    "\\end{align}\n",
    "\n",
    "and \n",
    "\\begin{align}\n",
    "V(t) = V_\\infty - \\left(V_\\infty - V_0\\right) e^{-t/\\tau}\n",
    "\\end{align}"
   ]
  },
  {
   "cell_type": "markdown",
   "id": "8baf193f",
   "metadata": {},
   "source": [
    "Alternatively, we can write a model for $I$ as \n",
    "\n",
    "\\begin{align}\n",
    "\\dot{I} = \\frac{\\frac{V_c}{R_s + R_m} - I}{\\frac{R_sR_m}{R_s+R_m}C_m} + \\frac{\\dot{V}_c}{R_s}\n",
    "        = \\frac{I_\\infty - I}{\\tau} + \\frac{\\dot{V}_c}{R_s}\n",
    "\\end{align}\n",
    "\n",
    "analysing only the part of the first step where $V_c$ is constant, we can write\n",
    "\n",
    "\\begin{align}\n",
    "I_\\infty = \\frac{1}{R_m + R_s} V_1   &\\quad&\n",
    "I_0 = \\frac{V_1 - V_0}{R_s}\n",
    "    = \\frac{V_1 - \\frac{R_m}{R_m+R_s}V_2}{R_s}\n",
    "\\end{align}\n",
    "\n",
    "and \n",
    "\\begin{align}\n",
    "I(t) = I_\\infty - \\left(I_\\infty - I_0\\right) e^{-t/\\tau}\n",
    "\\end{align}"
   ]
  },
  {
   "cell_type": "markdown",
   "id": "d70c3032",
   "metadata": {},
   "source": []
  },
  {
   "cell_type": "markdown",
   "id": "36888e5d",
   "metadata": {},
   "source": []
  },
  {
   "cell_type": "markdown",
   "id": "2c79db67",
   "metadata": {},
   "source": []
  },
  {
   "cell_type": "code",
   "execution_count": 1,
   "id": "cd9302ba",
   "metadata": {},
   "outputs": [],
   "source": [
    "import myokit\n",
    "import numpy as np\n",
    "import matplotlib.pyplot as plt"
   ]
  },
  {
   "cell_type": "code",
   "execution_count": 2,
   "id": "efd71b05",
   "metadata": {},
   "outputs": [],
   "source": [
    "mA = myokit.parse_model('''\n",
    "[[model]]\n",
    "#amp.I_obs = 0\n",
    "amp.Vm = -70\n",
    "\n",
    "[engine]\n",
    "time = 0 [ms] in [ms] bind time\n",
    "pace = 0 bind pace\n",
    "\n",
    "[amp]\n",
    "Rs = 11.7e-3 [GOhm] in [GOhm]\n",
    "Cm = 31.89 [pF] in [pF]\n",
    "Rm = 0.5003 [GOhm] in [GOhm]\n",
    "Vc = 1 [mV] * engine.pace\n",
    "    in [mV]\n",
    "dot(Vm) = (Rm * I_obs - Vm) / (Rm * Cm)\n",
    "    in [mV]\n",
    "I_obs = (Vc - Vm) / Rs\n",
    "    in [pA]\n",
    "''')\n",
    "mA.check_units(myokit.UNIT_STRICT)\n",
    "\n",
    "# Get model constants\n",
    "Rs = mA.get('amp.Rs').eval()\n",
    "Rm = mA.get('amp.Rm').eval()\n",
    "Cm = mA.get('amp.Cm').eval()"
   ]
  },
  {
   "cell_type": "code",
   "execution_count": 7,
   "id": "043060a7",
   "metadata": {},
   "outputs": [],
   "source": [
    "T = 10\n",
    "V1 = -60\n",
    "V2 = -70\n",
    "dV = V1 - V2\n",
    "\n",
    "p = myokit.Protocol()\n",
    "p.schedule(start=0, level=V1, duration=T, period=2*T)\n",
    "p.schedule(start=T, level=V2, duration=T, period=2*T)"
   ]
  },
  {
   "cell_type": "code",
   "execution_count": 8,
   "id": "245620d1",
   "metadata": {},
   "outputs": [],
   "source": [
    "sA = myokit.Simulation(mA, p)\n",
    "sA.set_tolerance(1e-15, 1e-15)\n",
    "sA.set_max_step_size(1e-3)\n",
    "sA.pre(2*T)\n",
    "dA = sA.run(2*T).npview()"
   ]
  },
  {
   "cell_type": "code",
   "execution_count": 18,
   "id": "d8c1f6d9",
   "metadata": {},
   "outputs": [
    {
     "name": "stdout",
     "output_type": "stream",
     "text": [
      "-68.400390625 -58.62890624999999 0.3645867849609375\n",
      "717.9821047008547 -117.1875\n"
     ]
    },
    {
     "data": {
      "image/png": "[encoded data removed]",
      "text/plain": [
       "<Figure size 1080x360 with 2 Axes>"
      ]
     },
     "metadata": {
      "needs_background": "light"
     },
     "output_type": "display_data"
    }
   ],
   "source": [
    "fig = plt.figure(figsize=(15, 5))\n",
    "ax1 = fig.add_subplot(1, 2, 1)\n",
    "ax1.plot(dA.time(), dA['amp.Vm'])\n",
    "ax2 = fig.add_subplot(1, 2, 2)\n",
    "ax2.plot(dA.time(), dA['amp.I_obs'])\n",
    "\n",
    "# Calculate analytical solutions for V\n",
    "V0 = Rm / (Rm + Rs) * V2\n",
    "V8 = Rm / (Rm + Rs) * V1\n",
    "tau = (Rm * Rs) / (Rm + Rs) * Cm\n",
    "print(V0, V8, tau)\n",
    "\n",
    "# Show limits and exponential fit\n",
    "ax1.axhline(V0, color='grey', ls='--')\n",
    "ax1.axhline(V00, color='grey', ls='--')\n",
    "ax1.plot(dA.time(), V8 - (V8 - V0) * np.exp(-dA.time() / tau), '--')\n",
    "\n",
    "# Calculate analytical solutions for I\n",
    "I0 = (V1 - Rm / (Rm + Rs) * V2) / Rs\n",
    "I8 = 1 / (Rm + Rs) * V1\n",
    "print(I0, I8)\n",
    "\n",
    "# Show limits and exponential fit\n",
    "ax2.axhline(I0, color='grey', ls='--')\n",
    "ax2.axhline(I8, color='grey', ls='--')\n",
    "ax2.plot(dA.time(), I8 - (I8 - I0) * np.exp(-dA.time() / tau), '--')\n",
    "\n",
    "plt.show()"
   ]
  },
  {
   "cell_type": "code",
   "execution_count": null,
   "id": "578f4dbf",
   "metadata": {},
   "outputs": [],
   "source": []
  },
  {
   "cell_type": "code",
   "execution_count": null,
   "id": "442b7141",
   "metadata": {},
   "outputs": [],
   "source": []
  },
  {
   "cell_type": "code",
   "execution_count": null,
   "id": "0f74194a",
   "metadata": {},
   "outputs": [],
   "source": []
  },
  {
   "cell_type": "code",
   "execution_count": null,
   "id": "c2dd7b36",
   "metadata": {},
   "outputs": [],
   "source": [
    "mB = myokit.parse_model('''\n",
    "[[model]]\n",
    "desc: Simplified model of uncompensated patch clamp\n",
    "amp.Vm = -70\n",
    "amp.Vo = -70\n",
    "\n",
    "[engine]\n",
    "time = 0 [ms] in [ms] bind time\n",
    "pace = 0 bind pace\n",
    "\n",
    "[amp]\n",
    "Rm = 0.5003 [GOhm] in [GOhm]\n",
    "Rs = 11.7e-3 [GOhm] in [GOhm]\n",
    "Cm = 31.89 [pF] in [pF]\n",
    "Rf = 0.5 [GOhm] in [GOhm]\n",
    "Cf = 0.15 [pF] in [pF]\n",
    "I = Vm / Rm\n",
    "    in [pA]\n",
    "Vc = engine.pace * 1 [mV]\n",
    "    in [mV]\n",
    "dot(Vm) = (Vc - Vm) / (Rs * Cm) - I / Cm\n",
    "    in [mV]\n",
    "dot(Vo) = ((Vc - Vm) / Rs - (Vo - Vc) / Rf) / Cf\n",
    "    in [mV]\n",
    "I_obs = (Vo - Vc) / Rf\n",
    "    in [pA]\n",
    "''')\n",
    "mB.check_units(myokit.UNIT_STRICT)"
   ]
  },
  {
   "cell_type": "code",
   "execution_count": null,
   "id": "ce8f936e",
   "metadata": {},
   "outputs": [],
   "source": [
    "dt = (2 * T) / 500  # Axon uses 500 samples\n",
    "sB = myokit.Simulation(mB, p)\n",
    "sB.set_tolerance(1e-12, 1e-12)\n",
    "sB.pre(4 * T)\n",
    "dB = sB.run(2 * T, log_interval=dt).npview()\n",
    "\n",
    "print(f'Using dt={dt} for a total of {len(dB.time())} samples')"
   ]
  },
  {
   "cell_type": "code",
   "execution_count": null,
   "id": "5ad4107d",
   "metadata": {},
   "outputs": [],
   "source": [
    "fig = plt.figure(figsize=(15, 5))\n",
    "ax = fig.add_subplot(1, 2, 1)\n",
    "ax.plot(dB.time(), dB['amp.Vc'], color='grey', label='Vc')\n",
    "ax.plot(dB.time(), dB['amp.Vm'], label='Vm')\n",
    "ax.legend()\n",
    "ax = fig.add_subplot(1, 2, 2)\n",
    "ax.plot(dB.time(), dB['amp.I_obs'], label='Iobs')\n",
    "ax.axhline()\n",
    "\n",
    "ax.legend()\n",
    "plt.show()"
   ]
  },
  {
   "cell_type": "markdown",
   "id": "216457d4",
   "metadata": {},
   "source": [
    "The guide sets boundaries at 10%, 80% and 100%, which would correspond to samples 25, 200, and 250 in the first step.\n",
    "However, the whole software seems to use an additional offset of about 0.5ms (or possibly a number set in samples), so that we get more similar results using 15, 190, and 240."
   ]
  },
  {
   "cell_type": "code",
   "execution_count": null,
   "id": "89128117",
   "metadata": {},
   "outputs": [],
   "source": [
    "i10 = 15\n",
    "i80 = 190\n",
    "i100 = 240"
   ]
  },
  {
   "cell_type": "code",
   "execution_count": null,
   "id": "16f67549",
   "metadata": {},
   "outputs": [],
   "source": [
    "Iobs = dB['amp.I_obs']\n",
    "I1 = np.mean(Iobs[i80:i100])\n",
    "I2 = np.mean(Iobs[250 + i80:250 + i100])\n",
    "print(f'I1 = {I1:.2f}, I2 = {I2:.2f}')"
   ]
  },
  {
   "cell_type": "code",
   "execution_count": null,
   "id": "9124f12c",
   "metadata": {},
   "outputs": [],
   "source": [
    "# This step would involve 175 log table look-ups, and some\n",
    "# mechanism (e.g. an offset) to avoid logs of negative numbers\n",
    "logt = dB.time()[i10:i80]\n",
    "logi = np.log(Iobs[i10:i80] - I1)\n",
    "\n",
    "fig = plt.figure(figsize=(15, 5))\n",
    "ax = fig.add_subplot()\n",
    "ax.plot(logt, logi)\n",
    "\n",
    "# From this, we can calculate a very cheap tau\n",
    "tau_est = (0.7 * T) / (logi[0] - logi[-1])\n",
    "print(tau_est)\n",
    "\n",
    "# Or do a bit more work for a manual linear least squares\n",
    "mx = np.mean(logt)\n",
    "my = np.mean(logi)\n",
    "rx = logt - mx\n",
    "ry = logi - my\n",
    "b = np.sum(rx * ry) / np.sum(rx ** 2)\n",
    "tau_est = -1 / b\n",
    "print(tau_est)"
   ]
  },
  {
   "cell_type": "code",
   "execution_count": null,
   "id": "f328cd6a",
   "metadata": {},
   "outputs": [],
   "source": [
    "a = my - b * mx\n",
    "I0 = np.exp(a) - I1\n",
    "print(I0)\n",
    "Rs_est = I0 / dv\n",
    "print(f'Rs_est {Rs_est} GOhm')"
   ]
  },
  {
   "cell_type": "code",
   "execution_count": null,
   "id": "30b2123c",
   "metadata": {},
   "outputs": [],
   "source": [
    "fig = plt.figure(figsize=(15, 5))\n",
    "ax = fig.add_subplot(1, 2, 1)\n",
    "ax.plot(dB.time(), dB['amp.Vc'], color='grey', label='Vc')\n",
    "ax.plot(dB.time(), dB['amp.Vm'], label='Vm')\n",
    "ax.legend()\n",
    "ax = fig.add_subplot(1, 2, 2)\n",
    "ax.plot(dB.time(), dB['amp.I_obs'], label='Iobs')\n",
    "\n",
    "ax.plot(logt, I1 + (I0 - I1) * np.exp(-logt / tau_est))\n",
    "\n",
    "ax.legend()\n",
    "plt.show()"
   ]
  },
  {
   "cell_type": "code",
   "execution_count": null,
   "id": "4b0220ba",
   "metadata": {},
   "outputs": [],
   "source": []
  },
  {
   "cell_type": "code",
   "execution_count": null,
   "id": "a6fdf6e7",
   "metadata": {},
   "outputs": [],
   "source": [
    "Rm = 0.5003 \n",
    "Rs = 11.7e-3 \n",
    "Cm = 31.89\n",
    "Rf = 0.5 \n",
    "Cf = 0.15\n",
    "\n",
    "I0 = dV/Rs\n",
    "print(I0)\n",
    "tau = Rs * Rm / (Rs + Rm) * Cm\n",
    "print(tau)\n",
    "\n",
    "print((Rs * Rm) / (Rs + Rm))\n",
    "print((Rs) / (Rs + Rm))\n",
    "print((Rm) / (Rs + Rm))\n"
   ]
  },
  {
   "cell_type": "code",
   "execution_count": null,
   "id": "8ae84739",
   "metadata": {},
   "outputs": [],
   "source": []
  },
  {
   "cell_type": "code",
   "execution_count": null,
   "id": "691dc9b1",
   "metadata": {},
   "outputs": [],
   "source": []
  },
  {
   "cell_type": "code",
   "execution_count": null,
   "id": "03f2dfc2",
   "metadata": {},
   "outputs": [],
   "source": [
    "\n",
    "Vc = dB['amp.Vc']\n",
    "print(f'Vc[249]={Vc[249]}, Vc[250]={Vc[250]}')\n",
    "\n"
   ]
  },
  {
   "cell_type": "code",
   "execution_count": null,
   "id": "f00b7783",
   "metadata": {},
   "outputs": [],
   "source": []
  },
  {
   "cell_type": "code",
   "execution_count": null,
   "id": "0a2b4eb4",
   "metadata": {},
   "outputs": [],
   "source": [
    "# pA * ms = fC\n",
    "Q = dB.integrate('amp.I_obs')[249]\n",
    "print(f'Q = {Q} fC')"
   ]
  },
  {
   "cell_type": "code",
   "execution_count": null,
   "id": "014e5fe4",
   "metadata": {},
   "outputs": [],
   "source": []
  },
  {
   "cell_type": "code",
   "execution_count": null,
   "id": "3c417c77",
   "metadata": {},
   "outputs": [],
   "source": []
  },
  {
   "cell_type": "code",
   "execution_count": null,
   "id": "03ecfad3",
   "metadata": {},
   "outputs": [],
   "source": []
  },
  {
   "cell_type": "code",
   "execution_count": null,
   "id": "7c0fc4c9",
   "metadata": {},
   "outputs": [],
   "source": []
  },
  {
   "cell_type": "code",
   "execution_count": null,
   "id": "129f9b33",
   "metadata": {},
   "outputs": [],
   "source": []
  },
  {
   "cell_type": "markdown",
   "id": "ee6fa4b5",
   "metadata": {},
   "source": [
    "## Recap: 1st order equations\n",
    "\n",
    "Equations of the form\n",
    "\\begin{align}\n",
    "\\dot{x} = \\frac{x_\\infty - x}{\\tau}\n",
    "\\end{align}\n",
    "\n",
    "can be solved by substituting $y = x - x_\\infty$ for\n",
    "\\begin{align}\n",
    "\\frac{dy}{dt} = \\frac{-y}{\\tau} \\quad\\longrightarrow\\quad\n",
    "\\frac{dy}{y} = \\frac{-dt}{\\tau} \\quad\\longrightarrow\\quad\n",
    "\\ln y = e^{-t/\\tau} + C\n",
    "\\end{align}\n",
    "\n",
    "taking the exponential on both sides, and solving for the integration constant gives\n",
    "\\begin{align}\n",
    "y = c e^{-t/\\tau}\n",
    "  = y_0 e^{-t/\\tau}\n",
    "  = (x_0 - x_\\infty) e^{-t/\\tau}\n",
    "\\end{align}\n",
    "\n",
    "for\n",
    "\\begin{align}\n",
    "x = x_\\infty - (x_\\infty - x_0) e^{-t/\\tau}\n",
    "\\end{align}"
   ]
  },
  {
   "cell_type": "markdown",
   "id": "07954e63",
   "metadata": {},
   "source": [
    "### Integrating\n",
    "\n",
    "The integral under $x$ from $0$ to $T$ is\n",
    "\n",
    "\\begin{align}\n",
    "\\int_0^T x &= T x_\\infty - (x_\\infty - x_0) \\left[ -\\tau e^{-t/\\tau} \\right]_0^T \\\\\n",
    "           &= T x_\\infty - (x_\\infty - x_0) \\left[ -\\tau e^{-T/\\tau} + \\tau \\right] \\\\\n",
    "     &\\approx T x_\\infty - (x_\\infty - x_0) \\tau, \\quad \\text{if } T \\gg \\tau\n",
    "\\end{align}\n",
    "\n",
    "where $T$ doesn't need to be _that_ much greater than $\\tau$. \n",
    "For $T/\\tau$ we already find $e^{-20}\\approx 2\\cdot10^{-9}$.\n",
    "\n"
   ]
  },
  {
   "cell_type": "markdown",
   "id": "f3c00d5d",
   "metadata": {},
   "source": [
    "### Electronics version\n",
    "\n",
    "In a scenario with $x = I$, $\\tau = RC$, and $I_\\infty - I_0 = \\Delta I$, the contribution of the second term is given by\n",
    "\n",
    "\\begin{align}\n",
    "-\\Delta I \\tau = -\\frac{\\Delta V}{R} RC = - \\Delta V C\n",
    "\\end{align}\n",
    "\n"
   ]
  }
 ],
 "metadata": {
  "kernelspec": {
   "display_name": "Python 3 (ipykernel)",
   "language": "python",
   "name": "python3"
  },
  "language_info": {
   "codemirror_mode": {
    "name": "ipython",
    "version": 3
   },
   "file_extension": ".py",
   "mimetype": "text/x-python",
   "name": "python",
   "nbconvert_exporter": "python",
   "pygments_lexer": "ipython3",
   "version": "3.11.6"
  }
 },
 "nbformat": 4,
 "nbformat_minor": 5
}
