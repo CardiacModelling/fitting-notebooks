{
 "cells": [
  {
   "cell_type": "markdown",
   "id": "7fb2df6f",
   "metadata": {},
   "source": [
    "# Appendix E: Estimating Rs and Cm\n",
    "**Appendix NOT SURE WHERE TO PUT THIS**"
   ]
  },
  {
   "cell_type": "markdown",
   "id": "e2ffeda4",
   "metadata": {},
   "source": [
    "During a patch clamp experiment, estimates of $R_s$ and $C_m$ must be made to facilitate slow capacitance and series resistance compensation.\n",
    "Here we review two methods: A \"one-shot\" method, that uses current measured during a test pulse without $R_s$ or $C_m$ compensation to make a single prediction, and an \"iterative\" method, that uses currents measured during successive test pulses while $R_s$ and $C_m$ compensations are refined."
   ]
  },
  {
   "cell_type": "markdown",
   "id": "78252eb3",
   "metadata": {},
   "source": [
    "## One-shot approach\n",
    "\n",
    "In this approach, we follow the pCLAMP 10 User Guide, as available from [Molecular devices](https://support.moleculardevices.com/s/article/pCLAMP-Software-Manual-Download-Page) (the section is absent from the v11 manual).\n",
    "The relevant section starts on page 199.\n",
    "\n",
    "We start with a simplified model of the cell."
   ]
  },
  {
   "cell_type": "markdown",
   "id": "96026015",
   "metadata": {},
   "source": [
    "<img src=\"resources/rscm-1-circuit.png\" style=\"margin:auto\" />"
   ]
  },
  {
   "cell_type": "markdown",
   "id": "609dd8fc",
   "metadata": {},
   "source": [
    "The command potential (no $V_p$ or delays etc) is applied to the series resistance $R_s$, causing a voltage drop to $V_m$.\n",
    "The cell is represented by its capacitance $C_m$ and a membrane resistance $R_m$.\n",
    "No leak or offsets are included.\n",
    "\n",
    "The current through $R_s$ is given by\n",
    "\n",
    "\\begin{align}\n",
    "I = \\frac{V_c - V_m}{R_s} = \\frac{V_m}{R_m} + C_m \\dot{V}_m\n",
    "\\end{align}\n",
    "\n",
    "If we take $\\dot{V}_c$ to be zero, we can write\n",
    "\\begin{align}\n",
    "R_s \\dot{I} &= -\\dot{V}_m \\\\\n",
    "C_m R_s \\dot{I} &= -C_m \\dot{V}_m \n",
    "                 = \\frac{V_m}{R_m} - I \n",
    "                 = \\frac{V_c - I R_s}{R_m} - I\n",
    "                 = \\frac{V_c}{R_m} - \\frac{I R_s}{R_m} - I\n",
    "\\end{align}\n",
    "for\n",
    "\\begin{align}\n",
    "\\dot{I} &= \\frac{\\frac{V_c}{R_m} - \\frac{I R_s}{R_m} - I}{C_m R_s}\n",
    "         = \\frac{V_c - I R_s - I R_m}{C_m R_s R_m}\n",
    "         = \\frac{\\frac{V_c}{R_s + R_m} - I}{C_m \\frac{R_s R_m}{R_s + R_m}}\n",
    "         = \\frac{I_\\infty - I}{\\tau}        \n",
    "\\end{align}"
   ]
  },
  {
   "cell_type": "markdown",
   "id": "2a4f2ad6",
   "metadata": {},
   "source": [
    "<img src=\"resources/rscm-2-protocol.png\" style=\"margin:auto\" />"
   ]
  },
  {
   "cell_type": "markdown",
   "id": "6e7c4da8",
   "metadata": {},
   "source": []
  },
  {
   "cell_type": "markdown",
   "id": "d70c3032",
   "metadata": {},
   "source": []
  },
  {
   "cell_type": "markdown",
   "id": "36888e5d",
   "metadata": {},
   "source": []
  },
  {
   "cell_type": "markdown",
   "id": "2c79db67",
   "metadata": {},
   "source": []
  },
  {
   "cell_type": "code",
   "execution_count": 2,
   "id": "cd9302ba",
   "metadata": {},
   "outputs": [],
   "source": [
    "import myokit\n",
    "import numpy as np"
   ]
  },
  {
   "cell_type": "code",
   "execution_count": 14,
   "id": "efd71b05",
   "metadata": {},
   "outputs": [],
   "source": [
    "m = myokit.parse_model('''\n",
    "[[model]]\n",
    "step.I = 0\n",
    "\n",
    "[engine]\n",
    "time = 0 [ms] in [ms] bind time\n",
    "pace = 0 bind pace\n",
    "\n",
    "[step]\n",
    "Rs = 5e-3 [GOhm] in [GOhm]\n",
    "Rm = 0.5 [GOhm] in [GOhm]\n",
    "Cm = 40 [pF] in [pF]\n",
    "Vc = 1 [mV] * engine.pace\n",
    "    in [mV]\n",
    "dot(I) = (inf - I) / tau\n",
    "    in [pA]\n",
    "    inf = Vc / (Rs + Rm)\n",
    "        in [pA]\n",
    "    tau = Cm * Rs * Rm / (Rs + Rm)\n",
    "        in [ms]\n",
    "''')\n",
    "m.check_units(myokit.UNIT_STRICT)"
   ]
  },
  {
   "cell_type": "code",
   "execution_count": null,
   "id": "a1040b8f",
   "metadata": {},
   "outputs": [],
   "source": []
  },
  {
   "cell_type": "code",
   "execution_count": 32,
   "id": "c2dd7b36",
   "metadata": {},
   "outputs": [],
   "source": [
    "m = myokit.parse_model('''\n",
    "[[model]]\n",
    "amp.Vm = -80\n",
    "amp.Vp = -80\n",
    "amp.Vo = -80\n",
    "amp.Ve = -80\n",
    "amp.Vr = -80\n",
    "\n",
    "[engine]\n",
    "time = 0 [ms] in [ms] bind time\n",
    "pace = 0 bind pace\n",
    "\n",
    "[amp]\n",
    "Rs = 15e-3 [GOhm] in [GOhm]\n",
    "Rm = 0.5 [GOhm] in [GOhm]\n",
    "Cm = 25 [pF] in [pF]\n",
    "Cp = 5 [pF] in [pF]\n",
    "Rf = 0.5 [GOhm] in [GOhm]\n",
    "Cf = 0.15 [pF] in [pF]\n",
    "tau_amp = 20e-6 [ms] in [ms]\n",
    "tau_sum = 10e-3 [ms] in [ms]\n",
    "tau_est = 1e-8 [ms]\n",
    "    in [ms]\n",
    "I = Vm / Rm\n",
    "    in [pA]\n",
    "Vc = engine.pace * 1 [mV]\n",
    "    in [mV]\n",
    "dot(Vm) = (Vp - Vm) / (Rs * Cm) - I / Cm\n",
    "    in [mV]\n",
    "dot(Vp) = ((Vo - Vp) / Rf - (Vp - Vm) / Rs + Cf * dot(Vo)) / (Cp + Cf)\n",
    "    in [mV]\n",
    "dot(Vo) = (Vr - Vp) / tau_amp\n",
    "    in [mV]\n",
    "dot(Ve) = (Vc - Ve) / tau_est\n",
    "    in [mV]\n",
    "dot(Vr) = (Vc - Vr) / tau_sum\n",
    "    in [mV]\n",
    "I_obs = (Vo - Vr) / Rf\n",
    "    in [pA]\n",
    "''')\n",
    "m.check_units(myokit.UNIT_STRICT)"
   ]
  },
  {
   "cell_type": "code",
   "execution_count": 33,
   "id": "043060a7",
   "metadata": {},
   "outputs": [],
   "source": [
    "p = myokit.Protocol()\n",
    "p.schedule(start=0, level=-60, duration=10, period=20)\n",
    "p.schedule(start=10, level=-70, duration=10, period=20)"
   ]
  },
  {
   "cell_type": "code",
   "execution_count": 34,
   "id": "245620d1",
   "metadata": {},
   "outputs": [],
   "source": [
    "s = myokit.Simulation(m, p)\n",
    "s.pre(200)\n",
    "d = s.run(22, log_interval=1e-5)"
   ]
  },
  {
   "cell_type": "code",
   "execution_count": 35,
   "id": "d8c1f6d9",
   "metadata": {},
   "outputs": [
    {
     "data": {
      "image/png": "[encoded data removed]",
      "text/plain": [
       "<Figure size 432x288 with 2 Axes>"
      ]
     },
     "metadata": {
      "needs_background": "light"
     },
     "output_type": "display_data"
    }
   ],
   "source": [
    "\n",
    "\n",
    "import matplotlib.pyplot as plt\n",
    "fig = plt.figure()\n",
    "ax = fig.add_subplot(2, 1, 1)\n",
    "ax.plot(d.time(), d['amp.Vc'])\n",
    "ax = fig.add_subplot(2, 1, 2)\n",
    "ax.plot(d.time(), d['amp.I_obs'])\n",
    "plt.show()"
   ]
  },
  {
   "cell_type": "code",
   "execution_count": null,
   "id": "578f4dbf",
   "metadata": {},
   "outputs": [],
   "source": []
  },
  {
   "cell_type": "code",
   "execution_count": null,
   "id": "442b7141",
   "metadata": {},
   "outputs": [],
   "source": []
  },
  {
   "cell_type": "code",
   "execution_count": null,
   "id": "0f74194a",
   "metadata": {},
   "outputs": [],
   "source": []
  },
  {
   "cell_type": "code",
   "execution_count": null,
   "id": "ce8f936e",
   "metadata": {},
   "outputs": [],
   "source": []
  },
  {
   "cell_type": "code",
   "execution_count": null,
   "id": "5ad4107d",
   "metadata": {},
   "outputs": [],
   "source": []
  },
  {
   "cell_type": "code",
   "execution_count": null,
   "id": "03f2dfc2",
   "metadata": {},
   "outputs": [],
   "source": []
  },
  {
   "cell_type": "code",
   "execution_count": null,
   "id": "f00b7783",
   "metadata": {},
   "outputs": [],
   "source": []
  },
  {
   "cell_type": "code",
   "execution_count": null,
   "id": "129f9b33",
   "metadata": {},
   "outputs": [],
   "source": []
  },
  {
   "cell_type": "markdown",
   "id": "ee6fa4b5",
   "metadata": {},
   "source": [
    "## Recap: 1st order equations\n",
    "\n",
    "Equations of the form\n",
    "\\begin{align}\n",
    "\\dot{x} = \\frac{x_\\infty - x}{\\tau}\n",
    "\\end{align}\n",
    "\n",
    "can be solved by substituting $y = x - x_\\infty$ for\n",
    "\\begin{align}\n",
    "\\frac{dy}{dt} = \\frac{-y}{\\tau} \\quad\\longrightarrow\\quad\n",
    "\\frac{dy}{y} = \\frac{-dt}{\\tau} \\quad\\longrightarrow\\quad\n",
    "\\ln y = e^{-t/\\tau} + C\n",
    "\\end{align}\n",
    "\n",
    "taking the exponential on both sides, and solving for the integration constant gives\n",
    "\\begin{align}\n",
    "y = c e^{-t/\\tau}\n",
    "  = y_0 e^{-t/\\tau}\n",
    "  = (x_0 - x_\\infty) e^{-t/\\tau}\n",
    "\\end{align}\n",
    "\n",
    "for\n",
    "\\begin{align}\n",
    "x = x_\\infty - (x_\\infty - x_0) e^{-t/\\tau}\n",
    "\\end{align}"
   ]
  },
  {
   "cell_type": "markdown",
   "id": "07954e63",
   "metadata": {},
   "source": [
    "### Integrating\n",
    "\n",
    "The integral under $x$ from $0$ to $T$ is\n",
    "\n",
    "\\begin{align}\n",
    "\\int_0^T x &= T x_\\infty - (x_\\infty - x_0) \\left[ -\\tau e^{-t/\\tau} \\right]_0^T \\\\\n",
    "           &= T x_\\infty - (x_\\infty - x_0) \\left[ -\\tau e^{-T/\\tau} + \\tau \\right] \\\\\n",
    "     &\\approx T x_\\infty - (x_\\infty - x_0) \\tau, \\quad \\text{if } T \\gg \\tau\n",
    "\\end{align}\n",
    "\n",
    "where $T$ doesn't need to be _that_ much greater than $\\tau$. \n",
    "For $T/\\tau$ we already find $e^{-20}\\approx 2\\cdot10^{-9}$.\n",
    "\n"
   ]
  },
  {
   "cell_type": "markdown",
   "id": "f3c00d5d",
   "metadata": {},
   "source": [
    "### Electronics version\n",
    "\n",
    "In a scenario with $x = I$, $\\tau = RC$, and $I_\\infty - I_0 = \\Delta I$, the contribution of the second term is given by\n",
    "\n",
    "\\begin{align}\n",
    "-\\Delta I \\tau = -\\frac{\\Delta V}{R} RC = - \\Delta V C\n",
    "\\end{align}\n",
    "\n"
   ]
  }
 ],
 "metadata": {
  "kernelspec": {
   "display_name": "Python 3 (ipykernel)",
   "language": "python",
   "name": "python3"
  },
  "language_info": {
   "codemirror_mode": {
    "name": "ipython",
    "version": 3
   },
   "file_extension": ".py",
   "mimetype": "text/x-python",
   "name": "python",
   "nbconvert_exporter": "python",
   "pygments_lexer": "ipython3",
   "version": "3.11.6"
  }
 },
 "nbformat": 4,
 "nbformat_minor": 5
}
