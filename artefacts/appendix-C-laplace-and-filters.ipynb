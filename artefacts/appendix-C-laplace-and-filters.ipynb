{
 "cells": [
  {
   "cell_type": "markdown",
   "id": "44ff9bab",
   "metadata": {},
   "source": [
    "# Appendix C: Laplace transforms & filters"
   ]
  },
  {
   "cell_type": "markdown",
   "id": "15d86196",
   "metadata": {},
   "source": [
    "This notebook provides a brief summary of laplace transforms, and their use in analysing a system's response to an input signal $u(t)$."
   ]
  },
  {
   "cell_type": "markdown",
   "id": "2b01a012",
   "metadata": {},
   "source": [
    "## The impulse response\n",
    "\n",
    "This part of the text follows the outline given in \"Handleiding bij de cursus Systeemanalyse\" by Harm A. van Essen, 2002, and glosses over some tricky maths."
   ]
  },
  {
   "cell_type": "markdown",
   "id": "c93b0550",
   "metadata": {},
   "source": [
    "Let $\\delta(t)$ be the [unit impulse](https://en.wikipedia.org/wiki/Dirac_delta_function) or Dirac delta, which is commonly thought of as\n",
    "\n",
    "\\begin{align}\n",
    "\\delta(t - t_0) = \\begin{cases}\n",
    "\\infty, &t = t_0\\\\\n",
    "0, &t \\neq t_0\\end{cases}\n",
    "\\end{align}\n",
    "\n",
    "but has a more complicated \"proper\" definition as a [generalised function](https://en.wikipedia.org/wiki/Generalized_function) with properties:\n",
    "\n",
    "1. $$\\int_a^b \\delta(t)dt = 1 \\quad\\text{if } 0 \\in [a, b] $$\n",
    "2. $$\\int_a^b \\delta(t)dt = 0 \\quad\\text{if } 0 \\notin [a, b]$$\n",
    "3. $$\\int_{-\\infty}^{\\infty} \\delta(t - t_0)g(t)\\,dt = g(t_0)$$\n",
    "\n",
    "The response to a system driven with $\\delta$ is called the [impulse response](https://en.wikipedia.org/wiki/Impulse_response), and will be denoted here as $h(t)$."
   ]
  },
  {
   "cell_type": "markdown",
   "id": "99ecb1cd",
   "metadata": {},
   "source": [
    "The impulse response for lots of functions can be found in tables, but can also be worked out by hand. For example, given a system defined by \n",
    "\n",
    "$$ \\dot{y}(t) + ay(t) = u(t) $$\n",
    "\n",
    "where $y$ is the state, $u$ is the input and $a$ is a non-zero constant, we can fill in $u(t)=\\delta(t)$ and $y(t)=h(t)$ (by h's definition) so that \n",
    "\n",
    "$$ \\dot{h}(t) + ah(t) = \\delta(t) $$"
   ]
  },
  {
   "cell_type": "markdown",
   "id": "2a273061",
   "metadata": {},
   "source": [
    "Away from $t = 0$, we have $\\delta(t) = 0$ and so we can separate $\\frac{dh}{dt} = -ah$ as usual to find $h(t) = h_0 e^{-at}$.\n",
    "The situation near the discontinuity is harder to analyse, but the accepted solution is to let $h$ be zero just before it, $h(0^-) = 0$, and 1 immediately after it $h(0^+) = 1$.\n",
    "With this, the full impulse response becomes\n",
    "\n",
    "\\begin{align}\n",
    "h(t) = \\begin{cases}\n",
    "    e^{-at}, &t>0, \\\\\n",
    "    0, &t<0 \\end{cases}\n",
    "\\end{align}\n",
    "    "
   ]
  },
  {
   "cell_type": "markdown",
   "id": "724142d8",
   "metadata": {},
   "source": [
    "### The superposition principle\n",
    "\n",
    "Next, we introduce the **superposition principle**.\n",
    "This holds if, when input $u_1(t)$ has response $y_1(t)$ and input $u_2(t)$ has response $y_2(t)$, any **linear combination** of the input signals $u(t) = \\alpha_1 u_1(t) + \\alpha_2 u_2(t)$ results in the same linear combination of responses $y(t) = \\alpha_1 y_1(t) + \\alpha_2 y_2(t)$.\n",
    "\n",
    "The class of systems satisfying this priniciple are called **linear systems**.\n",
    "\n"
   ]
  },
  {
   "cell_type": "markdown",
   "id": "4d580eaf",
   "metadata": {},
   "source": [
    "### Decomposing arbitrary inputs into impulse responses\n",
    "\n",
    "Where the superposition principle holds, we can analyse the response to any input signal $u(t)$ by decomposing into inputs with known responses.\n",
    "If we're willing to do some maths, this can even be an infinite number of sub-inputs, for example sine waves or, in this case, the unit impulse.\n",
    "\n",
    "Again, let $\\delta(t - \\tau)$ be a unit impulse input, and $h(t - \\tau)$ the impulse response, then we can write $u(t)$ as a linear combination with an infinite number of terms $u(\\tau)\\delta(t - \\tau)\\,d\\tau$ (where $\\tau$ is a constant):\n",
    "\\begin{align}\n",
    "u(t) = \\int_{-\\infty}^\\infty u(\\tau)\\delta(t - \\tau)\\,d\\tau\n",
    "\\end{align}\n",
    "writing the same linear combination for the known step responses $h(t - \\tau)$ we find:\n",
    "\\begin{align}\n",
    "y(t) = \\int_{-\\infty}^\\infty u(\\tau)h(t - \\tau)\\,d\\tau\n",
    "\\end{align}"
   ]
  },
  {
   "cell_type": "markdown",
   "id": "3fc400c8",
   "metadata": {},
   "source": [
    "These horrible forms are known as \"convolution integrals\", sometimes denoted with a $*$:\n",
    "\\begin{align}\n",
    "(f * g)(t) = \\int_{-\\infty}^\\infty f(\\tau)g(t - \\tau)\\,d\\tau\n",
    "\\end{align}\n",
    "where the left hand side notation is meant to convey that this is an operation on _functions_: we are not convolving the functions themselves, not their evaluations on some specific value of $t$.\n",
    "Convolution is not restricted to time-varying functions: $t$ represents any free variable.\n",
    "For people who love properties of things we can add that $(f * g)(t) = (g * t)(t)$."
   ]
  },
  {
   "cell_type": "markdown",
   "id": "4f089054",
   "metadata": {},
   "source": [
    "In summary:\n",
    "\n",
    "1. The impulse function is a slightly dubious \"generalised function\" for which $\\int_a^b\\delta(t)dt=1$ if and only if $0\\in[a, b]$.\n",
    "2. A system's response to being driven with a unit impulse is called its impulse response, and can be derived or looked up in tables.\n",
    "3. If the system obeys the superposition principle, we can write its response to an arbitrary input signal as a convolution integral of the input and the impulse response."
   ]
  },
  {
   "cell_type": "markdown",
   "id": "5529fcd3",
   "metadata": {},
   "source": [
    "## The Laplace transform\n",
    "\n",
    "The Laplace transform is a one-to-one mapping between function spaces: it can be applied to a function \"in the time domain\" to yield another \"in the Laplace domain\".\n",
    "A typical use case is to apply the Laplace transformation, manipulate the function in ways that would have been harder in the time domain, and then transform back.\n",
    "\n",
    "For a function $f(t)$ on $t \\geq 0$, its Laplace transformation $F(s)$ is defined as\n",
    "\n",
    "\\begin{equation}\n",
    "F(s) = \\int_0^\\infty f(t) e^{-st} dt\n",
    "\\end{equation}\n",
    "\n",
    "where $s$ is the new free variable, and is a complex number (so we're mapping 1-d functions onto 2-d functions!).\n",
    "\n",
    "We can denote this transfer as $\\mathcal{L}\\{f(t)\\} = F(s)$"
   ]
  },
  {
   "cell_type": "markdown",
   "id": "ad3c668d",
   "metadata": {},
   "source": [
    "### The inverse transform?\n",
    "\n",
    "Being a nice one-to-one mapping, the Laplace transformation should have an inverse.\n",
    "You can find it on [wikipedia](https://en.wikipedia.org/wiki/Inverse_Laplace_transform), but it's more common to rely on tables when converting back to the time domain, and even more common to end the analysis without ever converting back!"
   ]
  },
  {
   "cell_type": "markdown",
   "id": "462946d2",
   "metadata": {},
   "source": [
    "### Some things are easier in the Laplace domain\n",
    "\n",
    "The Laplace transform has some very nice properties.\n",
    "For starters, **linear combinations** stay the same:\n",
    "\n",
    "\\begin{align}\n",
    "& \\int_0^\\infty \\left[a f(t) + b g(t)\\right] e^{-st} dt \\\\\n",
    "&= a \\int_0^\\infty f(t) e^{-st} dt + b \\int_0^\\infty g(t) e^{-st} dt \\\\\n",
    "&= aF(s) + bG(s)\n",
    "\\end{align}"
   ]
  },
  {
   "cell_type": "markdown",
   "id": "36fe69b2",
   "metadata": {},
   "source": [
    "#### Time-derivatives\n",
    "\n",
    "More surprisingly, time-derivatives become multiplications by powers of $s$.\n",
    "\n",
    "Starting from\n",
    "\\begin{align}\n",
    "\\int_0^\\infty \\dot{f}(t) e^{-st} dt\n",
    "\\end{align}\n",
    "\n",
    "we use integration by parts $\\int U dV = UV - \\int V dU$ with $U=e^{-st}$ and $dV=\\dot{f}(t)dt$ to find\n",
    "\n",
    "\\begin{align}\n",
    "\\int_0^\\infty \\dot{f}(t) e^{-st} dt\n",
    "&= \\left[f(t)e^{-st}\\right]_0^\\infty + \\int_0^\\infty f(t)se^{-st} dt \\\\\n",
    "&= 0 - f(0)e^0 + s \\int_0^\\infty f(t)e^{-st} dt \\\\\n",
    "&= s F(s) - f(0)\n",
    "\\end{align}\n",
    "\n",
    "or\n",
    "\n",
    "\\begin{align}\n",
    "\\mathcal{L}\\{\\dot{f}(t)\\} = s F(s) - f(0)\n",
    "\\end{align}"
   ]
  },
  {
   "cell_type": "markdown",
   "id": "094c3bdb",
   "metadata": {},
   "source": [
    "Similarly, for second order time-derivatives we get $\\mathcal{L}\\{\\ddot{f(t)}\\} = s^2F(s) - sf(0) - \\dot(f)(0)$."
   ]
  },
  {
   "cell_type": "markdown",
   "id": "3d698bc5",
   "metadata": {},
   "source": [
    "#### Convolution and impulse response\n",
    "\n",
    "Most importantly, ugly convolution becomes multiplication.\n",
    "\n",
    "To prove this, you start by writing out\n",
    "\\begin{align}\n",
    "\\mathcal{L}\\{f*g\\} = \\int_0^\\infty \\left(\\int_0^t f(\\tau) g(t-\\tau) \\,d\\tau \\right)e^{-st}dt\n",
    "\\end{align}\n",
    "and then, if you're _really_ good at integrals, you do several tricks and end up with\n",
    "\\begin{align}\n",
    "=F(s)G(s)\n",
    "\\end{align}\n",
    "\n",
    "As a result, for a system with input $u$ and impulse response $h(t)$, we can replace\n",
    "\\begin{align}\n",
    "y(t) = \\int_{-\\infty}^\\infty u(\\tau)h(t - \\tau)\\,d\\tau\n",
    "\\end{align}\n",
    "with\n",
    "\\begin{align}\n",
    "Y(s) = H(s) U(s)\n",
    "\\end{align}\n",
    "\n",
    "where $H(s) = Y(s)/U(s)$ is called the system's **transfer function**."
   ]
  },
  {
   "cell_type": "markdown",
   "id": "0377e8d8",
   "metadata": {},
   "source": [
    "#### More properties\n",
    "\n",
    "There's a [list on wikipedia](https://en.wikipedia.org/wiki/Laplace_transform#Properties_and_theorems)."
   ]
  },
  {
   "cell_type": "markdown",
   "id": "d79bc3fa",
   "metadata": {},
   "source": [
    "### Some transformed functions"
   ]
  },
  {
   "cell_type": "markdown",
   "id": "5bae9ee8",
   "metadata": {},
   "source": [
    "Exponentials:\n",
    "$$\\mathcal{L}\\{e^{-at}\\} = \\frac{1}{s + a}$$\n",
    "\n",
    "Sine & cosine:\n",
    "$$\\mathcal{L}\\{\\sin(\\omega t)\\} = \\frac{\\omega}{s^2 + \\omega^2}$$\n",
    "\n",
    "$$\\mathcal{L}\\{\\cos(\\omega t)\\} = \\frac{s}{s^2 + \\omega^2}$$\n",
    "\n",
    "The impulse function:\n",
    "$$\\mathcal{L}\\{\\delta(t)\\} = 1$$\n",
    "\n",
    "The step function, defined as \n",
    "\\begin{equation}\n",
    "\\theta(t - t_0) = \\begin{cases}1, &t > t_0\\\\0, &t < t_0\\end{cases}\n",
    "\\end{equation}\n",
    "has Laplace transform\n",
    "\\begin{equation}\n",
    "\\mathcal{L}\\{\\alpha \\theta(t)\\} = \\frac{\\alpha}{s}\n",
    "\\end{equation}\n",
    "(we have left the value at 0 undefined, but there are [other choices](https://en.wikipedia.org/wiki/Heaviside_step_function))."
   ]
  },
  {
   "cell_type": "markdown",
   "id": "347d2b70",
   "metadata": {},
   "source": [
    "### Poles and zeros\n",
    "\n",
    "The form\n",
    "\n",
    "\\begin{align}\n",
    "F(s) = \\frac{a_ms^m + a_{m-1}s^{m-1} + ...}{b_ns^n + b_{n-1}s^{n-1} + ...} = k\\frac{\\prod_{i=1}^m(s - z_i)}{\\prod_{i=1}^n(s - p_i)}\n",
    "\\end{align}\n",
    "\n",
    "is commonly analysed in terms of **poles** $p_i$ and **zeroes** $z_i$.\n",
    "\n",
    "A few common cases are discussed below."
   ]
  },
  {
   "cell_type": "markdown",
   "id": "37fd5134",
   "metadata": {},
   "source": [
    "#### Real poles result in exponential terms\n",
    "\n",
    "The form \n",
    "\\begin{equation}\n",
    "F(s) = \\frac{C_1}{s - p_1} + \\frac{C_2}{s - p_2} + ... + \\frac{C_n}{s - p_n}\n",
    "\\end{equation}\n",
    "where $p_i$ are all real numbers has inverse transform \n",
    "$$f(t) = C_1e^{p_1t} + C_2e^{p_2t} + ... + C_ne^{p_nt}$$\n",
    "\n",
    "Terms like $\\frac{C_i}{(s - p_i)^2}$ become $C_ite^{p_it}$, while $\\frac{C_i}{(s - p_i)^3}$ becomes $C_it^2e^{p_it}$ etc."
   ]
  },
  {
   "cell_type": "markdown",
   "id": "94652d8b",
   "metadata": {},
   "source": [
    "#### Imaginary poles give oscillations\n",
    "\n",
    "The form\n",
    "\\begin{equation}\n",
    "F(s) = \\frac{C_1 + C_2s}{(s - i\\omega)(s + i\\omega)} = \\frac{C_1 + C_2s}{s^2 +\\omega^2}\n",
    "\\end{equation}\n",
    "has inverse\n",
    "\\begin{equation}\n",
    "f(t) = \\left( \\frac{1}{\\omega} C_1\\sin(\\omega t) + C_2\\cos(\\omega t)\\right) \\theta(t)\n",
    "\\end{equation}"
   ]
  },
  {
   "cell_type": "markdown",
   "id": "b3fe2e42",
   "metadata": {},
   "source": [
    "#### Complex poles give growing or damped oscillations\n",
    "\n",
    "The form\n",
    "\\begin{equation}\n",
    "F(s) = \\frac{C_1 + C_2s}{(s+\\sigma-i\\omega)(s+\\sigma+i\\omega)} \n",
    "     = \\frac{C_1 + C_2s}{(s + \\sigma)^2 +\\omega^2}\n",
    "\\end{equation}\n",
    "has inverse\n",
    "\\begin{equation}\n",
    "f(t) = \\left(\n",
    "    \\frac{C_1 - C_2\\sigma}{\\omega}e^{-\\sigma t}\\sin(\\omega t) + C_2e^{-\\sigma t}\\cos(\\omega t)\n",
    "\\right) \\theta(t)\n",
    "\\end{equation}\n"
   ]
  },
  {
   "cell_type": "markdown",
   "id": "e853a336",
   "metadata": {},
   "source": [
    "In general, just by looking at the poles, we can tell if\n",
    "- the system is stable (real parts < 0) or instable (real parts > 0)\n",
    "- the system has exponential behaviour (no imaginary parts) or oscillates (imaginary parts)"
   ]
  },
  {
   "cell_type": "markdown",
   "id": "73c25283",
   "metadata": {},
   "source": [
    "## A few common systems"
   ]
  },
  {
   "cell_type": "markdown",
   "id": "5124c491",
   "metadata": {},
   "source": [
    "The ODE\n",
    "\\begin{align}\n",
    "\\tau \\dot{y} + y(t) = u(t)\n",
    "\\end{align}\n",
    "\n",
    "has Laplace transform \n",
    "\n",
    "\\begin{align}\n",
    "\\tau (s Y(s) - y(0)) + Y(s) = U(s)\n",
    "\\end{align}\n",
    "\n",
    "or\n",
    "\n",
    "\\begin{align}\n",
    "Y(s) = \\frac{\\tau y(0)}{\\tau s + 1} + \\frac{1}{\\tau s + 1} U(s)\n",
    "\\end{align}\n",
    "\n",
    "Here, the term on the left is called the _free_ or _natural response_, as it's the system's own response to its initial conditions.\n",
    "The term on the right is called the _forced response_."
   ]
  },
  {
   "cell_type": "markdown",
   "id": "a120e9cb",
   "metadata": {},
   "source": [
    "### A first order system with y(0) = 0\n",
    "\n",
    "The ODE\n",
    "\\begin{align}\n",
    "\\tau \\dot{y} + y(t) = K u(t)\n",
    "\\end{align}\n",
    "\n",
    "with $y(0) = 0$ has transfer function\n",
    "\n",
    "\\begin{align}\n",
    "H(s) = \\frac{1}{1 + s\\tau} = \\frac{\\omega}{\\omega + s}\n",
    "\\end{align}\n",
    "\n",
    "and impulse response\n",
    "\n",
    "\\begin{align}\n",
    "h(t) = \\frac{1}{\\tau} e^{-t/\\tau}\n",
    "\\end{align}"
   ]
  },
  {
   "cell_type": "markdown",
   "id": "766bf705",
   "metadata": {},
   "source": [
    "### A second order system with real & distinct poles\n",
    "\n",
    "The ODE\n",
    "\n",
    "\\begin{align}\n",
    "a \\ddot{y} + b \\dot{y} + c y(t) = u(t)\n",
    "\\end{align}\n",
    "\n",
    "with $y(0) = 0$ and $\\dot{y}(0) = 0$ has transfer function\n",
    "\n",
    "\\begin{align}\n",
    "H(s) = \\frac{1}{a s^2 + b s + c} = \\frac{k}{(s - p_1)(s - p_2)} = \\frac{C_1}{s - p_1} + \\frac{C_2}{s - p_2}\n",
    "\\end{align}\n",
    "\n",
    "where the last bit is a [partial fraction decomposition](https://en.wikipedia.org/wiki/Partial_fraction_decomposition).\n",
    "As a result, it has impulse function\n",
    "\n",
    "\\begin{align}\n",
    "h(t) = C_1 e^{p_1 t} + C_2 e^{p_2 t}\n",
    "\\end{align}"
   ]
  },
  {
   "cell_type": "markdown",
   "id": "0edde5d4",
   "metadata": {},
   "source": [
    "### A second order system with imaginary poles\n",
    "\n",
    "The ODE\n",
    "\\begin{align}\n",
    "\\ddot{y} + 2\\zeta\\omega\\dot{y} + \\omega^2 = u(t)\n",
    "\\end{align}\n",
    "\n",
    "with $y(0) = 0$, $\\dot{y}(0) = 0$, and $\\ddot{y}(0) = 0$, has transfer function\n",
    "\n",
    "\\begin{align}\n",
    "H(s) = \\frac{1}{s^2 + 2\\zeta\\omega s + \\omega^2}\n",
    "\\end{align}\n",
    "\n",
    "we can find the poles by solving $s^2 + 2\\zeta\\omega s + \\omega^2 = 0$ to find\n",
    "\\begin{align}\n",
    "-\\zeta \\omega \\pm \\omega \\sqrt{\\zeta^2 - 1}\n",
    "\\end{align}\n",
    "\n",
    "if we consider the case where $\\zeta > 1$, then the poles are real and we have the system above.\n",
    "For $\\zeta = 1$ we get a slightly different transfer function $\\frac{C_1s + C_2}{(s + \\omega)^2}$.\n",
    "But for $0 \\leq \\zeta < 1$ the poles must be imaginary.\n",
    "We can make this explicit by multiplying the term inside the square root by $-1$ and writing the poles as\n",
    "\\begin{align}\n",
    "-\\zeta \\omega \\pm i \\omega \\sqrt{1 - \\zeta^2}\n",
    "\\end{align}\n",
    "\n",
    "for\n",
    "\\begin{align}\n",
    "H(s) &= \\frac{1}{(s + \\zeta \\omega + i \\omega \\sqrt{1 - \\zeta^2})(s + \\zeta \\omega - i \\omega \\sqrt{1 - \\zeta^2})} \\\\\n",
    "  &= \\frac{1}{(s + \\zeta \\omega)^2 + \\omega^2 (1 - \\zeta^2)}\n",
    "\\end{align}\n",
    "\n",
    "Using the equation given above under \"poles and zeros\", we see that the impuls response is\n",
    "\n",
    "\\begin{align}\n",
    "f(t) &= \\frac{1}{\\omega \\sqrt{1 - \\zeta^2}}e^{-\\zeta\\omega t}\\sin\\left(\\omega \\sqrt{1 - \\zeta^2} t\\right) \\theta(t) \\\\\n",
    "&= \\frac{1}{\\omega_d}e^{-\\zeta\\omega t}\\sin\\left(\\omega_d t\\right) \\theta(t) \n",
    "\\end{align}\n",
    "\n",
    "where $\\zeta$ is the damping coefficient, $\\omega$ is the natural frequency, and $\\omega_d = \\omega\\sqrt{1 - \\zeta^2}$ is the damped frequency.\n"
   ]
  },
  {
   "cell_type": "markdown",
   "id": "20fb7cbe",
   "metadata": {},
   "source": [
    "## Filters\n",
    "\n",
    "Filters are commonly described using their transfer function."
   ]
  },
  {
   "cell_type": "markdown",
   "id": "fd49d887",
   "metadata": {},
   "source": [
    "For example, a [low-pass filter](https://en.wikipedia.org/wiki/Low-pass_filter) has transfer function\n",
    "\n",
    "\\begin{align}\n",
    "H(s) = \\frac{\\omega}{\\omega + s} = \\frac{1}{1 + \\tau s}\n",
    "\\end{align}\n",
    "\n",
    "where $\\tau = 1 / \\omega$.\n",
    "For example, in an RC circuit we get $\\tau = RC$.\n",
    "\n",
    "To see why this is a \"low pass\" filter, we can determine its response to a sine wave:\n",
    "\n",
    "\\begin{align}\n",
    "u(t) = \\sin(\\omega_u t)\n",
    "\\end{align}\n",
    "or\n",
    "\\begin{align}\n",
    "U(s) = \\frac{\\omega_u}{s^2 + \\omega_u^2}\n",
    "\\end{align}\n",
    "\n",
    "The response to this input is\n",
    "\\begin{align}\n",
    "Y(s) = H(s)U(s) = \\frac{\\omega \\omega_u}{(\\omega + s)(s^2 + \\omega_u^2)}\n",
    "\\end{align}\n"
   ]
  },
  {
   "cell_type": "markdown",
   "id": "195e2273",
   "metadata": {},
   "source": [
    "\\begin{align}\n",
    "\\end{align}\n",
    "\\begin{align}\n",
    "\\end{align}\n",
    "\\begin{align}\n",
    "\\end{align}\n",
    "\\begin{align}\n",
    "\\end{align}\n",
    "\\begin{align}\n",
    "\\end{align}\n",
    "\\begin{align}\n",
    "\\end{align}\n",
    "\\begin{align}\n",
    "\\end{align}\n",
    "\\begin{align}\n",
    "\\end{align}\n",
    "\\begin{align}\n",
    "\\end{align}\n",
    "\\begin{align}\n",
    "\\end{align}\n",
    "\\begin{align}\n",
    "\\end{align}\n",
    "\\begin{align}\n",
    "\\end{align}\n",
    "\\begin{align}\n",
    "\\end{align}\n",
    "\\begin{align}\n",
    "\\end{align}\n",
    "\\begin{align}\n",
    "\\end{align}\n",
    "\\begin{align}\n",
    "\\end{align}\n",
    "\\begin{align}\n",
    "\\end{align}\n",
    "\\begin{align}\n",
    "\\end{align}\n",
    "\\begin{align}\n",
    "\\end{align}\n",
    "\\begin{align}\n",
    "\\end{align}\n"
   ]
  },
  {
   "cell_type": "markdown",
   "id": "dff94891",
   "metadata": {},
   "source": []
  }
 ],
 "metadata": {
  "kernelspec": {
   "display_name": "Python 3 (ipykernel)",
   "language": "python",
   "name": "python3"
  },
  "language_info": {
   "codemirror_mode": {
    "name": "ipython",
    "version": 3
   },
   "file_extension": ".py",
   "mimetype": "text/x-python",
   "name": "python",
   "nbconvert_exporter": "python",
   "pygments_lexer": "ipython3",
   "version": "3.11.4"
  }
 },
 "nbformat": 4,
 "nbformat_minor": 5
}
