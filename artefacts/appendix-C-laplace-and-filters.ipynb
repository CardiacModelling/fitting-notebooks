{
 "cells": [
  {
   "cell_type": "markdown",
   "id": "44ff9bab",
   "metadata": {},
   "source": [
    "# Appendix C: Laplace transforms & filters"
   ]
  },
  {
   "cell_type": "markdown",
   "id": "15d86196",
   "metadata": {},
   "source": [
    "This notebook provides a brief summary of laplace transforms, and their use in analysing a system's response to an input signal $u(t)$."
   ]
  },
  {
   "cell_type": "markdown",
   "id": "2b01a012",
   "metadata": {},
   "source": [
    "## The impulse response\n",
    "\n",
    "This part of the text follows the outline given in \"Handleiding bij de cursus Systeemanalyse\" by Harm A. van Essen, 2002, and glosses over some tricky maths."
   ]
  },
  {
   "cell_type": "markdown",
   "id": "c93b0550",
   "metadata": {},
   "source": [
    "Let $\\delta(t)$ be the [unit impulse](https://en.wikipedia.org/wiki/Dirac_delta_function) or Dirac delta, which is commonly thought of as\n",
    "\n",
    "\\begin{align}\n",
    "\\delta(t - t_0) = \\begin{cases}\n",
    "\\infty, &t = t_0\\\\\n",
    "0, &t \\neq t_0\\end{cases}\n",
    "\\end{align}\n",
    "\n",
    "but has a more complicated \"proper\" definition as a [generalised function](https://en.wikipedia.org/wiki/Generalized_function) with properties:\n",
    "\n",
    "1. $$\\int_a^b \\delta(t)dt = 1 \\quad\\text{if } 0 \\in [a, b] $$\n",
    "2. $$\\int_a^b \\delta(t)dt = 0 \\quad\\text{if } 0 \\notin [a, b]$$\n",
    "3. $$\\int_{-\\infty}^{\\infty} \\delta(t - t_0)g(t)\\,dt = g(t_0)$$\n",
    "\n",
    "The response to a system driven with $\\delta$ is called the [impulse response](https://en.wikipedia.org/wiki/Impulse_response), and will be denoted here as $h(t)$."
   ]
  },
  {
   "cell_type": "markdown",
   "id": "99ecb1cd",
   "metadata": {},
   "source": [
    "The impulse response for lots of functions can be found in tables, but can also be worked out by hand. For example, given a system defined by \n",
    "\n",
    "$$ \\dot{y}(t) + ay(t) = u(t) $$\n",
    "\n",
    "where $y$ is the state, $u$ is the input and $a$ is a non-zero constant, we can fill in $u(t)=\\delta(t)$ and $y(t)=h(t)$ (by h's definition) so that \n",
    "\n",
    "$$ \\dot{h}(t) + ah(t) = \\delta(t) $$"
   ]
  },
  {
   "cell_type": "markdown",
   "id": "2a273061",
   "metadata": {},
   "source": [
    "Away from $t = 0$, we have $\\delta(t) = 0$ and so we can separate $\\frac{dh}{dt} = -ah$ as usual to find $h(t) = h_0 e^{-at}$.\n",
    "The situation near the discontinuity is harder to analyse, but the accepted solution is to let $h$ be zero just before it, $h(0^-) = 0$, and 1 immediately after it $h(0^+) = 1$.\n",
    "With this, the full impulse response becomes\n",
    "\n",
    "\\begin{align}\n",
    "h(t) = \\begin{cases}\n",
    "    e^{-at}, &t>0, \\\\\n",
    "    0, &t<0 \\end{cases}\n",
    "\\end{align}\n",
    "    "
   ]
  },
  {
   "cell_type": "markdown",
   "id": "724142d8",
   "metadata": {},
   "source": [
    "### The superposition principle\n",
    "\n",
    "Next, we introduce the **superposition principle**.\n",
    "This holds if, when input $u_1(t)$ has response $y_1(t)$ and input $u_2(t)$ has response $y_2(t)$, any **linear combination** of the input signals $u(t) = \\alpha_1 u_1(t) + \\alpha_2 u_2(t)$ results in the same linear combination of responses $y(t) = \\alpha_1 y_1(t) + \\alpha_2 y_2(t)$.\n",
    "\n",
    "The class of systems satisfying this priniciple are called **linear systems**.\n",
    "\n"
   ]
  },
  {
   "cell_type": "markdown",
   "id": "4d580eaf",
   "metadata": {},
   "source": [
    "### Decomposing arbitrary inputs into impulse responses\n",
    "\n",
    "Where the superposition principle holds, we can analyse the response to any input signal $u(t)$ by decomposing into inputs with known responses.\n",
    "If we're willing to do some maths, this can even be an infinite number of sub-inputs, for example sine waves or, in this case, the unit impulse.\n",
    "\n",
    "Again, let $\\delta(t - \\tau)$ be a unit impulse input, and $h(t - \\tau)$ the impulse response, then we can write $u(t)$ as a linear combination with an infinite number of terms $u(\\tau)\\delta(t - \\tau)\\,d\\tau$ (where $\\tau$ is a constant):\n",
    "\\begin{align}\n",
    "u(t) = \\int_{-\\infty}^\\infty u(\\tau)\\delta(t - \\tau)\\,d\\tau\n",
    "\\end{align}\n",
    "writing the same linear combination for the known step responses $h(t - \\tau)$ we find:\n",
    "\\begin{align}\n",
    "y(t) = \\int_{-\\infty}^\\infty u(\\tau)h(t - \\tau)\\,d\\tau\n",
    "\\end{align}"
   ]
  },
  {
   "cell_type": "markdown",
   "id": "3fc400c8",
   "metadata": {},
   "source": [
    "These horrible forms are known as \"convolution integrals\", sometimes denoted with a $*$:\n",
    "\\begin{align}\n",
    "(f * g)(t) = \\int_{-\\infty}^\\infty f(\\tau)g(t - \\tau)\\,d\\tau\n",
    "\\end{align}\n",
    "where the left hand side notation is meant to convey that this is an operation on _functions_: we are not convolving the functions themselves, not their evaluations on some specific value of $t$.\n",
    "Convolution is not restricted to time-varying functions: $t$ represents any free variable.\n",
    "For people who love properties of things we can add that $(f * g)(t) = (g * t)(t)$."
   ]
  },
  {
   "cell_type": "markdown",
   "id": "4f089054",
   "metadata": {},
   "source": [
    "In summary:\n",
    "\n",
    "1. The impulse function is a slightly dubious \"generalised function\" for which $\\int_a^b\\delta(t)dt=1$ if and only if $0\\in[a, b]$.\n",
    "2. A system's response to being driven with a unit impulse is called its impulse response, and can be derived or looked up in tables.\n",
    "3. If the system obeys the superposition principle, we can write its response to an arbitrary input signal as a convolution integral of the input and the impulse response."
   ]
  },
  {
   "cell_type": "markdown",
   "id": "5529fcd3",
   "metadata": {},
   "source": [
    "## The Laplace transform\n",
    "\n",
    "The Laplace transform is a one-to-one mapping between function spaces: it can be applied to a function \"in the time domain\" to yield another \"in the Laplace domain\".\n",
    "A typical use case is to apply the Laplace transformation, manipulate the function in ways that would have been harder in the time domain, and then transform back.\n",
    "\n",
    "For a function $f(t)$ on $t \\geq 0$, its Laplace transformation $F(s)$ is defined as\n",
    "\n",
    "\\begin{equation}\n",
    "F(s) = \\int_0^\\infty f(t) e^{-st} dt\n",
    "\\end{equation}\n",
    "\n",
    "where $s$ is the new free variable, and is a complex number (so we're mapping 1-d functions onto 2-d functions!).\n",
    "\n",
    "We can denote this transfer as $\\mathcal{L}\\{f(t)\\} = F(s)$"
   ]
  },
  {
   "cell_type": "markdown",
   "id": "ad3c668d",
   "metadata": {},
   "source": [
    "### The inverse transform?\n",
    "\n",
    "Being a nice one-to-one mapping, the Laplace transformation should have an inverse.\n",
    "You can find it on [wikipedia](https://en.wikipedia.org/wiki/Inverse_Laplace_transform), but it's more common to rely on tables when converting back to the time domain, and even more common to end the analysis without ever converting back!"
   ]
  },
  {
   "cell_type": "markdown",
   "id": "462946d2",
   "metadata": {},
   "source": [
    "## Some things are easier in the Laplace domain\n",
    "\n",
    "The Laplace transform has some very nice properties.\n",
    "For starters, **linear combinations** stay the same:\n",
    "\n",
    "\\begin{align}\n",
    "& \\int_0^\\infty \\left[a f(t) + b g(t)\\right] e^{-st} dt \\\\\n",
    "&= a \\int_0^\\infty f(t) e^{-st} dt + b \\int_0^\\infty g(t) e^{-st} dt \\\\\n",
    "&= aF(s) + bG(s)\n",
    "\\end{align}"
   ]
  },
  {
   "cell_type": "markdown",
   "id": "36fe69b2",
   "metadata": {},
   "source": [
    "### Time-derivatives\n",
    "\n",
    "More surprisingly, time-derivatives become multiplications by powers of $s$.\n",
    "\n",
    "Starting from\n",
    "\\begin{align}\n",
    "\\int_0^\\infty \\dot{f}(t) e^{-st} dt\n",
    "\\end{align}\n",
    "\n",
    "we use integration by parts $\\int U dV = UV - \\int V dU$ with $U=e^{-st}$ and $dV=\\dot{f}(t)dt$ to find\n",
    "\n",
    "\\begin{align}\n",
    "\\int_0^\\infty \\dot{f}(t) e^{-st} dt\n",
    "&= \\left[f(t)e^{-st}\\right]_0^\\infty + \\int_0^\\infty f(t)se^{-st} dt \\\\\n",
    "&= 0 - f(0)e^0 + s \\int_0^\\infty f(t)e^{-st} dt \\\\\n",
    "&= s F(s) - f(0)\n",
    "\\end{align}\n",
    "\n",
    "or\n",
    "\n",
    "\\begin{align}\n",
    "\\mathcal{L}\\{\\dot{f}(t)\\} = s F(s) - f(0)\n",
    "\\end{align}\n",
    "\n",
    "Similarly, for second order time-derivatives we get $\\mathcal{L}\\{\\ddot{f(t)}\\} = s^2F(s) - sf(0) - \\dot(f)(0)$."
   ]
  },
  {
   "cell_type": "markdown",
   "id": "3d698bc5",
   "metadata": {},
   "source": [
    "### Convolution and impulse response\n",
    "\n",
    "Most importantly, ugly convolution becomes multiplication.\n",
    "\n",
    "To prove this, you start by writing out\n",
    "\\begin{align}\n",
    "\\mathcal{L}\\{f*g\\} = \\int_0^\\infty \\left(\\int_0^t f(\\tau) g(t-\\tau) \\,d\\tau \\right)e^{-st}dt\n",
    "\\end{align}\n",
    "and then, if you're _really_ good at integrals, you do several tricks and end up with\n",
    "\\begin{align}\n",
    "=F(s)G(s)\n",
    "\\end{align}\n",
    "\n",
    "As a result, for a system with input $u$ and impulse response $h(t)$, we can replace\n",
    "\\begin{align}\n",
    "y(t) = \\int_{-\\infty}^\\infty u(\\tau)h(t - \\tau)\\,d\\tau\n",
    "\\end{align}\n",
    "with\n",
    "\\begin{align}\n",
    "Y(s) = H(s) U(s)\n",
    "\\end{align}\n",
    "\n",
    "where $H(s) = Y(s)/U(s)$ is called the system's **transfer function**."
   ]
  },
  {
   "cell_type": "markdown",
   "id": "0377e8d8",
   "metadata": {},
   "source": [
    "### More properties\n",
    "\n",
    "There's a [list on wikipedia](https://en.wikipedia.org/wiki/Laplace_transform#Properties_and_theorems)."
   ]
  },
  {
   "cell_type": "markdown",
   "id": "5bae9ee8",
   "metadata": {},
   "source": [
    "## Some transformed functions\n",
    "\n",
    "Exponentials:\n",
    "$$\\mathcal{L}\\{e^{-at}\\} = \\frac{1}{s + a}$$\n",
    "\n",
    "Sine & cosine:\n",
    "$$\\mathcal{L}\\{\\sin(\\omega t)\\}\n",
    "    = \\mathcal{L}\\left\\{\\frac{e^{i \\omega t} - e^{i \\omega t}}{2i}\\right\\}\n",
    "    = \\frac{\\omega}{s^2 + \\omega^2}$$\n",
    "\n",
    "$$\\mathcal{L}\\{\\cos(\\omega t)\\}\n",
    "    = \\mathcal{L}\\left\\{\\frac{e^{i \\omega t} + e^{i \\omega t}}{2}\\right\\}\n",
    "    = \\frac{s}{s^2 + \\omega^2}$$\n",
    "\n",
    "The impulse function:\n",
    "$$\\mathcal{L}\\{\\delta(t)\\} = 1$$\n",
    "\n",
    "The step function, defined as \n",
    "\\begin{equation}\n",
    "\\theta(t - t_0) = \\begin{cases}1, &t > t_0\\\\0, &t < t_0\\end{cases}\n",
    "\\end{equation}\n",
    "has Laplace transform\n",
    "\\begin{equation}\n",
    "\\mathcal{L}\\{\\alpha \\theta(t)\\} = \\frac{\\alpha}{s}\n",
    "\\end{equation}\n",
    "(we have left the value at 0 undefined, but there are [other choices](https://en.wikipedia.org/wiki/Heaviside_step_function)).\n",
    "\n",
    "There are lots of tables of Laplace transforms out there, including the [Laplace transform wikipedia page](https://en.wikipedia.org/wiki/Laplace_transform)."
   ]
  },
  {
   "cell_type": "markdown",
   "id": "347d2b70",
   "metadata": {},
   "source": [
    "## Poles and zeros\n",
    "\n",
    "The form\n",
    "\n",
    "\\begin{align}\n",
    "F(s) = \\frac{a_ms^m + a_{m-1}s^{m-1} + ...}{b_ns^n + b_{n-1}s^{n-1} + ...} = k\\frac{\\prod_{i=1}^m(s - z_i)}{\\prod_{i=1}^n(s - p_i)}\n",
    "\\end{align}\n",
    "\n",
    "is commonly analysed in terms of **poles** $p_i$ and **zeroes** $z_i$.\n",
    "\n",
    "A few common cases are discussed below."
   ]
  },
  {
   "cell_type": "markdown",
   "id": "37fd5134",
   "metadata": {},
   "source": [
    "### Real poles result in exponential terms\n",
    "\n",
    "The form \n",
    "\\begin{equation}\n",
    "F(s) = \\frac{C_1}{s - p_1} + \\frac{C_2}{s - p_2} + ... + \\frac{C_n}{s - p_n}\n",
    "\\end{equation}\n",
    "where $p_i$ are all real numbers has inverse transform \n",
    "$$f(t) = C_1e^{p_1t} + C_2e^{p_2t} + ... + C_ne^{p_nt}$$\n",
    "\n",
    "Terms like $\\frac{C_i}{(s - p_i)^2}$ become $C_ite^{p_it}$, while $\\frac{C_i}{(s - p_i)^3}$ becomes $C_it^2e^{p_it}$ etc."
   ]
  },
  {
   "cell_type": "markdown",
   "id": "94652d8b",
   "metadata": {},
   "source": [
    "### Imaginary poles give oscillations\n",
    "\n",
    "The form\n",
    "\\begin{equation}\n",
    "F(s) = \\frac{C_1 + C_2s}{(s - i\\omega)(s + i\\omega)} = \\frac{C_1 + C_2s}{s^2 +\\omega^2}\n",
    "\\end{equation}\n",
    "has inverse\n",
    "\\begin{equation}\n",
    "f(t) = \\left( \\frac{1}{\\omega} C_1\\sin(\\omega t) + C_2\\cos(\\omega t)\\right) \\theta(t)\n",
    "\\end{equation}"
   ]
  },
  {
   "cell_type": "markdown",
   "id": "b3fe2e42",
   "metadata": {},
   "source": [
    "### Complex poles give growing or damped oscillations\n",
    "\n",
    "The form\n",
    "\\begin{equation}\n",
    "F(s) = \\frac{C_1 + C_2s}{(s+\\sigma-i\\omega)(s+\\sigma+i\\omega)} \n",
    "     = \\frac{C_1 + C_2s}{(s + \\sigma)^2 +\\omega^2}\n",
    "\\end{equation}\n",
    "with poles $-\\sigma + i\\omega$ and $-\\sigma -i\\omega$, has inverse\n",
    "\\begin{equation}\n",
    "f(t) = \\left(\n",
    "    \\frac{C_1 - C_2\\sigma}{\\omega}e^{-\\sigma t}\\sin(\\omega t) + C_2e^{-\\sigma t}\\cos(\\omega t)\n",
    "\\right) \\theta(t)\n",
    "\\end{equation}\n"
   ]
  },
  {
   "cell_type": "markdown",
   "id": "e853a336",
   "metadata": {},
   "source": [
    "In general, just by looking at the poles, we can tell if\n",
    "- the system is stable (real parts < 0) or instable (real parts > 0)\n",
    "- the system has exponential behaviour (no imaginary parts)\n",
    "  - or just oscillates (only imaginary parts)\n",
    "  - or has damped/growing oscillations (real and imaginary parts)"
   ]
  },
  {
   "cell_type": "markdown",
   "id": "5124c491",
   "metadata": {},
   "source": [
    "## A few common systems\n",
    "\n",
    "The ODE\n",
    "\\begin{align}\n",
    "\\tau \\dot{y} + y(t) = u(t)\n",
    "\\end{align}\n",
    "\n",
    "has Laplace transform \n",
    "\n",
    "\\begin{align}\n",
    "\\tau (s Y(s) - y(0)) + Y(s) = U(s)\n",
    "\\end{align}\n",
    "\n",
    "or\n",
    "\n",
    "\\begin{align}\n",
    "Y(s) = \\frac{\\tau y(0)}{\\tau s + 1} + \\frac{1}{\\tau s + 1} U(s)\n",
    "\\end{align}\n",
    "\n",
    "The first term is called the **free** or **natural response** and represents the system's response to its initial conditions.\n",
    "The second term is called the **forced response**."
   ]
  },
  {
   "cell_type": "markdown",
   "id": "a120e9cb",
   "metadata": {},
   "source": [
    "### A first order system with y(0) = 0\n",
    "\n",
    "The ODE\n",
    "\\begin{align}\n",
    "\\tau \\dot{y} + y(t) = K u(t)\n",
    "\\end{align}\n",
    "\n",
    "with $y(0) = 0$ has transfer function\n",
    "\n",
    "\\begin{align}\n",
    "H(s) = \\frac{1}{1 + s\\tau} = \\frac{\\omega}{\\omega + s}\n",
    "\\end{align}\n",
    "\n",
    "and impulse response\n",
    "\n",
    "\\begin{align}\n",
    "h(t) = \\frac{1}{\\tau} e^{-t/\\tau}\n",
    "\\end{align}"
   ]
  },
  {
   "cell_type": "markdown",
   "id": "766bf705",
   "metadata": {},
   "source": [
    "### A second order system with real & distinct poles\n",
    "\n",
    "The ODE\n",
    "\n",
    "\\begin{align}\n",
    "a \\ddot{y} + b \\dot{y} + c y(t) = u(t)\n",
    "\\end{align}\n",
    "\n",
    "with $y(0) = 0$ and $\\dot{y}(0) = 0$ has transfer function\n",
    "\n",
    "\\begin{align}\n",
    "H(s) = \\frac{1}{a s^2 + b s + c} = \\frac{k}{(s - p_1)(s - p_2)} = \\frac{C_1}{s - p_1} + \\frac{C_2}{s - p_2}\n",
    "\\end{align}\n",
    "\n",
    "where the last bit is a [partial fraction decomposition](https://en.wikipedia.org/wiki/Partial_fraction_decomposition).\n",
    "As a result, it has impulse function\n",
    "\n",
    "\\begin{align}\n",
    "h(t) = C_1 e^{p_1 t} + C_2 e^{p_2 t}\n",
    "\\end{align}"
   ]
  },
  {
   "cell_type": "markdown",
   "id": "0edde5d4",
   "metadata": {},
   "source": [
    "### A second order system with imaginary poles\n",
    "\n",
    "The ODE\n",
    "\\begin{align}\n",
    "\\ddot{y} + 2\\zeta\\omega\\dot{y} + \\omega^2 = u(t)\n",
    "\\end{align}\n",
    "\n",
    "with $y(0) = 0$, $\\dot{y}(0) = 0$, and $\\ddot{y}(0) = 0$, has transfer function\n",
    "\n",
    "\\begin{align}\n",
    "H(s) = \\frac{1}{s^2 + 2\\zeta\\omega s + \\omega^2}\n",
    "\\end{align}\n",
    "\n",
    "we can find the poles by solving $s^2 + 2\\zeta\\omega s + \\omega^2 = 0$ to find\n",
    "\\begin{align}\n",
    "-\\zeta \\omega \\pm \\omega \\sqrt{\\zeta^2 - 1}\n",
    "\\end{align}\n",
    "\n",
    "If we consider the case where $\\zeta > 1$, then the poles are real and we have the system above.\n",
    "For $\\zeta = 1$ we get a slightly different transfer function $\\frac{C_1s + C_2}{(s + \\omega)^2}$.\n",
    "But for $0 \\leq \\zeta < 1$ the poles must be imaginary.\n",
    "We can make this explicit by multiplying the term inside the square root by $-1$ and writing the poles as\n",
    "\\begin{align}\n",
    "-\\zeta \\omega \\pm i \\omega \\sqrt{1 - \\zeta^2}\n",
    "\\end{align}\n",
    "\n",
    "for\n",
    "\\begin{align}\n",
    "H(s) &= \\frac{1}{(s + \\zeta \\omega + i \\omega \\sqrt{1 - \\zeta^2})(s + \\zeta \\omega - i \\omega \\sqrt{1 - \\zeta^2})} \\\\\n",
    "  &= \\frac{1}{(s + \\zeta \\omega)^2 + \\omega^2 (1 - \\zeta^2)}\n",
    "\\end{align}\n",
    "\n",
    "Using the equation given above under \"poles and zeros\", we see that the impuls response is\n",
    "\n",
    "\\begin{align}\n",
    "f(t) &= \\frac{1}{\\omega \\sqrt{1 - \\zeta^2}}e^{-\\zeta\\omega t}\\sin\\left(\\omega \\sqrt{1 - \\zeta^2} t\\right) \\theta(t) \\\\\n",
    "&= \\frac{1}{\\omega_d}e^{-\\zeta\\omega t}\\sin\\left(\\omega_d t\\right) \\theta(t) \n",
    "\\end{align}\n",
    "\n",
    "where $\\zeta$ is the _damping coefficient_, $\\omega$ is the _natural frequency_, and $\\omega_d = \\omega\\sqrt{1 - \\zeta^2}$ is the _damped frequency_."
   ]
  },
  {
   "cell_type": "markdown",
   "id": "8aedf673",
   "metadata": {},
   "source": [
    "## Frequency response example: a low-pass filter\n",
    "\n",
    "\n",
    "# TODO, Rewrite with $\\tau$ and using \\cos\n",
    "\n",
    "\n",
    "For many applications, particularly in engineering, the most interesting part of a system is how it responds to a (co)sinusoidal input.\n",
    "\n",
    "We can obtain this by filling in the laplace transform of a sine for U(s), carrying out the multiplication with H(s), and then working out the inverse transform.\n",
    "We'll do this below for illustrative purposes, but skip to the next section to see why people usually don't.\n",
    "\n",
    "A [low-pass filter](https://en.wikipedia.org/wiki/Low-pass_filter) has transfer function\n",
    "\n",
    "\\begin{align}\n",
    "H(s) = \\frac{\\omega}{\\omega + s} = \\frac{1}{1 + \\tau s}\n",
    "\\end{align}\n",
    "where $\\tau = 1 / \\omega$.\n",
    "For example, in an RC circuit we get $\\tau = RC$.\n",
    "\n",
    "To see why it's called a \"low-pass filter\", we apply the input\n",
    "\\begin{align}\n",
    "u(t) = \\sin(\\phi t)\n",
    "\\end{align}\n",
    "or\n",
    "\\begin{align}\n",
    "U(s) = \\frac{\\phi}{s^2 + \\phi^2}\n",
    "\\end{align}\n",
    "to get\n",
    "\\begin{align}\n",
    "Y(s) = H(s)U(s) = \\frac{\\omega \\phi}{(s + \\omega)(s^2 + \\phi^2)}\n",
    "\\end{align}\n",
    "\n",
    "Partial fraction decomposition lets us write this as \n",
    "\\begin{align}\n",
    "Y(s) = \\frac{\\omega \\phi}{(\\omega + s)(s^2 + \\phi^2)}\n",
    "     = \\frac{C_1}{s + \\omega} + \\frac{C_2 s + C_3}{s^2 + \\phi^2}\n",
    "\\end{align}\n",
    "\n",
    "We find the numerators by bringing under a common denominator and writing out the full equation:\n",
    "\n",
    "\\begin{align}\n",
    "Y(s) &= \\frac{C_1s^2 + C_1\\phi^2 + C_2s^2 + C_2s\\omega + C_3s + C_3\\omega}{(s + \\omega)(s^2 + \\phi^2)} \\\\\n",
    "     &= \\frac{(C_1 + C_2)s^2  + (C_2\\omega + C_3)s + (C_1\\phi^2+ C_3\\omega)}{(s + \\omega)(s^2 + \\phi^2)} \\\\\n",
    "\\end{align}\n",
    "so that\n",
    "\\begin{align}\n",
    "C_1 + C_2 = 0 \\\\\n",
    "C_2\\omega + C_3 = 0 \\\\\n",
    "C_1\\phi^2+ C_3\\omega = \\omega\\phi\n",
    "\\end{align}\n",
    "or $C_2 = -C_1$, $C_3 = C_1\\omega$, and $C_1 = \\frac{\\omega\\phi}{\\omega^2 + \\phi^2}$.\n",
    "\n",
    "Substituting the equations for $C_2$ and $C_3$ into the partial fraction decomposition we see that\n",
    "\\begin{align}\n",
    "Y(s) &= C_1 \\frac{1}{s + \\omega} - C_1 \\frac{s}{s^2 + \\phi^2} + C_1 \\omega \\frac{1}{s^2 + \\phi^2} \\\\\n",
    "     &= C_1 \\left[ \\frac{1}{s + \\omega} - \\frac{s}{s^2 + \\phi^2} + \\frac{\\omega}{\\phi} \\frac{\\phi}{s^2 + \\phi^2} \\right]\n",
    "\\end{align}\n",
    "which we can translate back to\n",
    "\\begin{align}\n",
    "y(t) = C_1 \\left[ e^{-\\omega t} - \\cos(\\phi t) + \\frac{\\omega}{\\phi}\\sin(\\phi t) \\right]\n",
    "\\end{align}"
   ]
  },
  {
   "cell_type": "markdown",
   "id": "73fe61e8",
   "metadata": {},
   "source": [
    "#### Intermezzo: Let's do trig!\n",
    "\n",
    "Next we need something known as the \"harmonic addition theorem\", which shows that we can write the two trig functions above as a single cosine with a phase shift:\n",
    "$$a\\cos(x) + b\\sin(x) = c\\cos(x + z)$$\n",
    "\n",
    "to see that this is true and find the appropriate $c$ and $z$ we use use $\\cos(x + z) = \\cos(x)\\cos(z) - \\sin(x)\\sin(z)$ and write\n",
    "\n",
    "\\begin{align}\n",
    "a\\cos(x) + b\\sin(x) &= c\\cos(x + z) \\\\\n",
    "                    &= c\\cos(x)\\cos(z) - c\\sin(x)\\sin(z)\n",
    "\\end{align}\n",
    "so that\n",
    "\\begin{align}\n",
    "\\left.\\begin{aligned} a &= c\\cos(z) \\\\ b &= -c\\sin(z) \\end{aligned}\\right\\}\n",
    "\\quad \\tan{z}=\\frac{\\sin(y)}{\\cos(z)}=\\frac{-b}{a}\n",
    "\\quad \\longrightarrow \\quad z = \\arctan(-b/a)\n",
    "\\end{align}\n",
    "and\n",
    "$$a^2 + b^2 = c^2\\cos^2(z) + c^2\\sin^2(z) = c^2 \\quad \\longrightarrow \\quad c = \\pm \\sqrt{a^2 + b^2}$$\n",
    "\n",
    "Finally, because $\\arctan$ by definition returns a value $z \\in (-\\pi/2, \\pi/2)$ we have $\\cos(z) > 0$ and so $a$ and $c$ must have the same sign, denoted $\\operatorname{sign}(a)$.\n",
    "\n",
    "So, for arbitrary $a$, $b$ and $x$ we find $z=\\arctan(-b/a)$ and $c=\\operatorname{sign}(a)\\sqrt{a^2+b^2}$.\n",
    "\n",
    "##### Atan2 form\n",
    "\n",
    "Alternatively, we can write $c \\cos(x + z) = \\sqrt{a^2+b^2} \\cos(x + \\operatorname{atan2}(-b/a))$."
   ]
  },
  {
   "cell_type": "markdown",
   "id": "90cd96d6",
   "metadata": {},
   "source": [
    "#### Back to the low-pass filter!\n",
    "\n",
    "Filling in \n",
    "$$z = \\arctan(\\frac{-\\omega/\\phi}{-1})=\\arctan(\\frac{\\omega}{\\phi})$$\n",
    "and\n",
    "$$c = \\operatorname{sign}(-1)\\sqrt{1 + \\omega^2/\\phi^2}=-\\sqrt{1 + \\omega^2/\\phi^2}$$\n",
    "\n",
    "we get\n",
    "\n",
    "\\begin{align}\n",
    "y(t) &= C_1 \\left[ e^{-\\omega t} - \\cos(\\phi t) + \\frac{\\omega}{\\phi}\\sin(\\phi t) \\right] \\\\\n",
    "     &= C_1 \\left[ e^{-\\omega t} + \\sqrt{1 + \\omega^2/\\phi^2} \\cos\\left(\\phi t + \\arctan\\frac{\\omega}{\\phi}\\right) \\right] \\\\\n",
    "\\end{align}\n",
    "\n",
    "Finally\n",
    "\\begin{align}\n",
    "C_1 \\sqrt{1 + \\omega^2/\\phi^2} \n",
    "    = \\frac{\\omega\\phi}{\\omega^2 + \\phi^2} \\sqrt{1 + \\omega^2/\\phi^2}\n",
    "    = \\frac{\\omega}{\\omega^2 + \\phi^2} \\sqrt{\\phi^2 + \\omega^2}\n",
    "    = \\frac{\\omega}{\\sqrt{\\phi^2 + \\omega^2}} \\\\\n",
    "\\end{align}    \n",
    "\n",
    "for\n",
    "\\begin{align}\n",
    "y(t) = \\frac{\\omega\\phi}{\\omega^2 + \\phi^2} e^{-\\omega t} \n",
    "     + \\frac{\\omega}{\\sqrt{\\phi^2 + \\omega^2}} \\cos\\left(\\phi t + \\arctan\\frac{\\omega}{\\phi}\\right)\n",
    "\\end{align}"
   ]
  },
  {
   "cell_type": "markdown",
   "id": "d674efb3",
   "metadata": {},
   "source": [
    "#### Interpreting the result\n",
    "\n",
    "We applied a simple input $\\sin(\\phi t)$ and got response:\n",
    "\n",
    "\\begin{align}\n",
    "y(t) = \\frac{\\omega\\phi}{\\omega^2 + \\phi^2} e^{-\\omega t} \n",
    "     + \\frac{\\omega}{\\sqrt{\\phi^2 + \\omega^2}} \\cos\\left(\\phi t + \\arctan\\frac{\\omega}{\\phi}\\right)\n",
    "\\end{align}\n",
    "\n",
    "If $\\omega$ is real and positive (which is true if it's an angular frequency), then the left part is a **transient response**, while the right part is an **oscillation, with the same frequency** $\\phi$ **but a phase shift** $\\arctan(\\omega/\\phi) - \\pi/2$ (where the second term accounts for the $\\cos$ to $\\sin$ switch).\n",
    "\n",
    "To analyse this further, let $\\lambda = \\phi / \\omega$ be the ratio between the input and filter frequencies, so that $\\lambda > 1$ means the input frequency exceeds the filter frequency.\n",
    "The equation above then simplifies to\n",
    "\\begin{align}\n",
    "y(t) = \\frac{\\lambda}{1 + \\lambda^2} e^{-\\omega t} \n",
    "     + \\frac{1}{\\sqrt{1 + \\lambda^2}} \\cos\\left(\\phi t + \\arctan(\\lambda^{-1}) \\right)\n",
    "\\end{align}\n",
    "\n",
    "This means that, once the transient response has died out, the main effect of the filter is to apply a frequency-dependent scaling $(1 + \\lambda^2)^{-1/2}$.\n",
    "We can plot this response on a linear scale or, as is more commonly done, on a log-log scale:"
   ]
  },
  {
   "cell_type": "code",
   "execution_count": 18,
   "id": "f59c1829",
   "metadata": {},
   "outputs": [
    {
     "data": {
      "image/png": "[encoded data removed]",
      "text/plain": [
       "<Figure size 864x288 with 2 Axes>"
      ]
     },
     "metadata": {
      "needs_background": "light"
     },
     "output_type": "display_data"
    }
   ],
   "source": [
    "import matplotlib.pyplot as plt\n",
    "import numpy as np\n",
    "\n",
    "f = lambda x: 1 / np.sqrt(1 + x**2)\n",
    "\n",
    "x = np.linspace(0, 5, 1001)\n",
    "y = f(x)\n",
    "\n",
    "fig = plt.figure(figsize=(12, 4))\n",
    "fig.subplots_adjust(wspace=0.3)\n",
    "\n",
    "ax = plt.subplot(1, 2, 1)\n",
    "ax.set_xlabel('$\\lambda$')\n",
    "ax.set_ylabel('$(1 + \\lambda^2)^{-1/2}$')\n",
    "ax.axvline(1, color='#999', lw=0.5, label='$\\omega = \\phi$')\n",
    "ax.axhline(f(1), color='#999', lw=0.5)\n",
    "ax.plot(x, y, label='response')\n",
    "ax.legend()\n",
    "\n",
    "ax = plt.subplot(1, 2, 2)\n",
    "ax.set_xscale('log')\n",
    "ax.set_yscale('log')\n",
    "ax.set_xlabel('$\\lambda$')\n",
    "ax.set_ylabel('$(1 + \\lambda^2)^{-1/2}$')\n",
    "ax.axvline(1, color='#999', lw=0.5, label='$\\omega = \\phi$')\n",
    "ax.axhline(f(1), color='#999', lw=0.5)\n",
    "ax.plot(x, y, label='response')\n",
    "ax.legend()\n",
    "\n",
    "plt.show()"
   ]
  },
  {
   "cell_type": "markdown",
   "id": "4291ad50",
   "metadata": {},
   "source": [
    "this finally shows us why it's called a \"low-pass\" filter: at frequencies $\\phi \\ll \\omega$ the signal gain is almost unaffected, but as $\\phi$ gets closer to $\\omega$ a significant gain reduction sets in.\n",
    "\n",
    "In lots of engineering applications, the transient response is uninteresting, so people talk exclusively in terms of [frequency response](https://en.wikipedia.org/wiki/Frequency_response) and make [Bode plots](https://en.wikipedia.org/wiki/Bode_plot) consisting of the log-log plot above plus a similar one for the phase shift.\n",
    "For patch-clamp the transient response is usually the interesting bit, but the equipment can still be analysed in terms of its frequency response, and noise-reduction through filtering is often described purely in frequency terms too."
   ]
  },
  {
   "cell_type": "markdown",
   "id": "0a7221fa",
   "metadata": {},
   "source": [
    "## General frequency response\n",
    "\n",
    "To see how the above example generalises, we start with an impulse response $h(t)$ **for a stable system** and a cosine input\n",
    "\n",
    "$$u(t) = \\cos(\\omega t)$$\n",
    "to get output\n",
    "$$y(t) = \\int_0^t h(\\tau)\\cos(\\omega(t - \\tau))d\\tau$$\n",
    "which we can write as\n",
    "$$y(t) = \\int_0^\\infty h(\\tau)\\cos(\\omega(t - \\tau))d\\tau - \\int_t^\\infty h(\\tau)\\cos(\\omega(t - \\tau))d\\tau$$\n",
    "\n",
    "Recall that this is an equation _for a single value_ $y$ of $t$.\n",
    "Because system is _stable_, its impulse response $h(t)$ will dampen out for increasing values of $t$.\n",
    "As a result, the multiplication by $h$ will cause **the second term to dampen out as the starting point of the integral, $t$, increases**:"
   ]
  },
  {
   "cell_type": "code",
   "execution_count": 38,
   "id": "dc683065",
   "metadata": {},
   "outputs": [
    {
     "data": {
      "image/png": "[encoded data removed]",
      "text/plain": [
       "<Figure size 1080x180 with 3 Axes>"
      ]
     },
     "metadata": {
      "needs_background": "light"
     },
     "output_type": "display_data"
    }
   ],
   "source": [
    "fig = plt.figure(figsize=(15, 2.5))\n",
    "\n",
    "f = lambda x: np.exp(-x)\n",
    "x = np.linspace(0, 10, 1001)\n",
    "y = f(x)\n",
    "\n",
    "ax = fig.add_subplot(1, 3, 1)\n",
    "ax.set_xlim(0, 10); ax.set_ylim(0, 1)\n",
    "ax.plot(x, y)\n",
    "ax.fill_between(x, y, alpha=0.2)\n",
    "ax.text(2, 0.5, '$\\int h$ from 0 to $\\infty$')\n",
    "\n",
    "ax = fig.add_subplot(1, 3, 2)\n",
    "ax.set_xlim(0, 10); ax.set_ylim(0, 1)\n",
    "ax.axvline(x[200], color='k', lw=1)\n",
    "ax.plot(x, y)\n",
    "ax.fill_between(x[200:], y[200:], alpha=0.2)\n",
    "ax.text(2.5, 0.5, '$\\int h$ from 2 to $\\infty$')\n",
    "\n",
    "ax = fig.add_subplot(1, 3, 3)\n",
    "ax.set_xlim(0, 10); ax.set_ylim(0, 1)\n",
    "ax.axvline(x[400], color='k', lw=1)\n",
    "ax.plot(x, y)\n",
    "ax.fill_between(x[400:], y[400:], alpha=0.2)\n",
    "ax.text(4.5, 0.5, '$\\int h$ from 4 to $\\infty$')\n",
    "\n",
    "plt.show()"
   ]
  },
  {
   "cell_type": "markdown",
   "id": "51c3a3f1",
   "metadata": {},
   "source": [
    "By contrast, the integral in the first term\n",
    "$$y_{ss}(t) = \\int_0^\\infty h(\\tau)\\cos(\\omega(t - \\tau))d\\tau$$\n",
    "is always taken from 0 to $\\infty$, so over the full range of $h$.\n",
    "\n",
    "This splits the system into a _sinusoidal steady-state response_ (first term) and a _transient_ (second term).\n",
    "\n",
    "Assuming that we're only interested in the sinusoidal steady-state response $y_{ss}$, we can then analyse the system by looking at $y_{ss}$ exclusively:\n",
    "\n",
    "\\begin{align}\n",
    "y_{ss}(t)\n",
    "    &= \\int_0^\\infty h(\\tau)\\cos(\\omega(t - \\tau))d\\tau \\\\\n",
    "    &= \\frac{1}{2} \\int_0^\\infty h(\\tau)\\left(e^{i\\omega(t - \\tau)} + e^{-i\\omega(t - \\tau)}\\right)d\\tau \\\\\n",
    "    &= \\frac{1}{2} e^{i\\omega t} \\int_0^\\infty h(\\tau)e^{-i\\omega\\tau} d\\tau +\n",
    "       \\frac{1}{2} e^{-i\\omega t} \\int_0^\\infty h(\\tau)e^{i\\omega\\tau} d\\tau \\\\\n",
    "    &= \\frac{1}{2} e^{i\\omega t} H(i\\omega) + \\frac{1}{2} e^{-i\\omega t} H(-i\\omega) \\\\\n",
    "\\end{align}"
   ]
  },
  {
   "cell_type": "markdown",
   "id": "10125dc2",
   "metadata": {},
   "source": [
    "To go further, we first need to show that $H(-i\\omega)$ and $H(i\\omega)$ are each other's complex conjugates, i.e. $\\overline{H(-i\\omega)}=H(i\\omega)$:\n",
    "\n",
    "\\begin{align}\n",
    "H(-i\\omega) = \\int_0^\\infty h(t)e^{i\\omega t}dt\n",
    "            = \\int_0^\\infty h(t)\\cos(\\omega t)dt + i \\int_0^\\infty h(t)\\sin(\\omega t)dt\n",
    "\\end{align}\n",
    "\n",
    "and because $h(t)$ and $\\cos$ and $\\sin$ are real-valued the first and second terms are $H(-i\\omega)$'s real and imaginary parts.\n",
    "Next, since\n",
    "\n",
    "\\begin{align}\n",
    "H(i\\omega) = \\int_0^\\infty h(t)e^{-i\\omega t}dt\n",
    "           &= \\int_0^\\infty h(t)\\cos(-\\omega t)dt + i \\int_0^\\infty h(t)\\sin(-\\omega t)dt \\\\\n",
    "           &= \\int_0^\\infty h(t)\\cos(\\omega t)dt - i \\int_0^\\infty h(t)\\sin(\\omega t)dt \\\\\n",
    "           &= H(-i\\omega)\n",
    "\\end{align}"
   ]
  },
  {
   "cell_type": "markdown",
   "id": "490bf0f7",
   "metadata": {},
   "source": [
    "Now, using $R=\\operatorname{Re}(H(i\\omega))$ and $I=\\operatorname{Im}(H(i\\omega))$ we can write\n",
    "\n",
    "\\begin{align}\n",
    "y_{ss}(t)\n",
    "    &= \\frac{1}{2} \\left[ e^{i\\omega t} H(i\\omega) + e^{-i\\omega t} H(-i\\omega) \\right] \\\\\n",
    "    &= \\frac{1}{2} \\left[ e^{i\\omega t} H(i\\omega) + e^{-i\\omega t} \\overline{H(i\\omega)} \\right] \\\\\n",
    "    &= \\frac{1}{2} \\left[ e^{i\\omega t} R + i e^{i\\omega t} I + e^{-i\\omega t} R - i e^{-i\\omega t} I \\right] \\\\\n",
    "    &= \\frac{1}{2} \\left[ (e^{i\\omega t} + e^{-i\\omega t}) R + i (e^{i\\omega t} - i e^{-i\\omega t}) I \\right] \\\\\n",
    "    &= R\\cos(\\omega t) - I\\sin(\\omega t) \\\\\n",
    "\\end{align}\n",
    "\n",
    "Finally, using the harmonic addition theorem in atan2 form (see above), we get\n",
    "\n",
    "\\begin{align}\n",
    "y_{ss}(t) = |H(i\\omega)| \\cos(\\omega t + \\angle H(i\\omega))\n",
    "\\end{align}\n",
    "\n",
    "where $|H(iw)| = \\sqrt{R^2 + I^2}$ and $\\angle H(i\\omega) = \\operatorname{atan2}(I, R)$."
   ]
  },
  {
   "cell_type": "markdown",
   "id": "dcdd6b1e",
   "metadata": {},
   "source": [
    "As a result, a **stable** system's _sinusoidal steady state_ when driven with a frequency $\\omega$ consists of a scaling and a phase shift, and can be written in terms of its _frequency response_ $H(i\\omega)$."
   ]
  },
  {
   "cell_type": "markdown",
   "id": "20fb7cbe",
   "metadata": {},
   "source": [
    "## Filters\n",
    "\n",
    "We now revisit the low-pass filter $H(s) = \\omega / (s + \\omega)$ when driven with an input $u(t)=\\cos(\\phi t)$.\n",
    "\n",
    "Recognising that for $\\omega > 0$ the system is stable, and **ignoring the transient response**, we fill in\n",
    "\n",
    "$$H(i \\phi) = \\frac{\\omega}{i \\phi + \\omega}$$\n",
    "\n",
    "so that\n",
    "$$|H(i \\omega)| = \\frac{\\omega}{\\sqrt{\\phi^2 + \\omega^2}}$$\n",
    "and\n",
    "$$\\angle H(i \\omega) = \\operatorname{atan2}(\\phi, \\omega) = \\arctan(\\phi / \\omega)$$\n",
    "(where the last bit holds because $\\phi > 0$ and $\\omega > 0$), to find\n",
    "\\begin{align}\n",
    "y_{ss}(t) = \\frac{\\omega}{\\sqrt{\\phi^2 + \\omega^2}} \\cos(\\omega t + \\arctan(\\phi / \\omega))\n",
    "\\end{align}"
   ]
  },
  {
   "cell_type": "markdown",
   "id": "fd49d887",
   "metadata": {},
   "source": []
  },
  {
   "cell_type": "markdown",
   "id": "195e2273",
   "metadata": {},
   "source": [
    "\\begin{align}\n",
    "\\end{align}\n",
    "\\begin{align}\n",
    "\\end{align}\n",
    "\\begin{align}\n",
    "\\end{align}\n",
    "\\begin{align}\n",
    "\\end{align}\n",
    "\\begin{align}\n",
    "\\end{align}\n",
    "\\begin{align}\n",
    "\\end{align}\n",
    "\\begin{align}\n",
    "\\end{align}\n",
    "\\begin{align}\n",
    "\\end{align}\n",
    "\\begin{align}\n",
    "\\end{align}\n",
    "\\begin{align}\n",
    "\\end{align}\n",
    "\\begin{align}\n",
    "\\end{align}\n",
    "\\begin{align}\n",
    "\\end{align}\n",
    "\\begin{align}\n",
    "\\end{align}\n",
    "\\begin{align}\n",
    "\\end{align}\n",
    "\\begin{align}\n",
    "\\end{align}\n",
    "\\begin{align}\n",
    "\\end{align}\n",
    "\\begin{align}\n",
    "\\end{align}\n",
    "\\begin{align}\n",
    "\\end{align}\n",
    "\\begin{align}\n",
    "\\end{align}\n",
    "\\begin{align}\n",
    "\\end{align}\n"
   ]
  },
  {
   "cell_type": "markdown",
   "id": "dff94891",
   "metadata": {},
   "source": []
  }
 ],
 "metadata": {
  "kernelspec": {
   "display_name": "Python 3 (ipykernel)",
   "language": "python",
   "name": "python3"
  },
  "language_info": {
   "codemirror_mode": {
    "name": "ipython",
    "version": 3
   },
   "file_extension": ".py",
   "mimetype": "text/x-python",
   "name": "python",
   "nbconvert_exporter": "python",
   "pygments_lexer": "ipython3",
   "version": "3.11.4"
  }
 },
 "nbformat": 4,
 "nbformat_minor": 5
}
