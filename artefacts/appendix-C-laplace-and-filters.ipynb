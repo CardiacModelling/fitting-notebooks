{
 "cells": [
  {
   "cell_type": "markdown",
   "id": "44ff9bab",
   "metadata": {},
   "source": [
    "# Appendix C: Laplace transforms & filters"
   ]
  },
  {
   "cell_type": "markdown",
   "id": "4f53e6ab",
   "metadata": {},
   "source": [
    "We now do a very quick refresher on laplace transforms, with the goal of analysing \"filtering\" properties of (part of) the circuit."
   ]
  },
  {
   "cell_type": "markdown",
   "id": "7b888401",
   "metadata": {},
   "source": [
    "## The impulse response\n",
    "\n",
    "This part of the text follows the outline given in \"Handleiding bij de cursus Systeemanalyse\" by Harm A. van Essen, 2002, and glosses over some tricky maths."
   ]
  },
  {
   "cell_type": "markdown",
   "id": "838b3cc5",
   "metadata": {},
   "source": [
    "Let $\\delta(t)$ be the [unit impulse](https://en.wikipedia.org/wiki/Dirac_delta_function) or Dirac delta, which is commonly thought of as\n",
    "\n",
    "\\begin{align}\n",
    "\\delta(t - t_0) = \\begin{cases}\n",
    "\\infty, &t = t_0\\\\\n",
    "0, &t \\neq t_0\\end{cases}\n",
    "\\end{align}\n",
    "\n",
    "but has a more complicated \"proper\" definition as a [generalised function](https://en.wikipedia.org/wiki/Generalized_function) with properties:\n",
    "\n",
    "1. $$\\int_a^b \\delta(t)dt = 1 \\quad\\text{if } 0 \\in [a, b] $$\n",
    "2. $$\\int_a^b \\delta(t)dt = 0 \\quad\\text{if } 0 \\notin [a, b]$$\n",
    "3. $$\\int_{-\\infty}^{\\infty} \\delta(t - t_0)g(t)\\,dt = g(t_0)$$\n",
    "\n",
    "The response to a system driven with $\\delta$ is called the [impulse response](https://en.wikipedia.org/wiki/Impulse_response), and will be denoted here as $h(t)$."
   ]
  },
  {
   "cell_type": "markdown",
   "id": "a93c6512",
   "metadata": {},
   "source": [
    "The impulse response for lots of functions can be found in tables, but can also be worked out by hand. For example, given a system defined by \n",
    "\n",
    "$$ \\dot{y}(t) + ay(t) = u(t) $$\n",
    "\n",
    "where $y$ is the state, $u$ is the input and $a$ is a non-zero constant, we can fill in $u(t)=\\delta(t)$ and $y(t)=h(t)$ (by h's definition) so that \n",
    "\n",
    "$$ \\dot{h}(t) + ah(t) = \\delta(t) $$"
   ]
  },
  {
   "cell_type": "markdown",
   "id": "e8cc9daf",
   "metadata": {},
   "source": [
    "Away from $t = 0$, we have $\\delta(t) = 0$ and so we can separate $\\frac{dh}{dt} = -ah$ as usual to find $h(t) = h_0 e^{-at}$.\n",
    "The situation near the discontinuity is harder to analyse, but the accepted solution is to let $h$ be zero just before it, $h(0^-) = 0$, and 1 immediately after it $h(0^+) = 1$.\n",
    "With this, the full impulse response becomes\n",
    "\n",
    "\\begin{align}\n",
    "h(t) = \\begin{cases}\n",
    "    e^{-at}, &t>0, \\\\\n",
    "    0, &t<0 \\end{cases}\n",
    "\\end{align}\n",
    "    "
   ]
  },
  {
   "cell_type": "markdown",
   "id": "8ea0133d",
   "metadata": {},
   "source": [
    "### The superposition principle\n",
    "\n",
    "Next, we introduce the **superposition principle**.\n",
    "This holds if, when input $u_1(t)$ has response $y_1(t)$ and input $u_2(t)$ has response $y_2(t)$, any **linear combination** of the input signals $u(t) = \\alpha_1 u_1(t) + \\alpha_2 u_2(t)$ results in the same linear combination of responses $y(t) = \\alpha_1 y_1(t) + \\alpha_2 y_2(t)$.\n",
    "\n",
    "The class of systems satisfying this priniciple are called **linear systems**.\n",
    "\n"
   ]
  },
  {
   "cell_type": "markdown",
   "id": "70df420e",
   "metadata": {},
   "source": [
    "### Decomposing arbitrary inputs into impulse responses\n",
    "\n",
    "Where the superposition principle holds, we can analyse the response to any input signal $u(t)$ by decomposing into inputs with known responses.\n",
    "If we're willing to do some maths, this can even be an infinite number of sub-inputs, for example sine waves or, in this case, the unit impulse.\n",
    "\n",
    "Again, let $\\delta(t - \\tau)$ be a unit impulse input, and $h(t - \\tau)$ the impulse response, then we can write $u(t)$ as a linear combination with an infinite number of terms $u(\\tau)\\delta(t - \\tau)\\,d\\tau$ (where $\\tau$ is a constant):\n",
    "\\begin{align}\n",
    "u(t) = \\int_{-\\infty}^\\infty u(\\tau)\\delta(t - \\tau)\\,d\\tau\n",
    "\\end{align}\n",
    "writing the same linear combination for the known step responses $h(t - \\tau)$ we find:\n",
    "\\begin{align}\n",
    "y(t) = \\int_{-\\infty}^\\infty u(\\tau)h(t - \\tau)\\,d\\tau\n",
    "\\end{align}"
   ]
  },
  {
   "cell_type": "markdown",
   "id": "8b7a584d",
   "metadata": {},
   "source": [
    "These horrible forms are known as \"convolution integrals\", sometimes denoted with a $*$:\n",
    "\\begin{align}\n",
    "(f * g)(t) = \\int_{-\\infty}^\\infty f(\\tau)g(t - \\tau)\\,d\\tau\n",
    "\\end{align}\n",
    "where the left hand side notation is meant to convey that this is an operation on _functions_: we are not convolving the functions themselves, not their evaluations on some specific value of $t$.\n",
    "Convolution is not restricted to time-varying functions: $t$ represents any free variable.\n",
    "For people who love properties of things we can add that $(f * g)(t) = (g * t)(t)$."
   ]
  },
  {
   "cell_type": "markdown",
   "id": "94c6806b",
   "metadata": {},
   "source": [
    "In summary:\n",
    "\n",
    "1. The impulse function is a slightly dubious \"generalised function\" for which $\\int_a^b\\delta(t)dt=1$ if and only if $0\\in[a, b]$.\n",
    "2. A system's response to being driven with a unit impulse is called its impulse response, and can be derived or looked up in tables.\n",
    "3. If the system obeys the superposition principle, we can write its response to an arbitrary input signal as a convolution integral of the input and the impulse response."
   ]
  },
  {
   "cell_type": "markdown",
   "id": "afb9e45b",
   "metadata": {},
   "source": [
    "## The Laplace transform\n",
    "\n",
    "The Laplace transform is a one-to-one mapping between function spaces: it can be applied to a function \"in the time domain\" to yield another \"in the Laplace domain\".\n",
    "A typical use case is to apply the Laplace transformation, manipulate the function in ways that would have been harder in the time domain, and then transform back.\n",
    "\n",
    "For a function $f(t)$ on $t \\geq 0$, its Laplace transformation $F(s)$ is defined as\n",
    "\n",
    "\\begin{equation}\n",
    "F(s) = \\int_0^\\infty f(t) e^{-st} dt\n",
    "\\end{equation}\n",
    "\n",
    "where $s$ is the new free variable, and is a complex number (so we're mapping 1-d functions onto 2-d functions!).\n",
    "\n",
    "We can denote this transfer as $\\mathcal{L}\\{f(t)\\} = F(s)$"
   ]
  },
  {
   "cell_type": "markdown",
   "id": "cb3c1376",
   "metadata": {},
   "source": [
    "### The inverse transform?\n",
    "\n",
    "Being a nice one-to-one mapping, the Laplace transformation should have an inverse.\n",
    "You can find it on [wikipedia](https://en.wikipedia.org/wiki/Inverse_Laplace_transform), but it's more common to rely on tables when converting back to the time domain, and even more common to end the analysis without ever converting back!"
   ]
  },
  {
   "cell_type": "markdown",
   "id": "f3b17d83",
   "metadata": {},
   "source": [
    "### Some things are easier in the Laplace domain\n",
    "\n",
    "The Laplace transform has some very nice properties.\n",
    "For starters, linear combinations of functions stay the same:\n",
    "\n",
    "\\begin{align}\n",
    "& \\int_0^\\infty \\left[a f(t) + b g(t)\\right] e^{-st} dt \\\\\n",
    "&= a \\int_0^\\infty f(t) e^{-st} dt + b \\int_0^\\infty g(t) e^{-st} dt \\\\\n",
    "&= aF(s) + bG(s)\n",
    "\\end{align}"
   ]
  },
  {
   "cell_type": "markdown",
   "id": "52110cc8",
   "metadata": {},
   "source": [
    "#### Time-derivatives\n",
    "\n",
    "More surprisingly, time-derivatives become multiplications by powers of $s$.\n",
    "\n",
    "Starting from\n",
    "\\begin{align}\n",
    "\\int_0^\\infty \\dot{f}(t) e^{-st} dt\n",
    "\\end{align}\n",
    "\n",
    "we use integration by parts $\\int U dV = UV - \\int V dU$ with $U=e^{-st}$ and $dV=\\dot{f}(t)dt$ to find\n",
    "\n",
    "\\begin{align}\n",
    "\\int_0^\\infty \\dot{f}(t) e^{-st} dt\n",
    "&= \\left[f(t)e^{-st}\\right]_0^\\infty + \\int_0^\\infty f(t)se^{-st} dt \\\\\n",
    "&= 0 - f(0)e^0 + s \\int_0^\\infty f(t)e^{-st} dt \\\\\n",
    "&= s F(s) - f(0)\n",
    "\\end{align}\n",
    "\n",
    "or\n",
    "\n",
    "\\begin{align}\n",
    "\\mathcal{L}\\{\\dot{f}(t)\\} = s F(s) - f(0)\n",
    "\\end{align}"
   ]
  },
  {
   "cell_type": "markdown",
   "id": "c28d993e",
   "metadata": {},
   "source": [
    "Similarly, for second order time-derivatives we get $\\mathcal{L}\\{\\ddot{f(t)}\\} = s^2F(s) - sf(0) - \\dot(f)(0)$."
   ]
  },
  {
   "cell_type": "markdown",
   "id": "be7e36ca",
   "metadata": {},
   "source": [
    "#### Convolution\n",
    "\n",
    "Most importantly, ugly convolution becomes multiplication.\n",
    "\n",
    "To prove this, you start by writing out\n",
    "\\begin{align}\n",
    "\\mathcal{L}\\{f*g\\} = \\int_0^\\infty \\left(\\int_0^t f(\\tau) g(t-\\tau) \\,d\\tau \\right)e^{-st}dt\n",
    "\\end{align}\n",
    "and then, if you're _really_ good at integrals, you do several tricks and end up with\n",
    "\\begin{align}\n",
    "=F(s)G(s)\n",
    "\\end{align}"
   ]
  },
  {
   "cell_type": "markdown",
   "id": "86fd9ad8",
   "metadata": {},
   "source": [
    "As a result, for a system with input $u$ and impulse response $h(t)$, we can replace\n",
    "\\begin{align}\n",
    "y(t) = \\int_{-\\infty}^\\infty u(\\tau)h(t - \\tau)\\,d\\tau\n",
    "\\end{align}\n",
    "with\n",
    "\\begin{align}\n",
    "Y(s) = H(s) U(s)\n",
    "\\end{align}"
   ]
  },
  {
   "cell_type": "markdown",
   "id": "e29635d8",
   "metadata": {},
   "source": [
    "There's "
   ]
  },
  {
   "cell_type": "markdown",
   "id": "e7dee655",
   "metadata": {},
   "source": []
  },
  {
   "cell_type": "markdown",
   "id": "83131796",
   "metadata": {},
   "source": []
  },
  {
   "cell_type": "code",
   "execution_count": null,
   "id": "60109d61",
   "metadata": {},
   "outputs": [],
   "source": []
  }
 ],
 "metadata": {
  "kernelspec": {
   "display_name": "Python 3 (ipykernel)",
   "language": "python",
   "name": "python3"
  },
  "language_info": {
   "codemirror_mode": {
    "name": "ipython",
    "version": 3
   },
   "file_extension": ".py",
   "mimetype": "text/x-python",
   "name": "python",
   "nbconvert_exporter": "python",
   "pygments_lexer": "ipython3",
   "version": "3.11.4"
  }
 },
 "nbformat": 4,
 "nbformat_minor": 5
}
