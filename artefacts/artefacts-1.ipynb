{
 "cells": [
  {
   "cell_type": "markdown",
   "id": "33970f55",
   "metadata": {},
   "source": [
    "# Understanding patch-clamp data\n",
    "\n",
    "In this notebook, we look in detail at processing data obtained from patch-clamp experiments.\n",
    "\n",
    "In particular, we focus on **manual patch clamp** experiments in the **whole cell configuration**.\n",
    "These can be used to either\n",
    "\n",
    "1. pass current through the membrane and measure the resulting voltage (_current clamp_); or \n",
    "2. control the membrane voltage and measure the resulting current (_voltage clamp_).\n",
    "\n",
    "We will focus exclusively on **voltage clamp**."
   ]
  },
  {
   "cell_type": "markdown",
   "id": "866f0da6",
   "metadata": {},
   "source": [
    "## The set up\n",
    "\n",
    "Detailed descriptions of the patch clamp technique can be found in the chapter [Penner (1995) A Practical Guide to Patch Clamping](https://doi.org/10.1007/978-1-4419-1229-9_1), the (short) book [Molleman (2002) Patch Clamping](https://doi.org/10.1002/0470856521), or the (slightly older) article [Hamill, Marty et al., Sigworth (1981) Improved patch-clamp techniques for high-resolution current recording from cells and cell-free membrane patches](https://doi.org/10.1007/BF00656997).\n",
    "\n",
    "In brief, a cell is placed in a bath containing an electrode (the _bath electrode_) and an ion-rich solution that can conduct electricity.\n",
    "A patch clamp _pipette_ is constructed by pulling on a heated glass tube to form a sharp tip, then filling it with another ion-rich solution, and inserting an electrode into the open end.\n",
    "The sharp end of the pipette is then placed against the cell membrane and suction, electric pulses, or chemicals are used to break the membrane inside the pipette opening, establishing an electrical connection to the inside of the cell.\n",
    "A _patch clamp amplifier_ is attached to both electrodes, and can now be used to measure and manipulate the voltage between the bath and pipette electrodes.\n"
   ]
  },
  {
   "cell_type": "markdown",
   "id": "b8e573b6",
   "metadata": {},
   "source": [
    "## Patch-clamp amplifier electronics\n",
    "\n",
    "Now that we have access to the inside & outside of the cell, how can we control its voltage and measure the current?\n",
    "\n",
    "The answer involves a lot of electronics, but a brief outline is given below.\n",
    "It follows the exposition in [Sigworth 1995a](https://doi.org/10.1007/978-1-4419-1229-9_4), but also uses [Weerakoon et al., 2009](https://doi.org/10.1109/TBCAS.2008.2005419) and [Lei et al., 2020](https://doi.org/10.1098/rsta.2019.0348).\n",
    "Note that the schematics given here are all simplifications in two ways: 1. They omit a lot of the extra circuitry you'd find in a real world application, and 2. They mostly omit non-ideal effects of components, which can come into play for precise measurements of small currents.\n",
    "\n",
    "The image below (adapted from Sigworth 1995) shows a very simple schematic to measure small currents.\n",
    "A battery $V_c$ is attached to a pipette, and a resistor with a known resistance $R$ is introduced.\n",
    "To obtain the current flowing into the patch clamp assembly, $I_\\text{in}$, we measure the voltage drop $V_\\text{out} = I_\\text{in} R$ across the resistor and use\n",
    "\n",
    "$$ I_\\text{in} = V_\\text{out} / R $$"
   ]
  },
  {
   "cell_type": "markdown",
   "id": "630cf0d5",
   "metadata": {},
   "source": [
    "<img src=\"resources/patch-amp-1-too-simple.png\" />\n",
    "\n",
    "_**Figure 1**: A very simple current measuring device._"
   ]
  },
  {
   "cell_type": "markdown",
   "id": "80896b76",
   "metadata": {},
   "source": [
    "By choosing a very large $R$ we get a measurable $V_\\text{out}$ for even very small $I_\\text{in}$.\n",
    "However, it also creates a big difference between $V_c$, which we control, and the voltage over the patch clamp assembly.\n",
    "\n",
    "A clever trick with an [op amp](https://en.wikipedia.org/wiki/Operational_amplifier) can get us around this:"
   ]
  },
  {
   "cell_type": "markdown",
   "id": "0fcac2ba",
   "metadata": {},
   "source": [
    "<img src=\"resources/patch-amp-2-with-op-amp.png\" />\n",
    "\n",
    "_**Figure 2**: A better way to measure small currents._"
   ]
  },
  {
   "cell_type": "markdown",
   "id": "524bef2a",
   "metadata": {},
   "source": [
    "To analyse this circuit, we use two properties of **an idealised** op-amp:\n",
    "\n",
    "1. Connected in a negative feedback loop like above, the op amp instantaneously adjusts its output $V_o$ until the voltages at its input terminals ($V_+$ and $V_-$) are the same.\n",
    "2. No current flows into (or out of) the input terminals.\n",
    "\n",
    "From the first property we get $V_- = V_c$ and the second property gives us $I_\\text{in} = I_R$.\n",
    "The voltage-drop across the resistor is then\n",
    "\n",
    "$$ V_o - V_- = V_o - V_c = I_R R = I_\\text{in} R $$\n",
    "\n",
    "And so if we can measure $V_\\text{out} \\equiv V_o - V_c$ we can use the known value of $R$ to calculate\n",
    "\n",
    "$$I_\\text{in} = V_\\text{out} / R$$"
   ]
  },
  {
   "cell_type": "markdown",
   "id": "450f600a",
   "metadata": {},
   "source": [
    "Finally, we add a [difference amplifier](https://en.wikipedia.org/wiki/Differential_amplifier) to $V_o$ and $V_c$.\n",
    "A difference amplifier takes the voltage between its two inputs and multiplies it by a fixed factor, using an external power source.\n",
    "Here we use an amplification factor of 1 so that it acts as a simple _buffer_.\n",
    "This means that the power drawn from $V_{out}$ by any connected measurement equipment will be provided by the amplifier's power source instead of the circuit we're trying to measure."
   ]
  },
  {
   "cell_type": "markdown",
   "id": "3849ce4f",
   "metadata": {},
   "source": [
    "<img src=\"resources/patch-amp-3-diff-amp.png\" />\n",
    "\n",
    "_**Figure 3**: A difference amplifier buffers $V_{out}$._"
   ]
  },
  {
   "cell_type": "markdown",
   "id": "5597d996",
   "metadata": {},
   "source": [
    "For more about op amps and difference amplifiers, see [Appendix A](./appendix-A-op-amp.ipynb)."
   ]
  },
  {
   "cell_type": "markdown",
   "id": "8bcc3682",
   "metadata": {},
   "source": [
    "### Stray capacitance\n",
    "\n",
    "We now make the schematic a bit more realistic, by adding a capacitor in parallel with the resistance.\n",
    "Originally, this was done to model \"stray\" or \"parasitic\" capacitance of the resistor itself (see e.g. [Sigworth 1995a](https://doi.org/10.1007/978-1-4419-1229-9_4)), but the recent paper by [Weerakoon et al., 2009](https://doi.org/10.1109/TBCAS.2008.2005419) describes it as a separate physical component, \"necessary to make the trans-impedance amplifier stable and to increase the bandwidth of the voltage clamp\"."
   ]
  },
  {
   "cell_type": "markdown",
   "id": "0d7e6238",
   "metadata": {},
   "source": [
    "<img src=\"resources/patch-amp-4-Cf.png\" />\n",
    "\n",
    "_**Figure 4**: A stray capacitance exists in parallel with the feedback resistor._"
   ]
  },
  {
   "cell_type": "markdown",
   "id": "3e4d7069",
   "metadata": {},
   "source": [
    "Because the resistance and capacitance are both in the feedback path of the op amp, we will label the resistance and its capacitance with a small f, for \"feedback\". We can redo the analysis with $C_f$ in place, to see how it affects $V_{out}$. \n",
    "\n",
    "Because there are now two pathways for the current to flow through we start from:\n",
    "\n",
    "\\begin{align}\n",
    "I_\\text{in} &= I_R + I_C \\\\\n",
    "            &= (V_o - V_-) / R_f + C_f \\frac{d}{dt}\\left(V_o - V_-\\right) \\\\\n",
    "            &= V_\\text{out} / R_f + C_f \\dot{V}_\\text{out} \\\\\n",
    "V_\\text{out} &= I_\\text{in} R_f - R_f C_f \\dot{V}_\\text{out}\n",
    "\\end{align}\n",
    "\n",
    "To allow for the idea that the current we calculate is no longer equal to $I_\\text{in}$, we introduce a new symbol\n",
    "\n",
    "\\begin{align}\n",
    "I_\\text{obs} \\equiv V_\\text{out} / R_f\n",
    "\\end{align}\n",
    "\n",
    "We can rearrange and differentiate to get $V_\\text{out} = R_f I_\\text{obs}$ and $\\dot{V}_\\text{out} = R_f \\dot{I}_\\text{obs}$, so that\n",
    "\n",
    "\\begin{align}\n",
    "V_\\text{out} &= I_\\text{in} R_f - R_f C_f \\dot{V}_\\text{out}\n",
    "\\end{align}\n",
    "divide by $R_f$ and rearrange to find\n",
    "\\begin{align}\n",
    "I_\\text{obs} = I_\\text{in} - R_f C_f \\dot{I}_\\text{obs}\n",
    "\\end{align}\n",
    "and\n",
    "\\begin{align}\n",
    "\\dot{I}_\\text{obs} &= \\frac{I_\\text{in} - I_\\text{obs}}{R_f C_f}\n",
    "                   = \\frac{I_\\text{in} - I_\\text{obs}}{\\tau_f}\n",
    "\\end{align}\n",
    "\n",
    "This means that $I_\\text{obs}$ will grow when it's smaller than $I_\\text{in}$ and shrink when it's larger: in other words $I_\\text{obs}$ will follow $I_\\text{in}$ with a time constant $\\tau_f = R_f C_f$.\n",
    "Typical values for $R_f$ and $C_f$ are given in [Appendix B](./appendix-B-Rf-and-Cf.ipynb).\n",
    "For whole-cell experiments with standard gain settings, you might expect a $\\tau_f$ on the order of $80\\,{\\mu}s$ (HEKA) to $500\\,{\\mu}s$ (Axon)."
   ]
  },
  {
   "cell_type": "markdown",
   "id": "d03887fd",
   "metadata": {},
   "source": [
    "### More capacitance!\n",
    "\n",
    "We now extend our diagram with another capacitor, $C_p$, to represent the \"pipette capacitance\".\n",
    "\n",
    "In manual patch clamp, the submerged part of the pipette will act as a capacitor (for a detailed description, see [Levis & Rae 1998](https://doi.org/10.1016/S0076-6879(98)93017-8)).\n",
    "The value of $C_p$ depends on the tip shape and wall thickness of the (home made) pipette, and on how much of it is immersed.\n",
    "As a result, $C_p$ will vary between experiments.\n",
    "During an experiment, changes in the water level due to evaporation and/or perfusion as well as adhesion effects (water slowly creeping up the side of the pipette) can cause further variation (see e.g. [Thompson et al. 2001](https://doi.org/10.1016/S0006-3495(01)75752-9)).\n",
    "\n",
    "However, there are other capacitative effects in the set up, and a considerable $C_p$ exists in pipette-free patch clamp methods such as planar patch.\n",
    "So it is better to think of $C_p$ as a lumped, _parasitic_ capacitance."
   ]
  },
  {
   "cell_type": "markdown",
   "id": "68779d4f",
   "metadata": {},
   "source": [
    "<img src=\"resources/patch-amp-5-Cp.png\" />\n",
    "\n",
    "_**Figure 5**: The pipette, or lumped parasitic capacitance._"
   ]
  },
  {
   "cell_type": "markdown",
   "id": "b253b88a",
   "metadata": {},
   "source": [
    "In the diagram above, we have added in $C_p$, and renamed the voltage $V_-$ to $V_p$, as we will use $V_p$ and $C_p$ together in the equations.\n",
    "\n",
    "Using the temporary symbol $I$ for the current flowing out on the left, we can then write\n",
    "\\begin{align}\n",
    "I_{in} = I + C_p \\dot{V}_p\n",
    "\\end{align}\n",
    "and\n",
    "\\begin{align}\n",
    "\\dot{I}_\\text{obs} = \\frac{I + C_p \\dot{V}_p - I_\\text{obs}}{\\tau_f}\n",
    "\\end{align}\n"
   ]
  },
  {
   "cell_type": "markdown",
   "id": "eaf914be",
   "metadata": {},
   "source": [
    "Using the ideal op-amp assumptions, we have $V_p = V_c$ and $\\dot{V}_p = \\dot{V}_c$, so the new term is entirely dependent on our input signal for $V_c$.\n",
    "For a step protocol (a very common choice in voltage clamping), $\\dot{V}_p$ is either 0 during the steps or infinity at the discontinuities, which suggests that our idealised assumptions are reaching the limits of their usefulness."
   ]
  },
  {
   "cell_type": "markdown",
   "id": "b764b93c",
   "metadata": {},
   "source": [
    "### A less idealised op amp"
   ]
  },
  {
   "cell_type": "markdown",
   "id": "98c8cbe6",
   "metadata": {},
   "source": [
    "We now revisit the ideal op amp assumptions:\n",
    "\n",
    "1. We will keep the assumption that no current flows into the terminals\n",
    "2. But we give the op amp a finite speed: for it's output voltage $V_o$ we will write $\\dot{V}_o = \\left(V_+ - V_-\\right) / \\tau_\\text{amp}$\n",
    "\n",
    "An estimate for $\\tau_\\text{amp}$ from Weerakoon et al. is 0.05 $\\mu$s, while Sigworth 1995a gives an example value of 0.1 $\\mu$s."
   ]
  },
  {
   "cell_type": "markdown",
   "id": "6eb76dc2",
   "metadata": {},
   "source": []
  },
  {
   "cell_type": "markdown",
   "id": "87263721",
   "metadata": {},
   "source": []
  },
  {
   "cell_type": "markdown",
   "id": "efbd5d5f",
   "metadata": {},
   "source": []
  },
  {
   "cell_type": "markdown",
   "id": "891a5ff2",
   "metadata": {},
   "source": []
  },
  {
   "cell_type": "markdown",
   "id": "85c6b88b",
   "metadata": {},
   "source": []
  },
  {
   "cell_type": "markdown",
   "id": "189a138d",
   "metadata": {},
   "source": []
  },
  {
   "cell_type": "markdown",
   "id": "968d5bf2",
   "metadata": {},
   "source": []
  },
  {
   "cell_type": "markdown",
   "id": "65c7e3a7",
   "metadata": {},
   "source": []
  },
  {
   "cell_type": "markdown",
   "id": "81eed969",
   "metadata": {},
   "source": []
  },
  {
   "cell_type": "markdown",
   "id": "cff2cd08",
   "metadata": {},
   "source": []
  },
  {
   "cell_type": "markdown",
   "id": "427aa5db",
   "metadata": {},
   "source": []
  },
  {
   "cell_type": "markdown",
   "id": "e3e54db4",
   "metadata": {},
   "source": []
  },
  {
   "cell_type": "markdown",
   "id": "843ddc45",
   "metadata": {},
   "source": []
  },
  {
   "cell_type": "markdown",
   "id": "2e508d25",
   "metadata": {},
   "source": []
  },
  {
   "cell_type": "markdown",
   "id": "e3528d0b",
   "metadata": {},
   "source": []
  }
 ],
 "metadata": {
  "kernelspec": {
   "display_name": "Python 3 (ipykernel)",
   "language": "python",
   "name": "python3"
  },
  "language_info": {
   "codemirror_mode": {
    "name": "ipython",
    "version": 3
   },
   "file_extension": ".py",
   "mimetype": "text/x-python",
   "name": "python",
   "nbconvert_exporter": "python",
   "pygments_lexer": "ipython3",
   "version": "3.11.4"
  }
 },
 "nbformat": 4,
 "nbformat_minor": 5
}
