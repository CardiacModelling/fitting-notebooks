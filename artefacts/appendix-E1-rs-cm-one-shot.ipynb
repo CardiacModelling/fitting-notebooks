{
 "cells": [
  {
   "cell_type": "markdown",
   "id": "7fb2df6f",
   "metadata": {},
   "source": [
    "# Appendix E1: Estimating Rs and Cm; a one-shot approach\n",
    "**Appendix E describes Rs and Cm estimation methods**"
   ]
  },
  {
   "cell_type": "markdown",
   "id": "e2ffeda4",
   "metadata": {},
   "source": [
    "During a patch clamp experiment, estimates of $R_s$ and $C_m$ must be made to facilitate slow capacitance and series resistance compensation.\n",
    "In this appendix, we will review a \"one-shot\" method that uses current measured during a test pulse without $R_s$ or $C_m$ compensation to make a single prediction.\n",
    "In the next appendix, we wil look at an \"iterative\" method that uses currents measured during successive test pulses while $R_s$ and $C_m$ compensations are refined.\n",
    "\n",
    "The approach described here is explained in Axon's pCLAMP manual, where it is attributed to Dr. Fernando Garcia-Diaz.\n",
    "As reference we shall use the pCLAMP 9 User Guide Rev D (later versions are missing equation numbers), as available from [Molecular devices](https://support.moleculardevices.com/s/article/pCLAMP-Software-Manual-Download-Page), starting on page 229."
   ]
  },
  {
   "cell_type": "markdown",
   "id": "78252eb3",
   "metadata": {},
   "source": [
    "## The set-up\n",
    "\n",
    "A cell is attached to the pipette, the fast artefact has been cancelled out, but no $R_s$ compensation or slow transient cancellation has been applied.\n",
    "\n",
    "A periodic step protocol is applied, consisting of repeating high ($V_{c,1}$) and low ($V_{c,2}$) steps of equal duration $T$.\n",
    "Both steps are analysed identically, so we will discuss only the step at $V_c = V_{c,1}$.\n",
    "\n",
    "We will use:\n",
    "- $T = 10$ ms, based on screenshots in the pClamp manuals\n",
    "- $V_1 = -60$ mV, $V_2=-70$ mv, again based on screenshots. This means a holding potential of $-70$ mV with a $10$ mV \"pulse\".\n",
    "- A sampling rate of $25$ kHz ($\\text{dt}=0.04$ ms), for 250 samples per 10ms step. This is based on the algorithm description.\n",
    "- For the constants, we'll use numbers from screenshots in the manual: $R_s = 11.7 M\\Omega$, $R_m = 500.3 M\\Omega$, and $C_m = 31.89$ pF."
   ]
  },
  {
   "cell_type": "markdown",
   "id": "2a4f2ad6",
   "metadata": {},
   "source": [
    "<img src=\"resources/rscm-2-protocol.png\" style=\"margin:auto\" />"
   ]
  },
  {
   "cell_type": "markdown",
   "id": "96026015",
   "metadata": {},
   "source": [
    "## Simple cell-and-access model\n",
    "\n",
    "The analysis uses the following schematic for the cell and access resistance:"
   ]
  },
  {
   "cell_type": "markdown",
   "id": "d0d13324",
   "metadata": {},
   "source": [
    "<img src=\"resources/rscm-1-circuit.png\" style=\"margin:auto\" />"
   ]
  },
  {
   "cell_type": "markdown",
   "id": "609dd8fc",
   "metadata": {},
   "source": [
    "The command potential (no $V_p$ or delays etc) is applied to the series resistance $R_s$, causing a voltage drop to $V_m$.\n",
    "The cell is represented by its capacitance $C_m$ and a constant membrane resistance $R_m$.\n",
    "No leak or offsets are included.\n",
    "\n",
    "The current through $R_s$ (which we'll assume is observed without error) is given by\n",
    "\n",
    "\\begin{align}\n",
    "I = \\frac{V_c - V_m}{R_s} = \\frac{V_m}{R_m} + C_m \\dot{V}_m\n",
    "\\end{align}"
   ]
  },
  {
   "cell_type": "markdown",
   "id": "1d5ad6c9",
   "metadata": {},
   "source": [
    "### A model for Vm\n",
    "\n",
    "We can use these relationships to write an ODE model for $V_m$\n",
    "\n",
    "\\begin{align}\n",
    "\\dot{V}_m = \\frac{\\frac{R_m}{R_m + R_s}V_c - V_m}{\\frac{R_mR_s}{R_m+R_s}C_m} = \\frac{V_\\infty - V_m}{\\tau}\n",
    "\\end{align}\n",
    "\n",
    "with analytical solution\n",
    "\\begin{align}\n",
    "V_m(t) &= V_\\infty - \\left(V_\\infty - V_0\\right) e^{-t/\\tau} \\\\\n",
    "\\end{align}\n",
    "\n",
    "For the first step\n",
    "\\begin{align}\n",
    "V_{\\infty,1} = \\frac{R_m}{R_m+R_s}V_{c,1} &&\n",
    "     V_{0,1} = \\frac{R_m}{R_m+R_s}V_{c,2} \n",
    "\\end{align}\n",
    "while for the second\n",
    "\\begin{align}\n",
    "V_{\\infty,2} = V_{0,1} &&\n",
    "     V_{0,2} = V_{\\infty,1}\n",
    "\\end{align}\n",
    "\n",
    "We can also express these relationships in terms of a holding and a step potential:\n",
    "\n",
    "\\begin{align}\n",
    "V_h &= V_{c,2} && \\Delta V_c = V_{c,1} - V_{c,2}\n",
    "\\end{align}\n",
    "allowing us to write\n",
    "\\begin{align}\n",
    "V_m(t) = \\frac{R_m}{R_m + R_s} \\left[ V_h + \\Delta V_c (1 - e^{-t/\\tau}) \\right] &&\n",
    "\\end{align}"
   ]
  },
  {
   "cell_type": "markdown",
   "id": "8baf193f",
   "metadata": {},
   "source": [
    "### A model for I\n",
    "\n",
    "Alternatively, we can rephrase this as a model for $I$\n",
    "\n",
    "\\begin{align}\n",
    "\\dot{I}_\\text{Rs} = \\frac{\\frac{V_c}{R_s + R_m} - I}{\\frac{R_sR_m}{R_s+R_m}C_m} + \\frac{\\dot{V}_c}{R_s}\n",
    "        = \\frac{I_\\infty - I}{\\tau} + \\frac{\\dot{V}_c}{R_s}\n",
    "\\end{align}\n",
    "\n",
    "But now we get all the problems of a discontinuous $V_c$.\n",
    "We can bypass a lot of issues by analysing only the parts of the steps where $V_c$ is constant.\n",
    "In that case, we get a similar solution\n",
    "\\begin{align}\n",
    "I(t) = I_\\infty - \\left(I_\\infty - I_0\\right) e^{-t/\\tau}\n",
    "\\end{align}\n",
    "\n",
    "But the constants no longer have a nice symmetry:\n",
    "\\begin{align}\n",
    "I_{\\infty,1} = \\frac{1}{R_m + R_s} V_{c,1} \\neq I_{0,2}\n",
    "  &\\quad&\n",
    "I_{0,1} = \\frac{V_{c,1} - V_0}{R_s}\n",
    "        = \\frac{V_{c,1} - \\frac{R_m}{R_m+R_s}V_{c,2}}{R_s} \\neq I_{\\infty,2}\n",
    "\\end{align}\n",
    "\n",
    "As with $V$, we will also define\n",
    "\\begin{align}\n",
    "\\Delta I = I_{\\infty,1} - I_{\\infty,2} = \\frac{\\Delta V_c}{R_m + R_s}\n",
    "\\end{align}\n",
    "\n",
    "The charge carried by a current will prove quite useful, so we work out the integral of $I$ too:\n",
    "\n",
    "\\begin{align}\n",
    "\\int_0^T I\n",
    "    &= T I_\\infty - (I_\\infty - I_0) \\left[ -\\tau e^{-T/\\tau} + \\tau \\right] \\\\\n",
    "    &\\approx T I_\\infty - (I_\\infty - I_0) \\tau, \\quad \\text{if } T \\gg \\tau\n",
    "\\end{align}\n",
    "\n",
    "The approximation is quite a good one: for $T/\\tau = 10$ we already find $e^{T/\\tau}\\approx 5\\cdot10^{-5}$."
   ]
  },
  {
   "cell_type": "markdown",
   "id": "bab9b21f",
   "metadata": {},
   "source": [
    "### Simulations\n",
    "\n",
    "We'll now code up the V model, and run a simulation to compare with our analytical results."
   ]
  },
  {
   "cell_type": "code",
   "execution_count": 1,
   "id": "cd9302ba",
   "metadata": {},
   "outputs": [],
   "source": [
    "import myokit\n",
    "import numpy as np\n",
    "import matplotlib.pyplot as plt"
   ]
  },
  {
   "cell_type": "code",
   "execution_count": 2,
   "id": "efd71b05",
   "metadata": {},
   "outputs": [],
   "source": [
    "mA = myokit.parse_model('''\n",
    "[[model]]\n",
    "amp.Vm = -70\n",
    "\n",
    "[engine]\n",
    "time = 0 [ms] in [ms] bind time\n",
    "pace = 0 bind pace\n",
    "\n",
    "[amp]\n",
    "Rs = 11.7e-3 [GOhm] in [GOhm]\n",
    "Cm = 31.89 [pF] in [pF]\n",
    "Rm = 0.5003 [GOhm] in [GOhm]\n",
    "Vc = 1 [mV] * engine.pace\n",
    "    in [mV]\n",
    "dot(Vm) = (Rm * I_obs - Vm) / (Rm * Cm)\n",
    "    in [mV]\n",
    "I_obs = (Vc - Vm) / Rs\n",
    "    in [pA]\n",
    "''')\n",
    "mA.check_units(myokit.UNIT_STRICT)\n",
    "\n",
    "# Get model constants\n",
    "Rs = mA.get('amp.Rs').eval()\n",
    "Rm = mA.get('amp.Rm').eval()\n",
    "Cm = mA.get('amp.Cm').eval()"
   ]
  },
  {
   "cell_type": "code",
   "execution_count": 3,
   "id": "043060a7",
   "metadata": {},
   "outputs": [],
   "source": [
    "T = 10\n",
    "V1 = -60\n",
    "V2 = -70\n",
    "dV = V1 - V2\n",
    "\n",
    "p = myokit.Protocol()\n",
    "p.schedule(start=0, level=V1, duration=T, period=2*T)\n",
    "p.schedule(start=T, level=V2, duration=T, period=2*T)"
   ]
  },
  {
   "cell_type": "code",
   "execution_count": 4,
   "id": "245620d1",
   "metadata": {},
   "outputs": [],
   "source": [
    "sA = myokit.Simulation(mA, p)\n",
    "sA.set_tolerance(1e-12, 1e-12)\n",
    "sA.pre(2 * T)\n",
    "dA = sA.run(2 * T).npview()"
   ]
  },
  {
   "cell_type": "code",
   "execution_count": 5,
   "id": "d8c1f6d9",
   "metadata": {},
   "outputs": [
    {
     "name": "stdout",
     "output_type": "stream",
     "text": [
      "V0, V8, tau -68.400390625 -58.62890624999999 0.3645867849609375\n",
      "V0  = -68.40 mV\n",
      "Voo = -58.63 ,V\n",
      "tau =  0.365 ms\n",
      "I0  = 717.98 pA\n",
      "Ioo = -117.2 pA\n"
     ]
    },
    {
     "data": {
      "image/png": "[encoded data removed]",
      "text/plain": [
       "<Figure size 1080x360 with 2 Axes>"
      ]
     },
     "metadata": {
      "needs_background": "light"
     },
     "output_type": "display_data"
    }
   ],
   "source": [
    "fig = plt.figure(figsize=(15, 5))\n",
    "ax1 = fig.add_subplot(1, 2, 1)\n",
    "ax2 = fig.add_subplot(1, 2, 2)\n",
    "\n",
    "# Calculate analytical solutions for V\n",
    "V0 = Rm / (Rm + Rs) * V2\n",
    "V8 = Rm / (Rm + Rs) * V1\n",
    "tau = (Rm * Rs) / (Rm + Rs) * Cm\n",
    "print('V0, V8, tau', V0, V8, tau)\n",
    "print(f'V0  = {V0:.2f} mV')\n",
    "print(f'Voo = {V8:.2f} ,V')\n",
    "print(f'tau = {tau:> .3f} ms')\n",
    "\n",
    "# Show limits and exponential fit\n",
    "ax1.axhline(V0, color='r', ls='-.', label='$V_0$')\n",
    "ax1.axhline(V8, color='grey', ls='--', label='$V_\\infty$')\n",
    "ax1.plot(dA.time(), dA['amp.Vm'], lw=3, label='Vm')\n",
    "ax1.plot(dA.time(), V8 - (V8 - V0) * np.exp(-dA.time() / tau), '--', label='exponential')\n",
    "ax1.legend(loc='center right')\n",
    "\n",
    "# Calculate analytical solutions for I\n",
    "I0 = (V1 - Rm / (Rm + Rs) * V2) / Rs\n",
    "I8 = 1 / (Rm + Rs) * V1\n",
    "print(f'I0  = {I0:.2f} pA')\n",
    "print(f'Ioo = {I8:.1f} pA')\n",
    "\n",
    "# Show limits and exponential fit\n",
    "ax2.axhline(I0, color='r', ls='-.', label='$I_0$')\n",
    "ax2.axhline(I8, color='grey', ls='--', label='$I_\\infty$')\n",
    "ax2.plot(dA.time(), dA['amp.I_obs'], label='$Iobs$')\n",
    "ax2.plot(dA.time(), I8 - (I8 - I0) * np.exp(-dA.time() / tau), '--', label='exponential')\n",
    "ax2.legend(loc='lower right')\n",
    "\n",
    "plt.show()"
   ]
  },
  {
   "cell_type": "code",
   "execution_count": 6,
   "id": "d90e4c6b",
   "metadata": {},
   "outputs": [
    {
     "name": "stdout",
     "output_type": "stream",
     "text": [
      "True Rs  11.7 MOhm\n",
      "True Rm 500.3 MOhm\n",
      "True Cm 31.89 pF\n"
     ]
    }
   ],
   "source": [
    "print(f'True Rs {1e3 * Rs:>5.1f} MOhm')\n",
    "print(f'True Rm {1e3 * Rm:.1f} MOhm')\n",
    "print(f'True Cm {Cm:>5.2f} pF')"
   ]
  },
  {
   "cell_type": "markdown",
   "id": "a5a3ff12",
   "metadata": {},
   "source": [
    "## Suggested analysis\n",
    "\n",
    "Here we'll try to recapitulate the suggested procedure, using asterisks to distinguish observed or estimated quantities from their theoretical or user-determined counterparts."
   ]
  },
  {
   "cell_type": "markdown",
   "id": "992cc33d",
   "metadata": {},
   "source": [
    "### Average the tail-ends to estimate $I_{\\infty,1}$ and $I_{\\infty,2}$\n",
    "\n",
    "Estimate $I_{\\infty,1}$ and $I_{\\infty,2}$ as the mean observed current of the final 20% of each step.\n",
    "\n",
    "\\begin{align}\n",
    "I_{\\infty,1}^* &= \\text{mean observed I between 0.8T and T} \\\\\n",
    "I_{\\infty,2}^* &= \\text{mean observed I between 1.8T and 2T} \\\\\n",
    "\\end{align}\n",
    "\n",
    "and use\n",
    "\n",
    "\\begin{align}\n",
    "\\Delta I^* = I_{\\infty,1}^* - I_{\\infty,2}^* \n",
    "           = \\frac{V_{c,1} - V_{c,2}}{R_m^* + R_s^*}\n",
    "           = \\frac{\\Delta V_c}{R_t^*}\n",
    "\\end{align}\n",
    "\n",
    "to find an estimate of $R_t^* = R_m^* + R_s^*$."
   ]
  },
  {
   "cell_type": "markdown",
   "id": "8e9ea597",
   "metadata": {},
   "source": [
    "### Fit an exponential to find $\\tau^*$\n",
    "\n",
    "A single exponential curve is fit to the observed current between 0.1T and 0.8T for step 1, and 1.1T and 1.8T for step 2.\n",
    "Both should yield the same time constant $\\tau^*$, for which\n",
    "\n",
    "\\begin{align}\n",
    "\\tau^* = \\frac{R_m^*R_s^*}{R_t^*} C_m^*\n",
    "\\end{align}\n",
    "\n",
    "Estimates for $I_{0,1}^*$ and $I_{0,2}^*$ can be obtained in the same step, but are not mentioned in the text.\n",
    "They are probably made, however, and used to show the quality of fit."
   ]
  },
  {
   "cell_type": "markdown",
   "id": "92306d8f",
   "metadata": {},
   "source": [
    "### Integrate to find the charge used by $C_m$\n",
    "\n",
    "Next, an estimate of the current used to charge $C_m$ is made.\n",
    "To do this, we numerically find the integral of\n",
    "\n",
    "\\begin{align}\n",
    "I(t) = \\frac{V_m(t)}{R_m} + C_m\\dot{V}_m(t)\n",
    "\\end{align}\n",
    "\n",
    "and then subtract the part due to $V_m(t)/R_m$.\n",
    "\n",
    "For the total charge carried in step 1, we can write\n",
    "\\begin{align}\n",
    "Q_T = \\int_0^T I(t)dt \\approx T I_{\\infty,1} - (I_{\\infty,1} - I_{0,1}) \\tau\n",
    "\\end{align}\n",
    "where the approximation holds if $T$ is long enough compared to $\\tau$ (and where we should really be writing e.g. $0^+$ or $T^-$ to indicate that we are not including the point with the discontinuity).\n",
    "\n",
    "For the charge due to $V_m(t)/R_m$ we find\n",
    "\n",
    "\\begin{align}\n",
    "Q_R = \\frac{1}{R_m} \\int_0^T V_m(t)dt\n",
    "    \\approx \\frac{T V_{\\infty,1} - (V_{\\infty,1} - V_{\\infty,2}) \\tau}{R_m}\n",
    "    = T I_{\\infty,1} - (I_{\\infty,1} - I_{\\infty,2}) \\tau\n",
    "\\end{align}\n",
    "\n",
    "So that the charge needed to charge $C_m$ is given by\n",
    "\n",
    "\\begin{align}\n",
    "Q_m = Q_T - Q_R = (I_{0,1} - I_{\\infty,1}) \\tau + \\Delta I \\, \\tau\n",
    "\\end{align}\n",
    "\n",
    "To approximate $Q_m$ we estimate the first term $Q_1 = (I_{0,1} - I_{\\infty,1}) \\tau$ by numerically integrating.\n",
    "The second term, $Q_2 = \\Delta I\\,\\tau$, is approximated by our estimated values $\\Delta I^* \\tau^*$:\n",
    "\n",
    "\\begin{align}\n",
    "Q_m^* = Q_1^* + Q_2^* = Q_1^* + \\Delta I^* \\tau^*\n",
    "\\end{align}\n",
    "\n",
    "Finally, we use the fact that, no matter how we got to this state, the charge stored in the capacitor relative to the previous step will be $C_m \\Delta V_m$.\n",
    "This gives us the relationship\n",
    "\n",
    "\\begin{align}\n",
    "Q_m^* = Q_1^* - \\Delta I^* \\tau^* = \\frac{R_m^*}{R_t^*} C_m^* \\Delta V_c\n",
    "\\end{align}"
   ]
  },
  {
   "cell_type": "markdown",
   "id": "80590270",
   "metadata": {},
   "source": [
    "### Solving\n",
    "\n",
    "Finally, we combine $\\tau = \\frac{R_mR_s}{R_t}$ and $C_m^*=\\frac{Q_m^*R_t^*}{R_m^*\\Delta V_c}$ to find\n",
    "\n",
    "\\begin{align}\n",
    "R_s^* = \\frac{\\tau^* \\Delta V_c}{Q_m^*}\n",
    "\\end{align}\n",
    "\n",
    "We can then write\n",
    "\n",
    "\\begin{align}\n",
    "\\Delta I^* &= I_{\\infty,1}^* - I_{\\infty,2}^*, \\quad \\text{From means}\n",
    "\\end{align}\n",
    "\n",
    "\\begin{align}\n",
    "\\tau^* &= \\text{From a single exponential fit}\n",
    "\\end{align}\n",
    "\n",
    "\\begin{align}\n",
    "Q_1^* &= \\text{Area under the curve}\n",
    "\\end{align}\n",
    "\n",
    "\\begin{align}\n",
    "Q_m^* = Q_1^* + \\Delta I^* \\tau^*\n",
    "\\end{align}\n",
    "\n",
    "\\begin{align}\n",
    "R_s^* = \\frac{\\tau^* \\Delta V_c}{Q_m^*}\n",
    "\\end{align}\n",
    "\n",
    "\\begin{align}\n",
    "R_m^* = \\frac{\\Delta V_c}{\\Delta I^*} - R_s^*\n",
    "\\end{align}\n",
    "\n",
    "\\begin{align}\n",
    "C_m^* = \\frac{Q_m^* (R_m^* + R_s^*)}{R_m^* \\Delta V_c}\n",
    "\\end{align}"
   ]
  },
  {
   "cell_type": "markdown",
   "id": "d9682b5f",
   "metadata": {},
   "source": [
    "## Implementation\n",
    "\n",
    "We can try this out on our model from above."
   ]
  },
  {
   "cell_type": "code",
   "execution_count": 7,
   "id": "6ba64037",
   "metadata": {},
   "outputs": [
    {
     "name": "stdout",
     "output_type": "stream",
     "text": [
      "Using dt=0.04 for a total of 500 samples\n"
     ]
    }
   ],
   "source": [
    "N = 500\n",
    "dt = (2 * T) / N\n",
    "print(f'Using dt={dt} for a total of {N} samples')"
   ]
  },
  {
   "cell_type": "code",
   "execution_count": 8,
   "id": "6ac56577",
   "metadata": {},
   "outputs": [],
   "source": [
    "sA.reset()\n",
    "dA = sA.run(2 * T, log_interval=dt).npview()"
   ]
  },
  {
   "cell_type": "markdown",
   "id": "d8643531",
   "metadata": {},
   "source": [
    "Now we find points at 10% and 80% of each step.\n",
    "Annoyingly, Axon always gives the protocol a little offset, which we will account for here by using slightly different percentages."
   ]
  },
  {
   "cell_type": "code",
   "execution_count": 9,
   "id": "cc07b50e",
   "metadata": {},
   "outputs": [
    {
     "name": "stdout",
     "output_type": "stream",
     "text": [
      "t(10%) 0.40\n",
      "t(80%) 7.40\n"
     ]
    }
   ],
   "source": [
    "ipad = 15  # a 6% shift\n",
    "i10 = 25 - ipad\n",
    "i80 = 200 - ipad\n",
    "i100 = 250 - ipad\n",
    "i110, i180, i200 = 250 + i10, 250 + i80, 250 + i100\n",
    "\n",
    "print(f't(10%) {dA.time()[i10]:>4.2f}')\n",
    "print(f't(80%) {dA.time()[i80]:>4.2f}')"
   ]
  },
  {
   "cell_type": "markdown",
   "id": "c5ca9e97",
   "metadata": {},
   "source": [
    "With these points we perform the estimates for $I_{\\infty,1}$, $I_{\\infty,2}$, and $dI$."
   ]
  },
  {
   "cell_type": "code",
   "execution_count": 10,
   "id": "1d9fb27e",
   "metadata": {},
   "outputs": [
    {
     "name": "stdout",
     "output_type": "stream",
     "text": [
      "I1* = -117.1874998, real I1 = -117.1875000\n",
      "I2* = -136.7188,    real dI = -136.7188\n",
      "dI* =   19.5313,    real dI =   19.5312\n"
     ]
    }
   ],
   "source": [
    "t, I = dA.time(), dA['amp.I_obs']\n",
    "I1_est = np.mean(I[i80:i100])\n",
    "I2_est = np.mean(I[i180:i200])\n",
    "dI_est = I1_est - I2_est\n",
    "dI = dV / (Rm + Rs)\n",
    "print(f'I1* = {I1_est:.7f}, real I1 = {I8:.7f}')\n",
    "print(f'I2* = {I2_est:>9.4f},    real dI = {I8 - dI:>9.4f}')\n",
    "print(f'dI* = {dI_est:>9.4f},    real dI = {dI:>9.4f}')"
   ]
  },
  {
   "cell_type": "markdown",
   "id": "ac3ab97b",
   "metadata": {},
   "source": [
    "Next, we fit a single polynomial.\n",
    "To stay true to the manual (and the 80s/90s technology?) we do this using a log-transform and manual linear least squares.\n",
    "\n",
    "According to the algorithm section, this is performed using a lookup table.\n",
    "It's likely that there's also some mechanism to avoid divide-by-zero issues."
   ]
  },
  {
   "cell_type": "code",
   "execution_count": 11,
   "id": "b46eecdc",
   "metadata": {
    "scrolled": false
   },
   "outputs": [
    {
     "name": "stdout",
     "output_type": "stream",
     "text": [
      "Tau, lazy estimate 0.363\n",
      "Tau, least squares 0.364\n",
      "Tau, known value   0.365\n"
     ]
    },
    {
     "data": {
      "image/png": "[encoded data removed]",
      "text/plain": [
       "<Figure size 1080x360 with 1 Axes>"
      ]
     },
     "metadata": {
      "needs_background": "light"
     },
     "output_type": "display_data"
    }
   ],
   "source": [
    "tlog = t[i10:i80]\n",
    "ilog = np.log(I[i10:i80] - I1_est)\n",
    "\n",
    "# From this, we can calculate a very cheap tau\n",
    "tau_lazy = (0.7 * T) / (ilog[0] - ilog[-1])\n",
    "\n",
    "# Or do a bit more work for a manual linear least squares\n",
    "mx = np.mean(tlog)\n",
    "my = np.mean(ilog)\n",
    "rx = tlog - mx\n",
    "ry = ilog - my\n",
    "b = np.sum(rx * ry) / np.sum(rx ** 2)\n",
    "a = my - b * mx\n",
    "tau_est = -1 / b\n",
    "\n",
    "fig = plt.figure(figsize=(15, 5))\n",
    "ax = fig.add_subplot()\n",
    "ax.plot(tlog, ilog, lw=3, label='Data')\n",
    "ax.plot(tlog, a + b * tlog, '--', label='Least squares fit')\n",
    "ax.legend()\n",
    "\n",
    "print(f'Tau, lazy estimate {tau_lazy:.3f}')\n",
    "print(f'Tau, least squares {tau_est:.3f}')\n",
    "print(f'Tau, known value   {tau:.3f}')"
   ]
  },
  {
   "cell_type": "markdown",
   "id": "d2b71e51",
   "metadata": {},
   "source": [
    "As promised, we get a bonus $I_0$ estimate:"
   ]
  },
  {
   "cell_type": "code",
   "execution_count": 12,
   "id": "06cdb2dc",
   "metadata": {},
   "outputs": [
    {
     "name": "stdout",
     "output_type": "stream",
     "text": [
      "I0, least squares 734.65, real 717.98\n"
     ]
    }
   ],
   "source": [
    "I0_est = np.exp(a) + I1_est\n",
    "print(f'I0, least squares {I0_est:.2f}, real {I0:.2f}')"
   ]
  },
  {
   "cell_type": "markdown",
   "id": "4c991442",
   "metadata": {},
   "source": [
    "It's a bit off, which is to be expected when we extrapolate up an exponential, and probably the reason that we don't use this result beyond plotting.\n",
    "\n",
    "We can now show the obtained fits"
   ]
  },
  {
   "cell_type": "code",
   "execution_count": 13,
   "id": "9ba2030d",
   "metadata": {
    "scrolled": true
   },
   "outputs": [
    {
     "data": {
      "image/png": "[encoded data removed]",
      "text/plain": [
       "<Figure size 864x360 with 1 Axes>"
      ]
     },
     "metadata": {
      "needs_background": "light"
     },
     "output_type": "display_data"
    }
   ],
   "source": [
    "fig = plt.figure(figsize=(12, 5))\n",
    "ax = fig.add_subplot()\n",
    "\n",
    "dot = dict(color='grey', ls='--', lw=1)\n",
    "ora = dict(color='tab:orange', lw=2)\n",
    "ax.axvline(t[i10], **dot)\n",
    "ax.axvline(t[i80], **dot)\n",
    "ax.axvline(t[i100], **dot)\n",
    "ax.plot(t, I, label='$Iobs$')\n",
    "ax.plot((t[i80], t[i100]), (I1_est, I1_est), **ora)\n",
    "ax.plot((t[i180], t[i200]), (I2_est, I2_est), **ora)\n",
    "te = t[i10 // 3:i10 + 50]\n",
    "ax.plot(te, I1_est - (I1_est - I0_est) * np.exp(-te / tau_est))\n",
    "\n",
    "ax.legend(loc='lower right')\n",
    "\n",
    "plt.show()"
   ]
  },
  {
   "cell_type": "markdown",
   "id": "77e1949e",
   "metadata": {},
   "source": [
    "Now we integrate the positive parts of $I - I_{\\infty,1}$ for step 1 to find Qm."
   ]
  },
  {
   "cell_type": "code",
   "execution_count": 14,
   "id": "a8fa735f",
   "metadata": {},
   "outputs": [
    {
     "name": "stdout",
     "output_type": "stream",
     "text": [
      "Estimated Qm 311.90 fC, real 311.61\n"
     ]
    }
   ],
   "source": [
    "# Integrate part above I1 to find Q1\n",
    "iup = I[:i80] - I1_est\n",
    "iup = iup[iup > 0]\n",
    "Qm_est = np.trapz(iup, dx=dt)\n",
    "\n",
    "# And correct to find Qm, in pA * ms = fC\n",
    "Qm_est += dI_est * tau_est\n",
    "print(f'Estimated Qm {Qm_est:.2f} fC, real {(I0 - I8 + dI) * tau:.2f}')"
   ]
  },
  {
   "cell_type": "code",
   "execution_count": 15,
   "id": "a10a0806",
   "metadata": {},
   "outputs": [
    {
     "name": "stdout",
     "output_type": "stream",
     "text": [
      "Estimated Rs  11.7 MOhm, real  11.7 Mohm\n",
      "Estimated Rm 500.3 MOhm, real 500.3 MOhm\n",
      "Estimated Cm 31.92 pF,   real 31.89 pF\n"
     ]
    }
   ],
   "source": [
    "Rs_est = tau_est * dV / Qm_est\n",
    "Rm_est = dV / dI_est - Rs_est\n",
    "Cm_est = Qm_est * (Rm_est + Rs_est) / (Rm_est * dV)\n",
    "\n",
    "print(f'Estimated Rs {1e3 * Rs_est:>5.1f} MOhm, real {1e3 * Rs:>5.1f} Mohm')\n",
    "print(f'Estimated Rm {1e3 * Rm_est:>5.1f} MOhm, real {1e3 * Rm:>5.1f} MOhm')\n",
    "print(f'Estimated Cm {Cm_est:>5.2f} pF,   real {Cm:>5.2f} pF')"
   ]
  },
  {
   "cell_type": "markdown",
   "id": "efe51fed",
   "metadata": {},
   "source": [
    "And there we go!"
   ]
  },
  {
   "cell_type": "markdown",
   "id": "f858b751",
   "metadata": {},
   "source": [
    "## Test on a trickier model\n",
    "\n",
    "We can apply the same methods to a model with slightly more realistic characteristics.\n",
    "We'll leave out $C_p$ and any corrections, but maintain a $V_o$ that's filtered by $R_fC_f$."
   ]
  },
  {
   "cell_type": "code",
   "execution_count": 16,
   "id": "c2dd7b36",
   "metadata": {},
   "outputs": [],
   "source": [
    "mB = myokit.parse_model('''\n",
    "[[model]]\n",
    "amp.Vm = -70\n",
    "amp.Vo = -70\n",
    "\n",
    "[engine]\n",
    "time = 0 [ms] in [ms] bind time\n",
    "pace = 0 bind pace\n",
    "\n",
    "[amp]\n",
    "Rm = 0.5003 [GOhm] in [GOhm]\n",
    "Rs = 11.7e-3 [GOhm] in [GOhm]\n",
    "Cm = 31.89 [pF] in [pF]\n",
    "Rf = 0.5 [GOhm] in [GOhm]\n",
    "Cf = 0.15 [pF] in [pF]\n",
    "I = Vm / Rm\n",
    "    in [pA]\n",
    "Vc = engine.pace * 1 [mV]\n",
    "    in [mV]\n",
    "dot(Vm) = (Vc - Vm) / (Rs * Cm) - I / Cm\n",
    "    in [mV]\n",
    "dot(Vo) = (Vc - Vm) / (Rs * Cf) - (Vo - Vc) /  (Rf * Cf)\n",
    "    in [mV]\n",
    "I_obs = (Vo - Vc) / Rf\n",
    "    in [pA]\n",
    "''')\n",
    "mB.check_units(myokit.UNIT_STRICT)"
   ]
  },
  {
   "cell_type": "code",
   "execution_count": 17,
   "id": "62d00e3e",
   "metadata": {},
   "outputs": [],
   "source": [
    "sB = myokit.Simulation(mB, p)\n",
    "sB.set_tolerance(1e-12, 1e-12)\n",
    "sB.pre(2 * T)\n",
    "dB = sB.run(2 * T, log_interval=dt).npview()"
   ]
  },
  {
   "cell_type": "markdown",
   "id": "f3ea5c8b",
   "metadata": {},
   "source": [
    "This model has trickier behaviour:"
   ]
  },
  {
   "cell_type": "code",
   "execution_count": 18,
   "id": "e397d8d6",
   "metadata": {},
   "outputs": [
    {
     "data": {
      "image/png": "[encoded data removed]",
      "text/plain": [
       "<Figure size 1080x360 with 2 Axes>"
      ]
     },
     "metadata": {
      "needs_background": "light"
     },
     "output_type": "display_data"
    }
   ],
   "source": [
    "fig = plt.figure(figsize=(15, 5))\n",
    "ax1 = fig.add_subplot(1, 2, 1)\n",
    "ax2 = fig.add_subplot(1, 2, 2)\n",
    "ax1.plot(dB.time(), dB['amp.Vm'])\n",
    "ax2.plot(dB.time(), dB['amp.I_obs'])\n",
    "plt.show()"
   ]
  },
  {
   "cell_type": "markdown",
   "id": "94a6ba62",
   "metadata": {},
   "source": [
    "Estimate $I_{\\infty,1}$, $I_{\\infty,2}$, and $dI$."
   ]
  },
  {
   "cell_type": "code",
   "execution_count": 19,
   "id": "38b7d248",
   "metadata": {},
   "outputs": [
    {
     "name": "stdout",
     "output_type": "stream",
     "text": [
      "I1* = -117.1874997\n",
      "I2* = -136.7188\n",
      "dI* =   19.5313\n"
     ]
    }
   ],
   "source": [
    "t, I = dB.time(), dB['amp.I_obs']\n",
    "I1_est = np.mean(I[i80:i100])\n",
    "I2_est = np.mean(I[i180:i200])\n",
    "dI_est = I1_est - I2_est\n",
    "print(f'I1* = {I1_est:.7f}')\n",
    "print(f'I2* = {I2_est:>9.4f}')\n",
    "print(f'dI* = {dI_est:>9.4f}')"
   ]
  },
  {
   "cell_type": "markdown",
   "id": "54ede099",
   "metadata": {},
   "source": [
    "Estimate $\\tau$"
   ]
  },
  {
   "cell_type": "code",
   "execution_count": 20,
   "id": "6e214808",
   "metadata": {
    "scrolled": false
   },
   "outputs": [
    {
     "name": "stdout",
     "output_type": "stream",
     "text": [
      "Tau* = 0.364 ms\n"
     ]
    },
    {
     "data": {
      "image/png": "[encoded data removed]",
      "text/plain": [
       "<Figure size 1080x360 with 1 Axes>"
      ]
     },
     "metadata": {
      "needs_background": "light"
     },
     "output_type": "display_data"
    }
   ],
   "source": [
    "tlog = t[i10:i80]\n",
    "ilog = np.log(I[i10:i80] - I1_est)\n",
    "\n",
    "mx = np.mean(tlog)\n",
    "my = np.mean(ilog)\n",
    "rx = tlog - mx\n",
    "ry = ilog - my\n",
    "b = np.sum(rx * ry) / np.sum(rx ** 2)\n",
    "a = my - b * mx\n",
    "\n",
    "tau_est = -1 / b\n",
    "I0_est = np.exp(a) + I1_est\n",
    "\n",
    "fig = plt.figure(figsize=(15, 5))\n",
    "ax = fig.add_subplot()\n",
    "ax.plot(tlog, ilog, lw=3, label='Data')\n",
    "ax.plot(tlog, a + b * tlog, '--', label='Least squares fit')\n",
    "ax.legend()\n",
    "\n",
    "print(f'Tau* = {tau_est:.3f} ms')"
   ]
  },
  {
   "cell_type": "markdown",
   "id": "21bf20ec",
   "metadata": {},
   "source": [
    "Show the obtained fits"
   ]
  },
  {
   "cell_type": "code",
   "execution_count": 21,
   "id": "bf4cb270",
   "metadata": {
    "scrolled": true
   },
   "outputs": [
    {
     "data": {
      "image/png": "[encoded data removed]",
      "text/plain": [
       "<Figure size 864x360 with 1 Axes>"
      ]
     },
     "metadata": {
      "needs_background": "light"
     },
     "output_type": "display_data"
    }
   ],
   "source": [
    "fig = plt.figure(figsize=(12, 5))\n",
    "ax = fig.add_subplot()\n",
    "\n",
    "dot = dict(color='grey', ls='--', lw=1)\n",
    "ora = dict(color='tab:orange', lw=2)\n",
    "ax.axvline(t[i10], **dot)\n",
    "ax.axvline(t[i80], **dot)\n",
    "ax.axvline(t[i100], **dot)\n",
    "ax.plot(t, I, label='$Iobs$')\n",
    "ax.plot((t[i80], t[i100]), (I1_est, I1_est), **ora)\n",
    "ax.plot((t[i180], t[i200]), (I2_est, I2_est), **ora)\n",
    "te = t[i10 // 3:i10 + 50]\n",
    "ax.plot(te, I1_est - (I1_est - I0_est) * np.exp(-te / tau_est))\n",
    "\n",
    "ax.legend(loc='lower right')\n",
    "\n",
    "plt.show()"
   ]
  },
  {
   "cell_type": "markdown",
   "id": "633b88ee",
   "metadata": {},
   "source": [
    "Find Qm"
   ]
  },
  {
   "cell_type": "code",
   "execution_count": 22,
   "id": "01eb518a",
   "metadata": {},
   "outputs": [
    {
     "name": "stdout",
     "output_type": "stream",
     "text": [
      "Estimated Qm 301.83 fC\n"
     ]
    }
   ],
   "source": [
    "iup = I[:i80] - I1_est\n",
    "iup = iup[iup > 0]\n",
    "Qm_est = np.trapz(iup, dx=dt) + dI_est * tau_est\n",
    "print(f'Estimated Qm {Qm_est:.2f} fC')"
   ]
  },
  {
   "cell_type": "code",
   "execution_count": 23,
   "id": "7a019e71",
   "metadata": {},
   "outputs": [
    {
     "name": "stdout",
     "output_type": "stream",
     "text": [
      "Estimated Rs  12.0 MOhm\n",
      "Estimated Rm 500.0 MOhm\n",
      "Estimated Cm 30.91 pF\n"
     ]
    }
   ],
   "source": [
    "Rs_est = tau_est * dV / Qm_est\n",
    "Rm_est = dV / dI_est - Rs_est\n",
    "Cm_est = Qm_est * (Rm_est + Rs_est) / (Rm_est * dV)\n",
    "\n",
    "print(f'Estimated Rs {1e3 * Rs_est:>5.1f} MOhm')\n",
    "print(f'Estimated Rm {1e3 * Rm_est:>5.1f} MOhm')\n",
    "print(f'Estimated Cm {Cm_est:>5.2f} pF')"
   ]
  },
  {
   "cell_type": "markdown",
   "id": "1355c921",
   "metadata": {},
   "source": [
    "So the procedure seems reasonably robust!"
   ]
  },
  {
   "cell_type": "markdown",
   "id": "95c1f3bd",
   "metadata": {},
   "source": [
    "## One more time with noise\n",
    "\n",
    "Now we add noise, and discover why other ways of fitting exponentials are nicer."
   ]
  },
  {
   "cell_type": "code",
   "execution_count": 24,
   "id": "1c731794",
   "metadata": {},
   "outputs": [
    {
     "name": "stdout",
     "output_type": "stream",
     "text": [
      "Tau* = 0.368 ms\n",
      "I0* = 927.829 pA\n"
     ]
    },
    {
     "data": {
      "image/png": "[encoded data removed]",
      "text/plain": [
       "<Figure size 1080x360 with 1 Axes>"
      ]
     },
     "metadata": {
      "needs_background": "light"
     },
     "output_type": "display_data"
    }
   ],
   "source": [
    "I = dB['amp.I_obs'] + np.random.normal(0, 5, t.shape)\n",
    "I1_est = np.mean(I[i80:i100])\n",
    "I2_est = np.mean(I[i180:i200])\n",
    "dI_est = I1_est - I2_est\n",
    "\n",
    "# Find points in the 10-80% range\n",
    "tlog = t[i10:i80]\n",
    "ilog = I[i10:i80] - I1_est\n",
    "# But instead of 80%, cut-off when the data gets\n",
    "# 1. too close to zero\n",
    "# 2. too similar to noise to distinguish from zero\n",
    "std = np.std(I[i80:i100])\n",
    "istd = np.where(ilog < 2 * std)[0][0]\n",
    "tlog = tlog[:istd]\n",
    "ilog = ilog[:istd]\n",
    "ilog = np.log(ilog)\n",
    "\n",
    "mx = np.mean(tlog)\n",
    "my = np.mean(ilog)\n",
    "rx = tlog - mx\n",
    "ry = ilog - my\n",
    "b = np.sum(rx * ry) / np.sum(rx ** 2)\n",
    "a = my - b * mx\n",
    "\n",
    "fig = plt.figure(figsize=(15, 5))\n",
    "ax = fig.add_subplot()\n",
    "ax.plot(tlog, ilog, lw=3, label='Data')\n",
    "ax.plot(tlog, a + b * tlog, '--', label='Least squares fit')\n",
    "ax.legend()\n",
    "\n",
    "tau_est = -1 / b\n",
    "I0_est = np.exp(a) + I1_est\n",
    "print(f'Tau* = {tau_est:.3f} ms')\n",
    "print(f'I0* = {I0_est:.3f} pA')"
   ]
  },
  {
   "cell_type": "code",
   "execution_count": 25,
   "id": "39422e0c",
   "metadata": {},
   "outputs": [
    {
     "data": {
      "image/png": "[encoded data removed]",
      "text/plain": [
       "<Figure size 864x360 with 1 Axes>"
      ]
     },
     "metadata": {
      "needs_background": "light"
     },
     "output_type": "display_data"
    },
    {
     "name": "stdout",
     "output_type": "stream",
     "text": [
      "Estimated Rs  11.6 MOhm\n",
      "Estimated Rm 506.6 MOhm\n",
      "Estimated Cm 32.34 pF\n"
     ]
    }
   ],
   "source": [
    "iup = I[:i80] - I1_est\n",
    "iup = iup[iup > 0]\n",
    "Qm_est = np.trapz(iup, dx=dt) + dI_est * tau_est\n",
    "\n",
    "Rs_est = tau_est * dV / Qm_est\n",
    "Rm_est = dV / dI_est - Rs_est\n",
    "Cm_est = Qm_est * (Rm_est + Rs_est) / (Rm_est * dV)\n",
    "\n",
    "fig = plt.figure(figsize=(12, 5))\n",
    "ax = fig.add_subplot()\n",
    "ax.axvline(t[i10], **dot)\n",
    "ax.axvline(t[i80], **dot)\n",
    "ax.axvline(t[i100], **dot)\n",
    "ax.plot(t, I, label='$Iobs$')\n",
    "ax.plot((t[i80], t[i100]), (I1_est, I1_est), **ora)\n",
    "ax.plot((t[i180], t[i200]), (I2_est, I2_est), **ora)\n",
    "te = t[i10 // 3:i10 + 50]\n",
    "ax.plot(te, I1_est - (I1_est - I0_est) * np.exp(-te / tau_est))\n",
    "ax.legend(loc='lower right')\n",
    "plt.show()\n",
    "\n",
    "print(f'Estimated Rs {1e3 * Rs_est:>5.1f} MOhm')\n",
    "print(f'Estimated Rm {1e3 * Rm_est:>5.1f} MOhm')\n",
    "print(f'Estimated Cm {Cm_est:>5.2f} pF')"
   ]
  },
  {
   "cell_type": "markdown",
   "id": "3e0ba129",
   "metadata": {},
   "source": [
    "So with noise, the method becomes trickier.\n",
    "One strategy to remedy this is to measure the same pulse N times, and reduce the noise by averaging."
   ]
  },
  {
   "cell_type": "markdown",
   "id": "4d029347",
   "metadata": {},
   "source": [
    "## Wrapping it up in a function\n",
    "\n",
    "Finally, we can wrap this method up in a re-usable method.\n",
    "This version has a few extra features:\n",
    "\n",
    "1. It uses both steps (V1 and V2) to estimate two taus and two Q1s, from which it then takes an average\n",
    "2. It supports irregularly sampled data."
   ]
  },
  {
   "cell_type": "code",
   "execution_count": 26,
   "id": "e2de955e",
   "metadata": {},
   "outputs": [
    {
     "name": "stdout",
     "output_type": "stream",
     "text": [
      "Estimated Rs  11.7 MOhm\n",
      "Estimated Rm 500.3 MOhm\n",
      "Estimated Cm 31.92 pF\n"
     ]
    }
   ],
   "source": [
    "from library import estimate_cell_parameters\n",
    "\n",
    "I = dA['amp.I_obs']\n",
    "Rs_est, Rm_est, Cm_est, points = estimate_cell_parameters(t, I, T, dV, dt)\n",
    "\n",
    "print(f'Estimated Rs {1e3 * Rs_est:>5.1f} MOhm')\n",
    "print(f'Estimated Rm {1e3 * Rm_est:>5.1f} MOhm')\n",
    "print(f'Estimated Cm {Cm_est:>5.2f} pF')"
   ]
  },
  {
   "cell_type": "code",
   "execution_count": 27,
   "id": "531b54fc",
   "metadata": {},
   "outputs": [
    {
     "name": "stdout",
     "output_type": "stream",
     "text": [
      "Estimated Rs  11.1 MOhm\n",
      "Estimated Rm 471.2 MOhm\n",
      "Estimated Cm 30.34 pF\n"
     ]
    }
   ],
   "source": [
    "I = dB['amp.I_obs'] + np.random.normal(0, 5, size=t.shape)\n",
    "Rs_est, Rm_est, Cm_est, points = estimate_cell_parameters(t, I, T, dV, dt)\n",
    "\n",
    "print(f'Estimated Rs {1e3 * Rs_est:>5.1f} MOhm')\n",
    "print(f'Estimated Rm {1e3 * Rm_est:>5.1f} MOhm')\n",
    "print(f'Estimated Cm {Cm_est:>5.2f} pF')"
   ]
  },
  {
   "cell_type": "markdown",
   "id": "883f5be6",
   "metadata": {},
   "source": [
    "The quality of the estimate varies with the noise, so in real life it will vary a bit every time the test is run.\n",
    "Besides reducing noise by averaging, we can also try increasing the sampling rate:"
   ]
  },
  {
   "cell_type": "code",
   "execution_count": 28,
   "id": "ed421000",
   "metadata": {},
   "outputs": [
    {
     "name": "stdout",
     "output_type": "stream",
     "text": [
      "Estimated Rs  11.6 MOhm\n",
      "Estimated Rm 502.0 MOhm\n",
      "Estimated Cm 31.59 pF\n"
     ]
    }
   ],
   "source": [
    "f = 0.01\n",
    "sB.reset()\n",
    "dB = sB.run(2 * T, log_interval=f * dt).npview()\n",
    "t = dB.time()\n",
    "I = dB['amp.I_obs'] + np.random.normal(0, 5, size=t.shape)\n",
    "Rs_est, Rm_est, Cm_est, points = estimate_cell_parameters(t, I, T, dV, f * dt)\n",
    "\n",
    "print(f'Estimated Rs {1e3 * Rs_est:>5.1f} MOhm')\n",
    "print(f'Estimated Rm {1e3 * Rm_est:>5.1f} MOhm')\n",
    "print(f'Estimated Cm {Cm_est:>5.2f} pF')"
   ]
  },
  {
   "cell_type": "markdown",
   "id": "c8f25203",
   "metadata": {},
   "source": [
    "## Conclusion\n",
    "\n",
    "We have rederived and implemented a method of calculating $R_s$, $R_m$, and $C_m$ suggested in the pCLAMP manual.\n",
    "On noise-free signals it performs well.\n",
    "On noisy signals it still provides usable estimates, and the accuracy can be increased by averaging out the noise or using higher sampling rates."
   ]
  }
 ],
 "metadata": {
  "kernelspec": {
   "display_name": "Python 3 (ipykernel)",
   "language": "python",
   "name": "python3"
  },
  "language_info": {
   "codemirror_mode": {
    "name": "ipython",
    "version": 3
   },
   "file_extension": ".py",
   "mimetype": "text/x-python",
   "name": "python",
   "nbconvert_exporter": "python",
   "pygments_lexer": "ipython3",
   "version": "3.11.6"
  }
 },
 "nbformat": 4,
 "nbformat_minor": 5
}
