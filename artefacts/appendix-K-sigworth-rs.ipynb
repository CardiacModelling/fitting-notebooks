{
 "cells": [
  {
   "cell_type": "markdown",
   "id": "8cb8168d",
   "metadata": {},
   "source": [
    "# Appendix K: Sigworth 1995 Rs compensation\n",
    "\n",
    "In this appendix notebook, we look in some more detail at the $R_s$ compensation and capacitance transient cancellation scheme in figures 18 and 19 of [Sigworth 1995a](https://doi.org/10.1007/978-1-4419-1229-9_4), and re-derive the equations found in [Chon Lok Lei's thesis](https://ora.ox.ac.uk/objects/uuid:528c2771-ae4f-4f3c-b649-44904acdf259)."
   ]
  },
  {
   "cell_type": "markdown",
   "id": "99becc66",
   "metadata": {},
   "source": [
    "First, we name the voltage after the $T_\\text{sc}$ block $V_\\text{est}$.\n",
    "To find an equation, we detransform the transfer function:\n",
    "\n",
    "\\begin{align}\n",
    "T_\\text{sc} = \\frac{A_2}{R_2C_2s + 1}\n",
    "\\end{align}\n",
    "\n",
    "Looking back a few pages, we see that $C_2$ is fixed, but $R_2$ is chosen so that $R_2C_2 \\approx R_sC_m$.\n",
    "Translating to our own notation, and ignoring the true electronic implementation, we write\n",
    "\n",
    "\\begin{align}\n",
    "R_2C_2 = R_s^*C_m^*\n",
    "\\end{align}\n",
    "\n",
    "Similarly, $A_2$ was chosen so that $A_2C_i \\approx C_m$, where $C_i$ is the fixed capacitance used for slow transient cancellation.\n",
    "Although this may be a seperate estimate in practice, we will simplify by writing\n",
    "\n",
    "\\begin{align}\n",
    "A_2C_i = C_m^*\n",
    "\\end{align}\n",
    "\n",
    "Going back to the transfer function, we find\n",
    "\n",
    "\\begin{align}\n",
    "T_\\text{sc} = \\frac{A_2}{R_s^*C_m^*s + 1} \n",
    "\\quad \\rightarrow \\quad\n",
    "V_\\text{est} + R_s^*C_m^*\\dot{V}_\\text{est} = A_2 V'_c\n",
    "\\end{align}\n",
    "for\n",
    "\\begin{align}\n",
    "\\dot{V}_\\text{est} = \\frac{A_2 V'_c - V_\\text{est}}{R_s^*C_m^*}\n",
    "\\end{align}\n",
    "\n",
    "In words, $V_\\text{est}$ is $A_2$ times larger than $V'_c$, and lags behind it with a time constant set by our estimates of $R_s$ and $C_m$."
   ]
  },
  {
   "cell_type": "markdown",
   "id": "82573e67",
   "metadata": {},
   "source": [
    "### The updated command voltage\n",
    "\n",
    "To find the voltage $V'_c$ we write the equation for the $\\alpha R_s s C_i$ block, using \"$\\beta$\" instead of Sigworth's \"$\\alpha$\" and \"$R_s^*$\" instead of \"$R_s$\":\n",
    "\n",
    "\\begin{align}\n",
    "V'_c &= V_c + \\beta R_s^*C_i\\dot{V}_\\text{est} \\\\\n",
    "     &= V_c + \\beta R_s^*C_i \\frac{A_2 V'_c - V_\\text{est}}{R_s^*C_m^*} \\\\\n",
    "(1 - \\beta) V'_c &= V_c - \\beta\\frac{C_i}{C_m^*}V_\\text{est} \\\\\n",
    "V'_c &= \\frac{V_c - \\beta\\frac{C_i}{C_m^*}V_\\text{est}}{(1 - \\beta)}\n",
    "\\end{align}"
   ]
  },
  {
   "cell_type": "markdown",
   "id": "3d347350",
   "metadata": {},
   "source": [
    "Substituting this into the equation for $\\dot{V}_\\text{est}$ we find\n",
    "\n",
    "\\begin{align}\n",
    "R_s^*C_m^* \\dot{V}_\\text{est} &= A_2V'_c - V_\\text{est} \\\\\n",
    "(1 - \\beta)R_s^*C_m^* \\dot{V}_\\text{est} &= A_2V_c - \\beta\\frac{A_2C_i}{C_m^*}V_\\text{est} - (1 - \\beta)V_\\text{est} \\\\\n",
    "&= A_2V_c - (\\beta + 1 - \\beta)V_\\text{est}\n",
    "\\end{align}\n",
    "for\n",
    "\\begin{align}\n",
    "\\dot{V}_\\text{est} &= \\frac{A_2V_c - V_\\text{est}}{(1 - \\beta)R_s^*C_m^*}\n",
    "\\end{align}\n",
    "\n",
    "In words, $V_\\text{est}$ is $A_2$ times larger than $V_c$, and lags behind it with a time constant set by our estimates of the membrane capacitance and _the uncompensated fraction of series resistance_ $(1-\\beta)R_s^*$.\n"
   ]
  },
  {
   "cell_type": "markdown",
   "id": "a6f1d52b",
   "metadata": {},
   "source": [
    "As a result, the term fed back into $V'_c$ is $\\beta R_s^*C_m^*\\dot{V}_\\text{est}$ which can be understood as $\\beta R_s^*C_m^* \\dot{V'}_\\text{c-with-lag}$."
   ]
  },
  {
   "cell_type": "markdown",
   "id": "9caa1568",
   "metadata": {},
   "source": [
    "### Slow transient cancellation\n",
    "\n",
    "Slow transient cancellation is implemented by feeding $\\dot{V}_\\text{est}$ into a capacitor $C_i$, leading to a term\n",
    "\n",
    "\\begin{align}\n",
    "I_\\text{SC} = A_2C_i\\dot{V}_\\text{est} = C_m^*\\dot{V}_\\text{est}\n",
    "\\end{align}"
   ]
  },
  {
   "cell_type": "markdown",
   "id": "58a06d60",
   "metadata": {},
   "source": [
    "### Series resistance compensation\n",
    "\n",
    "The original series resistance compensation takes the updated command potential as input:\n",
    "\n",
    "\\begin{align}\n",
    "\\dot{V}_\\text{ref} = \\frac{V'_c + \\alpha R_s^*I_\\text{obs} - V_\\text{ref}}{\\tau_\\text{sum}}\n",
    "\\end{align}\n",
    "\n"
   ]
  },
  {
   "cell_type": "markdown",
   "id": "4a3afb96",
   "metadata": {},
   "source": [
    "## Simplification\n",
    "\n",
    "We can omit the \"implementation details\" involving $A_2$ to write:"
   ]
  },
  {
   "cell_type": "markdown",
   "id": "1bd8f5d7",
   "metadata": {},
   "source": [
    "\\begin{align}\n",
    "\\dot{V}_\\text{est} &= \\frac{V_c - V_\\text{est}}{(1 - \\beta)R_s^*C_m^*} && \\text{Estimate of }V_m\n",
    "\\end{align}\n",
    "\n",
    "\\begin{align}\n",
    "V'_c &= V_c + \\beta R_s^*C_m^*\\dot{V}_\\text{est} && \\text{Prediction}\n",
    "\\end{align}\n",
    "\n",
    "\\begin{align}\n",
    "V_\\text{ref} &= V'_c + \\alpha R_s^* I_\\text{obs} && \\text{Correction}\n",
    "\\end{align}\n",
    "\n",
    "\\begin{align}\n",
    "I_\\text{SC} = C_m^* \\dot{V}_\\text{est} && \\text{Slow capacitance correction}\n",
    "\\end{align}\n",
    "\n",
    "\\begin{align}\n",
    "I_\\text{FC} = C_p^*\\dot{V}_\\text{ref} && \\text{Fast capacitance correction}\n",
    "\\end{align}"
   ]
  },
  {
   "cell_type": "markdown",
   "id": "ae7f2c65",
   "metadata": {},
   "source": [
    "Although we used $V_c'$ in the derivation of $\\dot{V}_\\text{est}$, it only appears in the equation for $V_\\text{ref}$ in the final model, and so we can simplify further by writing\n",
    "\n",
    "\\begin{align}\n",
    "V_\\text{ref} &= V_c + \\alpha R_s^* I_\\text{obs} + \\beta R_s^* C_m^* \\dot{V}_\\text{est} && \\text{Correction-Prediction}\n",
    "\\end{align}"
   ]
  },
  {
   "cell_type": "markdown",
   "id": "9ee0928d",
   "metadata": {},
   "source": [
    "A schematic for this set-up is shown below"
   ]
  },
  {
   "cell_type": "markdown",
   "id": "8df15eb7",
   "metadata": {},
   "source": [
    "<img src=\"resources/patch-comp-6-dual.png\" style=\"margin:auto\" />\n",
    "\n",
    "_A schematic showing series resistance compensation (prediction and correction) and separate pathways for fast and slow capacitance correction._"
   ]
  },
  {
   "cell_type": "markdown",
   "id": "0d9dd37d",
   "metadata": {},
   "source": [
    "## Lei et al. version\n",
    "\n"
   ]
  },
  {
   "cell_type": "markdown",
   "id": "8cea3844",
   "metadata": {},
   "source": [
    "In [Lei (2020)](https://ora.ox.ac.uk/objects/uuid:528c2771-ae4f-4f3c-b649-44904acdf259), a further simplification is used, where $C_m$ correction is run off $V_\\text{ref}$ instead of $V_{est}$ and both capacitance corrections happen via a single pathway:"
   ]
  },
  {
   "cell_type": "markdown",
   "id": "ac2665b5",
   "metadata": {},
   "source": [
    "<img src=\"resources/patch-comp-6-no-leak-eoff.png\" style=\"margin:auto\" />"
   ]
  },
  {
   "cell_type": "markdown",
   "id": "82f38355",
   "metadata": {},
   "source": [
    "_A schematic showing series resistance compensation (combined prediction and correction) and a single pathway for capacitance correction._"
   ]
  }
 ],
 "metadata": {
  "kernelspec": {
   "display_name": "Python 3 (ipykernel)",
   "language": "python",
   "name": "python3"
  },
  "language_info": {
   "codemirror_mode": {
    "name": "ipython",
    "version": 3
   },
   "file_extension": ".py",
   "mimetype": "text/x-python",
   "name": "python",
   "nbconvert_exporter": "python",
   "pygments_lexer": "ipython3",
   "version": "3.11.6"
  }
 },
 "nbformat": 4,
 "nbformat_minor": 5
}
