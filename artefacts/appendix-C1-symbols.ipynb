{
 "cells": [
  {
   "cell_type": "markdown",
   "id": "d0146af1",
   "metadata": {},
   "source": [
    "# Appendix C1: Names & symbols\n",
    "**Appendix C discusses variable names and values**"
   ]
  },
  {
   "cell_type": "markdown",
   "id": "17f1b74c",
   "metadata": {},
   "source": [
    "The following table may help when comparing publications."
   ]
  },
  {
   "cell_type": "markdown",
   "id": "2eb50569",
   "metadata": {},
   "source": [
    "| Symbol          | Description          | Sigworth 1995a | Weerakoon et al 2009 | Lei et al 2020      | HEKA            | Axon            | Other names       |\n",
    "|:---------------:|:---------------------|:--------------:|:--------------------:|:--------------------|:----------------|:----------------|:------------------|\n",
    "| $R_\\text{leak}$ | Leak or Seal R       |                |                      | $R_\\text{seal}$     | $R_\\text{memb}$ | $R_\\text{seal}$ | $1/g_\\text{leak}$ |\n",
    "| $R_s$           | Series R             | ✓              | $R_S$                | ✓                   | $R_s$, R-series | $R_a$, $R_s$    | Access R          |\n",
    "| $R_f$           | Feedback R           | ✓              | ✓                    | ✓                   | Feedback R      |                 |                   |\n",
    "| $C_f$           | Feedback C           | ✓              | ✓                    | ✓                   |                 |                 | Stray, Shunt      |\n",
    "| $C_p$           | Parasitic C          | $C_\\text{in}$  | $C_\\text{prs}$       | ✓                   |                 |                 | Pipette, Fast, Stray |\n",
    "| $C_p+C_f$       | Total input C        | $C_t$          | $C_t$                |                     |                 |                 |                   |\n",
    "| $C_m$           | Membrane C           | ✓              | ✓                    | ✓                   |                 |                 | Slow              |\n",
    "| $\\tau_f$        | Feedback tau         | ✓              | $\\tau_z$             | $\\tau_Z$            |                 |                 | Transductor tau   |\n",
    "| $\\tau_a$        | Op amp tau           | $\\tau_A$       | $\\tau_\\text{Amp}$    |                     |                 |                 |                   |\n",
    "| $\\tau_c$        |                      | $\\tau_2$       | $\\tau_\\text{clamp}$  | $\\tau_\\text{clamp}$ |                 |                 |                   |\n",
    "| $R_sC_m$        | Membrane access tau  | $\\tau_a$       | $\\tau_a$             | $\\tau_a$            |                 |                 |                   |\n",
    "| $V_o$           | Op amp output V      | $V_B$          | $V_T$                |                     |                 |                 |                   |\n",
    "| $V_c$           | Command V            | $V_\\text{ref}$ | $V_\\text{com}$       | $V_\\text{cmd}$      |                 |                 | Reference V       |\n",
    "| $E_\\text{off}$  | Offset potential     |                |                      | $V_\\text{off}$      |                 |                 |                   |\n",
    "| $I$             | Current of interest  |                | $I_m$                | $I_\\text{ion}$      |                 |                 | Membrane I        |\n",
    "| $I_\\text{obs}$  | Observed current     |                | $I_\\text{in}$        | $I_\\text{out}$      | I-mon           |                 | Recorded I        |"
   ]
  },
  {
   "cell_type": "markdown",
   "id": "595f4595",
   "metadata": {},
   "source": [
    "| Symbol           | Description              | Sigworth 1995a |  Lei et al 2020  | Other names |\n",
    "|:----------------:|:-------------------------|:--------------:|:-----------------|:------------|\n",
    "| $R_s^*$          | Estimated $R_s$          |                | ✓                |             |\n",
    "| $C_p^*$          | Estimated $C_p$          | $(A_1 - 1)C_i$ | $C_\\text{inj}$   | C fast      |\n",
    "| $C_m^*$          | Estimated $C_m$          |                | ✓                | C slow      |\n",
    "| $V_\\text{ref}$   | Adjusted command V       | $V_\\text{ref}$ | $V_\\text{clamp}$ |             |\n",
    "| $E_\\text{off}^*$ | Estimated $E_\\text{off}$ |                | $V_\\text{off}^*$ |             |\n"
   ]
  },
  {
   "cell_type": "markdown",
   "id": "e291c44b",
   "metadata": {},
   "source": [
    "_✓ indicates the same signal is used as in these notebooks._\n",
    "\n",
    "_R, C, V, I, and tau indicate resistance, capacitance, voltage, current, and time-constants._\n",
    "\n",
    "_Names for variables and their estimates are sometimes used interchangeably._\n",
    "\n",
    "_Althought the symbol $C_p$ is commonly used, \"pipette\" capacitance is due to other factors such as the pipette holder._\n",
    "\n",
    "_\"To shunt\" means to move, bypass, or divert, and is often_ [_used in electronics_](https://en.wikipedia.org/wiki/Shunt_(electrical))."
   ]
  }
 ],
 "metadata": {
  "kernelspec": {
   "display_name": "Python 3 (ipykernel)",
   "language": "python",
   "name": "python3"
  },
  "language_info": {
   "codemirror_mode": {
    "name": "ipython",
    "version": 3
   },
   "file_extension": ".py",
   "mimetype": "text/x-python",
   "name": "python",
   "nbconvert_exporter": "python",
   "pygments_lexer": "ipython3",
   "version": "3.11.6"
  }
 },
 "nbformat": 4,
 "nbformat_minor": 5
}
