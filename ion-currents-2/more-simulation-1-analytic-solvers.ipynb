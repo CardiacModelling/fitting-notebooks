{
 "cells": [
  {
   "cell_type": "markdown",
   "metadata": {},
   "source": [
    "# More simulation: Analytical solvers for simple step protocols"
   ]
  },
  {
   "cell_type": "markdown",
   "metadata": {},
   "source": [
    "In the previous part of the tutorial we used a [myokit.Simulation](https://myokit.readthedocs.io/api_simulations/Simulation.html#myokit.Simulation) object to run simulations.\n",
    "This simulator is based on [CVODE](https://computing.llnl.gov/projects/sundials), and provides excellent performance for a wide-variety of problems.\n",
    "\n",
    "However, many voltage protocols consist entirely of flat, constant-voltage, steps.\n",
    "And unlike models of the full action potential, models of ion currents can usually be solved analytically for a fixed V.\n",
    "So in many cases it will be possible to simulate a step protocol by treating it as a sequence of fixed-voltage problems and solving analytically.\n",
    "Myokit contains two methods to do just that."
   ]
  },
  {
   "cell_type": "markdown",
   "metadata": {},
   "source": [
    "## Analytical solutions for Hodgkin-Huxley models"
   ]
  },
  {
   "cell_type": "markdown",
   "metadata": {},
   "source": [
    "First, we look at Hodgkin-Huxley (HH) models, and use the module [myokit.lib.hh](https://myokit.readthedocs.io/api_library/hh.html) to isolate and solve them.\n",
    "\n",
    "We begin by loading the model and protocol as usual:"
   ]
  },
  {
   "cell_type": "code",
   "execution_count": 1,
   "metadata": {},
   "outputs": [],
   "source": [
    "import myokit\n",
    "\n",
    "model = myokit.load_model('resources/beattie-2017-ikr-hh.mmt')"
   ]
  },
  {
   "cell_type": "markdown",
   "metadata": {},
   "source": [
    "Next, we import `myokit.lib.hh`, and use the method [HHModel.from_component](https://myokit.readthedocs.io/api_library/hh.html#myokit.lib.hh.HHModel.from_component) to create a [HHModel](https://myokit.readthedocs.io/api_library/hh.html#myokit.lib.hh.HHModel.from_component)  object.\n",
    "Because we want to be able to parametrise this model, we specify the variables we'll want to change:"
   ]
  },
  {
   "cell_type": "code",
   "execution_count": 2,
   "metadata": {},
   "outputs": [],
   "source": [
    "import myokit.lib.hh\n",
    "\n",
    "# Specify the variables to keep as parameters\n",
    "parameters = [\n",
    "    'ikr.p1', \n",
    "    'ikr.p2', \n",
    "    'ikr.p3', \n",
    "    'ikr.p4', \n",
    "    'ikr.p5', \n",
    "    'ikr.p6', \n",
    "    'ikr.p7', \n",
    "    'ikr.p8', \n",
    "    'ikr.p9',\n",
    "]\n",
    "\n",
    "# Create a parametrisable HH model\n",
    "hh_model = myokit.lib.hh.HHModel.from_component(model.get('ikr'), parameters=parameters)"
   ]
  },
  {
   "cell_type": "markdown",
   "metadata": {},
   "source": [
    "We can do some fun stuff with this model:"
   ]
  },
  {
   "cell_type": "code",
   "execution_count": 3,
   "metadata": {},
   "outputs": [
    {
     "name": "stdout",
     "output_type": "stream",
     "text": [
      "[0.00030894931556590987, 0.60081119944226]\n"
     ]
    }
   ],
   "source": [
    "print(hh_model.steady_state(membrane_potential=-80))"
   ]
  },
  {
   "cell_type": "markdown",
   "metadata": {},
   "source": [
    "But we can also use it to create a [`myokit.lib.hh.AnalyticalSimulation`](https://myokit.readthedocs.io/api_library/hh.html#myokit.lib.hh.AnalyticalSimulation) object and run simulations:"
   ]
  },
  {
   "cell_type": "code",
   "execution_count": 5,
   "metadata": {},
   "outputs": [
    {
     "data": {
      "image/png": "[encoded data removed]",
      "text/plain": [
       "<Figure size 1152x360 with 1 Axes>"
      ]
     },
     "metadata": {
      "needs_background": "light"
     },
     "output_type": "display_data"
    }
   ],
   "source": [
    "import matplotlib.pyplot as plt\n",
    "import numpy as np\n",
    "\n",
    "# Load a protocol\n",
    "protocol = myokit.load_protocol('resources/simplified-staircase.mmt')\n",
    "\n",
    "# Create an analytical simulation\n",
    "hh_sim = myokit.lib.hh.AnalyticalSimulation(hh_model, protocol)\n",
    "\n",
    "# Select times to log\n",
    "tmax = 15400\n",
    "times = np.arange(0, tmax, 0.1)\n",
    "\n",
    "# Run a simulation and plot the results\n",
    "log = hh_sim.run(tmax, log_times=times)\n",
    "\n",
    "plt.figure(figsize=(16, 5))\n",
    "plt.xlabel('Time (ms)')\n",
    "plt.ylabel('Current (nA)')\n",
    "plt.plot(times, log['ikr.IKr'])\n",
    "plt.show()"
   ]
  },
  {
   "cell_type": "markdown",
   "metadata": {},
   "source": [
    "We can compare these results with a CVODE-based simulation:"
   ]
  },
  {
   "cell_type": "code",
   "execution_count": null,
   "metadata": {},
   "outputs": [],
   "source": [
    "import matplotlib.pyplot as plt\n",
    "import numpy as np\n",
    "\n",
    "import myokit\n",
    "import myokit.lib.hh\n",
    "\n",
    "# Load a model\n",
    "model = myokit.load_model('resources/beattie-2017-ikr-hh.mmt')\n",
    "\n",
    "# Load a protocol\n",
    "protocol = myokit.load_protocol('resources/simplified-staircase.mmt')\n",
    "\n",
    "# Create a parametrisable Hodgkin-Huxley model\n",
    "parameters = [\n",
    "    'ikr.p1', \n",
    "    'ikr.p2', \n",
    "    'ikr.p3', \n",
    "    'ikr.p4', \n",
    "    'ikr.p5', \n",
    "    'ikr.p6', \n",
    "    'ikr.p7', \n",
    "    'ikr.p8', \n",
    "    'ikr.p9',\n",
    "]\n",
    "hh_model = myokit.lib.hh.HHModel.from_component(model.get('ikr'), parameters=parameters)\n",
    "\n",
    "# Create an analytical simulation\n",
    "hh_sim = myokit.lib.hh.AnalyticalSimulation(hh_model, protocol)\n",
    "\n",
    "# Create a CVODE simulation\n",
    "cvode_sim = myokit.Simulation(model, protocol)\n",
    "\n",
    "# Select times to log\n",
    "tmax = 15400\n",
    "times = np.arange(0, tmax, 0.1)\n",
    "\n",
    "# Run a timed simulation with each method:\n",
    "b = myokit.Benchmarker()\n",
    "hh_log = hh_sim.run(tmax, log_times=times)\n",
    "print(b.time())\n",
    "\n",
    "b.reset()\n",
    "cvode_log = cvode_sim.run(tmax, log_times=times, log=['ikr.IKr'])\n",
    "print(b.time())\n",
    "\n",
    "plt.figure(figsize=(16, 4))\n",
    "plt.xlabel('Time (ms)')\n",
    "plt.ylabel('Current (nA)')\n",
    "plt.plot(times, log['ikr.IKr'], '-', label='CVODE simulation')\n",
    "plt.plot(times, log['ikr.IKr'], '--', label='Analytical simulation')\n",
    "plt.legend(loc='upper left')\n",
    "plt.show()"
   ]
  },
  {
   "cell_type": "markdown",
   "metadata": {},
   "source": [
    "So this method of solving can be quite a bit faster than using a generic ODE solver!\n",
    "\n",
    "Another advantage is that it doesn't suffer from the \"numerical noise\" we discussed in the previous tutorial, so we don't need to worry about solver tolerances."
   ]
  },
  {
   "cell_type": "markdown",
   "metadata": {},
   "source": [
    "### Troubleshooting"
   ]
  },
  {
   "cell_type": "markdown",
   "metadata": {},
   "source": [
    "Note that there are a few tricks needed to make the above method work.\n",
    "In particular, the `HHModel` class must be able to interpret the `myokit.Model` equations and isolate the steady-state and time constant variables for each state.\n",
    "This requires knowing which variable represents the membrane potential.\n",
    "\n",
    "To solve this, the model code we used in this example has annotated the membrane potential with a _label_ `membrane_potential`.\n",
    "We can see this as follows:"
   ]
  },
  {
   "cell_type": "code",
   "execution_count": null,
   "metadata": {},
   "outputs": [],
   "source": [
    "import myokit\n",
    "\n",
    "# Load the model\n",
    "model = myokit.load_model('resources/beattie-2017-ikr-hh.mmt')\n",
    "\n",
    "# Get the membrane potential, using knowledge of the component and variable name\n",
    "V = model.get('membrane.V')\n",
    "\n",
    "# This variable has a label:\n",
    "print(V.label())"
   ]
  },
  {
   "cell_type": "code",
   "execution_count": null,
   "metadata": {},
   "outputs": [],
   "source": [
    "# So we could have just done this:\n",
    "V = model.label('membrane_potential')\n",
    "\n",
    "# We can add labels in code:\n",
    "ikr = model.get('ikr.IKr')\n",
    "print(ikr.label())\n",
    "ikr.set_label('ikr_current')"
   ]
  },
  {
   "cell_type": "code",
   "execution_count": null,
   "metadata": {},
   "outputs": [],
   "source": [
    "# Or in the model code:\n",
    "print(ikr.code())"
   ]
  },
  {
   "cell_type": "code",
   "execution_count": null,
   "metadata": {},
   "outputs": [],
   "source": [
    "# We can remove labels programmatically too\n",
    "ikr.set_label(None)"
   ]
  },
  {
   "cell_type": "markdown",
   "metadata": {},
   "source": [
    "## Analytical solutions for Markov models"
   ]
  },
  {
   "cell_type": "markdown",
   "metadata": {},
   "source": [
    "If our ion current model is written as a Markov model, we can use a similar method as above, but using the module [`myokit.lib.markov`](https://myokit.readthedocs.io/api_library/markov.html).\n",
    "\n",
    "This time, we create a [myokit.lib.markov.LinearModel](https://myokit.readthedocs.io/api_library/markov.html#myokit.lib.markov.LinearModel), and use a [myokit.lib.markov.AnalyticalSimulation](https://myokit.readthedocs.io/api_library/markov.html#myokit.lib.markov.AnalyticalSimulation):"
   ]
  },
  {
   "cell_type": "code",
   "execution_count": null,
   "metadata": {},
   "outputs": [],
   "source": [
    "import matplotlib.pyplot as plt\n",
    "import numpy as np\n",
    "\n",
    "import myokit\n",
    "import myokit.lib.markov\n",
    "\n",
    "# Load a model: this is the same model as before, but coded up as a Markov model (a kinetic scheme)\n",
    "model = myokit.load_model('resources/beattie-2017-ikr-markov.mmt')\n",
    "\n",
    "# Load a protocol\n",
    "protocol = myokit.load_protocol('resources/simplified-staircase.mmt')\n",
    "\n",
    "# Create a parametrisable Hodgkin-Huxley model\n",
    "parameters = [\n",
    "    'ikr.p1', \n",
    "    'ikr.p2', \n",
    "    'ikr.p3', \n",
    "    'ikr.p4', \n",
    "    'ikr.p5', \n",
    "    'ikr.p6', \n",
    "    'ikr.p7', \n",
    "    'ikr.p8', \n",
    "    'ikr.p9',\n",
    "]\n",
    "markov_model = myokit.lib.markov.LinearModel.from_component(model.get('ikr'), parameters=parameters)\n",
    "\n",
    "# Create an analytical simulation\n",
    "markov_sim = myokit.lib.markov.AnalyticalSimulation(markov_model, protocol)\n",
    "\n",
    "# Create a CVODE simulation\n",
    "cvode_sim = myokit.Simulation(model, protocol)\n",
    "\n",
    "# Select times to log\n",
    "tmax = 15400\n",
    "times = np.arange(0, tmax, 0.1)\n",
    "\n",
    "# Run a timed simulation with each method:\n",
    "b = myokit.Benchmarker()\n",
    "hh_log = markov_sim.run(tmax, log_times=times)\n",
    "print(b.time())\n",
    "\n",
    "b.reset()\n",
    "cvode_log = cvode_sim.run(tmax, log_times=times, log=['ikr.IKr'])\n",
    "print(b.time())\n",
    "\n",
    "plt.figure(figsize=(16, 4))\n",
    "plt.xlabel('Time (ms)')\n",
    "plt.ylabel('Current (nA)')\n",
    "plt.plot(times, log['ikr.IKr'], '-', label='CVODE simulation')\n",
    "plt.plot(times, log['ikr.IKr'], '--', label='Analytical simulation')\n",
    "plt.legend(loc='upper left')\n",
    "plt.show()"
   ]
  },
  {
   "cell_type": "markdown",
   "metadata": {},
   "source": [
    "Again we see a reasonable speed-up compared to CVODE, which will be very welcome when fitting."
   ]
  },
  {
   "cell_type": "markdown",
   "metadata": {},
   "source": [
    "## Just for fun: single channel simulations"
   ]
  },
  {
   "cell_type": "code",
   "execution_count": null,
   "metadata": {},
   "outputs": [],
   "source": [
    "Markov models can also be used for discrete, single channel, simulations:"
   ]
  },
  {
   "cell_type": "code",
   "execution_count": null,
   "metadata": {},
   "outputs": [],
   "source": [
    "# Create a figure\n",
    "plt.figure(figsize=(15,5))\n",
    "\n",
    "# Simulate the first three second of the protocol, with various numbers of channels\n",
    "sim = myokit.lib.markov.DiscreteSimulation(markov_model, protocol, nchannels=1)\n",
    "log = sim.run(3000)\n",
    "plt.subplot(3, 1, 1)\n",
    "plt.plot(log.time(), log['ikr.IKr'], drawstyle='steps-post')\n",
    "\n",
    "sim = myokit.lib.markov.DiscreteSimulation(markov_model, protocol, nchannels=10)\n",
    "log = sim.run(3000)\n",
    "plt.subplot(3, 1, 2)\n",
    "plt.plot(log.time(), log['ikr.IKr'], drawstyle='steps-post')\n",
    "\n",
    "sim = myokit.lib.markov.DiscreteSimulation(markov_model, protocol, nchannels=50)\n",
    "log = sim.run(3000)\n",
    "plt.subplot(3, 1, 3)\n",
    "plt.plot(log.time(), log['ikr.IKr'], drawstyle='steps-post')\n",
    "\n",
    "plt.show()"
   ]
  },
  {
   "cell_type": "markdown",
   "metadata": {},
   "source": [
    "## Simulating an AP protocol with \"data clamp\""
   ]
  },
  {
   "cell_type": "markdown",
   "metadata": {},
   "source": []
  },
  {
   "cell_type": "markdown",
   "metadata": {},
   "source": [
    "## Combining multiple protocols with a sum-of-errors"
   ]
  },
  {
   "cell_type": "markdown",
   "metadata": {},
   "source": []
  },
  {
   "cell_type": "markdown",
   "metadata": {},
   "source": [
    "## Summary\n",
    "\n",
    "In this tutorial we have seen that\n",
    "\n",
    "- analytical solvers for Hodgkin-Huxley and Markov models can be used on step protocols\n",
    "- step protocols can easily be encoded as myokit.Protocol objects\n",
    "- forms such as ramps or sine waves can be dynamically added to the model, but require an approximate solver\n",
    "- even more elaborate shapes can be applied using \"data clamp\", and require an approximate solver\n",
    "- multiple protocols can be combined together using a sum-of-errors approach\n",
    "\n",
    "In the next WRITE WRITE WRITE\n",
    "\n"
   ]
  }
 ],
 "metadata": {
  "kernelspec": {
   "display_name": "Python 3",
   "language": "python",
   "name": "python3"
  },
  "language_info": {
   "codemirror_mode": {
    "name": "ipython",
    "version": 3
   },
   "file_extension": ".py",
   "mimetype": "text/x-python",
   "name": "python",
   "nbconvert_exporter": "python",
   "pygments_lexer": "ipython3",
   "version": "3.7.6"
  }
 },
 "nbformat": 4,
 "nbformat_minor": 2
}
