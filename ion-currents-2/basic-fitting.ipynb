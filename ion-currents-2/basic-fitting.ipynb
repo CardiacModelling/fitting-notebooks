{
 "cells": [
  {
   "cell_type": "markdown",
   "metadata": {},
   "source": [
    "# First steps: a synthetic data study\n",
    "\n",
    "In this part of the tutorial, we'll take a [myokit simulation](https://myokit.readthedocs.io/api_simulations/Simulation.html) and wrap it in a [PINTS ForwardModel](https://pints.readthedocs.io/en/latest/core_classes_and_methods.html#forward-model).\n",
    "We'll then use this statistical model to define an optimisation problem and attempt to solve it.\n",
    "\n",
    "\n",
    "\n",
    "\n",
    "\n",
    "\n",
    "\n",
    "### Intermezzo: Model?\n",
    "\n",
    "The word \"model\" gets a lot of mileage in computational electrophysiology.\n",
    "This can get a bit confusing, some of the main uses in this tutorial are shown again here:\n",
    "\n",
    "- An expression system, or even an isolated myocyte, acts as a biological model for the true system of interest: myocytes in the intact human heart.\n",
    "- A model of an ion current is a set of mathematical equations describing how the state of the underlying ion channels changes in response to a voltage signal. This is the sense in which Myokit uses the word \"model\".\n",
    "- A model in PINTS is something you throw parameters at, that then returns a signal. This is a parametrisable simulation in Myokit.\n",
    "- A noise model describes how the output of a measurement is affected by different noise sources (e.g. anything that isn't the system of interest).\n",
    "\n"
   ]
  }
 ],
 "metadata": {
  "kernelspec": {
   "display_name": "Python 3",
   "language": "python",
   "name": "python3"
  },
  "language_info": {
   "codemirror_mode": {
    "name": "ipython",
    "version": 3
   },
   "file_extension": ".py",
   "mimetype": "text/x-python",
   "name": "python",
   "nbconvert_exporter": "python",
   "pygments_lexer": "ipython3",
   "version": "3.7.6"
  }
 },
 "nbformat": 4,
 "nbformat_minor": 2
}
