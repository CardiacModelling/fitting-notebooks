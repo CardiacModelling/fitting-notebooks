{
 "cells": [
  {
   "cell_type": "markdown",
   "metadata": {},
   "source": [
    "# First steps: a synthetic data study\n",
    "\n",
    "In this part of the tutorial, we'll take a [`myokit.Simulation`](https://myokit.readthedocs.io/api_simulations/Simulation.html) and wrap it in a [`pints.ForwardModel`](https://pints.readthedocs.io/en/latest/core_classes_and_methods.html#forward-model).\n",
    "We'll then use this `ForwardModel` to generate some data, add synthetic noise, and set up a [`pints.SingleOutputProblem`](https://pints.readthedocs.io/en/latest/core_classes_and_methods.html#pints.SingleOutputProblem).\n",
    "Finally, we'll define an [`ErrorMeasure`](https://pints.readthedocs.io/en/latest/error_measures.html#pints.ErrorMeasure) on this problem and use an [optimiser](https://pints.readthedocs.io/en/latest/optimisers/index.html) to find that parameters that minimise it.\n",
    "\n",
    "The steps we follow here are roughly equal to those followed in the [PINTS examples](https://github.com/pints-team/pints/tree/master/examples), in particular [\"Optimisation: First example\"](https://github.com/pints-team/pints/blob/master/examples/optimisation/first-example.ipynb)."
   ]
  },
  {
   "cell_type": "markdown",
   "metadata": {},
   "source": [
    "## Wrapping a simulation in a pints.ForwardModel\n",
    "\n",
    "To \n",
    "\n",
    "\n"
   ]
  },
  {
   "cell_type": "code",
   "execution_count": 1,
   "metadata": {},
   "outputs": [],
   "source": [
    "import myokit\n",
    "import pints\n",
    "\n",
    "class Model(pints.ForwardModel):\n",
    "    def __init__(self):\n",
    "        \n",
    "        # Load model and protocol\n",
    "        self.model = myokit.load_model('resources/beattie-2017-ikr-hh.mmt')\n",
    "        self.protocol = myokit.load_protocol('resources/simplified-staircase.mmt')\n",
    "        \n",
    "        # Bring model to steady state for -80mV\n",
    "        a_inf = self.model.get('ikr.act.inf').pyfunc()(-80)\n",
    "        r_inf = self.model.get('ikr.rec.inf').pyfunc()(-80)\n",
    "        self.model.get('ikr.act').set_state_value(a_inf)\n",
    "        self.model.get('ikr.rec').set_state_value(r_inf)\n",
    "\n",
    "        # Create a simulation\n",
    "        self.sim = myokit.Simulation(self.model, self.protocol)\n",
    "        \n",
    "    def n_parameters(self):\n",
    "        return 9\n",
    "    \n",
    "    def simulate(self, parameters, times):\n",
    "        \n",
    "        # Reset the simulation\n",
    "        self.sim.reset()\n",
    "        \n",
    "        # Update the parameters\n",
    "        for i, p in enumerate(parameters):\n",
    "            #self.sim.set_constant('ikr.p' + str(1 + i), p)\n",
    "            pass\n",
    "        \n",
    "        # Run a simulation\n",
    "        tmax = times[-1] + 1\n",
    "        log = self.sim.run(tmax, log_times=times, log=['ikr.IKr'])\n",
    "        \n",
    "        return log['ikr.IKr']\n",
    "        "
   ]
  },
  {
   "cell_type": "markdown",
   "metadata": {},
   "source": [
    "Let's try and run a simulation with this model:"
   ]
  },
  {
   "cell_type": "code",
   "execution_count": 3,
   "metadata": {},
   "outputs": [
    {
     "data": {
      "image/png": "[encoded data removed]",
      "text/plain": [
       "<Figure size 1152x360 with 1 Axes>"
      ]
     },
     "metadata": {
      "needs_background": "light"
     },
     "output_type": "display_data"
    }
   ],
   "source": [
    "import matplotlib.pyplot as plt\n",
    "import numpy as np\n",
    "\n",
    "model = Model()\n",
    "t_max = 15400\n",
    "times = np.arange(0, t_max, 0.1)\n",
    "\n",
    "# Define a parameter vector\n",
    "parameters = [3e-4, 0.07, 3e-5, 0.05, 0.09, 9e-3, 5e-3, 0.03, 0.2]\n",
    "\n",
    "values = model.simulate(parameters, times)\n",
    "\n",
    "# Show the results\n",
    "plt.figure(figsize=(16, 5))\n",
    "plt.xlabel('Time (ms)')\n",
    "plt.ylabel('Current (nA)')\n",
    "plt.plot(times, values)\n",
    "plt.show()"
   ]
  },
  {
   "cell_type": "markdown",
   "metadata": {},
   "source": [
    "## Generating noisy data\n",
    "\n",
    "\n",
    "\n"
   ]
  },
  {
   "cell_type": "markdown",
   "metadata": {},
   "source": [
    "### Intermezzo: Model?\n",
    "\n",
    "The word \"model\" gets a lot of mileage in computational electrophysiology.\n",
    "This can get a bit confusing, some of the main uses in this tutorial are shown again here:\n",
    "\n",
    "- An expression system, or even an isolated myocyte, acts as a biological model for the true system of interest: myocytes in the intact human heart.\n",
    "- A model of an ion current is a set of mathematical equations describing how the state of the underlying ion channels changes in response to a voltage signal. This is the sense in which Myokit uses the word \"model\".\n",
    "- A model in PINTS is something you throw parameters at, that then returns a signal. This is a parametrisable simulation in Myokit.\n",
    "- A noise model describes how the output of a measurement is affected by different noise sources (e.g. anything that isn't the system of interest).\n"
   ]
  },
  {
   "cell_type": "code",
   "execution_count": null,
   "metadata": {},
   "outputs": [],
   "source": []
  },
  {
   "cell_type": "code",
   "execution_count": null,
   "metadata": {},
   "outputs": [],
   "source": []
  },
  {
   "cell_type": "code",
   "execution_count": null,
   "metadata": {},
   "outputs": [],
   "source": []
  }
 ],
 "metadata": {
  "kernelspec": {
   "display_name": "Python 3",
   "language": "python",
   "name": "python3"
  },
  "language_info": {
   "codemirror_mode": {
    "name": "ipython",
    "version": 3
   },
   "file_extension": ".py",
   "mimetype": "text/x-python",
   "name": "python",
   "nbconvert_exporter": "python",
   "pygments_lexer": "ipython3",
   "version": "3.7.6"
  }
 },
 "nbformat": 4,
 "nbformat_minor": 2
}
