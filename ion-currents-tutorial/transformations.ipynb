{
 "cells": [
  {
   "cell_type": "markdown",
   "metadata": {},
   "source": [
    "# Searching in a transformed space"
   ]
  },
  {
   "cell_type": "markdown",
   "metadata": {},
   "source": [
    "In the previous part of the tutorial we set up boundaries and created a method to sample from within those boundaries.\n",
    "When doing this, we found it useful to replace some parameter values with their logarithm.\n",
    "In this part of the tutorial we extend this log-transformation approach to the optimisation routine, so that we search in a (partly) log-transformed space."
   ]
  },
  {
   "cell_type": "markdown",
   "metadata": {},
   "source": [
    "## Why transform the search space?"
   ]
  },
  {
   "cell_type": "markdown",
   "metadata": {},
   "source": [
    "Before performing parameter estimation it _can_ be a good idea to perform some kind of transformations on the search space.\n",
    "For example, some optimisation methods don't perform well on spaces where the error measure varies very rapidly in one direction, but slowly in another.\n",
    "In these cases it might help to rescale the parameters, e.g. so that they are all restricted to the interval $[0, 1]$.\n"
   ]
  },
  {
   "cell_type": "markdown",
   "metadata": {},
   "source": [
    "For the \"a-type\" parameters in the model used in this tutorial, [Beattie et al.](https://doi.org/10.1113/JP275733) found the prior expectation was for them to vary over many orders of magnitude.\n",
    "As a result, it seemed sensible to use a log-transformation on these parameters when searching, which led to notably improved results.\n",
    "Further experimental confirmation of this result was provided in the supplemental results to [\"Four Ways to Fit an Ion Channel Model\"](https://doi.org/10.1016/j.bpj.2019.08.001), section S2.4.2."
   ]
  },
  {
   "cell_type": "markdown",
   "metadata": {},
   "source": [
    "While there is no catch-all strategy that we know of, it may be a good idea to try several transformations when dealing with a difficult parameter estimation problem.\n",
    "The following section will show how."
   ]
  },
  {
   "cell_type": "markdown",
   "metadata": {},
   "source": [
    "## Implementing transformations with wrappers"
   ]
  },
  {
   "cell_type": "markdown",
   "metadata": {},
   "source": [
    "In this section, we'll set up a synthetic data problem with a forward model and boundaries, and then use _wrappers_ around both to perform the log transformations.\n",
    "\n",
    "First, we create a class that can transform points from the \"model space\" to the \"search space\" and vice versa."
   ]
  },
  {
   "cell_type": "code",
   "execution_count": 2,
   "metadata": {},
   "outputs": [],
   "source": [
    "import numpy as np\n",
    "import matplotlib.pyplot as plt\n",
    "\n",
    "import myokit\n",
    "import pints"
   ]
  },
  {
   "cell_type": "code",
   "execution_count": 3,
   "metadata": {},
   "outputs": [],
   "source": [
    "class LogTransform(object):\n",
    "    \"\"\"\n",
    "    Performs forward and backward transformations on the \n",
    "    alpha-parameters used in the Beattie et al. model.    \n",
    "    \"\"\"\n",
    "    \n",
    "    def to_search(self, x):\n",
    "        \"\"\"Transforms from model to search space.\"\"\"\n",
    "        q = np.copy(x)\n",
    "        q[0] = np.log(x[0])\n",
    "        q[2] = np.log(x[2])\n",
    "        q[4] = np.log(x[4])\n",
    "        q[6] = np.log(x[6])\n",
    "        return q\n",
    "\n",
    "    def to_model(self, q):\n",
    "        \"\"\"Transforms from search to model space.\"\"\"\n",
    "        x = np.copy(q)\n",
    "        x[0] = np.exp(q[0])\n",
    "        x[2] = np.exp(q[2])\n",
    "        x[4] = np.exp(q[4])\n",
    "        x[6] = np.exp(q[6])\n",
    "        return x        "
   ]
  },
  {
   "cell_type": "markdown",
   "metadata": {},
   "source": [
    "Next, we define a wrapper around the forward model class and around the boundaries class."
   ]
  },
  {
   "cell_type": "code",
   "execution_count": 4,
   "metadata": {},
   "outputs": [],
   "source": [
    "class TransformedForwardModel(pints.ForwardModel):\n",
    "    \"\"\"\n",
    "    Wraps around a ``pints.ForwardModel`` and applies parameter \n",
    "    transformations.\n",
    "    \"\"\"\n",
    "    \n",
    "    def __init__(self, model, transform):\n",
    "        self._model = model\n",
    "        self._transform = transform\n",
    "    \n",
    "    def n_parameters(self):\n",
    "        return self._model.n_parameters()\n",
    "    \n",
    "    def simulate(self, search_parameters, times):\n",
    "        model_parameters = self._transform.to_model(search_parameters)\n",
    "        return self._model.simulate(model_parameters, times)\n",
    "\n",
    "    \n",
    "class TransformedBoundaries(pints.Boundaries):\n",
    "    \"\"\"\n",
    "    Wraps around a ``pints.Boundaries`` object and applies parameter\n",
    "    transformations.\n",
    "    \"\"\"\n",
    "    def __init__(self, boundaries, transform):\n",
    "        self._boundaries = boundaries\n",
    "        self._transform = transform\n",
    "    \n",
    "    def check(self, search_parameters):\n",
    "        model_parameters = self._transform.to_model(search_parameters)\n",
    "        return self._boundaries.check(model_parameters)\n",
    "    \n",
    "    def n_parameters(self):\n",
    "        return self._boundaries.n_parameters()\n",
    "    \n",
    "    def sample(self, n):\n",
    "        model_parameters = self._boundaries.sample(n)\n",
    "        search_parameters = np.zeros(model_parameters.shape)\n",
    "        for i, p in enumerate(model_parameters):\n",
    "            search_parameters[i] = self._transform.to_search(p)\n",
    "        return search_parameters\n"
   ]
  },
  {
   "cell_type": "markdown",
   "metadata": {},
   "source": [
    "Next, we set up an optimisation problem:"
   ]
  },
  {
   "cell_type": "code",
   "execution_count": 5,
   "metadata": {},
   "outputs": [],
   "source": [
    "# Load a protocol and create a foward model instance\n",
    "from library import ModelHHSolver as Model\n",
    "protocol = myokit.load_protocol('resources/simplified-staircase.mmt')\n",
    "model = Model(protocol)\n",
    "\n",
    "# Define a parameter vector\n",
    "parameters = np.array([3e-4, 0.07, 3e-5, 0.05, 0.09, 9e-2, 5e-3, 0.03, 0.2])\n",
    "\n",
    "# Set up a synthetic data problem and error\n",
    "times = np.arange(0, 15400, 0.1)\n",
    "values = model.simulate(parameters, times)\n",
    "values += np.random.normal(0, 0.025, times.shape)\n",
    "problem = pints.SingleOutputProblem(model, times, values)\n",
    "error = pints.MeanSquaredError(problem)\n",
    "\n",
    "# Create boundaries and take a random sample as initial starting point\n",
    "from library import Boundaries\n",
    "boundaries = Boundaries()\n",
    "\n",
    "# Make a random guess for the parameters\n",
    "x0 = boundaries.sample(1)[0]"
   ]
  },
  {
   "cell_type": "code",
   "execution_count": 6,
   "metadata": {},
   "outputs": [
    {
     "data": {
      "image/png": "[encoded data removed]",
      "text/plain": [
       "<Figure size 1152x360 with 1 Axes>"
      ]
     },
     "metadata": {
      "needs_background": "light"
     },
     "output_type": "display_data"
    }
   ],
   "source": [
    "# Visualise the data and starting point\n",
    "plt.figure(figsize=(16, 5))\n",
    "plt.xlabel('Time (ms)')\n",
    "plt.ylabel('Current (pA)')\n",
    "plt.plot(times, values, label='Noisy data')\n",
    "plt.plot(times, problem.evaluate(x0), label='Initial guess')\n",
    "plt.legend()\n",
    "plt.show()"
   ]
  },
  {
   "cell_type": "markdown",
   "metadata": {},
   "source": [
    "To check if it's working, we can run an evaluation with x0 and its transformed counterpart:"
   ]
  },
  {
   "cell_type": "code",
   "execution_count": 7,
   "metadata": {},
   "outputs": [
    {
     "name": "stdout",
     "output_type": "stream",
     "text": [
      "Untransformed:\n",
      "[3.21606126e-03 1.16571839e-01 5.39854319e-01 3.70106395e-03\n",
      " 6.50846190e-03 1.09590375e-02 1.17145562e-05 5.78290554e-02\n",
      " 9.35638139e-01]\n",
      "Transformed:\n",
      "[-5.73959788e+00  1.16571839e-01 -6.16455956e-01  3.70106395e-03\n",
      " -5.03465212e+00  1.09590375e-02 -1.13546784e+01  5.78290554e-02\n",
      "  9.35638139e-01]\n"
     ]
    }
   ],
   "source": [
    "# Create the transformation object\n",
    "transform = LogTransform()\n",
    "\n",
    "# Create a transformed model and transformed boundaries\n",
    "transformed_model = TransformedForwardModel(model, transform)\n",
    "transformed_boundaries = TransformedBoundaries(boundaries, transform)\n",
    "\n",
    "# Set up a problem with the transformed model\n",
    "transformed_problem = pints.SingleOutputProblem(transformed_model, times, values)\n",
    "transformed_error = pints.MeanSquaredError(transformed_problem)\n",
    "\n",
    "# Create a transformed starting point\n",
    "q0 = transform.to_search(x0)\n",
    "\n",
    "print('Untransformed:')\n",
    "print(x0)\n",
    "print('Transformed:')\n",
    "print(q0)\n"
   ]
  },
  {
   "cell_type": "code",
   "execution_count": 8,
   "metadata": {},
   "outputs": [
    {
     "data": {
      "image/png": "[encoded data removed]",
      "text/plain": [
       "<Figure size 1152x360 with 1 Axes>"
      ]
     },
     "metadata": {
      "needs_background": "light"
     },
     "output_type": "display_data"
    }
   ],
   "source": [
    "plt.figure(figsize=(16, 5))\n",
    "plt.xlabel('Time (ms)')\n",
    "plt.ylabel('Current (pA)')\n",
    "plt.plot(times, values, label='Noisy data')\n",
    "plt.plot(times, problem.evaluate(x0), \n",
    "         label='Initial guess (no transform)')\n",
    "plt.plot(times, transformed_problem.evaluate(q0), '--',\n",
    "         label='Initial guess (with transform)')\n",
    "plt.legend()\n",
    "plt.show()"
   ]
  },
  {
   "cell_type": "markdown",
   "metadata": {},
   "source": [
    "Now lets run an optimisation, without using log transforms:"
   ]
  },
  {
   "cell_type": "code",
   "execution_count": 9,
   "metadata": {},
   "outputs": [
    {
     "name": "stdout",
     "output_type": "stream",
     "text": [
      "Minimising error measure\n",
      "Using Covariance Matrix Adaptation Evolution Strategy (CMA-ES)\n",
      "Running in parallel with 4 worker processes.\n",
      "Population size: 10\n",
      "Iter. Eval. Best      Time m:s\n",
      "0     10     5.989626   0:00.3\n",
      "1     19     4.724501   0:00.4\n",
      "2     26     4.168046   0:00.5\n",
      "3     30     4.168046   0:00.6\n",
      "20    157    4.140194   0:02.8\n",
      "40    300    4.140194   0:05.3\n",
      "60    429    4.138454   0:07.6\n",
      "80    565    4.138454   0:10.3\n",
      "100   705    4.138454   0:13.2\n",
      "120   833    4.13595    0:15.5\n",
      "140   985    4.135356   0:17.9\n",
      "160   1119   4.135356   0:20.3\n",
      "180   1260   4.135306   0:23.2\n",
      "200   1417   4.128607   0:25.8\n",
      "220   1575   4.093576   0:28.4\n",
      "240   1703   4.06938    0:30.6\n",
      "260   1839   4.068263   0:32.9\n",
      "280   1954   4.067509   0:35.0\n",
      "300   2092   4.067485   0:38.1\n",
      "320   2219   4.067485   0:40.6\n",
      "340   2340   4.067484   0:43.1\n",
      "360   2465   4.067481   0:45.2\n",
      "380   2602   4.06747    0:47.6\n",
      "400   2734   4.067434   0:49.9\n",
      "420   2895   4.0674     0:52.5\n",
      "440   3038   4.067399   0:54.9\n",
      "460   3175   4.0672     0:57.2\n",
      "480   3303   4.06663    0:59.5\n",
      "500   3429   4.066357   1:01.6\n",
      "520   3571   4.06608    1:04.0\n",
      "540   3686   4.066035   1:06.0\n",
      "560   3817   4.065948   1:08.3\n",
      "580   3949   4.065831   1:10.6\n",
      "600   4068   4.065685   1:13.0\n",
      "620   4190   4.065617   1:15.8\n",
      "640   4313   4.065593   1:18.7\n",
      "660   4426   4.065589   1:21.3\n",
      "680   4551   4.065585   1:24.3\n",
      "700   4672   4.065583   1:27.0\n",
      "720   4786   4.065581   1:29.3\n",
      "740   4898   4.065579   1:31.5\n",
      "760   5024   4.065578   1:34.0\n",
      "780   5164   4.065571   1:36.9\n",
      "800   5322   4.06553    1:39.7\n",
      "820   5479   4.065332   1:42.7\n",
      "840   5637   4.063738   1:45.4\n",
      "860   5826   4.01353    1:49.0\n",
      "880   6026   4.013016   1:52.5\n",
      "900   6197   4.010969   1:55.7\n",
      "920   6393   4.010735   1:59.3\n",
      "940   6554   4.01037    2:02.2\n",
      "960   6700   4.009934   2:05.1\n",
      "980   6862   3.990165   2:08.3\n",
      "1000  7047   3.945599   2:11.9\n",
      "1020  7227   3.941971   2:15.5\n",
      "1040  7390   3.926785   2:18.6\n",
      "1060  7554   3.901665   2:21.9\n",
      "1080  7741   3.898045   2:25.2\n",
      "1100  7916   3.896013   2:28.5\n",
      "1120  8096   3.894872   2:32.0\n",
      "1140  8265   3.893963   2:35.3\n",
      "1160  8445   3.893045   2:38.7\n",
      "1180  8639   3.892266   2:42.5\n",
      "1200  8798   3.890246   2:46.1\n",
      "1220  8978   3.886902   2:49.3\n",
      "1240  9150   3.882434   2:52.5\n",
      "1260  9324   3.88114    2:55.7\n",
      "1280  9499   3.878214   2:59.1\n",
      "1300  9678   3.869525   3:02.5\n",
      "1320  9874   3.83404    3:06.1\n",
      "1340  10057  3.781884   3:09.5\n",
      "1360  10246  3.744695   3:12.9\n",
      "1380  10433  3.71194    3:16.1\n",
      "1400  10623  3.657111   3:19.5\n",
      "1420  10814  3.631146   3:22.9\n",
      "1440  10959  3.607376   3:25.8\n",
      "1460  11130  3.603212   3:28.8\n",
      "1480  11281  3.593135   3:31.3\n",
      "1500  11434  3.587146   3:33.9\n",
      "1520  11587  3.584136   3:36.5\n",
      "1540  11738  3.583396   3:39.1\n",
      "1560  11874  3.582328   3:41.4\n",
      "1580  12016  3.58056    3:44.0\n",
      "1600  12169  3.568015   3:46.8\n",
      "1620  12356  3.524239   3:49.8\n",
      "1640  12541  3.486572   3:52.7\n",
      "1660  12724  3.458321   3:55.6\n",
      "1680  12882  3.453859   3:58.3\n",
      "1700  13036  3.440868   4:00.9\n",
      "1720  13203  3.415359   4:03.7\n",
      "1740  13382  3.377535   4:06.5\n",
      "1760  13564  3.355485   4:09.4\n",
      "1780  13722  3.309159   4:12.0\n",
      "1800  13856  3.303733   4:14.3\n",
      "1820  13989  3.294229   4:16.7\n",
      "1840  14124  3.292948   4:19.1\n",
      "1860  14262  3.290779   4:21.5\n",
      "1880  14382  3.290779   4:23.8\n",
      "1900  14506  3.289497   4:26.0\n",
      "1920  14635  3.288376   4:28.2\n",
      "1940  14766  3.284681   4:30.5\n",
      "1960  14894  3.284597   4:32.7\n",
      "1980  15018  3.284136   4:35.0\n",
      "2000  15144  3.283851   4:37.2\n",
      "2020  15263  3.283547   4:39.2\n",
      "2040  15409  3.28325    4:41.7\n",
      "2060  15558  3.2813     4:44.2\n",
      "2080  15719  3.266983   4:46.9\n",
      "2100  15866  3.264121   4:49.5\n",
      "2120  16023  3.260173   4:52.2\n",
      "2140  16161  3.255775   4:54.7\n",
      "2160  16325  3.222483   4:57.4\n",
      "2180  16486  2.907317   5:00.2\n",
      "2200  16646  2.871397   5:02.8\n",
      "2220  16794  2.834613   5:05.3\n",
      "2240  16949  2.704266   5:07.9\n",
      "2260  17081  2.670887   5:10.1\n",
      "2280  17199  2.657091   5:12.3\n",
      "2300  17336  2.640602   5:14.6\n",
      "2320  17487  2.58325    5:17.1\n",
      "2340  17644  2.535963   5:19.7\n",
      "2360  17798  2.492027   5:22.3\n",
      "2380  17949  2.474113   5:25.0\n",
      "2400  18072  2.469468   5:27.1\n",
      "2420  18209  2.46648    5:29.6\n",
      "2440  18336  2.46573    5:31.8\n",
      "2460  18479  2.465494   5:34.2\n",
      "2480  18618  2.465462   5:36.6\n",
      "2500  18744  2.465404   5:38.8\n",
      "2520  18889  2.465366   5:41.2\n",
      "2540  19019  2.465287   5:43.5\n",
      "2560  19172  2.465129   5:46.1\n",
      "2580  19310  2.465018   5:48.5\n",
      "2600  19444  2.464994   5:50.8\n",
      "2620  19572  2.464988   5:53.0\n",
      "2640  19694  2.464986   5:55.1\n",
      "2660  19808  2.464985   5:57.2\n",
      "2680  19944  2.464985   5:59.7\n",
      "2700  20056  2.464985   6:01.6\n",
      "2720  20185  2.464985   6:04.0\n",
      "2740  20329  2.464981   6:06.5\n",
      "2760  20485  2.464959   6:09.1\n",
      "2780  20657  2.464813   6:12.0\n",
      "2800  20840  2.463482   6:14.8\n",
      "2820  21039  2.461075   6:18.0\n",
      "2840  21210  2.45925    6:20.7\n",
      "2860  21373  2.456832   6:23.5\n",
      "2880  21552  2.444551   6:26.3\n",
      "2900  21711  2.416815   6:28.9\n",
      "2920  21881  2.355637   6:31.8\n",
      "2940  22047  2.332166   6:34.5\n",
      "2960  22227  2.318602   6:37.5\n",
      "2980  22395  2.308305   6:40.3\n",
      "3000  22546  2.305187   6:42.8\n",
      "3020  22718  2.301353   6:45.7\n",
      "3040  22847  2.299719   6:48.0\n",
      "3060  22974  2.299374   6:50.2\n",
      "3080  23116  2.299146   6:52.6\n",
      "3100  23244  2.299101   6:54.8\n",
      "3120  23375  2.299068   6:57.0\n",
      "3140  23510  2.299048   6:59.4\n",
      "3160  23646  2.298728   7:01.8\n",
      "3180  23817  2.292907   7:04.6\n",
      "3200  23969  2.287846   7:07.2\n",
      "3220  24122  2.282571   7:09.9\n",
      "3240  24290  2.248435   7:12.8\n",
      "3260  24460  2.187778   7:15.5\n",
      "3280  24633  2.131313   7:18.3\n",
      "3300  24769  2.091491   7:20.6\n",
      "3320  24929  2.059036   7:23.3\n",
      "3340  25058  2.031991   7:25.5\n",
      "3360  25198  2.013048   7:27.9\n",
      "3380  25346  2.009108   7:30.4\n",
      "3400  25489  2.00831    7:32.9\n",
      "3420  25628  2.008089   7:35.3\n",
      "3440  25774  2.008057   7:37.7\n",
      "3460  25918  2.008054   7:40.4\n",
      "3480  26063  2.00805    7:42.9\n",
      "3500  26208  2.008048   7:45.5\n",
      "3520  26349  2.008048   7:48.0\n",
      "3540  26501  2.008047   7:50.6\n",
      "3560  26658  2.008046   7:53.1\n",
      "3580  26829  2.008032   7:55.9\n",
      "3600  27016  2.007954   7:58.9\n",
      "3620  27216  2.007871   8:02.0\n",
      "3640  27385  2.007847   8:04.7\n",
      "3660  27541  2.007842   8:07.3\n",
      "3680  27677  2.007842   8:09.6\n",
      "3700  27814  2.007842   8:12.1\n",
      "3720  27954  2.007842   8:14.5\n",
      "3740  28127  2.007842   8:17.4\n",
      "3760  28301  2.007839   8:20.2\n",
      "3780  28500  2.007832   8:23.4\n",
      "3800  28692  2.007825   8:26.3\n",
      "3820  28865  2.007821   8:29.1\n",
      "3840  29041  2.007807   8:32.0\n",
      "3860  29234  2.007793   8:35.2\n",
      "3880  29429  2.007752   8:38.3\n",
      "3900  29629  2.00766    8:41.3\n",
      "3920  29829  2.007613   8:44.4\n",
      "3940  30029  2.007551   8:47.7\n",
      "3960  30229  2.007434   8:50.9\n",
      "3980  30429  2.007364   8:54.0\n",
      "4000  30629  2.007253   8:57.1\n",
      "4020  30829  2.007079   9:00.3\n",
      "4040  31029  2.006771   9:03.3\n",
      "4060  31229  2.006437   9:06.4\n",
      "4080  31429  2.006205   9:09.6\n",
      "4100  31613  2.005574   9:12.6\n",
      "4120  31795  2.004908   9:15.5\n",
      "4140  31972  2.004061   9:18.4\n",
      "4160  32128  2.001103   9:21.1\n",
      "4180  32278  1.879372   9:23.8\n",
      "4200  32424  1.493531   9:26.3\n",
      "4220  32550  1.243975   9:28.5\n",
      "4240  32686  1.243975   9:30.9\n",
      "4260  32827  1.243975   9:33.3\n",
      "4280  32973  1.243975   9:35.9\n",
      "4300  33148  1.243975   9:38.7\n",
      "4320  33346  1.106798   9:41.8\n",
      "4340  33530  1.047339   9:44.8\n",
      "4360  33718  0.844      9:47.8\n",
      "4380  33906  0.498      9:50.9\n",
      "4400  34045  0.372      9:53.3\n",
      "4420  34196  0.329      9:56.0\n",
      "4440  34346  0.311      9:58.6\n",
      "4460  34470  0.306     10:00.8\n",
      "4480  34625  0.292     10:03.4\n",
      "4500  34780  0.291     10:05.9\n",
      "4520  34975  0.291     10:08.9\n",
      "4540  35157  0.289     10:11.9\n",
      "4560  35332  0.288     10:14.6\n",
      "4580  35490  0.287     10:17.3\n",
      "4600  35653  0.287     10:20.0\n",
      "4620  35794  0.286     10:22.5\n",
      "4640  35946  0.284     10:25.2\n",
      "4660  36115  0.268     10:28.2\n",
      "4680  36299  0.239     10:31.1\n",
      "4700  36486  0.237     10:34.0\n",
      "4720  36661  0.235876  10:36.9\n",
      "4740  36839  0.236     10:39.7\n",
      "4760  37010  0.235     10:42.5\n",
      "4780  37195  0.235     10:45.5\n",
      "4800  37353  0.234     10:48.2\n",
      "4820  37496  0.234     10:50.6\n",
      "4840  37676  0.233     10:53.4\n",
      "4860  37846  0.233     10:56.2\n",
      "4880  38032  0.233     10:59.3\n",
      "4900  38189  0.233     11:02.0\n",
      "4920  38347  0.233     11:04.6\n",
      "4940  38527  0.233156  11:07.5\n",
      "4960  38727  0.233     11:10.7\n",
      "4980  38927  0.232087  11:13.9\n",
      "5000  39127  0.228     11:17.0\n",
      "5020  39322  0.2       11:20.0\n",
      "5040  39499  0.157     11:22.9\n",
      "5060  39688  0.0899    11:25.9\n",
      "5080  39882  0.0736    11:29.1\n",
      "5100  40081  0.0652    11:32.3\n"
     ]
    },
    {
     "name": "stdout",
     "output_type": "stream",
     "text": [
      "5120  40281  0.0631    11:35.5\n",
      "5140  40481  0.0627    11:38.7\n",
      "5160  40681  0.0622    11:41.8\n",
      "5180  40881  0.0585    11:45.0\n",
      "5200  41081  0.0455    11:48.2\n",
      "5220  41281  0.024502  11:51.3\n",
      "5240  41481  0.00936   11:54.4\n",
      "5260  41681  0.00346   11:57.5\n",
      "5280  41881  0.00103   12:00.8\n",
      "5300  42081  0.000669  12:04.0\n",
      "5320  42281  0.000623  12:07.2\n",
      "5340  42481  0.000622  12:10.4\n",
      "5360  42681  0.000622  12:13.5\n",
      "5380  42881  0.000622  12:16.6\n",
      "5400  43081  0.000622  12:19.6\n",
      "5420  43281  0.000622  12:22.8\n",
      "5440  43481  0.000622  12:25.9\n",
      "5460  43681  0.000622  12:29.0\n",
      "5480  43881  0.000622  12:32.2\n",
      "5500  44081  0.000622  12:35.5\n",
      "5520  44281  0.000622  12:38.7\n",
      "5540  44481  0.000622  12:41.8\n",
      "5560  44681  0.000622  12:44.9\n",
      "5580  44881  0.000622  12:48.1\n",
      "5588  44951  0.000622  12:49.2\n",
      "Halting: No significant change for 200 iterations.\n"
     ]
    }
   ],
   "source": [
    "opt = pints.OptimisationController(error, x0, boundaries=boundaries)\n",
    "opt.set_parallel(True)\n",
    "x1, f1 = opt.run()"
   ]
  },
  {
   "cell_type": "code",
   "execution_count": 10,
   "metadata": {},
   "outputs": [
    {
     "data": {
      "image/png": "[encoded data removed]",
      "text/plain": [
       "<Figure size 1152x360 with 1 Axes>"
      ]
     },
     "metadata": {
      "needs_background": "light"
     },
     "output_type": "display_data"
    }
   ],
   "source": [
    "plt.figure(figsize=(16, 5))\n",
    "plt.xlabel('Time (ms)')\n",
    "plt.ylabel('Current (pA)')\n",
    "plt.plot(times, values, label='Noisy data')\n",
    "plt.plot(times, problem.evaluate(x1), label='First result')\n",
    "plt.legend()\n",
    "plt.show()"
   ]
  },
  {
   "cell_type": "markdown",
   "metadata": {},
   "source": [
    "And repeat, but this time using log-transforms on the a-type parameters:"
   ]
  },
  {
   "cell_type": "code",
   "execution_count": 11,
   "metadata": {},
   "outputs": [
    {
     "name": "stdout",
     "output_type": "stream",
     "text": [
      "Minimising error measure\n",
      "Using Covariance Matrix Adaptation Evolution Strategy (CMA-ES)\n",
      "Running in parallel with 4 worker processes.\n",
      "Population size: 10\n",
      "Iter. Eval. Best      Time m:s\n",
      "0     10     6.56009    0:00.2\n",
      "1     20     6.149878   0:00.4\n",
      "2     30     5.889101   0:00.6\n",
      "3     40     5.666281   0:00.7\n",
      "20    170    4.06881    0:02.8\n",
      "40    311    4.06792    0:05.3\n",
      "60    439    4.067147   0:07.4\n",
      "80    559    4.049359   0:09.6\n",
      "100   697    4.048188   0:11.9\n",
      "120   823    4.03448    0:14.1\n",
      "140   942    3.934686   0:16.2\n",
      "160   1039   3.859072   0:17.9\n"
     ]
    },
    {
     "name": "stderr",
     "output_type": "stream",
     "text": [
      "WARNING:pints._optimisers._cmaes:All points requested by CMA-ES are outside the boundaries.\n",
      "/usr/local/lib/python3.7/site-packages/cma/evolution_strategy.py:3399: RuntimeWarning: invalid value encountered in double_scalars\n",
      "  es.fit.fit[-1] - es.fit.fit[0] < opts['tolfun'] and\n",
      "WARNING:pints._optimisers._cmaes:All points requested by CMA-ES are outside the boundaries.\n"
     ]
    },
    {
     "name": "stdout",
     "output_type": "stream",
     "text": [
      "180   1128   3.855323   0:19.6\n",
      "200   1242   3.852318   0:21.7\n",
      "220   1359   3.849107   0:23.7\n",
      "240   1469   3.845886   0:25.7\n",
      "260   1588   3.845292   0:27.8\n",
      "280   1714   3.842345   0:30.0\n",
      "300   1853   3.766634   0:32.3\n",
      "320   1965   3.62435    0:34.5\n",
      "340   2071   3.554923   0:36.7\n",
      "360   2195   3.385303   0:38.9\n",
      "380   2325   3.120734   0:41.2\n",
      "400   2451   2.714927   0:43.4\n",
      "420   2572   2.687562   0:45.6\n",
      "440   2695   2.673412   0:47.8\n",
      "460   2809   2.671012   0:49.9\n",
      "480   2934   2.669017   0:52.0\n",
      "500   3072   2.661983   0:54.5\n",
      "520   3219   2.509012   0:57.1\n",
      "540   3394   2.220972   0:59.9\n",
      "560   3579   1.738992   1:02.8\n",
      "580   3763   0.371      1:05.8\n",
      "600   3943   0.173      1:08.7\n",
      "620   4142   0.146      1:12.1\n",
      "640   4326   0.133      1:15.0\n",
      "660   4515   0.118      1:18.0\n",
      "680   4692   0.111      1:20.9\n",
      "700   4876   0.0982     1:23.8\n",
      "720   5057   0.0504     1:26.7\n",
      "740   5257   0.0462     1:29.8\n",
      "760   5457   0.0455     1:32.9\n",
      "780   5657   0.0434     1:36.0\n",
      "800   5857   0.04       1:39.1\n",
      "820   6057   0.0389     1:42.5\n",
      "840   6257   0.0361     1:45.8\n",
      "860   6457   0.0326     1:48.8\n",
      "880   6657   0.0257     1:51.9\n",
      "900   6857   0.0175     1:55.0\n",
      "920   7057   0.00555    1:58.2\n",
      "940   7257   0.0016     2:01.3\n",
      "960   7457   0.000659   2:04.4\n",
      "980   7657   0.000625   2:07.6\n",
      "1000  7857   0.000622   2:10.7\n",
      "1020  8057   0.000622   2:14.0\n",
      "1040  8257   0.000622   2:17.2\n",
      "1060  8457   0.000622   2:20.3\n",
      "1080  8657   0.000622   2:23.5\n",
      "1100  8857   0.000622   2:26.6\n",
      "1120  9057   0.000622   2:29.7\n",
      "1140  9257   0.000622   2:32.9\n",
      "1160  9457   0.000622   2:36.0\n",
      "1180  9657   0.000622   2:39.1\n",
      "1200  9857   0.000622   2:42.2\n",
      "1220  10057  0.000622   2:45.5\n",
      "1240  10257  0.000622   2:48.7\n",
      "1258  10427  0.000622   2:51.3\n",
      "Halting: No significant change for 200 iterations.\n"
     ]
    }
   ],
   "source": [
    "# Run the optimisation\n",
    "opt = pints.OptimisationController(\n",
    "    transformed_error, q0, boundaries=transformed_boundaries)\n",
    "opt.set_parallel(True)\n",
    "q2, f2 = opt.run()\n",
    "\n",
    "# De-transform the result\n",
    "x2 = transform.to_model(q2)"
   ]
  },
  {
   "cell_type": "code",
   "execution_count": 12,
   "metadata": {},
   "outputs": [
    {
     "data": {
      "image/png": "[encoded data removed]",
      "text/plain": [
       "<Figure size 1152x360 with 1 Axes>"
      ]
     },
     "metadata": {
      "needs_background": "light"
     },
     "output_type": "display_data"
    }
   ],
   "source": [
    "plt.figure(figsize=(16, 5))\n",
    "plt.xlabel('Time (ms)')\n",
    "plt.ylabel('Current (pA)')\n",
    "plt.plot(times, values, label='Noisy data')\n",
    "plt.plot(times, problem.evaluate(x1), label='First result')\n",
    "plt.plot(times, problem.evaluate(x2), '--', label='Second result')\n",
    "plt.legend()\n",
    "plt.show()"
   ]
  },
  {
   "cell_type": "markdown",
   "metadata": {},
   "source": [
    "While there's a fair amount of stochasticity involved in every re-run, there is a good chance that the results above show the same result obtained by both optimisations, but faster (and with a lower number of total evaluations) when using the log transforms."
   ]
  },
  {
   "cell_type": "markdown",
   "metadata": {},
   "source": [
    "## Summary\n",
    "\n",
    "In this part of the tutorial we have\n",
    "\n",
    "- Created an object that can transform between model and search space\n",
    "- Created wrappers around a [pints.ForwardModel](https://pints.readthedocs.io/en/latest/core_classes_and_methods.html#pints.ForwardModel) and [pints.Boundaries](https://pints.readthedocs.io/en/latest/boundaries.html#pints.Boundaries) object.\n",
    "- Used these to run an optimisation in a transformed parameter space.\n",
    "\n",
    "Some of the classes we've created here will be useful in further parts of the tutorial, so we've stored them in the file [library.py](library.py).\n",
    "\n",
    "In the next part of the tutorial, we "
   ]
  }
 ],
 "metadata": {
  "kernelspec": {
   "display_name": "Python 3",
   "language": "python",
   "name": "python3"
  },
  "language_info": {
   "codemirror_mode": {
    "name": "ipython",
    "version": 3
   },
   "file_extension": ".py",
   "mimetype": "text/x-python",
   "name": "python",
   "nbconvert_exporter": "python",
   "pygments_lexer": "ipython3",
   "version": "3.7.7"
  }
 },
 "nbformat": 4,
 "nbformat_minor": 2
}
