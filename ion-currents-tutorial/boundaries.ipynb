{
 "cells": [
  {
   "cell_type": "markdown",
   "metadata": {},
   "source": [
    "# Setting boundaries on model parameters"
   ]
  },
  {
   "cell_type": "markdown",
   "metadata": {},
   "source": [
    "In previous parts of the tutorial we've looked at simulation methods and performed some basic fitting.\n",
    "\n",
    "In this notebook, we'll try to set some _boundaries_ on the parameter values we expect.\n",
    "This will make our life easier in three ways:\n",
    "\n",
    "1. By staying within a sensible region of parameter space, we can avoid numerical issues\n",
    "2. By reducing the size of the search space, we can speed up optimisations and make them more robust\n",
    "3. By sampling from within known boundaries we can derive random parameter sets to use as starting points for our search."
   ]
  },
  {
   "cell_type": "markdown",
   "metadata": {},
   "source": [
    "## Dealing with simulation issues in a ForwardModel\n",
    "\n",
    "First, we'll show what can happen when you don't define boundaries.\n",
    "We'll begin by defining a forward model that uses the `myokit.Simulation` class:"
   ]
  },
  {
   "cell_type": "code",
   "execution_count": null,
   "metadata": {},
   "outputs": [],
   "source": [
    "import matplotlib.pyplot as plt\n",
    "import myokit\n",
    "import myokit.lib.hh\n",
    "import numpy as np\n",
    "import pints\n",
    "\n",
    "class Model(pints.ForwardModel):\n",
    "    \"\"\"A forward model that runs simulations on step protocols.\"\"\"\n",
    "    \n",
    "    def __init__(self, protocol):\n",
    "        \n",
    "        # Load a model, and isolate the HH ion current model part\n",
    "        model = myokit.load_model('resources/beattie-2017-ikr-hh.mmt')\n",
    "        parameters = ['ikr.p' + str(1 + i) for i in range(9)]        \n",
    "        hh_model = myokit.lib.hh.HHModel.from_component(model.get('ikr'), parameters=parameters)\n",
    "\n",
    "        # Create a Simulation\n",
    "        self.sim = myokit.Simulation(model, protocol)\n",
    "        \n",
    "        # Set the -80mV steady state as the default state\n",
    "        self.sim.set_default_state(hh_model.steady_state(-80))\n",
    "        \n",
    "    def n_parameters(self):\n",
    "        return 9\n",
    "    \n",
    "    def simulate(self, parameters, times):\n",
    "\n",
    "        # Reset, apply parameters, and run\n",
    "        self.sim.reset()\n",
    "        \n",
    "        for i, p in enumerate(parameters):\n",
    "            self.sim.set_constant('ikr.p' + str(1 + i), p)\n",
    "\n",
    "        log = self.sim.run(times[-1] + 0.1, log_times=times, log=['ikr.IKr'])\n",
    "        return log['ikr.IKr']    "
   ]
  },
  {
   "cell_type": "code",
   "execution_count": 2,
   "metadata": {},
   "outputs": [],
   "source": [
    "# Load a protocol and create a foward model instance\n",
    "protocol = myokit.load_protocol('resources/simplified-staircase.mmt')\n",
    "model = Model(protocol)\n",
    "\n",
    "# Define a parameter vector\n",
    "parameters = np.array([3e-4, 0.07, 3e-5, 0.05, 0.09, 9e-3, 5e-3, 0.03, 0.2])\n",
    "\n",
    "# Evaluate the model\n",
    "times = np.arange(0, 15400, 0.1)\n",
    "values = model.simulate(parameters, times)"
   ]
  },
  {
   "cell_type": "markdown",
   "metadata": {},
   "source": [
    "So far so good! Now let's try some random parameters"
   ]
  },
  {
   "cell_type": "code",
   "execution_count": 3,
   "metadata": {},
   "outputs": [
    {
     "ename": "SimulationError",
     "evalue": "Function CVode() failed with flag -3 CV_ERR_FAILURE: Error test failures occurred too many times during one internal time step or minimum step size was reached.",
     "output_type": "error",
     "traceback": [
      "\u001b[0;31m---------------------------------------------------------------------------\u001b[0m",
      "\u001b[0;31mException\u001b[0m                                 Traceback (most recent call last)",
      "\u001b[0;32m~/dev/myokit/myokit/_sim/cvodesim.py\u001b[0m in \u001b[0;36m_run\u001b[0;34m(self, duration, log, log_interval, log_times, apd_threshold, progress, msg)\u001b[0m\n\u001b[1;32m    381\u001b[0m                         \u001b[0;32mwhile\u001b[0m \u001b[0mt\u001b[0m \u001b[0;34m<\u001b[0m \u001b[0mtmax\u001b[0m\u001b[0;34m:\u001b[0m\u001b[0;34m\u001b[0m\u001b[0;34m\u001b[0m\u001b[0m\n\u001b[0;32m--> 382\u001b[0;31m                             \u001b[0mt\u001b[0m \u001b[0;34m=\u001b[0m \u001b[0mself\u001b[0m\u001b[0;34m.\u001b[0m\u001b[0m_sim\u001b[0m\u001b[0;34m.\u001b[0m\u001b[0msim_step\u001b[0m\u001b[0;34m(\u001b[0m\u001b[0;34m)\u001b[0m\u001b[0;34m\u001b[0m\u001b[0;34m\u001b[0m\u001b[0m\n\u001b[0m\u001b[1;32m    383\u001b[0m                 \u001b[0;32mexcept\u001b[0m \u001b[0mArithmeticError\u001b[0m\u001b[0;34m:\u001b[0m\u001b[0;34m\u001b[0m\u001b[0;34m\u001b[0m\u001b[0m\n",
      "\u001b[0;31mException\u001b[0m: Function CVode() failed with flag -3 CV_ERR_FAILURE: Error test failures occurred too many times during one internal time step or minimum step size was reached.",
      "\nDuring handling of the above exception, another exception occurred:\n",
      "\u001b[0;31mSimulationError\u001b[0m                           Traceback (most recent call last)",
      "\u001b[0;32m<ipython-input-3-2624ee02718e>\u001b[0m in \u001b[0;36m<module>\u001b[0;34m\u001b[0m\n\u001b[1;32m      1\u001b[0m \u001b[0mnp\u001b[0m\u001b[0;34m.\u001b[0m\u001b[0mrandom\u001b[0m\u001b[0;34m.\u001b[0m\u001b[0mseed\u001b[0m\u001b[0;34m(\u001b[0m\u001b[0;36m5\u001b[0m\u001b[0;34m)\u001b[0m\u001b[0;34m\u001b[0m\u001b[0;34m\u001b[0m\u001b[0m\n\u001b[1;32m      2\u001b[0m \u001b[0mparameters\u001b[0m \u001b[0;34m=\u001b[0m \u001b[0mnp\u001b[0m\u001b[0;34m.\u001b[0m\u001b[0mrandom\u001b[0m\u001b[0;34m.\u001b[0m\u001b[0mlognormal\u001b[0m\u001b[0;34m(\u001b[0m\u001b[0;36m0\u001b[0m\u001b[0;34m,\u001b[0m \u001b[0;36m2\u001b[0m\u001b[0;34m,\u001b[0m \u001b[0;36m9\u001b[0m\u001b[0;34m)\u001b[0m\u001b[0;34m\u001b[0m\u001b[0;34m\u001b[0m\u001b[0m\n\u001b[0;32m----> 3\u001b[0;31m \u001b[0mvalues\u001b[0m \u001b[0;34m=\u001b[0m \u001b[0mmodel\u001b[0m\u001b[0;34m.\u001b[0m\u001b[0msimulate\u001b[0m\u001b[0;34m(\u001b[0m\u001b[0mparameters\u001b[0m\u001b[0;34m,\u001b[0m \u001b[0mtimes\u001b[0m\u001b[0;34m)\u001b[0m\u001b[0;34m\u001b[0m\u001b[0;34m\u001b[0m\u001b[0m\n\u001b[0m",
      "\u001b[0;32m<ipython-input-1-ba9284bc8008>\u001b[0m in \u001b[0;36msimulate\u001b[0;34m(self, parameters, times)\u001b[0m\n\u001b[1;32m     32\u001b[0m             \u001b[0mself\u001b[0m\u001b[0;34m.\u001b[0m\u001b[0msim\u001b[0m\u001b[0;34m.\u001b[0m\u001b[0mset_constant\u001b[0m\u001b[0;34m(\u001b[0m\u001b[0;34m'ikr.p'\u001b[0m \u001b[0;34m+\u001b[0m \u001b[0mstr\u001b[0m\u001b[0;34m(\u001b[0m\u001b[0;36m1\u001b[0m \u001b[0;34m+\u001b[0m \u001b[0mi\u001b[0m\u001b[0;34m)\u001b[0m\u001b[0;34m,\u001b[0m \u001b[0mp\u001b[0m\u001b[0;34m)\u001b[0m\u001b[0;34m\u001b[0m\u001b[0;34m\u001b[0m\u001b[0m\n\u001b[1;32m     33\u001b[0m \u001b[0;34m\u001b[0m\u001b[0m\n\u001b[0;32m---> 34\u001b[0;31m         \u001b[0mlog\u001b[0m \u001b[0;34m=\u001b[0m \u001b[0mself\u001b[0m\u001b[0;34m.\u001b[0m\u001b[0msim\u001b[0m\u001b[0;34m.\u001b[0m\u001b[0mrun\u001b[0m\u001b[0;34m(\u001b[0m\u001b[0mtimes\u001b[0m\u001b[0;34m[\u001b[0m\u001b[0;34m-\u001b[0m\u001b[0;36m1\u001b[0m\u001b[0;34m]\u001b[0m \u001b[0;34m+\u001b[0m \u001b[0;36m0.1\u001b[0m\u001b[0;34m,\u001b[0m \u001b[0mlog_times\u001b[0m\u001b[0;34m=\u001b[0m\u001b[0mtimes\u001b[0m\u001b[0;34m,\u001b[0m \u001b[0mlog\u001b[0m\u001b[0;34m=\u001b[0m\u001b[0;34m[\u001b[0m\u001b[0;34m'ikr.IKr'\u001b[0m\u001b[0;34m]\u001b[0m\u001b[0;34m)\u001b[0m\u001b[0;34m\u001b[0m\u001b[0;34m\u001b[0m\u001b[0m\n\u001b[0m\u001b[1;32m     35\u001b[0m         \u001b[0;32mreturn\u001b[0m \u001b[0mlog\u001b[0m\u001b[0;34m[\u001b[0m\u001b[0;34m'ikr.IKr'\u001b[0m\u001b[0;34m]\u001b[0m\u001b[0;34m\u001b[0m\u001b[0;34m\u001b[0m\u001b[0m\n",
      "\u001b[0;32m~/dev/myokit/myokit/_sim/cvodesim.py\u001b[0m in \u001b[0;36mrun\u001b[0;34m(self, duration, log, log_interval, log_times, apd_threshold, progress, msg)\u001b[0m\n\u001b[1;32m    273\u001b[0m         output = self._run(\n\u001b[1;32m    274\u001b[0m             \u001b[0mduration\u001b[0m\u001b[0;34m,\u001b[0m \u001b[0mlog\u001b[0m\u001b[0;34m,\u001b[0m \u001b[0mlog_interval\u001b[0m\u001b[0;34m,\u001b[0m \u001b[0mlog_times\u001b[0m\u001b[0;34m,\u001b[0m \u001b[0mapd_threshold\u001b[0m\u001b[0;34m,\u001b[0m \u001b[0mprogress\u001b[0m\u001b[0;34m,\u001b[0m\u001b[0;34m\u001b[0m\u001b[0;34m\u001b[0m\u001b[0m\n\u001b[0;32m--> 275\u001b[0;31m             msg)\n\u001b[0m\u001b[1;32m    276\u001b[0m         \u001b[0mself\u001b[0m\u001b[0;34m.\u001b[0m\u001b[0m_time\u001b[0m \u001b[0;34m+=\u001b[0m \u001b[0mduration\u001b[0m\u001b[0;34m\u001b[0m\u001b[0;34m\u001b[0m\u001b[0m\n\u001b[1;32m    277\u001b[0m         \u001b[0;32mreturn\u001b[0m \u001b[0moutput\u001b[0m\u001b[0;34m\u001b[0m\u001b[0;34m\u001b[0m\u001b[0m\n",
      "\u001b[0;32m~/dev/myokit/myokit/_sim/cvodesim.py\u001b[0m in \u001b[0;36m_run\u001b[0;34m(self, duration, log, log_interval, log_times, apd_threshold, progress, msg)\u001b[0m\n\u001b[1;32m    405\u001b[0m                     \u001b[0;31m# Check for known CVODE errors\u001b[0m\u001b[0;34m\u001b[0m\u001b[0;34m\u001b[0m\u001b[0;34m\u001b[0m\u001b[0m\n\u001b[1;32m    406\u001b[0m                     \u001b[0;32mif\u001b[0m \u001b[0;34m'Function CVode()'\u001b[0m \u001b[0;32min\u001b[0m \u001b[0mstr\u001b[0m\u001b[0;34m(\u001b[0m\u001b[0me\u001b[0m\u001b[0;34m)\u001b[0m\u001b[0;34m:\u001b[0m\u001b[0;34m\u001b[0m\u001b[0;34m\u001b[0m\u001b[0m\n\u001b[0;32m--> 407\u001b[0;31m                         \u001b[0;32mraise\u001b[0m \u001b[0mmyokit\u001b[0m\u001b[0;34m.\u001b[0m\u001b[0mSimulationError\u001b[0m\u001b[0;34m(\u001b[0m\u001b[0mstr\u001b[0m\u001b[0;34m(\u001b[0m\u001b[0me\u001b[0m\u001b[0;34m)\u001b[0m\u001b[0;34m)\u001b[0m\u001b[0;34m\u001b[0m\u001b[0;34m\u001b[0m\u001b[0m\n\u001b[0m\u001b[1;32m    408\u001b[0m \u001b[0;34m\u001b[0m\u001b[0m\n\u001b[1;32m    409\u001b[0m                     \u001b[0;31m# Check for zero step error\u001b[0m\u001b[0;34m\u001b[0m\u001b[0;34m\u001b[0m\u001b[0;34m\u001b[0m\u001b[0m\n",
      "\u001b[0;31mSimulationError\u001b[0m: Function CVode() failed with flag -3 CV_ERR_FAILURE: Error test failures occurred too many times during one internal time step or minimum step size was reached."
     ]
    }
   ],
   "source": [
    "np.random.seed(5)\n",
    "parameters = np.random.lognormal(0, 2, 9)\n",
    "values = model.simulate(parameters, times)"
   ]
  },
  {
   "cell_type": "markdown",
   "metadata": {},
   "source": [
    "That doesn't look too good!\n",
    "\n",
    "The `SimulationError` above tells us the ODE solver (CVODE), has either had too many \"test failures\", or its \"minimum step size was reached\".\n",
    "In other words, at some point during the simulation the solver was unable to determine a step size that would lead to a good prediction for the next step."
   ]
  },
  {
   "cell_type": "markdown",
   "metadata": {},
   "source": [
    "So what can we do about it?\n",
    "A first thought might be to catch the errors, and return some other output, i.e. a list of `NaN` objects:"
   ]
  },
  {
   "cell_type": "code",
   "execution_count": 4,
   "metadata": {},
   "outputs": [
    {
     "name": "stdout",
     "output_type": "stream",
     "text": [
      "Error evaluating with parameters: [  2.41682567   0.51595264 129.22335923   0.60399808   1.24510478\n",
      "  23.68784942   0.16227468   0.30627456   1.45529183]\n",
      "\n",
      "Values:\n",
      "[nan nan nan ... nan nan nan]\n"
     ]
    }
   ],
   "source": [
    "class Model(pints.ForwardModel):\n",
    "    \"\"\"A forward model that runs simulations on step protocols.\"\"\"\n",
    "    \n",
    "    def __init__(self, protocol):\n",
    "        \n",
    "        # Load a model, and isolate the HH ion current model part\n",
    "        model = myokit.load_model('resources/beattie-2017-ikr-hh.mmt')\n",
    "        parameters = ['ikr.p' + str(1 + i) for i in range(9)]        \n",
    "        hh_model = myokit.lib.hh.HHModel.from_component(model.get('ikr'), parameters=parameters)\n",
    "\n",
    "        # Create a Simulation\n",
    "        self.sim = myokit.Simulation(model, protocol)\n",
    "        \n",
    "        # Set the -80mV steady state as the default state\n",
    "        self.sim.set_default_state(hh_model.steady_state(-80))\n",
    "        \n",
    "    def n_parameters(self):\n",
    "        return 9\n",
    "    \n",
    "    def simulate(self, parameters, times):\n",
    "\n",
    "        # Reset, apply parameters, and run\n",
    "        self.sim.reset()\n",
    "        \n",
    "        for i, p in enumerate(parameters):\n",
    "            self.sim.set_constant('ikr.p' + str(1 + i), p)\n",
    "\n",
    "        try:\n",
    "            log = self.sim.run(times[-1] + 0.1, log_times=times, log=['ikr.IKr'])\n",
    "            return log['ikr.IKr']    \n",
    "        except myokit.SimulationError:\n",
    "            print('Error evaluating with parameters: ' + str(parameters))\n",
    "            return np.nan * times\n",
    "\n",
    "# Create a new model and try again\n",
    "model = Model(protocol)\n",
    "\n",
    "values = model.simulate(parameters, times)\n",
    "\n",
    "print()\n",
    "print('Values:')\n",
    "print(values)"
   ]
  },
  {
   "cell_type": "markdown",
   "metadata": {},
   "source": [
    "That's _sort of_ better...\n",
    "Now if we define some error involving this time series, it will evaluate to `nan` (\"not a number\").\n",
    "As long as the optimisation routine can deal with that, it means we're OK?\n",
    "\n",
    "Since this is a simple step protocol, we could also try using an analytical simulation:"
   ]
  },
  {
   "cell_type": "code",
   "execution_count": 5,
   "metadata": {},
   "outputs": [
    {
     "name": "stdout",
     "output_type": "stream",
     "text": [
      "\n",
      "Values:\n",
      "[1.35065787e-03 1.67013286e-40 1.67013286e-40 ... 1.67013286e-40\n",
      " 1.67013286e-40 1.67013286e-40]\n"
     ]
    },
    {
     "name": "stderr",
     "output_type": "stream",
     "text": [
      "<string>:9: RuntimeWarning: overflow encountered in exp\n",
      "<string>:14: RuntimeWarning: divide by zero encountered in true_divide\n",
      "<string>:14: RuntimeWarning: invalid value encountered in true_divide\n"
     ]
    }
   ],
   "source": [
    "class Model(pints.ForwardModel):\n",
    "    \"\"\"A forward model that runs simulations on step protocols.\"\"\"\n",
    "    \n",
    "    def __init__(self, protocol):\n",
    "        \n",
    "        # Load a model, and isolate the HH ion current model part\n",
    "        model = myokit.load_model('resources/beattie-2017-ikr-hh.mmt')\n",
    "        parameters = ['ikr.p' + str(1 + i) for i in range(9)]        \n",
    "        hh_model = myokit.lib.hh.HHModel.from_component(model.get('ikr'), parameters=parameters)\n",
    "\n",
    "        # Create an analytical simulation\n",
    "        self.sim = myokit.lib.hh.AnalyticalSimulation(hh_model, protocol)\n",
    "        \n",
    "        # Set the -80mV steady state as the default state\n",
    "        self.sim.set_default_state(hh_model.steady_state(-80))\n",
    "        \n",
    "    def n_parameters(self):\n",
    "        return 9\n",
    "    \n",
    "    def simulate(self, parameters, times):\n",
    "\n",
    "        # Reset, apply parameters, and run\n",
    "        self.sim.reset()\n",
    "        self.sim.set_parameters(parameters)\n",
    "        log = self.sim.run(times[-1] + 0.1, log_times=times)\n",
    "        return log['ikr.IKr']    \n",
    "\n",
    "# Create a new model and try again\n",
    "model = Model(protocol)\n",
    "\n",
    "values = model.simulate(parameters, times)\n",
    "\n",
    "print()\n",
    "print('Values:')\n",
    "print(values)"
   ]
  },
  {
   "cell_type": "markdown",
   "metadata": {},
   "source": [
    "This seems to evaluate -- although with a lot of warnings, and the results don't look very sensible either!\n",
    "\n",
    "So now we can write simulations that don't fall over if the parameters are bad, but there's still some major downsides:\n",
    "\n",
    "- Not all optimisation routines will be able to deal with `nan` or `inf`\n",
    "- Even an optimiesr that can deal with these values can easily get stuck, or waste a lot of time, it it's searching a region where every point returns an invalid value.\n",
    "- We spent some computational effort doing a partial simulation, but didn't really learn much - except that we probably shouldn't have tried these parameters in the first place! It'd be better if we could avoid these simulations altogether.\n",
    "- Catching errors like this could hide bugs in our implementation\n",
    "\n",
    "Let's try to be a bit more clever and define _boundaries_ on the parameter space."
   ]
  },
  {
   "cell_type": "markdown",
   "metadata": {},
   "source": [
    "## How to come up with parameter bounds"
   ]
  },
  {
   "cell_type": "markdown",
   "metadata": {},
   "source": [
    "To derive parameter bounds, we start by taking another look at our model.\n",
    "If you skipped the [introduction](introduction.ipynb) it might be worthwhile having a quick look at the parts where we describe the reaction rates.\n",
    "\n",
    "$$ I = g_\\text{max} \\cdot a \\cdot r \\cdot (V - E) $$\n",
    "\n",
    "\\begin{align}\n",
    "\\dot{a} = (1 - a)k_1 - a k_2    &&& k1 = p_1 \\exp(p_2 V) \\\\\n",
    "                                &&& k2 = p_3 \\exp(-p_4 V) \\\\\n",
    "\\dot{r} = (1 - r)k_4 - r k_3    &&& k3 = p_5 \\exp(p_6 V) \\\\\n",
    "                                &&& k4 = p_7 \\exp(-p_8 V)\n",
    "\\end{align}\n",
    "\n",
    "$$p_9 = g_\\text{max} $$\n"
   ]
  },
  {
   "cell_type": "markdown",
   "metadata": {},
   "source": [
    "First, we'll see what we can figure out _without_ any experimental data.\n",
    "\n",
    "Of the 9 parameters, `p9` is easiest to interpret: It represents the maximum conductance, i.e. the total conductance if all of the channels would be open.\n",
    "So we can immediately say it must be a positive number.\n",
    "\n",
    "In the [introduction](introduction.ipynb), we also looked at $a_i$ and $b_i$, and decided that:\n",
    "\n",
    "- the $a_i$ parameters are positive, with the same units and roughly the same magnitude as the overal rates $k_i$\n",
    "- the $b_i$ parameters are (postulated to be) positive, and if we use $V$ in mV, they are most likely small: $0 \\leq b_i < 1$.\n",
    "\n",
    "### Rates and a-parameters\n",
    "\n",
    "Looking first at the rates, \n",
    "\n"
   ]
  },
  {
   "cell_type": "markdown",
   "metadata": {},
   "source": [
    "### MAybe look at half-life?\n",
    "\n",
    "Next, we can rewrite the equation for activation as\n",
    "\n",
    "\\begin{align}\n",
    "\\frac{da}{dt} = \\frac{a - a_\\infty}{\\tau_a} &&& a_\\infty = \\frac{k1}{k1 + k2} &&& \\tau_a = \\frac{1}{k_1 + k_2}\n",
    "\\end{align}\n",
    "\n",
    "and solve for a fixed $V$ to find\n",
    "\\begin{align}\n",
    "a(t, V=V_\\text{fixed}) = a_\\infty + (a_0 - a_\\infty) e^{-t/\\tau_a}\n",
    "\\end{align}\n",
    "\n",
    "which is an [exponential decay](https://en.wikipedia.org/wiki/Exponential_decay) process with a [half-life](https://en.wikipedia.org/wiki/Half-life) of \n",
    "$$t_{1/2} = \\tau_a \\ln(2) = \\frac{\\ln(2)}{k_1 + k_2}$$\n",
    "\n",
    "Assuming that $k_1$ is of the same order of magnitude as $k_2$,\n"
   ]
  },
  {
   "cell_type": "markdown",
   "metadata": {},
   "source": [
    "## Basing boundaries on previous data\n",
    "\n",
    "We could also try looking at some previous data for the channel we're trying to esimate.\n",
    "For example, the graph below shows some data digitized from figure 13a of [hERG K+ Channels: Structure, Function, and Clinical Significance](https://journals.physiology.org/doi/full/10.1152/physrev.00036.2011), by Jamie Vandenberg et al.:\n"
   ]
  },
  {
   "cell_type": "code",
   "execution_count": 6,
   "metadata": {},
   "outputs": [
    {
     "data": {
      "image/png": "[encoded data removed]",
      "text/plain": [
       "<Figure size 1152x360 with 1 Axes>"
      ]
     },
     "metadata": {
      "needs_background": "light"
     },
     "output_type": "display_data"
    }
   ],
   "source": [
    "import numpy as np\n",
    "import matplotlib.pyplot as plt\n",
    "\n",
    "voltage = np.arange(-150, 60, 10)\n",
    "tau_r = np.array([\n",
    "    2.2966, 2.6435, 3.4241, 4.1006, 5.7832, 6.876, 8.1422, \n",
    "    8.6973, 9.686, 9.8075, 9.9289, 9.6687, 8.9055, 7.6219,\n",
    "    6.026, 4.673, 3.5455, 2.7954, 2.314, 1.9366, 1.6548])\n",
    "\n",
    "plt.figure(figsize=(16, 5))\n",
    "plt.subplot(1, 2, 1)\n",
    "plt.xlabel('Voltage (mV)')\n",
    "plt.ylabel('Time constant of inactivation (ms)')\n",
    "plt.plot(voltage, tau_r, 's')\n",
    "plt.xlim(-160, 60)\n",
    "plt.ylim(-0.5, 11)\n",
    "plt.grid(True)\n",
    "plt.show()"
   ]
  },
  {
   "cell_type": "markdown",
   "metadata": {},
   "source": [
    "Next, Vandenberg et al. make some great observations:\n",
    "First, they define $k_\\text{observed} = k_3 + k_4 = 1 / \\tau_r$, and plot this on a semi-log scale:"
   ]
  },
  {
   "cell_type": "code",
   "execution_count": 7,
   "metadata": {},
   "outputs": [
    {
     "data": {
      "image/png": "[encoded data removed]",
      "text/plain": [
       "<Figure size 1152x360 with 2 Axes>"
      ]
     },
     "metadata": {
      "needs_background": "light"
     },
     "output_type": "display_data"
    }
   ],
   "source": [
    "plt.figure(figsize=(16, 5))\n",
    "\n",
    "plt.subplot(1, 2, 1)\n",
    "plt.xlabel('Voltage (mV)')\n",
    "plt.ylabel('Time constant of inactivation (ms)')\n",
    "plt.plot(voltage, tau_r, 's')\n",
    "plt.xlim(-160, 60)\n",
    "plt.ylim(-0.5, 11)\n",
    "\n",
    "ax = plt.subplot(1, 2, 2)\n",
    "plt.semilogy()\n",
    "plt.xlabel('Voltage (mV)')\n",
    "plt.ylabel('k observed (1/ms)')\n",
    "plt.plot(voltage, 1 / tau_r, 's')\n",
    "plt.xlim(-160, 60)\n",
    "plt.ylim(5e-2, 1)\n",
    "ax.set_yticks([5e-2, 1e-1, 2e-1, 4e-1, 1])\n",
    "ax.set_yticklabels([5e-2, 1e-1, 2e-1, 4e-1, 1])\n",
    "\n",
    "plt.subplots_adjust(wspace=0.5)\n",
    "plt.show()"
   ]
  },
  {
   "cell_type": "markdown",
   "metadata": {},
   "source": [
    "We can then make some quick and dirty calculations:\n",
    "\n",
    "- It seems that there's plenty of voltage sensitivity\n",
    "- Since $k_\\text{observered} = k_3 + k_4 = a_3 e^{+b_3 V} + a_4 e^{-b_4 V}$, we can assume that the points on the far right (where $V$ is very positive) are dominated by $k_3$ (the rate of inactivation), while thepoints on the far left (where $V$ is very negative) are dominated by $k_4$ (the rate of recovery).\n",
    "- So we can fit lines to these points, and use them to estimate the $a$'s and $b$'s"
   ]
  },
  {
   "cell_type": "code",
   "execution_count": 31,
   "metadata": {},
   "outputs": [
    {
     "data": {
      "image/png": "[encoded data removed]",
      "text/plain": [
       "<Figure size 1152x360 with 2 Axes>"
      ]
     },
     "metadata": {
      "needs_background": "light"
     },
     "output_type": "display_data"
    },
    {
     "name": "stdout",
     "output_type": "stream",
     "text": [
      "Esimates:\n",
      "a3: 0.2138594262779559\n",
      "b3: 0.022277787488105823\n",
      "a4: 0.019680009317219783\n",
      "b4: 0.02069200269754123\n"
     ]
    }
   ],
   "source": [
    "# Log of k observed\n",
    "logk = np.log(1 / tau_r)\n",
    "\n",
    "# Left: rate of recovery k_4 = a_4 e^(b_4 V)\n",
    "n4 = 8\n",
    "b4, log_a4 = np.polyfit(voltage[:n4], logk[:n4], 1)\n",
    "a4 = np.exp(log_a4)\n",
    "k4 = a4 * np.exp(b4 * voltage)\n",
    "\n",
    "# Right: rate of recovery k_4 = a_4 e^(b_4 V)\n",
    "n3 = -8\n",
    "b3, log_a3 = np.polyfit(voltage[n3:], logk[n3:], 1)\n",
    "a3 = np.exp(log_a3)\n",
    "k3 = a3 * np.exp(b3 * voltage)\n",
    "\n",
    "plt.figure(figsize=(16, 5))\n",
    "\n",
    "plt.subplot(1, 2, 1)\n",
    "plt.xlabel('Voltage (mV)')\n",
    "plt.ylabel('Time constant of inactivation (ms)')\n",
    "plt.plot(voltage, tau_r, 's')\n",
    "plt.xlim(-160, 60)\n",
    "plt.ylim(-0.5, 11)\n",
    "\n",
    "ax = plt.subplot(1, 2, 2)\n",
    "plt.semilogy()\n",
    "plt.xlabel('Voltage (mV)')\n",
    "plt.ylabel('k observed (1/ms)')\n",
    "plt.plot(voltage, 1 / tau_r, 's')\n",
    "plt.plot(voltage[:n4], 1 / tau_r[:n4], 's', color='tab:orange')\n",
    "plt.plot(voltage, k4, color='tab:orange')\n",
    "plt.plot(voltage[n3:], 1 / tau_r[n3:], 's', color='tab:green')\n",
    "plt.plot(voltage, k3, color='tab:green')\n",
    "plt.xlim(-160, 60)\n",
    "plt.ylim(4e-2, 0.6)\n",
    "ax.set_yticks([0.04, 0.06, 0.1, 0.2, 0.4, 0.8])\n",
    "ax.set_yticklabels([4e-2, 0.06, 0.1, 0.2, 0.4, 0.8])\n",
    "plt.grid(True)\n",
    "\n",
    "plt.show()\n",
    "\n",
    "print('Esimates:')\n",
    "print('a3: ' + str(a3))\n",
    "print('b3: ' + str(b3))\n",
    "print('a4: ' + str(a4))\n",
    "print('b4: ' + str(-b4))"
   ]
  },
  {
   "cell_type": "markdown",
   "metadata": {},
   "source": [
    "While this is an approximation, and only one experiment, it gives us an idea of the _expected magnitude_ for the parameters for inactivation/recovery: $a \\approx 10^{-1}$, $b \\approx 10^{-2}$."
   ]
  },
  {
   "cell_type": "code",
   "execution_count": null,
   "metadata": {},
   "outputs": [],
   "source": []
  },
  {
   "cell_type": "code",
   "execution_count": null,
   "metadata": {},
   "outputs": [],
   "source": []
  },
  {
   "cell_type": "markdown",
   "metadata": {},
   "source": [
    "## Using boundaries in an optimisation"
   ]
  },
  {
   "cell_type": "markdown",
   "metadata": {},
   "source": [
    "TODO: Example with simple rectangular boundaries"
   ]
  },
  {
   "cell_type": "markdown",
   "metadata": {},
   "source": []
  },
  {
   "cell_type": "markdown",
   "metadata": {},
   "source": [
    "## Setting boundaries on rates"
   ]
  },
  {
   "cell_type": "code",
   "execution_count": null,
   "metadata": {},
   "outputs": [],
   "source": []
  },
  {
   "cell_type": "code",
   "execution_count": null,
   "metadata": {},
   "outputs": [],
   "source": []
  },
  {
   "cell_type": "markdown",
   "metadata": {},
   "source": [
    "\n"
   ]
  },
  {
   "cell_type": "markdown",
   "metadata": {},
   "source": [
    "## Summary\n",
    "\n",
    "In this part of the tutorial, we have\n",
    "\n",
    "- Lalala\n",
    "\n",
    "In the next part"
   ]
  }
 ],
 "metadata": {
  "kernelspec": {
   "display_name": "Python 3",
   "language": "python",
   "name": "python3"
  },
  "language_info": {
   "codemirror_mode": {
    "name": "ipython",
    "version": 3
   },
   "file_extension": ".py",
   "mimetype": "text/x-python",
   "name": "python",
   "nbconvert_exporter": "python",
   "pygments_lexer": "ipython3",
   "version": "3.7.6"
  }
 },
 "nbformat": 4,
 "nbformat_minor": 2
}
