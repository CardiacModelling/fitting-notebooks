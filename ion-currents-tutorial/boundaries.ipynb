{
 "cells": [
  {
   "cell_type": "markdown",
   "metadata": {},
   "source": [
    "# Setting boundaries on model parameters"
   ]
  },
  {
   "cell_type": "markdown",
   "metadata": {},
   "source": [
    "In previous parts of the tutorial we've looked at simulation methods and performed some basic fitting.\n",
    "\n",
    "In this notebook, we'll try to set some _boundaries_ on the parameter values we expect.\n",
    "This will make our life easier in three ways:\n",
    "\n",
    "1. By staying within a sensible region of parameter space, we can avoid numerical issues\n",
    "2. By reducing the size of the search space, we can speed up optimisations and make them more robust\n",
    "3. By sampling from within known boundaries we can derive random parameter sets to use as starting points for our search."
   ]
  },
  {
   "cell_type": "markdown",
   "metadata": {},
   "source": [
    "## Dealing with simulation issues in a ForwardModel\n",
    "\n",
    "First, we'll show what can happen when you don't define boundaries.\n",
    "We'll begin by defining a forward model:"
   ]
  },
  {
   "cell_type": "code",
   "execution_count": 9,
   "metadata": {},
   "outputs": [],
   "source": [
    "import matplotlib.pyplot as plt\n",
    "import myokit\n",
    "import myokit.lib.hh\n",
    "import numpy as np\n",
    "import pints\n",
    "\n",
    "class Model(pints.ForwardModel):\n",
    "    \"\"\"A forward model that runs simulations on step protocols.\"\"\"\n",
    "    \n",
    "    def __init__(self, protocol):\n",
    "        \n",
    "        # Load a model, and isolate the HH ion current model part\n",
    "        model = myokit.load_model('resources/beattie-2017-ikr-hh.mmt')\n",
    "        parameters = ['ikr.p' + str(1 + i) for i in range(9)]        \n",
    "        hh_model = myokit.lib.hh.HHModel.from_component(model.get('ikr'), parameters=parameters)\n",
    "        \n",
    "        # Create an analytical simulation\n",
    "        self.sim = myokit.lib.hh.AnalyticalSimulation(hh_model, protocol)\n",
    "        \n",
    "        # Set the -80mV steady state as the default state\n",
    "        self.sim.set_default_state(hh_model.steady_state(-80))\n",
    "        \n",
    "    def n_parameters(self):\n",
    "        return 9\n",
    "    \n",
    "    def simulate(self, parameters, times):\n",
    "\n",
    "        # Reset, apply parameters, and run\n",
    "        self.sim.reset()\n",
    "        self.sim.set_parameters(parameters)\n",
    "        log = self.sim.run(times[-1] + 0.1, log_times=times)\n",
    "        return log['ikr.IKr']    "
   ]
  },
  {
   "cell_type": "code",
   "execution_count": 10,
   "metadata": {},
   "outputs": [
    {
     "ename": "ValueError",
     "evalue": "The values in `state` must sum to 1.",
     "output_type": "error",
     "traceback": [
      "\u001b[0;31m---------------------------------------------------------------------------\u001b[0m",
      "\u001b[0;31mValueError\u001b[0m                                Traceback (most recent call last)",
      "\u001b[0;32m<ipython-input-10-cc923e2b5e0a>\u001b[0m in \u001b[0;36m<module>\u001b[0;34m\u001b[0m\n\u001b[1;32m      1\u001b[0m \u001b[0;31m# Load a protocol and create a foward model instance\u001b[0m\u001b[0;34m\u001b[0m\u001b[0;34m\u001b[0m\u001b[0;34m\u001b[0m\u001b[0m\n\u001b[1;32m      2\u001b[0m \u001b[0mprotocol\u001b[0m \u001b[0;34m=\u001b[0m \u001b[0mmyokit\u001b[0m\u001b[0;34m.\u001b[0m\u001b[0mload_protocol\u001b[0m\u001b[0;34m(\u001b[0m\u001b[0;34m'resources/simplified-staircase.mmt'\u001b[0m\u001b[0;34m)\u001b[0m\u001b[0;34m\u001b[0m\u001b[0;34m\u001b[0m\u001b[0m\n\u001b[0;32m----> 3\u001b[0;31m \u001b[0mmodel\u001b[0m \u001b[0;34m=\u001b[0m \u001b[0mModel\u001b[0m\u001b[0;34m(\u001b[0m\u001b[0mprotocol\u001b[0m\u001b[0;34m)\u001b[0m\u001b[0;34m\u001b[0m\u001b[0;34m\u001b[0m\u001b[0m\n\u001b[0m\u001b[1;32m      4\u001b[0m \u001b[0;34m\u001b[0m\u001b[0m\n\u001b[1;32m      5\u001b[0m \u001b[0;31m# Define a parameter vector\u001b[0m\u001b[0;34m\u001b[0m\u001b[0;34m\u001b[0m\u001b[0;34m\u001b[0m\u001b[0m\n",
      "\u001b[0;32m<ipython-input-9-38da47a09abb>\u001b[0m in \u001b[0;36m__init__\u001b[0;34m(self, protocol)\u001b[0m\n\u001b[1;32m     19\u001b[0m \u001b[0;34m\u001b[0m\u001b[0m\n\u001b[1;32m     20\u001b[0m         \u001b[0;31m# Set the -80mV steady state as the default state\u001b[0m\u001b[0;34m\u001b[0m\u001b[0;34m\u001b[0m\u001b[0;34m\u001b[0m\u001b[0m\n\u001b[0;32m---> 21\u001b[0;31m         \u001b[0mself\u001b[0m\u001b[0;34m.\u001b[0m\u001b[0msim\u001b[0m\u001b[0;34m.\u001b[0m\u001b[0mset_default_state\u001b[0m\u001b[0;34m(\u001b[0m\u001b[0mhh_model\u001b[0m\u001b[0;34m.\u001b[0m\u001b[0msteady_state\u001b[0m\u001b[0;34m(\u001b[0m\u001b[0;34m-\u001b[0m\u001b[0;36m80\u001b[0m\u001b[0;34m)\u001b[0m\u001b[0;34m)\u001b[0m\u001b[0;34m\u001b[0m\u001b[0;34m\u001b[0m\u001b[0m\n\u001b[0m\u001b[1;32m     22\u001b[0m \u001b[0;34m\u001b[0m\u001b[0m\n\u001b[1;32m     23\u001b[0m     \u001b[0;32mdef\u001b[0m \u001b[0mn_parameters\u001b[0m\u001b[0;34m(\u001b[0m\u001b[0mself\u001b[0m\u001b[0;34m)\u001b[0m\u001b[0;34m:\u001b[0m\u001b[0;34m\u001b[0m\u001b[0;34m\u001b[0m\u001b[0m\n",
      "\u001b[0;32m~/dev/myokit/myokit/lib/hh.py\u001b[0m in \u001b[0;36mset_default_state\u001b[0;34m(self, state)\u001b[0m\n\u001b[1;32m    853\u001b[0m                 'The fraction of channels in a state cannot be negative.')\n\u001b[1;32m    854\u001b[0m         \u001b[0;32mif\u001b[0m \u001b[0mnp\u001b[0m\u001b[0;34m.\u001b[0m\u001b[0mabs\u001b[0m\u001b[0;34m(\u001b[0m\u001b[0mnp\u001b[0m\u001b[0;34m.\u001b[0m\u001b[0msum\u001b[0m\u001b[0;34m(\u001b[0m\u001b[0mstate\u001b[0m\u001b[0;34m)\u001b[0m \u001b[0;34m-\u001b[0m \u001b[0;36m1\u001b[0m\u001b[0;34m)\u001b[0m \u001b[0;34m>\u001b[0m \u001b[0;36m1e-6\u001b[0m\u001b[0;34m:\u001b[0m\u001b[0;34m\u001b[0m\u001b[0;34m\u001b[0m\u001b[0m\n\u001b[0;32m--> 855\u001b[0;31m             \u001b[0;32mraise\u001b[0m \u001b[0mValueError\u001b[0m\u001b[0;34m(\u001b[0m\u001b[0;34m'The values in `state` must sum to 1.'\u001b[0m\u001b[0;34m)\u001b[0m\u001b[0;34m\u001b[0m\u001b[0;34m\u001b[0m\u001b[0m\n\u001b[0m\u001b[1;32m    856\u001b[0m         \u001b[0mself\u001b[0m\u001b[0;34m.\u001b[0m\u001b[0m_default_state\u001b[0m \u001b[0;34m=\u001b[0m \u001b[0mstate\u001b[0m\u001b[0;34m\u001b[0m\u001b[0;34m\u001b[0m\u001b[0m\n\u001b[1;32m    857\u001b[0m \u001b[0;34m\u001b[0m\u001b[0m\n",
      "\u001b[0;31mValueError\u001b[0m: The values in `state` must sum to 1."
     ]
    }
   ],
   "source": [
    "# Load a protocol and create a foward model instance\n",
    "protocol = myokit.load_protocol('resources/simplified-staircase.mmt')\n",
    "model = Model(protocol)\n",
    "\n",
    "# Define a parameter vector\n",
    "parameters = np.array([3e-4, 0.07, 3e-5, 0.05, 0.09, 9e-3, 5e-3, 0.03, 0.2])\n",
    "\n",
    "# Set up a problem\n",
    "times = np.arange(0, 15400, 0.1)\n",
    "values = model.evaluate(times) + np.random.normal(0, 0.015, len(times))\n",
    "\n",
    "#"
   ]
  },
  {
   "cell_type": "code",
   "execution_count": null,
   "metadata": {},
   "outputs": [],
   "source": []
  },
  {
   "cell_type": "code",
   "execution_count": null,
   "metadata": {},
   "outputs": [],
   "source": []
  },
  {
   "cell_type": "markdown",
   "metadata": {},
   "source": [
    "## How to come up with parameter bounds"
   ]
  },
  {
   "cell_type": "markdown",
   "metadata": {},
   "source": []
  },
  {
   "cell_type": "markdown",
   "metadata": {},
   "source": [
    "## Using boundaries in an optimisation"
   ]
  },
  {
   "cell_type": "markdown",
   "metadata": {},
   "source": []
  },
  {
   "cell_type": "markdown",
   "metadata": {},
   "source": []
  },
  {
   "cell_type": "markdown",
   "metadata": {},
   "source": [
    "\n"
   ]
  },
  {
   "cell_type": "markdown",
   "metadata": {},
   "source": [
    "## Summary\n",
    "\n",
    "In this part of the tutorial, we have\n",
    "\n",
    "- Lalala\n",
    "\n",
    "In the next part"
   ]
  }
 ],
 "metadata": {
  "kernelspec": {
   "display_name": "Python 3",
   "language": "python",
   "name": "python3"
  },
  "language_info": {
   "codemirror_mode": {
    "name": "ipython",
    "version": 3
   },
   "file_extension": ".py",
   "mimetype": "text/x-python",
   "name": "python",
   "nbconvert_exporter": "python",
   "pygments_lexer": "ipython3",
   "version": "3.7.6"
  }
 },
 "nbformat": 4,
 "nbformat_minor": 2
}
