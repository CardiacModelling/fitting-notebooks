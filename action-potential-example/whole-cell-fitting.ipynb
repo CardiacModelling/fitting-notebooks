{
 "cells": [
  {
   "cell_type": "markdown",
   "metadata": {},
   "source": [
    "# Fitting conductances of whole-cell models\n",
    "\n",
    "This tutorial\n"
   ]
  },
  {
   "cell_type": "markdown",
   "metadata": {},
   "source": [
    "## General approach\n",
    "\n",
    "\n",
    "- [Models are written in Myokit's MMT syntax](https://myokit.readthedocs.io/syntax/index.html), usually by [downloading a CellML model](https://models.cellml.org/electrophysiology) and then [importing it](https://myokit.readthedocs.io/api_formats/cellml.html).\n",
    "- [Simulations are run](https://myokit.readthedocs.io/api_simulations/Simulation.html) using the `Simulation` class, which uses CVODE to solve the ODEs.\n",
    "  - For ion-channel stuff with piecewise constant voltage-step protocols (no ramps or sine waves) it's usually faster to use Myokit's [Hodgkin-Huxley model](https://myokit.readthedocs.io/api_library/hh.html) or [Markov model](https://myokit.readthedocs.io/api_library/markov.html) classes to run analytical simulations)\n",
    "- [A pints.ForwardModel](https://nbviewer.jupyter.org/github/pints-team/pints/blob/master/examples/writing-a-model.ipynb) is wrapped around a Myokit simulation.\n",
    "- [A pints.ErrorMeasure](https://pints.readthedocs.io/en/latest/error_measures.html) or [pints.LogLikelihood](https://pints.readthedocs.io/en/latest/log_likelihoods.html) is defined\n",
    "- [Optimisation](https://nbviewer.jupyter.org/github/pints-team/pints/blob/master/examples/optimisation-first-example.ipynb) or [Bayesian inference](https://nbviewer.jupyter.org/github/pints-team/pints/blob/master/examples/sampling-first-example.ipynb) is run.\n",
    "\n"
   ]
  },
  {
   "cell_type": "markdown",
   "metadata": {},
   "source": [
    "## Fitting to action potential"
   ]
  },
  {
   "cell_type": "code",
   "execution_count": null,
   "metadata": {},
   "outputs": [],
   "source": []
  },
  {
   "cell_type": "markdown",
   "metadata": {},
   "source": [
    "## Fitting to action potential and calcium transient"
   ]
  },
  {
   "cell_type": "code",
   "execution_count": 1,
   "metadata": {},
   "outputs": [
    {
     "name": "stdout",
     "output_type": "stream",
     "text": [
      "(601, 2)\n",
      "Running...\n",
      "Minimising error measure\n",
      "Using Covariance Matrix Adaptation Evolution Strategy (CMA-ES)\n",
      "Running in sequential mode.\n",
      "Population size: 8\n",
      "Iter. Eval. Best      Time m:s\n",
      "0     8      59.67956   0:00.1\n",
      "1     16     18.16472   0:00.2\n",
      "2     24     14.10243   0:00.3\n",
      "3     32     14.10243   0:00.3\n",
      "20    168    9.152392   0:01.1\n",
      "40    328    9.063908   0:01.8\n",
      "60    488    9.061171   0:02.5\n",
      "80    648    9.053362   0:03.4\n",
      "100   808    9.053362   0:04.1\n",
      "120   968    8.969122   0:04.9\n",
      "140   1128   8.879653   0:05.6\n",
      "160   1288   8.807195   0:06.4\n",
      "180   1448   8.524149   0:07.2\n",
      "200   1608   7.718861   0:08.0\n",
      "220   1768   7.680624   0:08.8\n",
      "240   1928   7.677583   0:09.6\n",
      "260   2088   7.677583   0:10.4\n",
      "280   2248   7.677583   0:11.1\n",
      "300   2408   7.677583   0:11.8\n",
      "320   2568   7.677583   0:12.6\n",
      "340   2728   7.677583   0:13.4\n",
      "360   2888   7.677583   0:14.2\n",
      "380   3048   7.677583   0:15.0\n",
      "400   3208   7.677583   0:15.7\n",
      "420   3368   7.677576   0:16.4\n",
      "440   3528   7.677558   0:17.2\n",
      "460   3688   7.677558   0:18.0\n",
      "480   3848   7.677516   0:18.9\n",
      "500   4008   7.677516   0:19.7\n",
      "520   4168   7.6775     0:20.6\n",
      "540   4328   7.6775     0:21.4\n",
      "560   4488   7.6775     0:22.2\n",
      "580   4648   7.6775     0:23.1\n",
      "600   4808   7.6775     0:23.9\n",
      "620   4968   7.677499   0:24.8\n",
      "640   5128   7.677499   0:25.6\n",
      "660   5288   7.677497   0:26.4\n",
      "680   5448   7.677497   0:27.2\n",
      "700   5608   7.677497   0:28.0\n",
      "720   5768   7.677497   0:28.7\n",
      "740   5928   7.677497   0:29.5\n",
      "760   6088   7.677497   0:30.2\n",
      "780   6248   7.677497   0:31.0\n",
      "800   6408   7.677497   0:31.8\n",
      "820   6568   7.677497   0:32.6\n",
      "840   6728   7.677497   0:33.4\n",
      "848   6784   7.677497   0:33.7\n",
      "Halting: No significant change for 200 iterations.\n",
      "Found solution:          True parameters:\n",
      " 4.05404928711966761e+00     4.00000000000000000e+00\n",
      " 3.14791717972386651e-03     3.00000000000000006e-03\n",
      " 9.40426043357926872e-02     8.99999999999999967e-02\n",
      " 3.60328995392498963e-01     3.49999999999999978e-01\n",
      " 8.40477378859685875e-01     8.00000000000000044e-01\n"
     ]
    },
    {
     "data": {
      "text/plain": [
       "<Figure size 640x480 with 2 Axes>"
      ]
     },
     "metadata": {},
     "output_type": "display_data"
    },
    {
     "data": {
      "text/plain": [
       "<Figure size 640x480 with 2 Axes>"
      ]
     },
     "metadata": {},
     "output_type": "display_data"
    }
   ],
   "source": [
    "import numpy as np\n",
    "import pints\n",
    "import myokit\n",
    "import matplotlib.pyplot as plt\n",
    "\n",
    "class MyokitModel(pints.ForwardModel):\n",
    "    \"\"\"\n",
    "    This is a pints model, i.e. a statistical model that takes parameters and\n",
    "    times as input, and returns simulated values.\n",
    "    \"\"\"\n",
    "    def __init__(self):\n",
    "        m, p, _ = myokit.load('resources/beeler-1977.mmt')\n",
    "        self.simulation = myokit.Simulation(m, p)\n",
    "\n",
    "    def n_parameters(self):\n",
    "        return 5\n",
    "\n",
    "    def n_outputs(self):\n",
    "        return 2\n",
    "\n",
    "    def simulate(self, parameters, times):\n",
    "\n",
    "        self.simulation.reset()\n",
    "        self.simulation.set_constant('ina.gNaBar', parameters[0])\n",
    "        self.simulation.set_constant('ina.gNaC', parameters[1])\n",
    "        self.simulation.set_constant('isi.gsBar', parameters[2])\n",
    "        self.simulation.set_constant('ik1.gK1', parameters[3])\n",
    "        self.simulation.set_constant('ix1.gx1', parameters[4])\n",
    "\n",
    "        log = self.simulation.run(\n",
    "            times[-1] + 1,\n",
    "            log_times = times,\n",
    "            log = ['engine.time', 'membrane.V', 'calcium.Cai'],\n",
    "        )\n",
    "        return np.vstack((log['membrane.V'], log['calcium.Cai'])).T\n",
    "\n",
    "\n",
    "# Create a model\n",
    "model = MyokitModel()\n",
    "\n",
    "# Generate some 'experimental' data\n",
    "x_true = np.array([4, 0.003, 0.09, 0.35, 0.8])\n",
    "times = np.linspace(0, 600, 601)\n",
    "values = model.simulate(x_true, times)\n",
    "print(values.shape)\n",
    "\n",
    "# Add noise\n",
    "noisy_values = np.array(values, copy=True)\n",
    "noisy_values[:, 0] += np.random.normal(0, 1, values[:, 0].shape)\n",
    "noisy_values[:, 1] += np.random.normal(0, 5e-7, values[:, 1].shape)\n",
    "\n",
    "plt.figure()\n",
    "plt.suptitle('Generated data')\n",
    "plt.subplot(2, 1, 1)\n",
    "plt.xlabel('Time (ms)')\n",
    "plt.ylabel('Vm (mV)')\n",
    "plt.plot(times, noisy_values[:, 0])\n",
    "plt.plot(times, values[:, 0])\n",
    "plt.subplot(2, 1, 2)\n",
    "plt.xlabel('Time (ms)')\n",
    "plt.ylabel('[Ca]i (mol/L)')\n",
    "plt.plot(times, noisy_values[:, 1])\n",
    "plt.plot(times, values[:, 1])\n",
    "#plt.show()\n",
    "\n",
    "# Create an object with links to the model and time series\n",
    "problem = pints.MultiOutputProblem(model, times, noisy_values)\n",
    "\n",
    "# Create a score function\n",
    "weights = [1 / 70, 1 / 0.000006]\n",
    "score = pints.SumOfSquaresError(problem, weights=weights)\n",
    "\n",
    "# Select some boundaries\n",
    "lower = x_true / 2\n",
    "upper = x_true * 2\n",
    "boundaries = pints.RectangularBoundaries(lower, upper)\n",
    "\n",
    "# Perform an optimization\n",
    "x0 = x_true * 1.2\n",
    "optimiser = pints.OptimisationController(\n",
    "    score, x0, boundaries=boundaries, method=pints.CMAES)\n",
    "\n",
    "print('Running...')\n",
    "x_found, score_found = optimiser.run()\n",
    "\n",
    "# Compare parameters with original\n",
    "print('Found solution:          True parameters:' )\n",
    "for k, x in enumerate(x_found):\n",
    "    print(pints.strfloat(x) + '    ' + pints.strfloat(x_true[k]))\n",
    "\n",
    "fitted_values = problem.evaluate(x_found)\n",
    "\n",
    "plt.figure()\n",
    "plt.suptitle('Generated data + simulation with fit parameters')\n",
    "plt.subplot(2, 1, 1)\n",
    "plt.xlabel('Time (ms)')\n",
    "plt.ylabel('Vm (mV)')\n",
    "plt.plot(times, noisy_values[:, 0])\n",
    "plt.plot(times, fitted_values[:, 0])\n",
    "plt.subplot(2, 1, 2)\n",
    "plt.xlabel('Time (ms)')\n",
    "plt.ylabel('[Ca]i (mol/L)')\n",
    "plt.plot(times, noisy_values[:, 1])\n",
    "plt.plot(times, fitted_values[:, 1])\n",
    "plt.show()\n"
   ]
  },
  {
   "cell_type": "markdown",
   "metadata": {},
   "source": [
    "## Summary"
   ]
  }
 ],
 "metadata": {
  "kernelspec": {
   "display_name": "Python 3",
   "language": "python",
   "name": "python3"
  },
  "language_info": {
   "codemirror_mode": {
    "name": "ipython",
    "version": 3
   },
   "file_extension": ".py",
   "mimetype": "text/x-python",
   "name": "python",
   "nbconvert_exporter": "python",
   "pygments_lexer": "ipython3",
   "version": "3.7.6"
  }
 },
 "nbformat": 4,
 "nbformat_minor": 2
}
